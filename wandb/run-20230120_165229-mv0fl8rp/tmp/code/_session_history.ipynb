{
 "cells": [
  {
   "cell_type": "code",
   "execution_count": 1,
   "id": "2b6d4a13",
   "metadata": {},
   "outputs": [],
   "source": [
    "import IPython\n",
    "from pvrecorder import PvRecorder\n",
    "import wave\n",
    "import struct\n",
    "import time\n",
    "import sounddevice as sd\n",
    "import numpy as np\n",
    "import matplotlib.pyplot as plt\n",
    "import wandb"
   ]
  },
  {
   "cell_type": "code",
   "execution_count": 2,
   "id": "574cda5f",
   "metadata": {},
   "outputs": [],
   "source": [
    "recorder = PvRecorder(device_index=0, frame_length=512)\n",
    "sound = []\n",
    "\n",
    "recorder.start()\n",
    "print('recording')\n",
    "t_0 = time.time()\n",
    "while time.time()-t_0<4:\n",
    "    frame = recorder.read()\n",
    "    sound.extend(frame)\n",
    "        # Do something ...\n",
    "recorder.stop()\n",
    "recorder.delete()\n",
    "fs = 16000"
   ]
  },
  {
   "cell_type": "code",
   "execution_count": 3,
   "id": "51f520ed",
   "metadata": {},
   "outputs": [],
   "source": [
    "path = 'test.wav' \n",
    "with wave.open(path, 'w') as f:\n",
    "                    f.setparams((1, 2, fs, 512, \"NONE\", \"NONE\"))\n",
    "                    f.writeframes(struct.pack(\"h\" * len(sound), *sound))"
   ]
  },
  {
   "cell_type": "code",
   "execution_count": 4,
   "id": "07154ecf",
   "metadata": {},
   "outputs": [],
   "source": [
    "data = np.array(sound).astype(np.int16)\n",
    "for i in range(100):\n",
    "    fft = np.fft.fft(data)*0.1\n",
    "    data = np.fft.ifft(fft)\n",
    "    data = ((2**(16-4)) * data/data.max()).astype(np.int16)\n",
    "   "
   ]
  },
  {
   "cell_type": "code",
   "execution_count": 5,
   "id": "00fab6be",
   "metadata": {},
   "outputs": [
    {
     "name": "stdout",
     "output_type": "stream",
     "text": [
      "array([-16757737.             +0.j        ,\n",
      "         -135839.30295385-147497.34922677j,\n",
      "         -164858.91537085-291262.32565593j, ...,\n",
      "          -41693.57867003+236245.17605371j,\n",
      "         -164858.91537085+291262.32565593j,\n",
      "         -135839.30295385+147497.34922677j])"
     ]
    }
   ],
   "source": [
    "data = np.array(sound).astype(np.int16)\n",
    "fft = np.fft.fft(data)\n",
    "fft"
   ]
  },
  {
   "cell_type": "code",
   "execution_count": 6,
   "id": "2a63022c",
   "metadata": {},
   "outputs": [
    {
     "name": "stdout",
     "output_type": "stream",
     "text": [
      "[<matplotlib.lines.Line2D at 0x117cdc2e0>]"
     ]
    }
   ],
   "source": [
    "plt.plot(data)"
   ]
  },
  {
   "cell_type": "code",
   "execution_count": 7,
   "id": "3342dcbf",
   "metadata": {},
   "outputs": [
    {
     "name": "stdout",
     "output_type": "stream",
     "text": [
      "[<matplotlib.lines.Line2D at 0x1300a27f0>]"
     ]
    }
   ],
   "source": [
    "plt.plot(fft)\n",
    "  "
   ]
  },
  {
   "cell_type": "code",
   "execution_count": 8,
   "id": "5a7cc030",
   "metadata": {},
   "outputs": [
    {
     "name": "stdout",
     "output_type": "stream",
     "text": [
      "[<matplotlib.lines.Line2D at 0x13015e940>]"
     ]
    }
   ],
   "source": [
    "roll = np.roll(fft,100)\n",
    "plt.plot(roll)"
   ]
  },
  {
   "cell_type": "code",
   "execution_count": 9,
   "id": "e092a9ba",
   "metadata": {},
   "outputs": [
    {
     "name": "stdout",
     "output_type": "stream",
     "text": [
      "[<matplotlib.lines.Line2D at 0x1301e0520>]"
     ]
    }
   ],
   "source": [
    "ifft = np.fft.ifft(roll)\n",
    "plt.plot(ifft)"
   ]
  },
  {
   "cell_type": "code",
   "execution_count": 10,
   "id": "0b763495",
   "metadata": {},
   "outputs": [
    {
     "name": "stdout",
     "output_type": "stream",
     "text": [
      "array([-16757737.             +0.j        ,\n",
      "         -135839.30295385-147497.34922677j,\n",
      "         -164858.91537085-291262.32565593j, ...,\n",
      "          -41693.57867003+236245.17605371j,\n",
      "         -164858.91537085+291262.32565593j,\n",
      "         -135839.30295385+147497.34922677j])"
     ]
    }
   ],
   "source": [
    "fft"
   ]
  },
  {
   "cell_type": "code",
   "execution_count": 11,
   "id": "26db494e",
   "metadata": {},
   "outputs": [],
   "source": [
    "roll = np.roll(fft,10)\n",
    "data = np.fft.ifft(roll)\n",
    "data = ((2**(16-4)) * data/data.max()).astype(np.int16)"
   ]
  },
  {
   "cell_type": "code",
   "execution_count": 12,
   "id": "231bf93d",
   "metadata": {},
   "outputs": [
    {
     "name": "stdout",
     "output_type": "stream",
     "text": [
      "[<matplotlib.lines.Line2D at 0x1301ff640>]"
     ]
    }
   ],
   "source": [
    "plt.plot(data*0.9)"
   ]
  },
  {
   "cell_type": "code",
   "execution_count": 13,
   "id": "88dbefa1",
   "metadata": {},
   "outputs": [],
   "source": [
    "!env | grep env"
   ]
  },
  {
   "cell_type": "code",
   "execution_count": 14,
   "id": "9ff8b230",
   "metadata": {},
   "outputs": [],
   "source": [
    "from scipy.io.wavfile import read\n",
    "import wave\n",
    "import struct\n",
    "import ipywidgets as widgets\n",
    "import IPython\n",
    "from pvrecorder import PvRecorder\n",
    "import wave\n",
    "import struct\n",
    "import time\n",
    "import sounddevice as sd\n",
    "import numpy as np\n",
    "import matplotlib.pyplot as plt\n",
    "from pathlib import Path"
   ]
  },
  {
   "cell_type": "code",
   "execution_count": 15,
   "id": "28ed2bd2",
   "metadata": {},
   "outputs": [],
   "source": [
    "duration = 1000000  # seconds\n",
    "fs = 16000\n",
    "myrecording = sd.rec(duration * fs, samplerate=fs, channels=1)"
   ]
  },
  {
   "cell_type": "code",
   "execution_count": 16,
   "id": "75b1e2cb",
   "metadata": {},
   "outputs": [
    {
     "name": "stdout",
     "output_type": "stream",
     "text": [
      "array([[-0.00162337],\n",
      "       [-0.00236033],\n",
      "       [-0.00132801],\n",
      "       ...,\n",
      "       [ 0.        ],\n",
      "       [ 0.        ],\n",
      "       [ 0.        ]], dtype=float32)"
     ]
    }
   ],
   "source": [
    "myrecording"
   ]
  },
  {
   "cell_type": "code",
   "execution_count": 17,
   "id": "fbd0cb3a",
   "metadata": {},
   "outputs": [],
   "source": [
    "class Response:\n",
    "    def __init__(self,frame):\n",
    "        self.frame_length=frame\n",
    "        self.path =  './test.wav'\n",
    "        self.t_delta=1\n",
    "        self.fs = 16000\n",
    "        self.root = Path('./')\n",
    "        \n",
    "    def set_time(self,delta_sec:int):\n",
    "        self.t_delta=delta_sec\n",
    "    \n",
    "    def createdirs(self):\n",
    "        if not self.dir.exists():\n",
    "            self.dir.mkdir(exist_ok=True)\n",
    "        for sound_class in self.class_dirs:\n",
    "            sound_dir = self.dir/sound_class\n",
    "            sound_dir.mkdir(exist_ok=True)\n",
    "\n",
    "            \n",
    "    def get_classes(self,sound_classes:tuple[str,str]):\n",
    "        self.dir = self.root/'data'  \n",
    "        self.class_dirs = sound_classes\n",
    "        self.createdirs()\n",
    "        self.classes={sound:{'class':idx,'count':len(list((self.dir/sound).iterdir()))} for idx,sound in enumerate(sound_classes)}\n",
    "        print(self.classes)\n",
    "        self.set_widgets()\n",
    "        \n",
    "        \n",
    "    def set_widgets(self):\n",
    "        \n",
    "        actions=[\n",
    "            widgets.Button(description=f'record {name}') for name,entry in self.classes.items()]\n",
    "        for act in actions:\n",
    "            act.on_click(self.record)\n",
    "            \n",
    "            \n",
    "        save = widgets.Button(description='save \\U0001F4BE')\n",
    "        play = widgets.Button(description='play ▶️')\n",
    "        \n",
    "        delete = widgets.Button(description='delete \\U0000274C')\n",
    "        save.on_click(self.save)\n",
    "        play.on_click(self.play)\n",
    "        delete.on_click(self.drop_recording)\n",
    "        self.out = widgets.Output()\n",
    "        actions+=[play,save,delete,self.out]\n",
    "        acts = tuple(actions)\n",
    "        self.vbox=widgets.VBox(children=acts)\n",
    "        display(self.vbox)\n",
    "        \n",
    "    def record(self,button:widgets.Button):\n",
    "        with self.out:\n",
    "            key = button.description.split(' ')[1]\n",
    "            self.state = key\n",
    "            self.classes[key]['count']+=1\n",
    "            self.classes[key][f'record {self.classes[key][\"count\"]}']=np.array([])\n",
    "#             print(dir(self.out))\n",
    "#             print(self.out._Output__counter)\n",
    "            self.recorder = PvRecorder(device_index=0, frame_length=self.frame_length)\n",
    "            self.recorder.start()\n",
    "            t_0 = time.time()\n",
    "            record = np.array([]).astype(np.int16)\n",
    "            while time.time()-t_0<self.t_delta:\n",
    "                frame = self.recorder.read()\n",
    "                record = np.append(record,np.array(frame)).astype(np.int16)\n",
    "            self.recorder.stop()\n",
    "            self.recorder.delete()\n",
    "            self.classes[key][f'record {self.classes[key][\"count\"]}']=record\n",
    "            \n",
    "\n",
    "    def save(self,_):\n",
    "        path = self.root/'data'\n",
    "        if not path.exists():\n",
    "            path.mkdir(exist_ok=True)\n",
    "        with self.out:\n",
    "            for state in self.classes:\n",
    "                class_dir = path/state\n",
    "                if not class_dir.exists():\n",
    "                    class_dir.mkdir(exist_ok=True)\n",
    "                for key in self.classes[state]:\n",
    "                    if 'record' in key:\n",
    "                        rec = self.classes[state][key]\n",
    "                        fid = class_dir/f'{state}_{key}.wav'\n",
    "                        with wave.open(str(fid), 'w') as f:\n",
    "                            f.setparams((1, 2, self.fs, 512, \"NONE\", \"NONE\"))\n",
    "                            f.writeframes(struct.pack(\"h\" * len(rec), *rec))\n",
    "        \n",
    "    def play(self,_):\n",
    "        try:\n",
    "            count = self.classes[self.state]['count']\n",
    "            print(self.classes[self.state][f'record {count}'])\n",
    "            for key in self.classes[self.state]:\n",
    "                if 'record' in key:\n",
    "                    sd.play(self.classes[self.state][key], self.fs)\n",
    "                    sd.wait()\n",
    "        except(KeyError,AttributeError):\n",
    "            print('no recordings')\n",
    "\n",
    "    def drop_recording(self,_):\n",
    "        try:\n",
    "            if self.classes[self.state]['count']!=0:\n",
    "                self.classes[self.state].popitem()\n",
    "                self.classes[self.state]['count']-=1\n",
    "        except(KeyError,AttributeError):\n",
    "            print('no recordings')"
   ]
  },
  {
   "cell_type": "code",
   "execution_count": 18,
   "id": "389cb2e2",
   "metadata": {},
   "outputs": [],
   "source": [
    "sample = Response(frame=512)\n",
    "sample.set_time(delta_sec=1)\n",
    "sample.get_classes(('yes','no','background'))"
   ]
  },
  {
   "cell_type": "code",
   "execution_count": 19,
   "id": "7411b12a",
   "metadata": {},
   "outputs": [],
   "source": [
    "!tree data"
   ]
  },
  {
   "cell_type": "code",
   "execution_count": 20,
   "id": "e97b33a7",
   "metadata": {},
   "outputs": [],
   "source": [
    "import wave\n",
    "import numpy as np\n",
    "import matplotlib.pyplot as plt\n",
    "def read_wav(fid:str):\n",
    "    # Read file to get buffer                                                                                               \n",
    "    ifile = wave.open(fid)\n",
    "    samples = ifile.getnframes()\n",
    "    audio = ifile.readframes(samples)\n",
    "\n",
    "    # Convert buffer to float32 using NumPy                                                                                 \n",
    "    audio_as_np_int16 = np.frombuffer(audio, dtype=np.int16)\n",
    "    return audio_as_np_int16"
   ]
  },
  {
   "cell_type": "code",
   "execution_count": 21,
   "id": "9c74dfeb",
   "metadata": {},
   "outputs": [],
   "source": [
    "!pwd"
   ]
  },
  {
   "cell_type": "code",
   "execution_count": 22,
   "id": "9d511aec",
   "metadata": {},
   "outputs": [],
   "source": [
    " !mkdir datasets\n",
    " !wget 'https://github.com/karoldvl/ESC-50/archive/master.zip' -P ~/pico/audio-classifier/datasets\n",
    " !unzip -q ~/datasets/master.zip -d ./datasets/"
   ]
  },
  {
   "cell_type": "code",
   "execution_count": 23,
   "id": "378b2e22",
   "metadata": {},
   "outputs": [],
   "source": [
    "#  !mkdir datasets\n",
    "#  !wget 'https://github.com/karoldvl/ESC-50/archive/master.zip' -P ~/pico/audio-classifier/datasets\n",
    "#  !unzip -q ~/datasets/master.zip -d ./datasets/"
   ]
  },
  {
   "cell_type": "code",
   "execution_count": 24,
   "id": "44e7e34e",
   "metadata": {},
   "outputs": [
    {
     "name": "stdout",
     "output_type": "stream",
     "text": [
      "             filename  fold  target        category  esc10  src_file take\n",
      "0    1-100032-A-0.wav     1       0             dog   True    100032    A\n",
      "1   1-100038-A-14.wav     1      14  chirping_birds  False    100038    A\n",
      "2   1-100210-A-36.wav     1      36  vacuum_cleaner  False    100210    A\n",
      "3   1-100210-B-36.wav     1      36  vacuum_cleaner  False    100210    B\n",
      "4   1-101296-A-19.wav     1      19    thunderstorm  False    101296    A\n",
      "..                ...   ...     ...             ...    ...       ...  ...\n",
      "95   1-20133-A-39.wav     1      39  glass_breaking  False     20133    A\n",
      "96   1-202111-A-3.wav     1       3             cow  False    202111    A\n",
      "97   1-20545-A-28.wav     1      28         snoring  False     20545    A\n",
      "98   1-20736-A-18.wav     1      18    toilet_flush  False     20736    A\n",
      "99   1-208757-A-2.wav     1       2             pig  False    208757    A\n",
      "\n",
      "[100 rows x 7 columns]"
     ]
    }
   ],
   "source": [
    "import pandas as pd\n",
    "esc50_csv = './datasets/ESC-50-master/meta/esc50.csv'\n",
    "base_data_path = './datasets/ESC-50-master/audio/'\n",
    "\n",
    "df = pd.read_csv(esc50_csv)\n",
    "df.head(100)"
   ]
  },
  {
   "cell_type": "code",
   "execution_count": 25,
   "id": "5159d954",
   "metadata": {},
   "outputs": [],
   "source": [
    "import tensorflow as tf\n",
    "import tensorflow_io as tfio"
   ]
  },
  {
   "cell_type": "code",
   "execution_count": 26,
   "id": "d204b2af",
   "metadata": {},
   "outputs": [],
   "source": [
    "sample_rate = 16000\n",
    "chans = 1\n",
    "sound = read_wav('./data/yes/yes_record 3.wav')\n",
    "sound = sound.astype(np.float32, order='F') / 32768.0"
   ]
  },
  {
   "cell_type": "code",
   "execution_count": 27,
   "id": "6d676169",
   "metadata": {},
   "outputs": [],
   "source": [
    "file_contents = tf.io.read_file('./data/yes/yes_record 5.wav')\n",
    "wav, sample_rate = tf.audio.decode_wav(file_contents, desired_channels=chans)\n",
    "squeeze_wav = tf.squeeze(wav, axis=-1)\n",
    "spect = tf.signal.stft(squeeze_wav, frame_length=512, frame_step=128)"
   ]
  },
  {
   "cell_type": "code",
   "execution_count": 28,
   "id": "b5eb9da0",
   "metadata": {},
   "outputs": [
    {
     "name": "stdout",
     "output_type": "stream",
     "text": [
      "<tf.Tensor: shape=(16384, 1), dtype=float32, numpy=\n",
      "array([[ 0.        ],\n",
      "       [ 0.        ],\n",
      "       [ 0.        ],\n",
      "       ...,\n",
      "       [-0.00704956],\n",
      "       [-0.00631714],\n",
      "       [-0.00570679]], dtype=float32)>"
     ]
    }
   ],
   "source": [
    "wav"
   ]
  },
  {
   "cell_type": "code",
   "execution_count": 29,
   "id": "0ba5ab15",
   "metadata": {},
   "outputs": [],
   "source": [
    "import scipy"
   ]
  },
  {
   "cell_type": "code",
   "execution_count": 30,
   "id": "3921a65a",
   "metadata": {},
   "outputs": [],
   "source": [
    "import cmsisdsp\n",
    "from numpy import pi as PI\n",
    "\n",
    "window_size = 512\n",
    "step_size = 64\n",
    "\n",
    "hanning_window_f32 = np.zeros(window_size)\n",
    "for i in range(window_size):\n",
    "  hanning_window_f32[i] = 0.5 * (1 - cmsisdsp.arm_cos_f32(2 * PI * i / window_size ))\n",
    "hanning_window_q15 = cmsisdsp.arm_float_to_q15(hanning_window_f32)\n",
    "rfftq15 = cmsisdsp.arm_rfft_instance_q15()\n",
    "status = cmsisdsp.arm_rfft_init_q15(rfftq15, window_size, 0, 1)\n",
    "\n",
    "def get_arm_spectrogram(waveform):\n",
    "  num_frames = int(1 + (len(waveform) - window_size) // step_size)\n",
    "  fft_size = int(window_size // 2 + 1)\n",
    "  # Convert the audio to q15\n",
    "  waveform_q15 = cmsisdsp.arm_float_to_q15(waveform)\n",
    "  # Create empty spectrogram array\n",
    "  spectrogram_q15 = np.empty((num_frames, fft_size), dtype = np.int16)\n",
    "  start_index = 0\n",
    "  for index in range(num_frames):\n",
    "    # Take the window from the waveform.\n",
    "    window = waveform_q15[start_index:start_index + window_size]\n",
    "    # Apply the Hanning Window.\n",
    "    window = cmsisdsp.arm_mult_q15(window, hanning_window_q15)\n",
    "    # Calculate the FFT, shift by 7 according to docs\n",
    "    window = cmsisdsp.arm_rfft_q15(rfftq15, window)\n",
    "    # Take the absolute value of the FFT and add to the Spectrogram.\n",
    "    spectrogram_q15[index] = cmsisdsp.arm_cmplx_mag_q15(window)[:fft_size]\n",
    "    # Increase the start index of the window by the overlap amount.\n",
    "    start_index += step_size\n",
    "  # Convert to numpy output ready for keras\n",
    "  return cmsisdsp.arm_q15_to_float(spectrogram_q15).reshape(num_frames,fft_size) * 512"
   ]
  },
  {
   "cell_type": "code",
   "execution_count": 31,
   "id": "4f4be356",
   "metadata": {},
   "outputs": [],
   "source": [
    "spct = get_arm_spectrogram(wav)"
   ]
  },
  {
   "cell_type": "code",
   "execution_count": 32,
   "id": "4d3cbcf7",
   "metadata": {},
   "outputs": [
    {
     "name": "stdout",
     "output_type": "stream",
     "text": [
      "<tf.Tensor: shape=(125, 257), dtype=complex64, numpy=\n",
      "array([[-1.1825697e+00+0.0000000e+00j,  7.9305696e-01-3.3905774e-02j,\n",
      "        -2.6453486e-01-1.7655689e-01j, ...,\n",
      "         8.3236247e-03-5.0675496e-03j, -7.6637864e-03+3.2727597e-03j,\n",
      "         5.6102276e-03+0.0000000e+00j],\n",
      "       [-1.1571851e+00+0.0000000e+00j,  5.1088202e-01+7.2440378e-02j,\n",
      "         8.9413024e-02+5.3528726e-02j, ...,\n",
      "        -2.6634298e-03-8.3412975e-05j,  4.6035647e-03+5.5335462e-03j,\n",
      "        -3.3004284e-03+0.0000000e+00j],\n",
      "       [-1.1590379e+00+0.0000000e+00j,  5.0499785e-01-6.7214325e-02j,\n",
      "         3.9693721e-02-8.3785877e-02j, ...,\n",
      "        -2.0413008e-03+1.2983121e-03j,  4.9695969e-03-2.0664409e-03j,\n",
      "        -7.0039034e-03+0.0000000e+00j],\n",
      "       ...,\n",
      "       [-1.9084167e+00+0.0000000e+00j,  1.0758590e+00+9.9544629e-02j,\n",
      "        -1.5023670e-01-7.5578287e-02j, ...,\n",
      "         5.2796602e-03+1.4986992e-03j, -6.4264536e-03-7.1737394e-03j,\n",
      "         4.9974322e-03+0.0000000e+00j],\n",
      "       [-1.7120256e+00+0.0000000e+00j,  7.1498239e-01+9.6698970e-02j,\n",
      "         1.7266038e-01-1.2853006e-01j, ...,\n",
      "         2.5062561e-03-2.4006367e-03j, -5.8126748e-03+4.5675598e-03j,\n",
      "         7.6530576e-03+0.0000000e+00j],\n",
      "       [-1.7484051e+00+0.0000000e+00j,  9.6295488e-01-1.4693803e-01j,\n",
      "        -1.3375020e-01+2.1611445e-01j, ...,\n",
      "        -2.1161661e-03-1.2636036e-03j,  2.5210083e-03+4.1384101e-03j,\n",
      "        -1.1483431e-03+0.0000000e+00j]], dtype=complex64)>"
     ]
    }
   ],
   "source": [
    "spect"
   ]
  },
  {
   "cell_type": "code",
   "execution_count": 33,
   "id": "969d70d8",
   "metadata": {},
   "outputs": [
    {
     "name": "stdout",
     "output_type": "stream",
     "text": [
      "[<matplotlib.lines.Line2D at 0x28d4a2820>,\n",
      " <matplotlib.lines.Line2D at 0x28d4a2880>,\n",
      " <matplotlib.lines.Line2D at 0x28d4927c0>,\n",
      " <matplotlib.lines.Line2D at 0x28d4927f0>,\n",
      " <matplotlib.lines.Line2D at 0x28d492820>,\n",
      " <matplotlib.lines.Line2D at 0x28d4a29a0>,\n",
      " <matplotlib.lines.Line2D at 0x28d4a2b50>,\n",
      " <matplotlib.lines.Line2D at 0x28d4a2c40>,\n",
      " <matplotlib.lines.Line2D at 0x28d4a2d30>,\n",
      " <matplotlib.lines.Line2D at 0x28d4a2e20>,\n",
      " <matplotlib.lines.Line2D at 0x28d4a2f10>,\n",
      " <matplotlib.lines.Line2D at 0x28d4a2850>,\n",
      " <matplotlib.lines.Line2D at 0x28d4b1040>,\n",
      " <matplotlib.lines.Line2D at 0x28d4b11f0>,\n",
      " <matplotlib.lines.Line2D at 0x28ca18fd0>,\n",
      " <matplotlib.lines.Line2D at 0x117b8e550>,\n",
      " <matplotlib.lines.Line2D at 0x117b8e520>,\n",
      " <matplotlib.lines.Line2D at 0x28d4b14c0>,\n",
      " <matplotlib.lines.Line2D at 0x28d4b15b0>,\n",
      " <matplotlib.lines.Line2D at 0x28d4b16a0>,\n",
      " <matplotlib.lines.Line2D at 0x28d4b1790>,\n",
      " <matplotlib.lines.Line2D at 0x28d4b1880>,\n",
      " <matplotlib.lines.Line2D at 0x28d4b1970>,\n",
      " <matplotlib.lines.Line2D at 0x117b8e580>,\n",
      " <matplotlib.lines.Line2D at 0x28d4b1a60>,\n",
      " <matplotlib.lines.Line2D at 0x28d4b1b50>,\n",
      " <matplotlib.lines.Line2D at 0x28d4b1d00>,\n",
      " <matplotlib.lines.Line2D at 0x28d4b1df0>,\n",
      " <matplotlib.lines.Line2D at 0x28d4b1ee0>,\n",
      " <matplotlib.lines.Line2D at 0x28d4b1fd0>,\n",
      " <matplotlib.lines.Line2D at 0x28d4b9100>,\n",
      " <matplotlib.lines.Line2D at 0x28d4b91f0>,\n",
      " <matplotlib.lines.Line2D at 0x28d4b92e0>,\n",
      " <matplotlib.lines.Line2D at 0x28d4b93d0>,\n",
      " <matplotlib.lines.Line2D at 0x28d4b94c0>,\n",
      " <matplotlib.lines.Line2D at 0x28d4b95b0>,\n",
      " <matplotlib.lines.Line2D at 0x28d4b96a0>,\n",
      " <matplotlib.lines.Line2D at 0x28d4b9790>,\n",
      " <matplotlib.lines.Line2D at 0x28d4b9880>,\n",
      " <matplotlib.lines.Line2D at 0x28d4b9970>,\n",
      " <matplotlib.lines.Line2D at 0x28d4b9a60>,\n",
      " <matplotlib.lines.Line2D at 0x28d4b9b50>,\n",
      " <matplotlib.lines.Line2D at 0x28d4b9c40>,\n",
      " <matplotlib.lines.Line2D at 0x28d4b9d30>,\n",
      " <matplotlib.lines.Line2D at 0x28d4b9e20>,\n",
      " <matplotlib.lines.Line2D at 0x28d4b9f10>,\n",
      " <matplotlib.lines.Line2D at 0x28d4c2040>,\n",
      " <matplotlib.lines.Line2D at 0x28d4c2130>,\n",
      " <matplotlib.lines.Line2D at 0x28d4c2220>,\n",
      " <matplotlib.lines.Line2D at 0x28d4c2310>,\n",
      " <matplotlib.lines.Line2D at 0x28d4c2400>,\n",
      " <matplotlib.lines.Line2D at 0x28d4c24f0>,\n",
      " <matplotlib.lines.Line2D at 0x28d4c25e0>,\n",
      " <matplotlib.lines.Line2D at 0x28d4c26d0>,\n",
      " <matplotlib.lines.Line2D at 0x28d4c27c0>,\n",
      " <matplotlib.lines.Line2D at 0x28d4c28b0>,\n",
      " <matplotlib.lines.Line2D at 0x28d4c29a0>,\n",
      " <matplotlib.lines.Line2D at 0x28d4c2a90>,\n",
      " <matplotlib.lines.Line2D at 0x28d4c2b80>,\n",
      " <matplotlib.lines.Line2D at 0x28d4c2c70>,\n",
      " <matplotlib.lines.Line2D at 0x28d4c2d60>,\n",
      " <matplotlib.lines.Line2D at 0x28d4c2e50>,\n",
      " <matplotlib.lines.Line2D at 0x28d4c2f40>,\n",
      " <matplotlib.lines.Line2D at 0x28d4c8070>,\n",
      " <matplotlib.lines.Line2D at 0x28d4c8160>,\n",
      " <matplotlib.lines.Line2D at 0x28d4c8250>,\n",
      " <matplotlib.lines.Line2D at 0x28d4c8340>,\n",
      " <matplotlib.lines.Line2D at 0x28d4c8430>,\n",
      " <matplotlib.lines.Line2D at 0x28d4c8520>,\n",
      " <matplotlib.lines.Line2D at 0x28d4c8610>,\n",
      " <matplotlib.lines.Line2D at 0x28d4c8700>,\n",
      " <matplotlib.lines.Line2D at 0x28d4c87f0>,\n",
      " <matplotlib.lines.Line2D at 0x28d4c88e0>,\n",
      " <matplotlib.lines.Line2D at 0x28d4c89d0>,\n",
      " <matplotlib.lines.Line2D at 0x28d4c8ac0>,\n",
      " <matplotlib.lines.Line2D at 0x28d4c8bb0>,\n",
      " <matplotlib.lines.Line2D at 0x28d4c8ca0>,\n",
      " <matplotlib.lines.Line2D at 0x28d4c8d90>,\n",
      " <matplotlib.lines.Line2D at 0x28d4c8e80>,\n",
      " <matplotlib.lines.Line2D at 0x28d4c8f70>,\n",
      " <matplotlib.lines.Line2D at 0x28d4d10a0>,\n",
      " <matplotlib.lines.Line2D at 0x28d4d1190>,\n",
      " <matplotlib.lines.Line2D at 0x28d4d1280>,\n",
      " <matplotlib.lines.Line2D at 0x28d4d13a0>,\n",
      " <matplotlib.lines.Line2D at 0x28d4d1490>,\n",
      " <matplotlib.lines.Line2D at 0x28d4d1580>,\n",
      " <matplotlib.lines.Line2D at 0x28d4d1670>,\n",
      " <matplotlib.lines.Line2D at 0x28d4d1760>,\n",
      " <matplotlib.lines.Line2D at 0x28d4d1850>,\n",
      " <matplotlib.lines.Line2D at 0x28d4d1940>,\n",
      " <matplotlib.lines.Line2D at 0x28d4d1a30>,\n",
      " <matplotlib.lines.Line2D at 0x28d4d1b20>,\n",
      " <matplotlib.lines.Line2D at 0x28d4d1c10>,\n",
      " <matplotlib.lines.Line2D at 0x28d4d1d00>,\n",
      " <matplotlib.lines.Line2D at 0x28d4d1df0>,\n",
      " <matplotlib.lines.Line2D at 0x28d4d1ee0>,\n",
      " <matplotlib.lines.Line2D at 0x28d4d1fd0>,\n",
      " <matplotlib.lines.Line2D at 0x28d4d8100>,\n",
      " <matplotlib.lines.Line2D at 0x28d4d81f0>,\n",
      " <matplotlib.lines.Line2D at 0x28d4d82e0>,\n",
      " <matplotlib.lines.Line2D at 0x28d4d83d0>,\n",
      " <matplotlib.lines.Line2D at 0x28d4d84c0>,\n",
      " <matplotlib.lines.Line2D at 0x28d4d85b0>,\n",
      " <matplotlib.lines.Line2D at 0x28d4d86a0>,\n",
      " <matplotlib.lines.Line2D at 0x28d4d8790>,\n",
      " <matplotlib.lines.Line2D at 0x28d4d8880>,\n",
      " <matplotlib.lines.Line2D at 0x28d4d8970>,\n",
      " <matplotlib.lines.Line2D at 0x28d4d8a60>,\n",
      " <matplotlib.lines.Line2D at 0x28d4d8b50>,\n",
      " <matplotlib.lines.Line2D at 0x28d4d8c40>,\n",
      " <matplotlib.lines.Line2D at 0x28d4d8d30>,\n",
      " <matplotlib.lines.Line2D at 0x28d4d8e20>,\n",
      " <matplotlib.lines.Line2D at 0x28d4d8f10>,\n",
      " <matplotlib.lines.Line2D at 0x28d4e0040>,\n",
      " <matplotlib.lines.Line2D at 0x28d4e0130>,\n",
      " <matplotlib.lines.Line2D at 0x28d4e0220>,\n",
      " <matplotlib.lines.Line2D at 0x28d4e0310>,\n",
      " <matplotlib.lines.Line2D at 0x28d4e0400>,\n",
      " <matplotlib.lines.Line2D at 0x28d4e04f0>,\n",
      " <matplotlib.lines.Line2D at 0x28d4e05e0>,\n",
      " <matplotlib.lines.Line2D at 0x28d4e06d0>,\n",
      " <matplotlib.lines.Line2D at 0x28d4e07c0>,\n",
      " <matplotlib.lines.Line2D at 0x28d4e08b0>,\n",
      " <matplotlib.lines.Line2D at 0x28d4e09a0>,\n",
      " <matplotlib.lines.Line2D at 0x28d4e0a90>,\n",
      " <matplotlib.lines.Line2D at 0x28d4e0b80>,\n",
      " <matplotlib.lines.Line2D at 0x28d4e0c70>,\n",
      " <matplotlib.lines.Line2D at 0x28d4e0d60>,\n",
      " <matplotlib.lines.Line2D at 0x28d4e0e50>,\n",
      " <matplotlib.lines.Line2D at 0x28d4e0f40>,\n",
      " <matplotlib.lines.Line2D at 0x28d4ea070>,\n",
      " <matplotlib.lines.Line2D at 0x28d4ea160>,\n",
      " <matplotlib.lines.Line2D at 0x28d4ea250>,\n",
      " <matplotlib.lines.Line2D at 0x28d4ea340>,\n",
      " <matplotlib.lines.Line2D at 0x28d4ea430>,\n",
      " <matplotlib.lines.Line2D at 0x28d4ea520>,\n",
      " <matplotlib.lines.Line2D at 0x28d4ea610>,\n",
      " <matplotlib.lines.Line2D at 0x28d4ea700>,\n",
      " <matplotlib.lines.Line2D at 0x28d4ea7f0>,\n",
      " <matplotlib.lines.Line2D at 0x28d4ea8e0>,\n",
      " <matplotlib.lines.Line2D at 0x28d4ea9d0>,\n",
      " <matplotlib.lines.Line2D at 0x28d4eaac0>,\n",
      " <matplotlib.lines.Line2D at 0x28d4eabb0>,\n",
      " <matplotlib.lines.Line2D at 0x28d4eaca0>,\n",
      " <matplotlib.lines.Line2D at 0x28d4ead90>,\n",
      " <matplotlib.lines.Line2D at 0x28d4eae80>,\n",
      " <matplotlib.lines.Line2D at 0x28d4eaf70>,\n",
      " <matplotlib.lines.Line2D at 0x28d4f00a0>,\n",
      " <matplotlib.lines.Line2D at 0x28d4f0190>,\n",
      " <matplotlib.lines.Line2D at 0x28d4f0280>,\n",
      " <matplotlib.lines.Line2D at 0x28d4f0370>,\n",
      " <matplotlib.lines.Line2D at 0x28d4f0460>,\n",
      " <matplotlib.lines.Line2D at 0x28d4f0550>,\n",
      " <matplotlib.lines.Line2D at 0x28d4f0640>,\n",
      " <matplotlib.lines.Line2D at 0x28d4f0730>,\n",
      " <matplotlib.lines.Line2D at 0x28d4f0820>,\n",
      " <matplotlib.lines.Line2D at 0x28d4f0910>,\n",
      " <matplotlib.lines.Line2D at 0x28d4f0a00>,\n",
      " <matplotlib.lines.Line2D at 0x28d4f0af0>,\n",
      " <matplotlib.lines.Line2D at 0x28d4f0be0>,\n",
      " <matplotlib.lines.Line2D at 0x28d4f0cd0>,\n",
      " <matplotlib.lines.Line2D at 0x28d4f0dc0>,\n",
      " <matplotlib.lines.Line2D at 0x28d4f0eb0>,\n",
      " <matplotlib.lines.Line2D at 0x28d4f0fa0>,\n",
      " <matplotlib.lines.Line2D at 0x28d4f80d0>,\n",
      " <matplotlib.lines.Line2D at 0x28d4f81c0>,\n",
      " <matplotlib.lines.Line2D at 0x28d4f82b0>,\n",
      " <matplotlib.lines.Line2D at 0x28d4f83a0>,\n",
      " <matplotlib.lines.Line2D at 0x28d4f8490>,\n",
      " <matplotlib.lines.Line2D at 0x28d4f8580>,\n",
      " <matplotlib.lines.Line2D at 0x28d4f8670>,\n",
      " <matplotlib.lines.Line2D at 0x28d4f8760>,\n",
      " <matplotlib.lines.Line2D at 0x28d4f8850>,\n",
      " <matplotlib.lines.Line2D at 0x28d4f8940>,\n",
      " <matplotlib.lines.Line2D at 0x28d4f8a30>,\n",
      " <matplotlib.lines.Line2D at 0x28d4f8b20>,\n",
      " <matplotlib.lines.Line2D at 0x28d4f8c10>,\n",
      " <matplotlib.lines.Line2D at 0x28d4f8d00>,\n",
      " <matplotlib.lines.Line2D at 0x28d4f8df0>,\n",
      " <matplotlib.lines.Line2D at 0x28d4f8ee0>,\n",
      " <matplotlib.lines.Line2D at 0x28d4f8fd0>,\n",
      " <matplotlib.lines.Line2D at 0x28d501100>,\n",
      " <matplotlib.lines.Line2D at 0x28d5011f0>,\n",
      " <matplotlib.lines.Line2D at 0x28d5012e0>,\n",
      " <matplotlib.lines.Line2D at 0x28d5013d0>,\n",
      " <matplotlib.lines.Line2D at 0x28d5014c0>,\n",
      " <matplotlib.lines.Line2D at 0x28d5015b0>,\n",
      " <matplotlib.lines.Line2D at 0x28d5016a0>,\n",
      " <matplotlib.lines.Line2D at 0x28d501790>,\n",
      " <matplotlib.lines.Line2D at 0x28d501880>,\n",
      " <matplotlib.lines.Line2D at 0x28d501970>,\n",
      " <matplotlib.lines.Line2D at 0x28d501a60>,\n",
      " <matplotlib.lines.Line2D at 0x28d501b50>,\n",
      " <matplotlib.lines.Line2D at 0x28d501c40>,\n",
      " <matplotlib.lines.Line2D at 0x28d501d30>,\n",
      " <matplotlib.lines.Line2D at 0x28d501e20>,\n",
      " <matplotlib.lines.Line2D at 0x28d501f10>,\n",
      " <matplotlib.lines.Line2D at 0x28d509040>,\n",
      " <matplotlib.lines.Line2D at 0x28d509130>,\n",
      " <matplotlib.lines.Line2D at 0x28d509220>,\n",
      " <matplotlib.lines.Line2D at 0x28d509310>,\n",
      " <matplotlib.lines.Line2D at 0x28d509400>,\n",
      " <matplotlib.lines.Line2D at 0x28d5094f0>,\n",
      " <matplotlib.lines.Line2D at 0x28d5095e0>,\n",
      " <matplotlib.lines.Line2D at 0x28d5096d0>,\n",
      " <matplotlib.lines.Line2D at 0x28d5097c0>,\n",
      " <matplotlib.lines.Line2D at 0x28d5098b0>,\n",
      " <matplotlib.lines.Line2D at 0x28d5099a0>,\n",
      " <matplotlib.lines.Line2D at 0x28d509a90>,\n",
      " <matplotlib.lines.Line2D at 0x28d509b80>,\n",
      " <matplotlib.lines.Line2D at 0x28d509c70>,\n",
      " <matplotlib.lines.Line2D at 0x28d509d60>,\n",
      " <matplotlib.lines.Line2D at 0x28d509e50>,\n",
      " <matplotlib.lines.Line2D at 0x28d509f40>,\n",
      " <matplotlib.lines.Line2D at 0x28d510070>,\n",
      " <matplotlib.lines.Line2D at 0x28d510160>,\n",
      " <matplotlib.lines.Line2D at 0x28d510250>,\n",
      " <matplotlib.lines.Line2D at 0x28d510340>,\n",
      " <matplotlib.lines.Line2D at 0x28d510430>,\n",
      " <matplotlib.lines.Line2D at 0x28d510520>,\n",
      " <matplotlib.lines.Line2D at 0x28d510610>,\n",
      " <matplotlib.lines.Line2D at 0x28d510700>,\n",
      " <matplotlib.lines.Line2D at 0x28d5107f0>,\n",
      " <matplotlib.lines.Line2D at 0x28d5108e0>,\n",
      " <matplotlib.lines.Line2D at 0x28d5109d0>,\n",
      " <matplotlib.lines.Line2D at 0x28d510ac0>,\n",
      " <matplotlib.lines.Line2D at 0x28d510bb0>,\n",
      " <matplotlib.lines.Line2D at 0x28d510ca0>,\n",
      " <matplotlib.lines.Line2D at 0x28d510d90>,\n",
      " <matplotlib.lines.Line2D at 0x28d510e80>,\n",
      " <matplotlib.lines.Line2D at 0x28d510f70>,\n",
      " <matplotlib.lines.Line2D at 0x28d5180a0>,\n",
      " <matplotlib.lines.Line2D at 0x28d518190>,\n",
      " <matplotlib.lines.Line2D at 0x28d518280>,\n",
      " <matplotlib.lines.Line2D at 0x28d518370>,\n",
      " <matplotlib.lines.Line2D at 0x28d518460>,\n",
      " <matplotlib.lines.Line2D at 0x28d518550>,\n",
      " <matplotlib.lines.Line2D at 0x28d518640>,\n",
      " <matplotlib.lines.Line2D at 0x28d518730>,\n",
      " <matplotlib.lines.Line2D at 0x28d518820>,\n",
      " <matplotlib.lines.Line2D at 0x28d518910>,\n",
      " <matplotlib.lines.Line2D at 0x28d518a00>,\n",
      " <matplotlib.lines.Line2D at 0x28d518af0>,\n",
      " <matplotlib.lines.Line2D at 0x28d518be0>,\n",
      " <matplotlib.lines.Line2D at 0x28d518cd0>,\n",
      " <matplotlib.lines.Line2D at 0x28d518dc0>,\n",
      " <matplotlib.lines.Line2D at 0x28d518eb0>,\n",
      " <matplotlib.lines.Line2D at 0x28d518fa0>,\n",
      " <matplotlib.lines.Line2D at 0x28d5210d0>,\n",
      " <matplotlib.lines.Line2D at 0x28d5211c0>,\n",
      " <matplotlib.lines.Line2D at 0x28d5212b0>,\n",
      " <matplotlib.lines.Line2D at 0x28d5213a0>,\n",
      " <matplotlib.lines.Line2D at 0x28d521490>,\n",
      " <matplotlib.lines.Line2D at 0x28d521580>,\n",
      " <matplotlib.lines.Line2D at 0x28d521670>,\n",
      " <matplotlib.lines.Line2D at 0x28d521760>,\n",
      " <matplotlib.lines.Line2D at 0x28d521850>]"
     ]
    }
   ],
   "source": [
    "plt.plot(spct)"
   ]
  },
  {
   "cell_type": "code",
   "execution_count": 34,
   "id": "695afc46",
   "metadata": {},
   "outputs": [],
   "source": [
    "!pip install pydub"
   ]
  },
  {
   "cell_type": "code",
   "execution_count": 35,
   "id": "5e1d83eb",
   "metadata": {},
   "outputs": [],
   "source": [
    "fid = \"./datasets/ESC-50-master/audio/1-100032-A-0.wav\"\n",
    "# times between which to extract the wave from\n",
    "start = 0 # seconds\n",
    "end = 1 # seconds\n",
    "\n",
    "def segment(fid:str, chunk:int):\n",
    "    # file to extract the snippet from\n",
    "    data = [ ]\n",
    "    with wave.open(fid, \"rb\") as infile:\n",
    "        # get file data\n",
    "        nchannels = infile.getnchannels()\n",
    "        sampwidth = infile.getsampwidth()\n",
    "        framerate = infile.getframerate()\n",
    "        # set position in wave to start of segment\n",
    "        for sec in range(4):\n",
    "            infile.setpos(int(sec * framerate))\n",
    "            data.append(infile.readframes(chunk * framerate))   \n",
    "    return data, (nchannels, sampwidth , framerate)\n",
    "        "
   ]
  },
  {
   "cell_type": "code",
   "execution_count": 36,
   "id": "90409a29",
   "metadata": {},
   "outputs": [],
   "source": [
    "data = segment(fid = \"./datasets/ESC-50-master/audio/1-100032-A-0.wav\",\n",
    "       chunk=1)\n",
    "\n",
    "in_paranet = Path('./datasets/ESC-50-master/audio/')\n",
    "out_data_dir = Path('ESC-50')\n",
    "out_data_dir.mkdir(exist_ok=True)\n",
    "all_out = [ ]\n",
    "for idx, row in df.iterrows():\n",
    "    out_dir = out_data_dir/row.category\n",
    "    out_dir.mkdir(exist_ok=True)\n",
    "    data, vals = segment(fid = str(in_paranet/row.filename),\n",
    "       chunk=1)\n",
    "    chans, samp_width , rate = vals\n",
    "    out_fids = [ ]\n",
    "    for idx,sound in enumerate(data):\n",
    "        out_fid = out_dir/f'{idx}_{row.filename}'\n",
    "        out_fids.append(out_fid)\n",
    "        with wave.open(str(out_fid), 'w') as outfile:\n",
    "            outfile.setnchannels(chans)\n",
    "            outfile.setsampwidth(samp_width)\n",
    "            outfile.setframerate(rate)\n",
    "            outfile.setnframes(int(len(sound) /  samp_width))\n",
    "            outfile.writeframes(sound)\n",
    "    all_out.append(out_fids)\n",
    "        \n",
    "    \n",
    "    \n",
    "    "
   ]
  },
  {
   "cell_type": "code",
   "execution_count": 37,
   "id": "a4734e2b",
   "metadata": {},
   "outputs": [],
   "source": [
    "sec_files = np.array(all_out).astype(str)\n",
    "for files in range(sec_files.shape[-1]):\n",
    "    df[f'{files}_{files+1}_sec']=sec_files[...,files].astype(str)"
   ]
  },
  {
   "cell_type": "code",
   "execution_count": 38,
   "id": "f6a20d25",
   "metadata": {},
   "outputs": [],
   "source": [
    "columns = list(df.columns)"
   ]
  },
  {
   "cell_type": "code",
   "execution_count": 39,
   "id": "e80a40bb",
   "metadata": {},
   "outputs": [],
   "source": [
    "table = wandb.Table(data=df,columns=columns)"
   ]
  },
  {
   "cell_type": "code",
   "execution_count": 40,
   "id": "a330d3cd",
   "metadata": {},
   "outputs": [],
   "source": [
    "for col in df.columns[-4:]:\n",
    "    sounds = [wandb.Audio(fid) for fid in df[col].values]\n",
    "    table.add_column(name=f'sound_{col}',data=sounds)"
   ]
  },
  {
   "cell_type": "code",
   "execution_count": 41,
   "id": "95d98b0d",
   "metadata": {},
   "outputs": [
    {
     "data": {
      "text/html": [
       "Tracking run with wandb version 0.13.9"
      ],
      "text/plain": [
       "<IPython.core.display.HTML object>"
      ]
     },
     "metadata": {},
     "output_type": "display_data"
    },
    {
     "data": {
      "text/html": [
       "Run data is saved locally in <code>/Users/fridadesigley/pico/tiny-ml/wandb/run-20230120_165229-mv0fl8rp</code>"
      ],
      "text/plain": [
       "<IPython.core.display.HTML object>"
      ]
     },
     "metadata": {},
     "output_type": "display_data"
    },
    {
     "data": {
      "text/html": [
       "Syncing run <strong><a href=\"https://wandb.ai/tiny-ml/wake_word_detection/runs/mv0fl8rp\" target=\"_blank\">devoted-aardvark-6</a></strong> to <a href=\"https://wandb.ai/tiny-ml/wake_word_detection\" target=\"_blank\">Weights & Biases</a> (<a href=\"https://wandb.me/run\" target=\"_blank\">docs</a>)<br/>"
      ],
      "text/plain": [
       "<IPython.core.display.HTML object>"
      ]
     },
     "metadata": {},
     "output_type": "display_data"
    },
    {
     "data": {
      "text/html": [
       " View project at <a href=\"https://wandb.ai/tiny-ml/wake_word_detection\" target=\"_blank\">https://wandb.ai/tiny-ml/wake_word_detection</a>"
      ],
      "text/plain": [
       "<IPython.core.display.HTML object>"
      ]
     },
     "metadata": {},
     "output_type": "display_data"
    },
    {
     "data": {
      "text/html": [
       " View run at <a href=\"https://wandb.ai/tiny-ml/wake_word_detection/runs/mv0fl8rp\" target=\"_blank\">https://wandb.ai/tiny-ml/wake_word_detection/runs/mv0fl8rp</a>"
      ],
      "text/plain": [
       "<IPython.core.display.HTML object>"
      ]
     },
     "metadata": {},
     "output_type": "display_data"
    }
   ],
   "source": [
    "run = wandb.init(entity='tiny-ml',project = 'wake_word_detection')"
   ]
  },
  {
   "cell_type": "code",
   "execution_count": 42,
   "id": "677bb0e0",
   "metadata": {},
   "outputs": [],
   "source": [
    "run.log({'all_sound_table':table})"
   ]
  },
  {
   "cell_type": "code",
   "execution_count": 43,
   "id": "a3695354",
   "metadata": {},
   "outputs": [],
   "source": [
    "run.finish()"
   ]
  }
 ],
 "metadata": {
  "kernelspec": {
   "display_name": "Python 3",
   "language": "python",
   "name": "python3"
  },
  "language_info": {
   "codemirror_mode": {
    "name": "ipython",
    "version": 3
   },
   "file_extension": ".py",
   "mimetype": "text/x-python",
   "name": "python",
   "nbconvert_exporter": "python",
   "pygments_lexer": "ipython3",
   "version": "3.9.7"
  }
 },
 "nbformat": 4,
 "nbformat_minor": 5
}
