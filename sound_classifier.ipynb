{
 "cells": [
  {
   "cell_type": "code",
   "execution_count": 1,
   "id": "754196eb",
   "metadata": {
    "ExecuteTime": {
     "end_time": "2023-01-28T11:27:36.482912Z",
     "start_time": "2023-01-28T11:27:32.170223Z"
    },
    "scrolled": true,
    "slideshow": {
     "slide_type": "slide"
    }
   },
   "outputs": [],
   "source": [
    "import tensorflow as tf\n",
    "import wandb\n",
    "import audiomentations\n",
    "from pathlib import Path\n",
    "import recorder\n",
    "from scipy.io.wavfile import read\n",
    "import pandas as pd\n",
    "import plotly.express as px\n",
    "from tqdm import tqdm\n",
    "import matplotlib.pyplot as plt\n",
    "import numpy as np\n",
    "import sounddevice as sd\n",
    "import time\n",
    "import struct\n",
    "import wave\n",
    "from pvrecorder import PvRecorder\n",
    "import IPython\n",
    "import os\n",
    "from utils.data_processing import augmenter,log_wandb_artifact,plot_spectrogram,segment,read_wav,Arm_spect\n"
   ]
  },
  {
   "cell_type": "code",
   "execution_count": 2,
   "id": "ab484896",
   "metadata": {},
   "outputs": [],
   "source": [
    "os.environ[\"WANDB_SILENT\"] = \"false\""
   ]
  },
  {
   "cell_type": "code",
   "execution_count": 3,
   "id": "25744cd7",
   "metadata": {},
   "outputs": [
    {
     "data": {
      "text/plain": [
       "{'theme': 'sky',\n",
       " 'transition': 'zoom',\n",
       " 'start_slideshow_at': 'selected',\n",
       " 'scroll': 'false'}"
      ]
     },
     "execution_count": 3,
     "metadata": {},
     "output_type": "execute_result"
    }
   ],
   "source": [
    "from traitlets.config.manager import BaseJSONConfigManager\n",
    "from pathlib import Path\n",
    "path = Path.home() / \".jupyter\" / \"nbconfig\"\n",
    "cm = BaseJSONConfigManager(config_dir=str(path))\n",
    "cm.update(\n",
    "    \"rise\",\n",
    "    {\n",
    "        \"theme\": \"sky\",\n",
    "        \"transition\": \"zoom\",\n",
    "        \"start_slideshow_at\": \"selected\",\n",
    "        'scroll':'false'\n",
    "     }\n",
    ")"
   ]
  },
  {
   "cell_type": "markdown",
   "id": "ceff20e6",
   "metadata": {
    "ExecuteTime": {
     "end_time": "2023-01-28T11:30:00.672579Z",
     "start_time": "2023-01-28T11:30:00.292579Z"
    },
    "slideshow": {
     "slide_type": "slide"
    }
   },
   "source": [
    "![](slides/tiny_ml_cover.svg)"
   ]
  },
  {
   "cell_type": "markdown",
   "id": "fd4b9b3b",
   "metadata": {
    "slideshow": {
     "slide_type": "slide"
    }
   },
   "source": [
    "![](slides/ml_morphology.svg)"
   ]
  },
  {
   "cell_type": "markdown",
   "id": "25943d74",
   "metadata": {
    "slideshow": {
     "slide_type": "slide"
    }
   },
   "source": [
    "![](slides/mlops_graph.svg)"
   ]
  },
  {
   "cell_type": "markdown",
   "id": "8df11f7e",
   "metadata": {
    "slideshow": {
     "slide_type": "slide"
    }
   },
   "source": [
    "![](slides/edge_devices.svg)"
   ]
  },
  {
   "cell_type": "markdown",
   "id": "1b1d7fb4",
   "metadata": {
    "slideshow": {
     "slide_type": "slide"
    }
   },
   "source": [
    "<!DOCTYPE html>\n",
    "<html>\n",
    "<table style=\"height:1000px;width:100%\">\n",
    " <tr>\n",
    "    <td> <img src=\"./slides/spark_micro_mod_pico_1.jpg\" alt=\"Drawing\" style=\"height: 525px;width:800px;\" align=\"right\"/> </td>\n",
    "    <td> <img src=\"./slides/micro_mod_pico_2.jpg\" alt=\"Drawing\" style=\"height: 850px; width:900px\" align=\"left\"/> </td>\n",
    "    </tr>\n",
    "</table>"
   ]
  },
  {
   "cell_type": "code",
   "execution_count": 4,
   "id": "da54139b",
   "metadata": {
    "ExecuteTime": {
     "end_time": "2023-01-28T11:27:48.771672Z",
     "start_time": "2023-01-28T11:27:46.173182Z"
    },
    "scrolled": false,
    "slideshow": {
     "slide_type": "slide"
    }
   },
   "outputs": [
    {
     "name": "stderr",
     "output_type": "stream",
     "text": [
      "\u001b[34m\u001b[1mwandb\u001b[0m: Currently logged in as: \u001b[33mfrds\u001b[0m (\u001b[33mtiny-ml\u001b[0m). Use \u001b[1m`wandb login --relogin`\u001b[0m to force relogin\n"
     ]
    },
    {
     "data": {
      "application/vnd.jupyter.widget-view+json": {
       "model_id": "f1170d9759e6431d8f89f9aa222c18c5",
       "version_major": 2,
       "version_minor": 0
      },
      "text/plain": [
       "VBox(children=(Label(value='Waiting for wandb.init()...\\r'), FloatProgress(value=0.016736651383325807, max=1.0…"
      ]
     },
     "metadata": {},
     "output_type": "display_data"
    },
    {
     "data": {
      "text/html": [
       "Tracking run with wandb version 0.13.9"
      ],
      "text/plain": [
       "<IPython.core.display.HTML object>"
      ]
     },
     "metadata": {},
     "output_type": "display_data"
    },
    {
     "data": {
      "text/html": [
       "Run data is saved locally in <code>/Users/fridadesigley/pico/tiny-ml/wandb/run-20230129_201107-w0790zli</code>"
      ],
      "text/plain": [
       "<IPython.core.display.HTML object>"
      ]
     },
     "metadata": {},
     "output_type": "display_data"
    },
    {
     "data": {
      "text/html": [
       "Syncing run <strong><a href=\"https://wandb.ai/tiny-ml/wake_word_detection/runs/w0790zli\" target=\"_blank\">vivid-paper-170</a></strong> to <a href=\"https://wandb.ai/tiny-ml/wake_word_detection\" target=\"_blank\">Weights & Biases</a> (<a href=\"https://wandb.me/run\" target=\"_blank\">docs</a>)<br/>"
      ],
      "text/plain": [
       "<IPython.core.display.HTML object>"
      ]
     },
     "metadata": {},
     "output_type": "display_data"
    },
    {
     "data": {
      "text/html": [
       " View project at <a href=\"https://wandb.ai/tiny-ml/wake_word_detection\" target=\"_blank\">https://wandb.ai/tiny-ml/wake_word_detection</a>"
      ],
      "text/plain": [
       "<IPython.core.display.HTML object>"
      ]
     },
     "metadata": {},
     "output_type": "display_data"
    },
    {
     "data": {
      "text/html": [
       " View run at <a href=\"https://wandb.ai/tiny-ml/wake_word_detection/runs/w0790zli\" target=\"_blank\">https://wandb.ai/tiny-ml/wake_word_detection/runs/w0790zli</a>"
      ],
      "text/plain": [
       "<IPython.core.display.HTML object>"
      ]
     },
     "metadata": {},
     "output_type": "display_data"
    }
   ],
   "source": [
    "tqdm_args = dict(leave=True,position=0)\n",
    "tqdm_colours = (f'#{r:02x}{g:02x}{b:02x}'for r,g,b in [(int(255*s), 3, int(255*s)) for s in np.linspace(1,0,100)])\n",
    "run = wandb.init(entity='tiny-ml',project = 'wake_word_detection', group='Data')"
   ]
  },
  {
   "cell_type": "code",
   "execution_count": 5,
   "id": "39dc1a45",
   "metadata": {
    "scrolled": true,
    "slideshow": {
     "slide_type": "subslide"
    }
   },
   "outputs": [
    {
     "name": "stdout",
     "output_type": "stream",
     "text": [
      "recording\n"
     ]
    }
   ],
   "source": [
    "recorder = PvRecorder(device_index=0, frame_length=512)\n",
    "sound = []\n",
    "recorder.start()\n",
    "print('recording')\n",
    "t_0 = time.time()\n",
    "while time.time()-t_0<4:\n",
    "    frame = recorder.read()\n",
    "    sound.extend(frame)\n",
    "recorder.stop()"
   ]
  },
  {
   "cell_type": "code",
   "execution_count": 6,
   "id": "f171c251",
   "metadata": {
    "scrolled": false,
    "slideshow": {
     "slide_type": "subslide"
    }
   },
   "outputs": [],
   "source": [
    "data = np.array(sound).astype(np.int16)\n",
    "t_step = np.arange(0, len(data))\n",
    "fig = px.line(x=t_step, y=data, title='a sound wave')\n",
    "run.log({'sound_wave': fig})"
   ]
  },
  {
   "cell_type": "markdown",
   "id": "7eb0a0f7",
   "metadata": {
    "slideshow": {
     "slide_type": "slide"
    }
   },
   "source": [
    "### Showing a Run in Notebook"
   ]
  },
  {
   "cell_type": "code",
   "execution_count": 7,
   "id": "f0cdd1dc",
   "metadata": {
    "scrolled": false,
    "slideshow": {
     "slide_type": "fragment"
    }
   },
   "outputs": [
    {
     "data": {
      "text/html": [
       "<button onClick=\"this.nextSibling.style.display='block';this.style.display='none';\">Display W&B run</button><iframe src=\"https://wandb.ai/tiny-ml/wake_word_detection/runs/w0790zli?jupyter=true\" style=\"border:none;width:100%;height:420px;display:none;\"></iframe>"
      ],
      "text/plain": [
       "<wandb.sdk.wandb_run.Run at 0x2b41bd360>"
      ]
     },
     "execution_count": 7,
     "metadata": {},
     "output_type": "execute_result"
    }
   ],
   "source": [
    "run"
   ]
  },
  {
   "cell_type": "code",
   "execution_count": 8,
   "id": "0b7237b4",
   "metadata": {
    "slideshow": {
     "slide_type": "subslide"
    }
   },
   "outputs": [
    {
     "data": {
      "text/html": [
       "<button onClick=\"this.nextSibling.style.display='block';this.style.display='none';\">Display W&B run</button><iframe src=\"https://wandb.ai/tiny-ml/wake_word_detection/runs/w0790zli?jupyter=true\" style=\"border:none;width:100%;height:420px;display:none;\"></iframe>"
      ],
      "text/plain": [
       "<wandb.sdk.wandb_run.Run at 0x2b41bd360>"
      ]
     },
     "execution_count": 8,
     "metadata": {},
     "output_type": "execute_result"
    }
   ],
   "source": [
    "path = './data/yes/yes_record 102.wav'\n",
    "run.log({'test_sound':wandb.Audio(path)})\n",
    "run"
   ]
  },
  {
   "cell_type": "markdown",
   "id": "ba972c38",
   "metadata": {
    "slideshow": {
     "slide_type": "slide"
    }
   },
   "source": [
    "# The basis of our signal processing is using Fast Fourier Transform (FFT)\n",
    "> - [here](https://www.youtube.com/watch?v=spUNpyF58BY) is an amazing video on how FFT works. \n",
    "> - quickly go through getting from FFT to a Spectrogram. \n",
    ">  ![](./slides/200px-Fourier_in_his_coat_of_prefect.jpg)"
   ]
  },
  {
   "cell_type": "code",
   "execution_count": 9,
   "id": "6e0272c9",
   "metadata": {
    "scrolled": true,
    "slideshow": {
     "slide_type": "fragment"
    }
   },
   "outputs": [
    {
     "name": "stderr",
     "output_type": "stream",
     "text": [
      "/var/folders/q8/9dhs6y4d21s87vxtnwqflq5m0000gn/T/ipykernel_40417/660930182.py:1: ComplexWarning:\n",
      "\n",
      "Casting complex values to real discards the imaginary part\n",
      "\n",
      "Exception in thread SystemMonitor:\n",
      "Traceback (most recent call last):\n",
      "  File \"/Users/fridadesigley/.pyenv/versions/3.10.6/lib/python3.10/threading.py\", line 1016, in _bootstrap_inner\n",
      "    self.run()\n",
      "  File \"/Users/fridadesigley/.pyenv/versions/3.10.6/lib/python3.10/threading.py\", line 953, in run\n",
      "    self._target(*self._args, **self._kwargs)\n",
      "  File \"/Users/fridadesigley/.pyenv/versions/3.10.6/envs/tiny-ml/lib/python3.10/site-packages/wandb/sdk/internal/system/system_monitor.py\", line 118, in _start\n",
      "    asset.start()\n",
      "  File \"/Users/fridadesigley/.pyenv/versions/3.10.6/envs/tiny-ml/lib/python3.10/site-packages/wandb/sdk/internal/system/assets/cpu.py\", line 166, in start\n",
      "    self.metrics_monitor.start()\n",
      "  File \"/Users/fridadesigley/.pyenv/versions/3.10.6/envs/tiny-ml/lib/python3.10/site-packages/wandb/sdk/internal/system/assets/interfaces.py\", line 168, in start\n",
      "    logger.info(f\"Started {self._process.name}\")\n",
      "AttributeError: 'NoneType' object has no attribute 'name'\n"
     ]
    }
   ],
   "source": [
    "fft = np.fft.fft(data).astype(np.int16)\n",
    "t_steps = np.arange(0,len(fft))\n",
    "fft = np.stack([fft,t_step]).T\n",
    "df = pd.DataFrame(fft, columns = ['Faurrier_Value','Time_Step'])\n",
    "fig = px.line(df,x='Time_Step', y='Faurrier_Value', title='Fourrier Transform')\n",
    "run.log({'Fouriere Transform':fig})"
   ]
  },
  {
   "cell_type": "code",
   "execution_count": 10,
   "id": "e47afaf7",
   "metadata": {
    "scrolled": true,
    "slideshow": {
     "slide_type": "subslide"
    }
   },
   "outputs": [
    {
     "data": {
      "text/html": [
       "<button onClick=\"this.nextSibling.style.display='block';this.style.display='none';\">Display W&B run</button><iframe src=\"https://wandb.ai/tiny-ml/wake_word_detection/runs/w0790zli?jupyter=true\" style=\"border:none;width:100%;height:420px;display:none;\"></iframe>"
      ],
      "text/plain": [
       "<wandb.sdk.wandb_run.Run at 0x2b41bd360>"
      ]
     },
     "execution_count": 10,
     "metadata": {},
     "output_type": "execute_result"
    }
   ],
   "source": [
    "run"
   ]
  },
  {
   "cell_type": "markdown",
   "id": "1f788ee0",
   "metadata": {
    "slideshow": {
     "slide_type": "slide"
    }
   },
   "source": [
    "## FFT can also be inverted, we can get sound back"
   ]
  },
  {
   "cell_type": "code",
   "execution_count": 11,
   "id": "43d25b76",
   "metadata": {
    "scrolled": true,
    "slideshow": {
     "slide_type": "subslide"
    }
   },
   "outputs": [
    {
     "name": "stderr",
     "output_type": "stream",
     "text": [
      "/var/folders/q8/9dhs6y4d21s87vxtnwqflq5m0000gn/T/ipykernel_40417/1994990191.py:3: ComplexWarning:\n",
      "\n",
      "Casting complex values to real discards the imaginary part\n",
      "\n"
     ]
    }
   ],
   "source": [
    "fft = np.fft.fft(data)\n",
    "roll = np.roll(fft,200)\n",
    "ifft = np.fft.ifft(roll).astype(np.int16)\n",
    "t_step = np.arange(len(ifft))\n",
    "ifft = np.stack([ifft,t_step]).T\n",
    "df = pd.DataFrame(ifft, columns = ['Frequecy_Value','Time_Step'])\n",
    "fig = px.line(df,x='Time_Step', \n",
    "              y='Frequecy_Value', \n",
    "              title='Inverse Fourrier Transform to Get sound Back')\n",
    "run.log({'Inverset Fouriere':fig})"
   ]
  },
  {
   "cell_type": "code",
   "execution_count": 12,
   "id": "f9df0e8e",
   "metadata": {
    "scrolled": true,
    "slideshow": {
     "slide_type": "subslide"
    }
   },
   "outputs": [
    {
     "data": {
      "text/html": [
       "<button onClick=\"this.nextSibling.style.display='block';this.style.display='none';\">Display W&B run</button><iframe src=\"https://wandb.ai/tiny-ml/wake_word_detection/runs/w0790zli?jupyter=true\" style=\"border:none;width:100%;height:420px;display:none;\"></iframe>"
      ],
      "text/plain": [
       "<wandb.sdk.wandb_run.Run at 0x2b41bd360>"
      ]
     },
     "execution_count": 12,
     "metadata": {},
     "output_type": "execute_result"
    }
   ],
   "source": [
    "run"
   ]
  },
  {
   "cell_type": "markdown",
   "id": "f2507bf7",
   "metadata": {},
   "source": [
    "## Down Sample using FFT as an example of Signal Processing"
   ]
  },
  {
   "cell_type": "code",
   "execution_count": 13,
   "id": "eab43216",
   "metadata": {
    "scrolled": true,
    "slideshow": {
     "slide_type": "fragment"
    }
   },
   "outputs": [
    {
     "name": "stderr",
     "output_type": "stream",
     "text": [
      "/var/folders/q8/9dhs6y4d21s87vxtnwqflq5m0000gn/T/ipykernel_40417/3482508054.py:4: ComplexWarning:\n",
      "\n",
      "Casting complex values to real discards the imaginary part\n",
      "\n"
     ]
    }
   ],
   "source": [
    "# and examper of downsampling using FFT\n",
    "roll = np.roll(fft,15)\n",
    "ifft_ten = np.fft.ifft(roll)\n",
    "ifft_ten = ((2**(16-4)) * ifft_ten/ifft_ten.max()).astype(np.int16)\n",
    "ifft_ten = np.stack([ifft_ten,t_step]).T\n",
    "df = pd.DataFrame(ifft_ten, columns = ['Frequecy_Value','Time_Step'])\n",
    "fig = px.line(df,x='Time_Step', y='Frequecy_Value', title='Dowsampling using Fast Fourrier Transform (FFT)')\n",
    "run.log({'Down_Sampled_Sound':fig})"
   ]
  },
  {
   "cell_type": "code",
   "execution_count": 14,
   "id": "dc2fa951",
   "metadata": {
    "slideshow": {
     "slide_type": "subslide"
    }
   },
   "outputs": [
    {
     "data": {
      "text/html": [
       "<button onClick=\"this.nextSibling.style.display='block';this.style.display='none';\">Display W&B run</button><iframe src=\"https://wandb.ai/tiny-ml/wake_word_detection/runs/w0790zli?jupyter=true\" style=\"border:none;width:100%;height:420px;display:none;\"></iframe>"
      ],
      "text/plain": [
       "<wandb.sdk.wandb_run.Run at 0x2b41bd360>"
      ]
     },
     "execution_count": 14,
     "metadata": {},
     "output_type": "execute_result"
    }
   ],
   "source": [
    "run"
   ]
  },
  {
   "cell_type": "code",
   "execution_count": 15,
   "id": "340af87a",
   "metadata": {
    "scrolled": true,
    "slideshow": {
     "slide_type": "fragment"
    }
   },
   "outputs": [
    {
     "data": {
      "text/html": [
       "Waiting for W&B process to finish... <strong style=\"color:green\">(success).</strong>"
      ],
      "text/plain": [
       "<IPython.core.display.HTML object>"
      ]
     },
     "metadata": {},
     "output_type": "display_data"
    },
    {
     "data": {
      "text/html": [
       " View run <strong style=\"color:#cdcd00\">vivid-paper-170</strong> at: <a href=\"https://wandb.ai/tiny-ml/wake_word_detection/runs/w0790zli\" target=\"_blank\">https://wandb.ai/tiny-ml/wake_word_detection/runs/w0790zli</a><br/>Synced 6 W&B file(s), 5 media file(s), 2 artifact file(s) and 1 other file(s)"
      ],
      "text/plain": [
       "<IPython.core.display.HTML object>"
      ]
     },
     "metadata": {},
     "output_type": "display_data"
    },
    {
     "data": {
      "text/html": [
       "Find logs at: <code>./wandb/run-20230129_201107-w0790zli/logs</code>"
      ],
      "text/plain": [
       "<IPython.core.display.HTML object>"
      ]
     },
     "metadata": {},
     "output_type": "display_data"
    },
    {
     "data": {
      "application/vnd.jupyter.widget-view+json": {
       "model_id": "64a95b3c3127493aae61702742650226",
       "version_major": 2,
       "version_minor": 0
      },
      "text/plain": [
       "VBox(children=(Label(value='Waiting for wandb.init()...\\r'), FloatProgress(value=0.01675289374992038, max=1.0)…"
      ]
     },
     "metadata": {},
     "output_type": "display_data"
    },
    {
     "data": {
      "text/html": [
       "Tracking run with wandb version 0.13.9"
      ],
      "text/plain": [
       "<IPython.core.display.HTML object>"
      ]
     },
     "metadata": {},
     "output_type": "display_data"
    },
    {
     "data": {
      "text/html": [
       "Run data is saved locally in <code>/Users/fridadesigley/pico/tiny-ml/wandb/run-20230129_201126-w0790zli</code>"
      ],
      "text/plain": [
       "<IPython.core.display.HTML object>"
      ]
     },
     "metadata": {},
     "output_type": "display_data"
    },
    {
     "data": {
      "text/html": [
       "Resuming run <strong><a href=\"https://wandb.ai/tiny-ml/wake_word_detection/runs/w0790zli\" target=\"_blank\">vivid-paper-170</a></strong> to <a href=\"https://wandb.ai/tiny-ml/wake_word_detection\" target=\"_blank\">Weights & Biases</a> (<a href=\"https://wandb.me/run\" target=\"_blank\">docs</a>)<br/>"
      ],
      "text/plain": [
       "<IPython.core.display.HTML object>"
      ]
     },
     "metadata": {},
     "output_type": "display_data"
    },
    {
     "data": {
      "text/html": [
       " View project at <a href=\"https://wandb.ai/tiny-ml/wake_word_detection\" target=\"_blank\">https://wandb.ai/tiny-ml/wake_word_detection</a>"
      ],
      "text/plain": [
       "<IPython.core.display.HTML object>"
      ]
     },
     "metadata": {},
     "output_type": "display_data"
    },
    {
     "data": {
      "text/html": [
       " View run at <a href=\"https://wandb.ai/tiny-ml/wake_word_detection/runs/w0790zli\" target=\"_blank\">https://wandb.ai/tiny-ml/wake_word_detection/runs/w0790zli</a>"
      ],
      "text/plain": [
       "<IPython.core.display.HTML object>"
      ]
     },
     "metadata": {},
     "output_type": "display_data"
    }
   ],
   "source": [
    "run.finish()\n",
    "run = wandb.init(id=run.id,entity='tiny-ml',project = 'wake_word_detection', group='Data',\n",
    "                resume='must')"
   ]
  },
  {
   "cell_type": "markdown",
   "id": "3a04b458",
   "metadata": {
    "slideshow": {
     "slide_type": "slide"
    }
   },
   "source": [
    "### ARM spectrogram using FFT 🦾\n"
   ]
  },
  {
   "cell_type": "code",
   "execution_count": 16,
   "id": "4c9877e8",
   "metadata": {},
   "outputs": [
    {
     "data": {
      "text/plain": [
       "array([[0.5     , 0.3125  , 0.125   , ..., 0.      , 0.      , 0.      ],\n",
       "       [0.671875, 0.375   , 0.0625  , ..., 0.015625, 0.      , 0.      ],\n",
       "       [0.78125 , 0.390625, 0.03125 , ..., 0.      , 0.      , 0.      ],\n",
       "       ...,\n",
       "       [1.109375, 0.53125 , 0.125   , ..., 0.015625, 0.      , 0.      ],\n",
       "       [0.96875 , 0.375   , 0.03125 , ..., 0.015625, 0.      , 0.      ],\n",
       "       [0.921875, 0.34375 , 0.0625  , ..., 0.      , 0.      , 0.      ]],\n",
       "      dtype=float32)"
      ]
     },
     "execution_count": 16,
     "metadata": {},
     "output_type": "execute_result"
    }
   ],
   "source": [
    "category = 'yes'\n",
    "idx = 10\n",
    "sound = read_wav(f'./data/{category}/{category}_record {idx}.wav')\n",
    "sound = sound.astype(np.float32, order='F') / 32768.0\n",
    "get_arm_spectrogram = Arm_spect().get_arm_spectrogram\n",
    "get_arm_spectrogram(sound)"
   ]
  },
  {
   "cell_type": "markdown",
   "id": "79663ee8",
   "metadata": {
    "slideshow": {
     "slide_type": "slide"
    }
   },
   "source": [
    "### Showing output of custom function optimized for arm processor"
   ]
  },
  {
   "cell_type": "code",
   "execution_count": 17,
   "id": "953d6351",
   "metadata": {
    "scrolled": true,
    "slideshow": {
     "slide_type": "fragment"
    }
   },
   "outputs": [
    {
     "name": "stdout",
     "output_type": "stream",
     "text": [
      "[   0    0    0 ... -591 -643 -631]\n"
     ]
    },
    {
     "name": "stderr",
     "output_type": "stream",
     "text": [
      "/var/folders/q8/9dhs6y4d21s87vxtnwqflq5m0000gn/T/ipykernel_40417/3992365391.py:8: ComplexWarning:\n",
      "\n",
      "Casting complex values to real discards the imaginary part\n",
      "\n"
     ]
    }
   ],
   "source": [
    "category = 'yes'\n",
    "sound = read_wav(f'./data/{category}/yes_record 119.wav')\n",
    "print(sound)\n",
    "sound = sound.astype(np.float32, order='F') / 32768.0\n",
    "# what we are using \n",
    "arm_spct = get_arm_spectrogram(sound)\n",
    "# what were not using \n",
    "tf_spect = tf.signal.stft(sound, frame_length=512, frame_step=128).numpy().astype(np.float32)\n",
    "fig = px.imshow(np.array(arm_spct))\n",
    "run.log({f'spectrogram_{category}':fig})"
   ]
  },
  {
   "cell_type": "code",
   "execution_count": 18,
   "id": "442d339f",
   "metadata": {
    "scrolled": true,
    "slideshow": {
     "slide_type": "fragment"
    }
   },
   "outputs": [
    {
     "data": {
      "text/html": [
       "<button onClick=\"this.nextSibling.style.display='block';this.style.display='none';\">Display W&B run</button><iframe src=\"https://wandb.ai/tiny-ml/wake_word_detection/runs/w0790zli?jupyter=true\" style=\"border:none;width:100%;height:420px;display:none;\"></iframe>"
      ],
      "text/plain": [
       "<wandb.sdk.wandb_run.Run at 0x2bab73bb0>"
      ]
     },
     "execution_count": 18,
     "metadata": {},
     "output_type": "execute_result"
    }
   ],
   "source": [
    "run "
   ]
  },
  {
   "cell_type": "markdown",
   "id": "719bd660",
   "metadata": {
    "slideshow": {
     "slide_type": "slide"
    }
   },
   "source": [
    "# Adding spectrogram plot to wandb table 🌌"
   ]
  },
  {
   "cell_type": "markdown",
   "id": "e2bb1fb1",
   "metadata": {
    "slideshow": {
     "slide_type": "slide"
    }
   },
   "source": [
    "# logging some media outside of a table to workspace\n",
    "This is for:\n",
    "- cheching what our network see in signal domain;\n",
    "- to spot patterns;\n",
    "- gain intuitions about process and raw signal data."
   ]
  },
  {
   "cell_type": "code",
   "execution_count": 19,
   "id": "9cb23d2f",
   "metadata": {
    "scrolled": true,
    "slideshow": {
     "slide_type": "fragment"
    }
   },
   "outputs": [
    {
     "name": "stderr",
     "output_type": "stream",
     "text": [
      "100%|\u001b[38;2;255;3;255m█████████████████████████████████████████████\u001b[0m| 9/9 [00:02<00:00,  3.02it/s]\u001b[0m\n"
     ]
    }
   ],
   "source": [
    "sample_rate = 16000\n",
    "category = 'yes'\n",
    "n_samples = 10\n",
    "for idx in tqdm(range(1,n_samples), colour=next(tqdm_colours)):\n",
    "    sound = read_wav(f'./data/{category}/{category}_record {idx}.wav')\n",
    "    sound = sound.astype(np.float32, order='F') / 32768.0\n",
    "    arm_spect = get_arm_spectrogram(sound)\n",
    "    img = plot_spectrogram(arm_spect,sample_rate=sample_rate)\n",
    "    img = wandb.Image(img)\n",
    "    run.log({f'spectrogram_image{category}':img})"
   ]
  },
  {
   "cell_type": "code",
   "execution_count": 20,
   "id": "7e78af2b",
   "metadata": {
    "scrolled": false,
    "slideshow": {
     "slide_type": "subslide"
    }
   },
   "outputs": [
    {
     "data": {
      "text/html": [
       "<button onClick=\"this.nextSibling.style.display='block';this.style.display='none';\">Display W&B run</button><iframe src=\"https://wandb.ai/tiny-ml/wake_word_detection/runs/w0790zli?jupyter=true\" style=\"border:none;width:100%;height:420px;display:none;\"></iframe>"
      ],
      "text/plain": [
       "<wandb.sdk.wandb_run.Run at 0x2bab73bb0>"
      ]
     },
     "execution_count": 20,
     "metadata": {},
     "output_type": "execute_result"
    }
   ],
   "source": [
    "run"
   ]
  },
  {
   "cell_type": "code",
   "execution_count": 21,
   "id": "e330931e",
   "metadata": {
    "scrolled": true,
    "slideshow": {
     "slide_type": "subslide"
    }
   },
   "outputs": [],
   "source": [
    "#  !mkdir datasets\n",
    "#  !wget 'https://github.com/karoldvl/ESC-50/archive/master.zip' -P ~/pico/audio-classifier/datasets\n",
    "#  !unzip -q ~/datasets/master.zip -d ./datasets/"
   ]
  },
  {
   "cell_type": "markdown",
   "id": "6ff62315",
   "metadata": {
    "slideshow": {
     "slide_type": "slide"
    }
   },
   "source": [
    "# This Part covers pre training our model on ESC 50 dataset"
   ]
  },
  {
   "cell_type": "markdown",
   "id": "ed107e5e",
   "metadata": {
    "slideshow": {
     "slide_type": "fragment"
    }
   },
   "source": [
    "### Reading our pre-traning data to pandas"
   ]
  },
  {
   "cell_type": "code",
   "execution_count": 25,
   "id": "4af1b618",
   "metadata": {
    "scrolled": true,
    "slideshow": {
     "slide_type": "fragment"
    }
   },
   "outputs": [
    {
     "data": {
      "text/html": [
       "Finishing last run (ID:8bp23jpe) before initializing another..."
      ],
      "text/plain": [
       "<IPython.core.display.HTML object>"
      ]
     },
     "metadata": {},
     "output_type": "display_data"
    },
    {
     "data": {
      "text/html": [
       "Waiting for W&B process to finish... <strong style=\"color:green\">(success).</strong>"
      ],
      "text/plain": [
       "<IPython.core.display.HTML object>"
      ]
     },
     "metadata": {},
     "output_type": "display_data"
    },
    {
     "data": {
      "text/html": [
       " View run <strong style=\"color:#cdcd00\">flashing-peony-161</strong> at: <a href=\"https://wandb.ai/tiny-ml/wake_word_detection/runs/8bp23jpe\" target=\"_blank\">https://wandb.ai/tiny-ml/wake_word_detection/runs/8bp23jpe</a><br/>Synced 3 W&B file(s), 10 media file(s), 3 artifact file(s) and 1 other file(s)"
      ],
      "text/plain": [
       "<IPython.core.display.HTML object>"
      ]
     },
     "metadata": {},
     "output_type": "display_data"
    },
    {
     "data": {
      "text/html": [
       "Find logs at: <code>./wandb/run-20230129_183343-8bp23jpe/logs</code>"
      ],
      "text/plain": [
       "<IPython.core.display.HTML object>"
      ]
     },
     "metadata": {},
     "output_type": "display_data"
    },
    {
     "data": {
      "text/html": [
       "Successfully finished last run (ID:8bp23jpe). Initializing new run:<br/>"
      ],
      "text/plain": [
       "<IPython.core.display.HTML object>"
      ]
     },
     "metadata": {},
     "output_type": "display_data"
    },
    {
     "data": {
      "application/vnd.jupyter.widget-view+json": {
       "model_id": "d837d13369e1466db0e39e8618e7ff6c",
       "version_major": 2,
       "version_minor": 0
      },
      "text/plain": [
       "VBox(children=(Label(value='Waiting for wandb.init()...\\r'), FloatProgress(value=0.016752218749995034, max=1.0…"
      ]
     },
     "metadata": {},
     "output_type": "display_data"
    },
    {
     "data": {
      "text/html": [
       "Tracking run with wandb version 0.13.9"
      ],
      "text/plain": [
       "<IPython.core.display.HTML object>"
      ]
     },
     "metadata": {},
     "output_type": "display_data"
    },
    {
     "data": {
      "text/html": [
       "Run data is saved locally in <code>/Users/fridadesigley/pico/tiny-ml/wandb/run-20230129_183350-8bp23jpe</code>"
      ],
      "text/plain": [
       "<IPython.core.display.HTML object>"
      ]
     },
     "metadata": {},
     "output_type": "display_data"
    },
    {
     "data": {
      "text/html": [
       "Resuming run <strong><a href=\"https://wandb.ai/tiny-ml/wake_word_detection/runs/8bp23jpe\" target=\"_blank\">flashing-peony-161</a></strong> to <a href=\"https://wandb.ai/tiny-ml/wake_word_detection\" target=\"_blank\">Weights & Biases</a> (<a href=\"https://wandb.me/run\" target=\"_blank\">docs</a>)<br/>"
      ],
      "text/plain": [
       "<IPython.core.display.HTML object>"
      ]
     },
     "metadata": {},
     "output_type": "display_data"
    },
    {
     "data": {
      "text/html": [
       " View project at <a href=\"https://wandb.ai/tiny-ml/wake_word_detection\" target=\"_blank\">https://wandb.ai/tiny-ml/wake_word_detection</a>"
      ],
      "text/plain": [
       "<IPython.core.display.HTML object>"
      ]
     },
     "metadata": {},
     "output_type": "display_data"
    },
    {
     "data": {
      "text/html": [
       " View run at <a href=\"https://wandb.ai/tiny-ml/wake_word_detection/runs/8bp23jpe\" target=\"_blank\">https://wandb.ai/tiny-ml/wake_word_detection/runs/8bp23jpe</a>"
      ],
      "text/plain": [
       "<IPython.core.display.HTML object>"
      ]
     },
     "metadata": {},
     "output_type": "display_data"
    }
   ],
   "source": [
    "run = wandb.init(id=run.id,\n",
    "                 entity='tiny-ml',\n",
    "                 project = 'wake_word_detection', \n",
    "                 group='Data',\n",
    "                 resume='must')\n",
    "esc50_csv = './datasets/ESC-50-master/meta/esc50.csv'\n",
    "df = pd.read_csv(esc50_csv)\n",
    "initial_data_table = wandb.Table(data=df, columns=list(df.columns))\n",
    "run.log({'initial_table':initial_data_table})"
   ]
  },
  {
   "cell_type": "markdown",
   "id": "a09381de",
   "metadata": {
    "slideshow": {
     "slide_type": "slide"
    }
   },
   "source": [
    "# building a wandb Artifact for the generic dataset for pre training"
   ]
  },
  {
   "cell_type": "code",
   "execution_count": 26,
   "id": "0108d099",
   "metadata": {
    "scrolled": false,
    "slideshow": {
     "slide_type": "fragment"
    }
   },
   "outputs": [
    {
     "name": "stderr",
     "output_type": "stream",
     "text": [
      "\u001b[34m\u001b[1mwandb\u001b[0m: Adding directory to artifact (./datasets)... Done. 1.9s\n"
     ]
    },
    {
     "data": {
      "text/plain": [
       "<wandb.sdk.wandb_artifacts.Artifact at 0x296f902b0>"
      ]
     },
     "execution_count": 26,
     "metadata": {},
     "output_type": "execute_result"
    }
   ],
   "source": [
    "from pathlib import Path\n",
    "\n",
    "artifact = wandb.Artifact(type='sound_data',\n",
    "                          name='ESC-50-master')\n",
    "artifact.add_dir('./datasets/')\n",
    "run.log_artifact(artifact)"
   ]
  },
  {
   "cell_type": "markdown",
   "id": "fc78f8b4",
   "metadata": {
    "slideshow": {
     "slide_type": "slide"
    }
   },
   "source": [
    "### Here we are training on 1 second sound clips and our ESC 50 Dataset is 4 seconds per class"
   ]
  },
  {
   "cell_type": "code",
   "execution_count": 27,
   "id": "01f9018f",
   "metadata": {
    "scrolled": true,
    "slideshow": {
     "slide_type": "fragment"
    }
   },
   "outputs": [],
   "source": []
  },
  {
   "cell_type": "markdown",
   "id": "f85a58fe",
   "metadata": {
    "slideshow": {
     "slide_type": "slide"
    }
   },
   "source": [
    "### testing our function "
   ]
  },
  {
   "cell_type": "code",
   "execution_count": 28,
   "id": "bc2b25bb",
   "metadata": {
    "scrolled": true,
    "slideshow": {
     "slide_type": "fragment"
    }
   },
   "outputs": [],
   "source": [
    "test_file = 'datasets/ESC-50-master/audio/1-100032-A-0.wav'\n",
    "data = segment(fid=test_file,chunk=1)"
   ]
  },
  {
   "cell_type": "markdown",
   "id": "ed34bed9",
   "metadata": {
    "slideshow": {
     "slide_type": "slide"
    }
   },
   "source": [
    "### reading 1 second clips writing to a new files"
   ]
  },
  {
   "cell_type": "code",
   "execution_count": 69,
   "id": "7ea9518a",
   "metadata": {
    "scrolled": true,
    "slideshow": {
     "slide_type": "fragment"
    }
   },
   "outputs": [
    {
     "name": "stderr",
     "output_type": "stream",
     "text": [
      "12000it [00:11, 1021.44it/s]\n"
     ]
    }
   ],
   "source": [
    "in_paranet = Path('./datasets/ESC-50-master/audio/')\n",
    "out_data_dir = Path('ESC-50')\n",
    "out_data_dir.mkdir(exist_ok=True)\n",
    "all_out = [ ]\n",
    "for idx, row in tqdm(df.iterrows()):\n",
    "    out_dir = out_data_dir/row.category\n",
    "    out_dir.mkdir(exist_ok=True)\n",
    "    data, vals = segment(fid = str(in_paranet/row.filename),\n",
    "       chunk=1)\n",
    "    chans, samp_width , rate = vals\n",
    "    out_fids = [ ]\n",
    "    for idx,sound in enumerate(data):\n",
    "        out_fid = out_dir/f'{idx}_{row.filename}'\n",
    "        out_fids.append(out_fid)\n",
    "        with wave.open(str(out_fid), 'w') as outfile:\n",
    "            outfile.setnchannels(chans)\n",
    "            outfile.setsampwidth(samp_width)\n",
    "            outfile.setframerate(rate)\n",
    "            outfile.setnframes(int(len(sound) /  samp_width))\n",
    "            outfile.writeframes(sound)\n",
    "    all_out.append(out_fids)\n"
   ]
  },
  {
   "cell_type": "markdown",
   "id": "a8b34806",
   "metadata": {
    "slideshow": {
     "slide_type": "slide"
    }
   },
   "source": [
    "# Building an Artifact of 1 second sound clips broken down into class/category name\n",
    "This:\n",
    "> - creates a type which is here a parent directory\n",
    "> - names an artfact for each class\n",
    "> - creates a list of artfacts which are then itterated through to add a dirctory"
   ]
  },
  {
   "cell_type": "markdown",
   "id": "ee8aaf6c",
   "metadata": {
    "slideshow": {
     "slide_type": "fragment"
    }
   },
   "source": [
    "#### Our artifacts are going to follow this pattern"
   ]
  },
  {
   "cell_type": "code",
   "execution_count": 70,
   "id": "826071d1",
   "metadata": {
    "slideshow": {
     "slide_type": "fragment"
    }
   },
   "outputs": [],
   "source": []
  },
  {
   "cell_type": "code",
   "execution_count": 71,
   "id": "4080ab6d",
   "metadata": {
    "scrolled": true,
    "slideshow": {
     "slide_type": "fragment"
    }
   },
   "outputs": [
    {
     "data": {
      "text/html": [
       "Finishing last run (ID:hjezaefl) before initializing another..."
      ],
      "text/plain": [
       "<IPython.core.display.HTML object>"
      ]
     },
     "metadata": {},
     "output_type": "display_data"
    },
    {
     "data": {
      "text/html": [
       "Waiting for W&B process to finish... <strong style=\"color:green\">(success).</strong>"
      ],
      "text/plain": [
       "<IPython.core.display.HTML object>"
      ]
     },
     "metadata": {},
     "output_type": "display_data"
    },
    {
     "data": {
      "text/html": [
       " View run <strong style=\"color:#cdcd00\">lucky-rocket-160</strong> at: <a href=\"https://wandb.ai/tiny-ml/wake_word_detection/runs/hjezaefl\" target=\"_blank\">https://wandb.ai/tiny-ml/wake_word_detection/runs/hjezaefl</a><br/>Synced 3 W&B file(s), 1 media file(s), 3 artifact file(s) and 1 other file(s)"
      ],
      "text/plain": [
       "<IPython.core.display.HTML object>"
      ]
     },
     "metadata": {},
     "output_type": "display_data"
    },
    {
     "data": {
      "text/html": [
       "Find logs at: <code>./wandb/run-20230129_181539-hjezaefl/logs</code>"
      ],
      "text/plain": [
       "<IPython.core.display.HTML object>"
      ]
     },
     "metadata": {},
     "output_type": "display_data"
    },
    {
     "data": {
      "text/html": [
       "Successfully finished last run (ID:hjezaefl). Initializing new run:<br/>"
      ],
      "text/plain": [
       "<IPython.core.display.HTML object>"
      ]
     },
     "metadata": {},
     "output_type": "display_data"
    },
    {
     "data": {
      "application/vnd.jupyter.widget-view+json": {
       "model_id": "7785a38b2138482b8363863e2c1e5580",
       "version_major": 2,
       "version_minor": 0
      },
      "text/plain": [
       "VBox(children=(Label(value='Waiting for wandb.init()...\\r'), FloatProgress(value=0.016676593749980383, max=1.0…"
      ]
     },
     "metadata": {},
     "output_type": "display_data"
    },
    {
     "data": {
      "text/html": [
       "Tracking run with wandb version 0.13.9"
      ],
      "text/plain": [
       "<IPython.core.display.HTML object>"
      ]
     },
     "metadata": {},
     "output_type": "display_data"
    },
    {
     "data": {
      "text/html": [
       "Run data is saved locally in <code>/Users/fridadesigley/pico/tiny-ml/wandb/run-20230129_181654-hjezaefl</code>"
      ],
      "text/plain": [
       "<IPython.core.display.HTML object>"
      ]
     },
     "metadata": {},
     "output_type": "display_data"
    },
    {
     "data": {
      "text/html": [
       "Resuming run <strong><a href=\"https://wandb.ai/tiny-ml/wake_word_detection/runs/hjezaefl\" target=\"_blank\">lucky-rocket-160</a></strong> to <a href=\"https://wandb.ai/tiny-ml/wake_word_detection\" target=\"_blank\">Weights & Biases</a> (<a href=\"https://wandb.me/run\" target=\"_blank\">docs</a>)<br/>"
      ],
      "text/plain": [
       "<IPython.core.display.HTML object>"
      ]
     },
     "metadata": {},
     "output_type": "display_data"
    },
    {
     "data": {
      "text/html": [
       " View project at <a href=\"https://wandb.ai/tiny-ml/wake_word_detection\" target=\"_blank\">https://wandb.ai/tiny-ml/wake_word_detection</a>"
      ],
      "text/plain": [
       "<IPython.core.display.HTML object>"
      ]
     },
     "metadata": {},
     "output_type": "display_data"
    },
    {
     "data": {
      "text/html": [
       " View run at <a href=\"https://wandb.ai/tiny-ml/wake_word_detection/runs/hjezaefl\" target=\"_blank\">https://wandb.ai/tiny-ml/wake_word_detection/runs/hjezaefl</a>"
      ],
      "text/plain": [
       "<IPython.core.display.HTML object>"
      ]
     },
     "metadata": {},
     "output_type": "display_data"
    },
    {
     "name": "stderr",
     "output_type": "stream",
     "text": [
      "  0%|\u001b[38;2;247;3;247m                                                    \u001b[0m| 0/15 [00:00<?, ?it/s]\u001b[0m\u001b[34m\u001b[1mwandb\u001b[0m: Adding directory to artifact (./ESC-50/meta_data)... Done. 0.0s\n",
      "  7%|\u001b[38;2;247;3;247m██▉                                         \u001b[0m| 1/15 [00:00<00:02,  4.72it/s]\u001b[0m\u001b[34m\u001b[1mwandb\u001b[0m: Adding directory to artifact (./ESC-50/rooster)... Done. 0.1s\n",
      " 13%|\u001b[38;2;247;3;247m█████▊                                      \u001b[0m| 2/15 [00:00<00:03,  4.06it/s]\u001b[0m\u001b[34m\u001b[1mwandb\u001b[0m: Adding directory to artifact (./ESC-50/washing_machine)... Done. 0.1s\n",
      " 20%|\u001b[38;2;247;3;247m████████▊                                   \u001b[0m| 3/15 [00:00<00:03,  3.82it/s]\u001b[0m\u001b[34m\u001b[1mwandb\u001b[0m: Adding directory to artifact (./ESC-50/crickets)... Done. 0.1s\n",
      " 27%|\u001b[38;2;247;3;247m███████████▋                                \u001b[0m| 4/15 [00:01<00:03,  3.56it/s]\u001b[0m\u001b[34m\u001b[1mwandb\u001b[0m: Adding directory to artifact (./ESC-50/frog)... Done. 0.1s\n",
      " 33%|\u001b[38;2;247;3;247m██████████████▋                             \u001b[0m| 5/15 [00:01<00:02,  3.51it/s]\u001b[0m\u001b[34m\u001b[1mwandb\u001b[0m: Adding directory to artifact (./ESC-50/coughing)... Done. 0.1s\n",
      " 40%|\u001b[38;2;247;3;247m█████████████████▌                          \u001b[0m| 6/15 [00:01<00:02,  3.42it/s]\u001b[0m\u001b[34m\u001b[1mwandb\u001b[0m: Adding directory to artifact (./ESC-50/hand_saw)... Done. 0.3s\n",
      " 47%|\u001b[38;2;247;3;247m████████████████████▌                       \u001b[0m| 7/15 [00:02<00:02,  2.72it/s]\u001b[0m\u001b[34m\u001b[1mwandb\u001b[0m: Adding directory to artifact (./ESC-50/door_wood_creaks)... Done. 0.1s\n",
      " 53%|\u001b[38;2;247;3;247m███████████████████████▍                    \u001b[0m| 8/15 [00:02<00:02,  2.95it/s]\u001b[0m\u001b[34m\u001b[1mwandb\u001b[0m: Adding directory to artifact (./ESC-50/clock_alarm)... Done. 0.1s\n",
      " 60%|\u001b[38;2;247;3;247m██████████████████████████▍                 \u001b[0m| 9/15 [00:02<00:02,  2.94it/s]\u001b[0m\u001b[34m\u001b[1mwandb\u001b[0m: Adding directory to artifact (./ESC-50/drinking_sipping)... Done. 0.1s\n",
      " 67%|\u001b[38;2;247;3;247m████████████████████████████▋              \u001b[0m| 10/15 [00:03<00:01,  3.14it/s]\u001b[0m\u001b[34m\u001b[1mwandb\u001b[0m: Adding directory to artifact (./ESC-50/door_wood_knock)... Done. 0.1s\n",
      " 73%|\u001b[38;2;247;3;247m███████████████████████████████▌           \u001b[0m| 11/15 [00:03<00:01,  3.29it/s]\u001b[0m\u001b[34m\u001b[1mwandb\u001b[0m: Adding directory to artifact (./ESC-50/brushing_teeth)... Done. 0.1s\n",
      " 80%|\u001b[38;2;247;3;247m██████████████████████████████████▍        \u001b[0m| 12/15 [00:03<00:00,  3.37it/s]\u001b[0m\u001b[34m\u001b[1mwandb\u001b[0m: Adding directory to artifact (./ESC-50/engine)... Done. 0.1s\n",
      " 87%|\u001b[38;2;247;3;247m█████████████████████████████████████▎     \u001b[0m| 13/15 [00:03<00:00,  3.45it/s]\u001b[0m\u001b[34m\u001b[1mwandb\u001b[0m: Adding directory to artifact (./ESC-50/thunderstorm)... Done. 0.1s\n",
      " 93%|\u001b[38;2;247;3;247m████████████████████████████████████████▏  \u001b[0m| 14/15 [00:04<00:00,  3.38it/s]\u001b[0m\u001b[34m\u001b[1mwandb\u001b[0m: Adding directory to artifact (./ESC-50/cow)... Done. 0.1s\n",
      "100%|\u001b[38;2;247;3;247m███████████████████████████████████████████\u001b[0m| 15/15 [00:04<00:00,  3.28it/s]\u001b[0m\n"
     ]
    },
    {
     "data": {
      "text/html": [
       "Waiting for W&B process to finish... <strong style=\"color:green\">(success).</strong>"
      ],
      "text/plain": [
       "<IPython.core.display.HTML object>"
      ]
     },
     "metadata": {},
     "output_type": "display_data"
    },
    {
     "name": "stderr",
     "output_type": "stream",
     "text": [
      "wandb: Network error (TransientError), entering retry loop.\n",
      "wandb: Network error (TransientError), entering retry loop.\n",
      "wandb: Network error (TransientError), entering retry loop.\n"
     ]
    },
    {
     "data": {
      "text/html": [
       " View run <strong style=\"color:#cdcd00\">lucky-rocket-160</strong> at: <a href=\"https://wandb.ai/tiny-ml/wake_word_detection/runs/hjezaefl\" target=\"_blank\">https://wandb.ai/tiny-ml/wake_word_detection/runs/hjezaefl</a><br/>Synced 3 W&B file(s), 0 media file(s), 2641 artifact file(s) and 0 other file(s)"
      ],
      "text/plain": [
       "<IPython.core.display.HTML object>"
      ]
     },
     "metadata": {},
     "output_type": "display_data"
    },
    {
     "data": {
      "text/html": [
       "Find logs at: <code>./wandb/run-20230129_181654-hjezaefl/logs</code>"
      ],
      "text/plain": [
       "<IPython.core.display.HTML object>"
      ]
     },
     "metadata": {},
     "output_type": "display_data"
    }
   ],
   "source": [
    "import shutil\n",
    "run = wandb.init(id=run.id,entity='tiny-ml',project = 'wake_word_detection', group='Data',\n",
    "                resume='must')\n",
    "\n",
    "esc50_csv = Path('./datasets/ESC-50-master/meta/esc50.csv')\n",
    "path = Path('ESC-50/')\n",
    "meta_data = path/'meta_data'\n",
    "meta_data.mkdir(exist_ok=True)\n",
    "shutil.copyfile(esc50_csv,meta_data/esc50_csv.name)\n",
    "esc_artifacts = [pth for pth in path.iterdir()]\n",
    "for path in tqdm(esc_artifacts[-15:],**tqdm_args,colour=next(tqdm_colours)):\n",
    "    log_wandb_artifact(run=run,path=path)\n",
    "    \n",
    "run.finish()\n"
   ]
  },
  {
   "cell_type": "markdown",
   "id": "5948d537",
   "metadata": {
    "slideshow": {
     "slide_type": "slide"
    }
   },
   "source": [
    "### A Function to visualize our spectrogram: "
   ]
  },
  {
   "cell_type": "code",
   "execution_count": 75,
   "id": "399978df",
   "metadata": {
    "scrolled": true,
    "slideshow": {
     "slide_type": "fragment"
    }
   },
   "outputs": [],
   "source": [
    "def plot_spectrogram(spectrogram,sample_rate, vmax=None):\n",
    "    '''a func to computer spect and save as a png then read as np.array'''\n",
    "    plt.ioff()\n",
    "    transposed_spectrogram = tf.transpose(spectrogram)\n",
    "    height = transposed_spectrogram.shape[0]\n",
    "    X = np.arange(transposed_spectrogram.shape[1])\n",
    "    Y = np.arange(height * int(sample_rate / 256), step=int(sample_rate / 256))\n",
    "\n",
    "    fig, ax = plt.subplots(1,1)\n",
    "    ax.pcolormesh(X, Y, tf.transpose(spectrogram), vmax=vmax)\n",
    "    ax.set_xticks([])\n",
    "    ax.set_yticks([])\n",
    "    \n",
    "    fig.tight_layout()\n",
    "    plt.savefig('img.jpg',dpi=300)\n",
    "    plt.close()\n",
    "    return cv2.imread('img.jpg')"
   ]
  },
  {
   "cell_type": "markdown",
   "id": "d97a544c",
   "metadata": {
    "slideshow": {
     "slide_type": "slide"
    }
   },
   "source": [
    "### adding our one second sound file paths to our data frame"
   ]
  },
  {
   "cell_type": "code",
   "execution_count": 76,
   "id": "49b5e83a",
   "metadata": {
    "scrolled": true,
    "slideshow": {
     "slide_type": "subslide"
    }
   },
   "outputs": [
    {
     "data": {
      "text/html": [
       "Finishing last run (ID:hjezaefl) before initializing another..."
      ],
      "text/plain": [
       "<IPython.core.display.HTML object>"
      ]
     },
     "metadata": {},
     "output_type": "display_data"
    },
    {
     "data": {
      "text/html": [
       "Waiting for W&B process to finish... <strong style=\"color:green\">(success).</strong>"
      ],
      "text/plain": [
       "<IPython.core.display.HTML object>"
      ]
     },
     "metadata": {},
     "output_type": "display_data"
    },
    {
     "data": {
      "text/html": [
       " View run <strong style=\"color:#cdcd00\">lucky-rocket-160</strong> at: <a href=\"https://wandb.ai/tiny-ml/wake_word_detection/runs/hjezaefl\" target=\"_blank\">https://wandb.ai/tiny-ml/wake_word_detection/runs/hjezaefl</a><br/>Synced 3 W&B file(s), 0 media file(s), 4 artifact file(s) and 1 other file(s)"
      ],
      "text/plain": [
       "<IPython.core.display.HTML object>"
      ]
     },
     "metadata": {},
     "output_type": "display_data"
    },
    {
     "data": {
      "text/html": [
       "Find logs at: <code>./wandb/run-20230129_181908-hjezaefl/logs</code>"
      ],
      "text/plain": [
       "<IPython.core.display.HTML object>"
      ]
     },
     "metadata": {},
     "output_type": "display_data"
    },
    {
     "data": {
      "text/html": [
       "Successfully finished last run (ID:hjezaefl). Initializing new run:<br/>"
      ],
      "text/plain": [
       "<IPython.core.display.HTML object>"
      ]
     },
     "metadata": {},
     "output_type": "display_data"
    },
    {
     "data": {
      "application/vnd.jupyter.widget-view+json": {
       "model_id": "892d12cc218442e48794a89279fdf23b",
       "version_major": 2,
       "version_minor": 0
      },
      "text/plain": [
       "VBox(children=(Label(value='Waiting for wandb.init()...\\r'), FloatProgress(value=0.016753289583296766, max=1.0…"
      ]
     },
     "metadata": {},
     "output_type": "display_data"
    },
    {
     "data": {
      "text/html": [
       "Tracking run with wandb version 0.13.9"
      ],
      "text/plain": [
       "<IPython.core.display.HTML object>"
      ]
     },
     "metadata": {},
     "output_type": "display_data"
    },
    {
     "data": {
      "text/html": [
       "Run data is saved locally in <code>/Users/fridadesigley/pico/tiny-ml/wandb/run-20230129_181915-hjezaefl</code>"
      ],
      "text/plain": [
       "<IPython.core.display.HTML object>"
      ]
     },
     "metadata": {},
     "output_type": "display_data"
    },
    {
     "data": {
      "text/html": [
       "Resuming run <strong><a href=\"https://wandb.ai/tiny-ml/wake_word_detection/runs/hjezaefl\" target=\"_blank\">lucky-rocket-160</a></strong> to <a href=\"https://wandb.ai/tiny-ml/wake_word_detection\" target=\"_blank\">Weights & Biases</a> (<a href=\"https://wandb.me/run\" target=\"_blank\">docs</a>)<br/>"
      ],
      "text/plain": [
       "<IPython.core.display.HTML object>"
      ]
     },
     "metadata": {},
     "output_type": "display_data"
    },
    {
     "data": {
      "text/html": [
       " View project at <a href=\"https://wandb.ai/tiny-ml/wake_word_detection\" target=\"_blank\">https://wandb.ai/tiny-ml/wake_word_detection</a>"
      ],
      "text/plain": [
       "<IPython.core.display.HTML object>"
      ]
     },
     "metadata": {},
     "output_type": "display_data"
    },
    {
     "data": {
      "text/html": [
       " View run at <a href=\"https://wandb.ai/tiny-ml/wake_word_detection/runs/hjezaefl\" target=\"_blank\">https://wandb.ai/tiny-ml/wake_word_detection/runs/hjezaefl</a>"
      ],
      "text/plain": [
       "<IPython.core.display.HTML object>"
      ]
     },
     "metadata": {},
     "output_type": "display_data"
    },
    {
     "name": "stderr",
     "output_type": "stream",
     "text": [
      "\u001b[34m\u001b[1mwandb\u001b[0m: Adding directory to artifact (./ESC-50/meta_data)... Done. 0.0s\n"
     ]
    }
   ],
   "source": [
    "run = wandb.init(id=run.id,entity='tiny-ml',project = 'wake_word_detection', group='Data',\n",
    "                resume='must')\n",
    "df = pd.read_csv(esc50_csv)\n",
    "esc50_csv = meta_data/esc50_csv.name\n",
    "sec_files = np.array(all_out).astype(str)\n",
    "for files in range(sec_files.shape[-1]):\n",
    "    df[f'{files}_{files+1}_sec']=sec_files[...,files].astype(str)\n",
    "df.to_csv(esc50_csv)\n",
    "log_wandb_artifact(run=run,path=esc50_csv)"
   ]
  },
  {
   "cell_type": "code",
   "execution_count": 77,
   "id": "6406535a",
   "metadata": {},
   "outputs": [
    {
     "data": {
      "text/html": [
       "<button onClick=\"this.nextSibling.style.display='block';this.style.display='none';\">Display W&B run</button><iframe src=\"https://wandb.ai/tiny-ml/wake_word_detection/runs/hjezaefl?jupyter=true\" style=\"border:none;width:100%;height:420px;display:none;\"></iframe>"
      ],
      "text/plain": [
       "<wandb.sdk.wandb_run.Run at 0x2b470c8e0>"
      ]
     },
     "execution_count": 77,
     "metadata": {},
     "output_type": "execute_result"
    }
   ],
   "source": [
    "run"
   ]
  },
  {
   "cell_type": "code",
   "execution_count": 78,
   "id": "c02048d2",
   "metadata": {},
   "outputs": [],
   "source": [
    "meta_data_table = wandb.Table(data=df,columns=list(df.columns))\n",
    "run.log({'meta_data_without_media':meta_data_table})"
   ]
  },
  {
   "cell_type": "markdown",
   "id": "e7c4c383",
   "metadata": {
    "slideshow": {
     "slide_type": "slide"
    }
   },
   "source": [
    "\n",
    "# Data table for sound Wandb table with \n",
    "\n",
    "> 1. ouriginal sound string\n",
    "> 2. playable sound file\n",
    "> 3. 4 * 1 second clips files\n",
    "> 4  4 * 1 second clips files\n",
    "\n",
    "# Sound and Spectrogram Table\n",
    "\n"
   ]
  },
  {
   "cell_type": "markdown",
   "id": "47880190",
   "metadata": {
    "slideshow": {
     "slide_type": "slide"
    }
   },
   "source": [
    "## Adding Sound and Spectrograms to WandB Table  🔉 🪄 🐝"
   ]
  },
  {
   "cell_type": "code",
   "execution_count": 79,
   "id": "67d34470",
   "metadata": {
    "scrolled": true,
    "slideshow": {
     "slide_type": "subslide"
    }
   },
   "outputs": [
    {
     "data": {
      "text/html": [
       "Finishing last run (ID:hjezaefl) before initializing another..."
      ],
      "text/plain": [
       "<IPython.core.display.HTML object>"
      ]
     },
     "metadata": {},
     "output_type": "display_data"
    },
    {
     "data": {
      "text/html": [
       "Waiting for W&B process to finish... <strong style=\"color:green\">(success).</strong>"
      ],
      "text/plain": [
       "<IPython.core.display.HTML object>"
      ]
     },
     "metadata": {},
     "output_type": "display_data"
    },
    {
     "data": {
      "application/vnd.jupyter.widget-view+json": {
       "model_id": "b4726addbdd24adbbf54402d7c9c1f26",
       "version_major": 2,
       "version_minor": 0
      },
      "text/plain": [
       "VBox(children=(Label(value='11.248 MB of 11.248 MB uploaded (0.000 MB deduped)\\r'), FloatProgress(value=1.0, m…"
      ]
     },
     "metadata": {},
     "output_type": "display_data"
    },
    {
     "data": {
      "text/html": [
       " View run <strong style=\"color:#cdcd00\">lucky-rocket-160</strong> at: <a href=\"https://wandb.ai/tiny-ml/wake_word_detection/runs/hjezaefl\" target=\"_blank\">https://wandb.ai/tiny-ml/wake_word_detection/runs/hjezaefl</a><br/>Synced 3 W&B file(s), 1 media file(s), 2 artifact file(s) and 0 other file(s)"
      ],
      "text/plain": [
       "<IPython.core.display.HTML object>"
      ]
     },
     "metadata": {},
     "output_type": "display_data"
    },
    {
     "data": {
      "text/html": [
       "Find logs at: <code>./wandb/run-20230129_181915-hjezaefl/logs</code>"
      ],
      "text/plain": [
       "<IPython.core.display.HTML object>"
      ]
     },
     "metadata": {},
     "output_type": "display_data"
    },
    {
     "data": {
      "text/html": [
       "Successfully finished last run (ID:hjezaefl). Initializing new run:<br/>"
      ],
      "text/plain": [
       "<IPython.core.display.HTML object>"
      ]
     },
     "metadata": {},
     "output_type": "display_data"
    },
    {
     "data": {
      "application/vnd.jupyter.widget-view+json": {
       "model_id": "9b83d1fdd8a446aa96162dcf84125a61",
       "version_major": 2,
       "version_minor": 0
      },
      "text/plain": [
       "VBox(children=(Label(value='Waiting for wandb.init()...\\r'), FloatProgress(value=0.01675317151669636, max=1.0)…"
      ]
     },
     "metadata": {},
     "output_type": "display_data"
    },
    {
     "data": {
      "text/html": [
       "Tracking run with wandb version 0.13.9"
      ],
      "text/plain": [
       "<IPython.core.display.HTML object>"
      ]
     },
     "metadata": {},
     "output_type": "display_data"
    },
    {
     "data": {
      "text/html": [
       "Run data is saved locally in <code>/Users/fridadesigley/pico/tiny-ml/wandb/run-20230129_181944-hjezaefl</code>"
      ],
      "text/plain": [
       "<IPython.core.display.HTML object>"
      ]
     },
     "metadata": {},
     "output_type": "display_data"
    },
    {
     "data": {
      "text/html": [
       "Resuming run <strong><a href=\"https://wandb.ai/tiny-ml/wake_word_detection/runs/hjezaefl\" target=\"_blank\">lucky-rocket-160</a></strong> to <a href=\"https://wandb.ai/tiny-ml/wake_word_detection\" target=\"_blank\">Weights & Biases</a> (<a href=\"https://wandb.me/run\" target=\"_blank\">docs</a>)<br/>"
      ],
      "text/plain": [
       "<IPython.core.display.HTML object>"
      ]
     },
     "metadata": {},
     "output_type": "display_data"
    },
    {
     "data": {
      "text/html": [
       " View project at <a href=\"https://wandb.ai/tiny-ml/wake_word_detection\" target=\"_blank\">https://wandb.ai/tiny-ml/wake_word_detection</a>"
      ],
      "text/plain": [
       "<IPython.core.display.HTML object>"
      ]
     },
     "metadata": {},
     "output_type": "display_data"
    },
    {
     "data": {
      "text/html": [
       " View run at <a href=\"https://wandb.ai/tiny-ml/wake_word_detection/runs/hjezaefl\" target=\"_blank\">https://wandb.ai/tiny-ml/wake_word_detection/runs/hjezaefl</a>"
      ],
      "text/plain": [
       "<IPython.core.display.HTML object>"
      ]
     },
     "metadata": {},
     "output_type": "display_data"
    },
    {
     "name": "stderr",
     "output_type": "stream",
     "text": [
      "4_5_sec: 100%|████████████████████████████████| 10/10 [00:00<00:00, 3856.48it/s]\n",
      "5_6_sec: 100%|████████████████████████████████| 10/10 [00:00<00:00, 3980.93it/s]\n"
     ]
    }
   ],
   "source": [
    "run = wandb.init(id=run.id,entity='tiny-ml',project = 'wake_word_detection', group='Data',\n",
    "                resume='must')\n",
    "n_examples = 2\n",
    "n_samples = 10\n",
    "s_df = df.sample(n=n_samples, random_state=2)\n",
    "columns = list(df.columns)\n",
    "table_with_media = wandb.Table(data=s_df,columns=columns)\n",
    "for colmn in df.columns[-n_examples:]:\n",
    "    # create wandb sound objects\n",
    "    sounds = [wandb.Audio(fid) for fid in tqdm(s_df[colmn].values,**tqdm_args,desc=colmn)]\n",
    "    # add these as a column to our wandb table\n",
    "    table_with_media.add_column(name=f'sound_{colmn}',data=sounds)"
   ]
  },
  {
   "cell_type": "markdown",
   "id": "36010449",
   "metadata": {},
   "source": [
    "### Adding Spectrograms to wandb Table"
   ]
  },
  {
   "cell_type": "code",
   "execution_count": 80,
   "id": "d4bd84c4",
   "metadata": {
    "scrolled": true,
    "slideshow": {
     "slide_type": "slide"
    }
   },
   "outputs": [
    {
     "name": "stderr",
     "output_type": "stream",
     "text": [
      "4_5_sec: 100%|██████████████████████████████████| 10/10 [00:01<00:00,  5.53it/s]\n",
      "100%|███████████████████████████████████████████| 10/10 [00:07<00:00,  1.30it/s]\n",
      "5_6_sec: 100%|██████████████████████████████████| 10/10 [00:01<00:00,  6.80it/s]\n",
      "100%|███████████████████████████████████████████| 10/10 [00:07<00:00,  1.31it/s]\n"
     ]
    }
   ],
   "source": [
    "for col in df.columns[-n_examples:]:\n",
    "    # read wavs \n",
    "    wavs = map(read_wav,tqdm(s_df[col].values,**tqdm_args,desc=col))\n",
    "    # generate spectrograms\n",
    "    spects = map(get_arm_spectrogram,wavs)\n",
    "    sample_rates = iter(np.full((1,len(df)),1600)[0])\n",
    "    # get numpy arrays of save .jpg files\n",
    "    ims = list(map(plot_spectrogram,spects,sample_rates))\n",
    "    # create a list of wandb images\n",
    "    spects = list(map(wandb.Image,tqdm(ims)))\n",
    "    # add these to a table \n",
    "    table_with_media.add_column(name=f'image_{col}',data=spects)\n",
    "run.log({'sound_spectrogram_table':table_with_media})"
   ]
  },
  {
   "cell_type": "markdown",
   "id": "2521245b",
   "metadata": {
    "slideshow": {
     "slide_type": "slide"
    }
   },
   "source": [
    "## Stack our pandas df by 1 second Files 🧱"
   ]
  },
  {
   "cell_type": "code",
   "execution_count": 81,
   "id": "12952f33",
   "metadata": {
    "scrolled": false,
    "slideshow": {
     "slide_type": "fragment"
    }
   },
   "outputs": [
    {
     "name": "stderr",
     "output_type": "stream",
     "text": [
      "\u001b[34m\u001b[1mwandb\u001b[0m: Adding directory to artifact (./ESC-50/meta_data)... Done. 0.0s\n"
     ]
    }
   ],
   "source": [
    "rp_df = pd.DataFrame(np.repeat(df.values, 6, axis=0))\n",
    "rp_df.columns=df.columns\n",
    "a,b,c,d,e,f = np.array([df[col].values for col in df.columns[-6:]])\n",
    "all_files =np.vstack((a,b,c,d,e,f)).reshape((-1,),order='F')\n",
    "rp_df = rp_df[df.columns[:-6]]\n",
    "rp_df['all_files']=all_files\n",
    "df = rp_df\n",
    "df.to_csv(esc50_csv)\n",
    "log_wandb_artifact(run,esc50_csv)"
   ]
  },
  {
   "cell_type": "markdown",
   "id": "d0c82182",
   "metadata": {
    "slideshow": {
     "slide_type": "slide"
    }
   },
   "source": [
    "### Define Test,Train, Val using pandas & add sets column to our dataset"
   ]
  },
  {
   "cell_type": "code",
   "execution_count": 82,
   "id": "9e14e26c",
   "metadata": {
    "slideshow": {
     "slide_type": "fragment"
    }
   },
   "outputs": [
    {
     "name": "stderr",
     "output_type": "stream",
     "text": [
      "\u001b[34m\u001b[1mwandb\u001b[0m: Adding directory to artifact (./ESC-50/meta_data)... Done. 0.0s\n"
     ]
    }
   ],
   "source": [
    "sets = { }\n",
    "train_val = df.sample(frac=0.9,random_state=42)\n",
    "sets['test']=df.drop(train_val.index)\n",
    "sets['train']=train_val.sample(frac=0.9,random_state=42)\n",
    "sets['val']=train_val.drop(sets['train'].index)\n",
    "for name,subset in sets.items():\n",
    "        subset = subset.reset_index(drop=True)\n",
    "        subset['set']=[name for va in range(len(subset))]\n",
    "        sets[name]=subset\n",
    "df.groupby(\"target\", group_keys=False).apply(lambda x: x)\n",
    "df = pd.concat(sets.values()).reset_index(drop=True)\n",
    "df.to_csv(esc50_csv)\n",
    "log_wandb_artifact(run,esc50_csv)"
   ]
  },
  {
   "cell_type": "code",
   "execution_count": 91,
   "id": "8cb5024d",
   "metadata": {},
   "outputs": [
    {
     "data": {
      "text/html": [
       "<div>\n",
       "<style scoped>\n",
       "    .dataframe tbody tr th:only-of-type {\n",
       "        vertical-align: middle;\n",
       "    }\n",
       "\n",
       "    .dataframe tbody tr th {\n",
       "        vertical-align: top;\n",
       "    }\n",
       "\n",
       "    .dataframe thead th {\n",
       "        text-align: right;\n",
       "    }\n",
       "</style>\n",
       "<table border=\"1\" class=\"dataframe\">\n",
       "  <thead>\n",
       "    <tr style=\"text-align: right;\">\n",
       "      <th></th>\n",
       "      <th>Unnamed: 0.1</th>\n",
       "      <th>Unnamed: 0</th>\n",
       "      <th>filename</th>\n",
       "      <th>fold</th>\n",
       "      <th>target</th>\n",
       "      <th>category</th>\n",
       "      <th>esc10</th>\n",
       "      <th>src_file</th>\n",
       "      <th>take</th>\n",
       "      <th>all_files</th>\n",
       "      <th>set</th>\n",
       "      <th>is_sound</th>\n",
       "    </tr>\n",
       "  </thead>\n",
       "  <tbody>\n",
       "    <tr>\n",
       "      <th>0</th>\n",
       "      <td>3</td>\n",
       "      <td>3</td>\n",
       "      <td>1-103995-A-30.wav</td>\n",
       "      <td>1</td>\n",
       "      <td>30</td>\n",
       "      <td>door_wood_knock</td>\n",
       "      <td>False</td>\n",
       "      <td>103995</td>\n",
       "      <td>A</td>\n",
       "      <td>ESC-50/door_wood_knock/3_1-103995-A-30.wav</td>\n",
       "      <td>test</td>\n",
       "      <td>True</td>\n",
       "    </tr>\n",
       "    <tr>\n",
       "      <th>1</th>\n",
       "      <td>4</td>\n",
       "      <td>4</td>\n",
       "      <td>1-103999-A-30.wav</td>\n",
       "      <td>1</td>\n",
       "      <td>30</td>\n",
       "      <td>door_wood_knock</td>\n",
       "      <td>False</td>\n",
       "      <td>103999</td>\n",
       "      <td>A</td>\n",
       "      <td>ESC-50/door_wood_knock/4_1-103999-A-30.wav</td>\n",
       "      <td>test</td>\n",
       "      <td>True</td>\n",
       "    </tr>\n",
       "    <tr>\n",
       "      <th>2</th>\n",
       "      <td>9</td>\n",
       "      <td>9</td>\n",
       "      <td>1-115546-A-48.wav</td>\n",
       "      <td>1</td>\n",
       "      <td>48</td>\n",
       "      <td>fireworks</td>\n",
       "      <td>False</td>\n",
       "      <td>115546</td>\n",
       "      <td>A</td>\n",
       "      <td>ESC-50/fireworks/1_1-115546-A-48.wav</td>\n",
       "      <td>test</td>\n",
       "      <td>True</td>\n",
       "    </tr>\n",
       "    <tr>\n",
       "      <th>3</th>\n",
       "      <td>10</td>\n",
       "      <td>10</td>\n",
       "      <td>1-115920-A-22.wav</td>\n",
       "      <td>1</td>\n",
       "      <td>22</td>\n",
       "      <td>clapping</td>\n",
       "      <td>False</td>\n",
       "      <td>115920</td>\n",
       "      <td>A</td>\n",
       "      <td>ESC-50/clapping/0_1-115920-A-22.wav</td>\n",
       "      <td>test</td>\n",
       "      <td>True</td>\n",
       "    </tr>\n",
       "    <tr>\n",
       "      <th>4</th>\n",
       "      <td>11</td>\n",
       "      <td>11</td>\n",
       "      <td>1-115920-B-22.wav</td>\n",
       "      <td>1</td>\n",
       "      <td>22</td>\n",
       "      <td>clapping</td>\n",
       "      <td>False</td>\n",
       "      <td>115920</td>\n",
       "      <td>B</td>\n",
       "      <td>ESC-50/clapping/0_1-115920-B-22.wav</td>\n",
       "      <td>test</td>\n",
       "      <td>True</td>\n",
       "    </tr>\n",
       "    <tr>\n",
       "      <th>...</th>\n",
       "      <td>...</td>\n",
       "      <td>...</td>\n",
       "      <td>...</td>\n",
       "      <td>...</td>\n",
       "      <td>...</td>\n",
       "      <td>...</td>\n",
       "      <td>...</td>\n",
       "      <td>...</td>\n",
       "      <td>...</td>\n",
       "      <td>...</td>\n",
       "      <td>...</td>\n",
       "      <td>...</td>\n",
       "    </tr>\n",
       "    <tr>\n",
       "      <th>71995</th>\n",
       "      <td>7488</td>\n",
       "      <td>7488</td>\n",
       "      <td>4-204115-A-39.wav</td>\n",
       "      <td>4</td>\n",
       "      <td>39</td>\n",
       "      <td>glass_breaking</td>\n",
       "      <td>False</td>\n",
       "      <td>204115</td>\n",
       "      <td>A</td>\n",
       "      <td>ESC-50/glass_breaking/4_4-204115-A-39.wav</td>\n",
       "      <td>val</td>\n",
       "      <td>True</td>\n",
       "    </tr>\n",
       "    <tr>\n",
       "      <th>71996</th>\n",
       "      <td>9642</td>\n",
       "      <td>9642</td>\n",
       "      <td>2-118072-A-0.wav</td>\n",
       "      <td>2</td>\n",
       "      <td>0</td>\n",
       "      <td>dog</td>\n",
       "      <td>True</td>\n",
       "      <td>118072</td>\n",
       "      <td>A</td>\n",
       "      <td>ESC-50/dog/5_2-118072-A-0.wav</td>\n",
       "      <td>val</td>\n",
       "      <td>True</td>\n",
       "    </tr>\n",
       "    <tr>\n",
       "      <th>71997</th>\n",
       "      <td>6280</td>\n",
       "      <td>6280</td>\n",
       "      <td>4-189836-A-22.wav</td>\n",
       "      <td>4</td>\n",
       "      <td>22</td>\n",
       "      <td>clapping</td>\n",
       "      <td>False</td>\n",
       "      <td>189836</td>\n",
       "      <td>A</td>\n",
       "      <td>ESC-50/clapping/4_4-189836-A-22.wav</td>\n",
       "      <td>val</td>\n",
       "      <td>True</td>\n",
       "    </tr>\n",
       "    <tr>\n",
       "      <th>71998</th>\n",
       "      <td>1177</td>\n",
       "      <td>1177</td>\n",
       "      <td>5-252248-A-34.wav</td>\n",
       "      <td>5</td>\n",
       "      <td>34</td>\n",
       "      <td>can_opening</td>\n",
       "      <td>False</td>\n",
       "      <td>252248</td>\n",
       "      <td>A</td>\n",
       "      <td>ESC-50/can_opening/3_5-252248-A-34.wav</td>\n",
       "      <td>val</td>\n",
       "      <td>False</td>\n",
       "    </tr>\n",
       "    <tr>\n",
       "      <th>71999</th>\n",
       "      <td>4541</td>\n",
       "      <td>4541</td>\n",
       "      <td>4-188191-A-29.wav</td>\n",
       "      <td>4</td>\n",
       "      <td>29</td>\n",
       "      <td>drinking_sipping</td>\n",
       "      <td>False</td>\n",
       "      <td>188191</td>\n",
       "      <td>A</td>\n",
       "      <td>ESC-50/drinking_sipping/4_4-188191-A-29.wav</td>\n",
       "      <td>val</td>\n",
       "      <td>True</td>\n",
       "    </tr>\n",
       "  </tbody>\n",
       "</table>\n",
       "<p>72000 rows × 12 columns</p>\n",
       "</div>"
      ],
      "text/plain": [
       "      Unnamed: 0.1 Unnamed: 0           filename fold target  \\\n",
       "0                3          3  1-103995-A-30.wav    1     30   \n",
       "1                4          4  1-103999-A-30.wav    1     30   \n",
       "2                9          9  1-115546-A-48.wav    1     48   \n",
       "3               10         10  1-115920-A-22.wav    1     22   \n",
       "4               11         11  1-115920-B-22.wav    1     22   \n",
       "...            ...        ...                ...  ...    ...   \n",
       "71995         7488       7488  4-204115-A-39.wav    4     39   \n",
       "71996         9642       9642   2-118072-A-0.wav    2      0   \n",
       "71997         6280       6280  4-189836-A-22.wav    4     22   \n",
       "71998         1177       1177  5-252248-A-34.wav    5     34   \n",
       "71999         4541       4541  4-188191-A-29.wav    4     29   \n",
       "\n",
       "               category  esc10 src_file take  \\\n",
       "0       door_wood_knock  False   103995    A   \n",
       "1       door_wood_knock  False   103999    A   \n",
       "2             fireworks  False   115546    A   \n",
       "3              clapping  False   115920    A   \n",
       "4              clapping  False   115920    B   \n",
       "...                 ...    ...      ...  ...   \n",
       "71995    glass_breaking  False   204115    A   \n",
       "71996               dog   True   118072    A   \n",
       "71997          clapping  False   189836    A   \n",
       "71998       can_opening  False   252248    A   \n",
       "71999  drinking_sipping  False   188191    A   \n",
       "\n",
       "                                         all_files   set  is_sound  \n",
       "0       ESC-50/door_wood_knock/3_1-103995-A-30.wav  test      True  \n",
       "1       ESC-50/door_wood_knock/4_1-103999-A-30.wav  test      True  \n",
       "2             ESC-50/fireworks/1_1-115546-A-48.wav  test      True  \n",
       "3              ESC-50/clapping/0_1-115920-A-22.wav  test      True  \n",
       "4              ESC-50/clapping/0_1-115920-B-22.wav  test      True  \n",
       "...                                            ...   ...       ...  \n",
       "71995    ESC-50/glass_breaking/4_4-204115-A-39.wav   val      True  \n",
       "71996                ESC-50/dog/5_2-118072-A-0.wav   val      True  \n",
       "71997          ESC-50/clapping/4_4-189836-A-22.wav   val      True  \n",
       "71998       ESC-50/can_opening/3_5-252248-A-34.wav   val     False  \n",
       "71999  ESC-50/drinking_sipping/4_4-188191-A-29.wav   val      True  \n",
       "\n",
       "[72000 rows x 12 columns]"
      ]
     },
     "execution_count": 91,
     "metadata": {},
     "output_type": "execute_result"
    }
   ],
   "source": [
    "df"
   ]
  },
  {
   "cell_type": "markdown",
   "id": "92dd012a",
   "metadata": {
    "slideshow": {
     "slide_type": "slide"
    }
   },
   "source": [
    "# remove silence by randomly sampling from non silent"
   ]
  },
  {
   "cell_type": "code",
   "execution_count": 83,
   "id": "f2343c49",
   "metadata": {
    "scrolled": true,
    "slideshow": {
     "slide_type": "fragment"
    }
   },
   "outputs": [
    {
     "data": {
      "text/html": [
       "Finishing last run (ID:hjezaefl) before initializing another..."
      ],
      "text/plain": [
       "<IPython.core.display.HTML object>"
      ]
     },
     "metadata": {},
     "output_type": "display_data"
    },
    {
     "data": {
      "text/html": [
       "Waiting for W&B process to finish... <strong style=\"color:green\">(success).</strong>"
      ],
      "text/plain": [
       "<IPython.core.display.HTML object>"
      ]
     },
     "metadata": {},
     "output_type": "display_data"
    },
    {
     "data": {
      "text/html": [
       " View run <strong style=\"color:#cdcd00\">lucky-rocket-160</strong> at: <a href=\"https://wandb.ai/tiny-ml/wake_word_detection/runs/hjezaefl\" target=\"_blank\">https://wandb.ai/tiny-ml/wake_word_detection/runs/hjezaefl</a><br/>Synced 3 W&B file(s), 1 media file(s), 46 artifact file(s) and 1 other file(s)"
      ],
      "text/plain": [
       "<IPython.core.display.HTML object>"
      ]
     },
     "metadata": {},
     "output_type": "display_data"
    },
    {
     "data": {
      "text/html": [
       "Find logs at: <code>./wandb/run-20230129_181944-hjezaefl/logs</code>"
      ],
      "text/plain": [
       "<IPython.core.display.HTML object>"
      ]
     },
     "metadata": {},
     "output_type": "display_data"
    },
    {
     "data": {
      "text/html": [
       "Successfully finished last run (ID:hjezaefl). Initializing new run:<br/>"
      ],
      "text/plain": [
       "<IPython.core.display.HTML object>"
      ]
     },
     "metadata": {},
     "output_type": "display_data"
    },
    {
     "data": {
      "application/vnd.jupyter.widget-view+json": {
       "model_id": "48ddea274fb449feb4a8ec50537ed0ef",
       "version_major": 2,
       "version_minor": 0
      },
      "text/plain": [
       "VBox(children=(Label(value='Waiting for wandb.init()...\\r'), FloatProgress(value=0.016671462500016786, max=1.0…"
      ]
     },
     "metadata": {},
     "output_type": "display_data"
    },
    {
     "data": {
      "text/html": [
       "Tracking run with wandb version 0.13.9"
      ],
      "text/plain": [
       "<IPython.core.display.HTML object>"
      ]
     },
     "metadata": {},
     "output_type": "display_data"
    },
    {
     "data": {
      "text/html": [
       "Run data is saved locally in <code>/Users/fridadesigley/pico/tiny-ml/wandb/run-20230129_182028-hjezaefl</code>"
      ],
      "text/plain": [
       "<IPython.core.display.HTML object>"
      ]
     },
     "metadata": {},
     "output_type": "display_data"
    },
    {
     "data": {
      "text/html": [
       "Resuming run <strong><a href=\"https://wandb.ai/tiny-ml/wake_word_detection/runs/hjezaefl\" target=\"_blank\">lucky-rocket-160</a></strong> to <a href=\"https://wandb.ai/tiny-ml/wake_word_detection\" target=\"_blank\">Weights & Biases</a> (<a href=\"https://wandb.me/run\" target=\"_blank\">docs</a>)<br/>"
      ],
      "text/plain": [
       "<IPython.core.display.HTML object>"
      ]
     },
     "metadata": {},
     "output_type": "display_data"
    },
    {
     "data": {
      "text/html": [
       " View project at <a href=\"https://wandb.ai/tiny-ml/wake_word_detection\" target=\"_blank\">https://wandb.ai/tiny-ml/wake_word_detection</a>"
      ],
      "text/plain": [
       "<IPython.core.display.HTML object>"
      ]
     },
     "metadata": {},
     "output_type": "display_data"
    },
    {
     "data": {
      "text/html": [
       " View run at <a href=\"https://wandb.ai/tiny-ml/wake_word_detection/runs/hjezaefl\" target=\"_blank\">https://wandb.ai/tiny-ml/wake_word_detection/runs/hjezaefl</a>"
      ],
      "text/plain": [
       "<IPython.core.display.HTML object>"
      ]
     },
     "metadata": {},
     "output_type": "display_data"
    },
    {
     "name": "stderr",
     "output_type": "stream",
     "text": [
      "\u001b[34m\u001b[1mwandb\u001b[0m: Adding directory to artifact (./ESC-50/meta_data)... Done. 0.0s\n"
     ]
    }
   ],
   "source": [
    "run = wandb.init(id=run.id,entity='tiny-ml',project = 'wake_word_detection', group='Data',\n",
    "                resume='must')\n",
    "is_sound = [not np.std(read_wav(x)) < 0.1 for x in df.all_files.values]\n",
    "df['is_sound']=is_sound\n",
    "df.to_csv(esc50_csv)\n",
    "log_wandb_artifact(run,esc50_csv)"
   ]
  },
  {
   "cell_type": "code",
   "execution_count": 84,
   "id": "79ff83db",
   "metadata": {},
   "outputs": [],
   "source": [
    "silence = df[df.is_sound==False]\n",
    "final_meta_table = wandb.Table(data=silence,columns=list(df.columns))\n",
    "wandb_audio = list(map(wandb.Audio,silence.all_files.values))\n",
    "final_meta_table.add_column(name='audio',data=wandb_audio)\n",
    "run.log({'silence_tabel':final_meta_table})"
   ]
  },
  {
   "cell_type": "code",
   "execution_count": 85,
   "id": "2bf86940",
   "metadata": {},
   "outputs": [
    {
     "data": {
      "text/html": [
       "<button onClick=\"this.nextSibling.style.display='block';this.style.display='none';\">Display W&B run</button><iframe src=\"https://wandb.ai/tiny-ml/wake_word_detection/runs/hjezaefl?jupyter=true\" style=\"border:none;width:100%;height:420px;display:none;\"></iframe>"
      ],
      "text/plain": [
       "<wandb.sdk.wandb_run.Run at 0x2d80f5480>"
      ]
     },
     "execution_count": 85,
     "metadata": {},
     "output_type": "execute_result"
    }
   ],
   "source": [
    "run"
   ]
  },
  {
   "cell_type": "markdown",
   "id": "4f5cc303",
   "metadata": {
    "slideshow": {
     "slide_type": "slide"
    }
   },
   "source": [
    "# Building a wandb Artifact for our pre processed data (numpy array spectrograms):"
   ]
  },
  {
   "cell_type": "code",
   "execution_count": 86,
   "id": "1be18f6e",
   "metadata": {
    "slideshow": {
     "slide_type": "fragment"
    }
   },
   "outputs": [
    {
     "data": {
      "text/html": [
       "Finishing last run (ID:hjezaefl) before initializing another..."
      ],
      "text/plain": [
       "<IPython.core.display.HTML object>"
      ]
     },
     "metadata": {},
     "output_type": "display_data"
    },
    {
     "data": {
      "text/html": [
       "Waiting for W&B process to finish... <strong style=\"color:green\">(success).</strong>"
      ],
      "text/plain": [
       "<IPython.core.display.HTML object>"
      ]
     },
     "metadata": {},
     "output_type": "display_data"
    },
    {
     "data": {
      "text/html": [
       " View run <strong style=\"color:#cdcd00\">lucky-rocket-160</strong> at: <a href=\"https://wandb.ai/tiny-ml/wake_word_detection/runs/hjezaefl\" target=\"_blank\">https://wandb.ai/tiny-ml/wake_word_detection/runs/hjezaefl</a><br/>Synced 3 W&B file(s), 1 media file(s), 629 artifact file(s) and 0 other file(s)"
      ],
      "text/plain": [
       "<IPython.core.display.HTML object>"
      ]
     },
     "metadata": {},
     "output_type": "display_data"
    },
    {
     "data": {
      "text/html": [
       "Find logs at: <code>./wandb/run-20230129_182028-hjezaefl/logs</code>"
      ],
      "text/plain": [
       "<IPython.core.display.HTML object>"
      ]
     },
     "metadata": {},
     "output_type": "display_data"
    },
    {
     "data": {
      "text/html": [
       "Successfully finished last run (ID:hjezaefl). Initializing new run:<br/>"
      ],
      "text/plain": [
       "<IPython.core.display.HTML object>"
      ]
     },
     "metadata": {},
     "output_type": "display_data"
    },
    {
     "data": {
      "application/vnd.jupyter.widget-view+json": {
       "model_id": "9aadd2a0c9ee45a495fd6826e8fab2b0",
       "version_major": 2,
       "version_minor": 0
      },
      "text/plain": [
       "VBox(children=(Label(value='Waiting for wandb.init()...\\r'), FloatProgress(value=0.01675264096666069, max=1.0)…"
      ]
     },
     "metadata": {},
     "output_type": "display_data"
    },
    {
     "data": {
      "text/html": [
       "Tracking run with wandb version 0.13.9"
      ],
      "text/plain": [
       "<IPython.core.display.HTML object>"
      ]
     },
     "metadata": {},
     "output_type": "display_data"
    },
    {
     "data": {
      "text/html": [
       "Run data is saved locally in <code>/Users/fridadesigley/pico/tiny-ml/wandb/run-20230129_182056-hjezaefl</code>"
      ],
      "text/plain": [
       "<IPython.core.display.HTML object>"
      ]
     },
     "metadata": {},
     "output_type": "display_data"
    },
    {
     "data": {
      "text/html": [
       "Resuming run <strong><a href=\"https://wandb.ai/tiny-ml/wake_word_detection/runs/hjezaefl\" target=\"_blank\">lucky-rocket-160</a></strong> to <a href=\"https://wandb.ai/tiny-ml/wake_word_detection\" target=\"_blank\">Weights & Biases</a> (<a href=\"https://wandb.me/run\" target=\"_blank\">docs</a>)<br/>"
      ],
      "text/plain": [
       "<IPython.core.display.HTML object>"
      ]
     },
     "metadata": {},
     "output_type": "display_data"
    },
    {
     "data": {
      "text/html": [
       " View project at <a href=\"https://wandb.ai/tiny-ml/wake_word_detection\" target=\"_blank\">https://wandb.ai/tiny-ml/wake_word_detection</a>"
      ],
      "text/plain": [
       "<IPython.core.display.HTML object>"
      ]
     },
     "metadata": {},
     "output_type": "display_data"
    },
    {
     "data": {
      "text/html": [
       " View run at <a href=\"https://wandb.ai/tiny-ml/wake_word_detection/runs/hjezaefl\" target=\"_blank\">https://wandb.ai/tiny-ml/wake_word_detection/runs/hjezaefl</a>"
      ],
      "text/plain": [
       "<IPython.core.display.HTML object>"
      ]
     },
     "metadata": {},
     "output_type": "display_data"
    },
    {
     "name": "stdout",
     "output_type": "stream",
     "text": [
      "file:///Users/fridadesigley/pico/tiny-ml/processed/train.npz\n",
      "file:///Users/fridadesigley/pico/tiny-ml/processed/train_data.npz\n",
      "file:///Users/fridadesigley/pico/tiny-ml/processed/test.npz\n",
      "file:///Users/fridadesigley/pico/tiny-ml/processed/val.npz\n",
      "file:///Users/fridadesigley/pico/tiny-ml/processed/train_aug.npz\n"
     ]
    },
    {
     "data": {
      "text/plain": [
       "<wandb.sdk.wandb_artifacts.Artifact at 0x2d115a800>"
      ]
     },
     "execution_count": 86,
     "metadata": {},
     "output_type": "execute_result"
    }
   ],
   "source": [
    "run = wandb.init(id=run.id,entity='tiny-ml',project = 'wake_word_detection', group='Data',\n",
    "                resume='must')\n",
    "artifact = wandb.Artifact(type='pre_processed_sound_data',name='npz-esc-50-files')\n",
    "path = Path('./processed/')\n",
    "# create references for our large pre processed npz files\n",
    "for fid_path in path.iterdir():\n",
    "    print(f'file://{fid_path.resolve()}')  \n",
    "    artifact.add_reference(f'file://{fid_path.resolve()}')\n",
    "run.log_artifact(artifact)"
   ]
  },
  {
   "cell_type": "code",
   "execution_count": 87,
   "id": "852643f5",
   "metadata": {},
   "outputs": [
    {
     "name": "stdout",
     "output_type": "stream",
     "text": [
      "alredy deleted\n",
      "alredy deleted\n",
      "alredy deleted\n",
      "alredy deleted\n",
      "alredy deleted\n",
      "alredy deleted\n",
      "alredy deleted\n",
      "alredy deleted\n",
      "alredy deleted\n",
      "alredy deleted\n",
      "alredy deleted\n",
      "alredy deleted\n",
      "alredy deleted\n",
      "alredy deleted\n",
      "alredy deleted\n",
      "alredy deleted\n",
      "alredy deleted\n",
      "alredy deleted\n",
      "alredy deleted\n",
      "alredy deleted\n",
      "alredy deleted\n",
      "alredy deleted\n",
      "alredy deleted\n",
      "alredy deleted\n",
      "alredy deleted\n",
      "alredy deleted\n",
      "alredy deleted\n",
      "alredy deleted\n",
      "alredy deleted\n",
      "alredy deleted\n",
      "alredy deleted\n",
      "alredy deleted\n",
      "alredy deleted\n",
      "alredy deleted\n",
      "alredy deleted\n",
      "alredy deleted\n",
      "alredy deleted\n",
      "alredy deleted\n",
      "alredy deleted\n",
      "alredy deleted\n",
      "alredy deleted\n",
      "alredy deleted\n",
      "alredy deleted\n",
      "alredy deleted\n",
      "alredy deleted\n",
      "alredy deleted\n",
      "alredy deleted\n",
      "alredy deleted\n",
      "alredy deleted\n",
      "alredy deleted\n",
      "alredy deleted\n",
      "alredy deleted\n",
      "alredy deleted\n",
      "alredy deleted\n",
      "alredy deleted\n",
      "alredy deleted\n",
      "alredy deleted\n",
      "alredy deleted\n",
      "alredy deleted\n",
      "alredy deleted\n",
      "alredy deleted\n",
      "alredy deleted\n",
      "alredy deleted\n",
      "alredy deleted\n",
      "alredy deleted\n",
      "alredy deleted\n",
      "alredy deleted\n",
      "alredy deleted\n",
      "alredy deleted\n",
      "alredy deleted\n",
      "alredy deleted\n",
      "alredy deleted\n",
      "alredy deleted\n",
      "alredy deleted\n",
      "alredy deleted\n",
      "alredy deleted\n",
      "alredy deleted\n",
      "alredy deleted\n",
      "alredy deleted\n",
      "alredy deleted\n",
      "alredy deleted\n",
      "alredy deleted\n",
      "alredy deleted\n",
      "alredy deleted\n",
      "alredy deleted\n",
      "alredy deleted\n",
      "alredy deleted\n",
      "alredy deleted\n",
      "alredy deleted\n",
      "alredy deleted\n",
      "alredy deleted\n",
      "alredy deleted\n",
      "alredy deleted\n",
      "alredy deleted\n",
      "alredy deleted\n",
      "alredy deleted\n",
      "alredy deleted\n",
      "alredy deleted\n",
      "alredy deleted\n",
      "alredy deleted\n",
      "alredy deleted\n",
      "alredy deleted\n",
      "alredy deleted\n",
      "alredy deleted\n",
      "alredy deleted\n",
      "alredy deleted\n",
      "alredy deleted\n",
      "alredy deleted\n",
      "alredy deleted\n",
      "alredy deleted\n",
      "alredy deleted\n",
      "alredy deleted\n",
      "alredy deleted\n",
      "alredy deleted\n",
      "alredy deleted\n",
      "alredy deleted\n",
      "alredy deleted\n",
      "alredy deleted\n",
      "alredy deleted\n",
      "alredy deleted\n",
      "alredy deleted\n",
      "alredy deleted\n",
      "alredy deleted\n",
      "alredy deleted\n",
      "alredy deleted\n",
      "alredy deleted\n",
      "alredy deleted\n",
      "alredy deleted\n",
      "alredy deleted\n",
      "alredy deleted\n",
      "alredy deleted\n",
      "alredy deleted\n",
      "alredy deleted\n",
      "alredy deleted\n",
      "alredy deleted\n",
      "alredy deleted\n",
      "alredy deleted\n",
      "alredy deleted\n",
      "alredy deleted\n",
      "alredy deleted\n",
      "alredy deleted\n",
      "alredy deleted\n",
      "alredy deleted\n",
      "alredy deleted\n",
      "alredy deleted\n",
      "alredy deleted\n",
      "alredy deleted\n",
      "alredy deleted\n",
      "alredy deleted\n",
      "alredy deleted\n",
      "alredy deleted\n",
      "alredy deleted\n",
      "alredy deleted\n",
      "alredy deleted\n",
      "alredy deleted\n",
      "alredy deleted\n",
      "alredy deleted\n",
      "alredy deleted\n",
      "alredy deleted\n",
      "alredy deleted\n",
      "alredy deleted\n",
      "alredy deleted\n",
      "alredy deleted\n",
      "alredy deleted\n",
      "alredy deleted\n",
      "alredy deleted\n",
      "alredy deleted\n",
      "alredy deleted\n",
      "alredy deleted\n",
      "alredy deleted\n",
      "alredy deleted\n",
      "alredy deleted\n",
      "alredy deleted\n",
      "alredy deleted\n",
      "alredy deleted\n",
      "alredy deleted\n",
      "alredy deleted\n",
      "alredy deleted\n",
      "alredy deleted\n",
      "alredy deleted\n",
      "alredy deleted\n",
      "alredy deleted\n",
      "alredy deleted\n",
      "alredy deleted\n",
      "alredy deleted\n",
      "alredy deleted\n",
      "alredy deleted\n",
      "alredy deleted\n",
      "alredy deleted\n",
      "alredy deleted\n",
      "alredy deleted\n",
      "alredy deleted\n",
      "alredy deleted\n",
      "alredy deleted\n",
      "alredy deleted\n",
      "alredy deleted\n",
      "alredy deleted\n",
      "alredy deleted\n",
      "alredy deleted\n",
      "alredy deleted\n",
      "alredy deleted\n",
      "alredy deleted\n",
      "alredy deleted\n",
      "alredy deleted\n",
      "alredy deleted\n",
      "alredy deleted\n",
      "alredy deleted\n",
      "alredy deleted\n",
      "alredy deleted\n",
      "alredy deleted\n",
      "alredy deleted\n",
      "alredy deleted\n",
      "alredy deleted\n",
      "alredy deleted\n",
      "alredy deleted\n",
      "alredy deleted\n",
      "alredy deleted\n",
      "alredy deleted\n",
      "alredy deleted\n",
      "alredy deleted\n",
      "alredy deleted\n",
      "alredy deleted\n",
      "alredy deleted\n",
      "alredy deleted\n",
      "alredy deleted\n",
      "alredy deleted\n",
      "alredy deleted\n",
      "alredy deleted\n",
      "alredy deleted\n",
      "alredy deleted\n",
      "alredy deleted\n",
      "alredy deleted\n",
      "alredy deleted\n",
      "alredy deleted\n",
      "alredy deleted\n",
      "alredy deleted\n",
      "alredy deleted\n",
      "alredy deleted\n",
      "alredy deleted\n",
      "alredy deleted\n",
      "alredy deleted\n",
      "alredy deleted\n",
      "alredy deleted\n",
      "alredy deleted\n",
      "alredy deleted\n",
      "alredy deleted\n",
      "alredy deleted\n",
      "alredy deleted\n",
      "alredy deleted\n",
      "alredy deleted\n",
      "alredy deleted\n",
      "alredy deleted\n",
      "alredy deleted\n",
      "alredy deleted\n",
      "alredy deleted\n",
      "alredy deleted\n",
      "alredy deleted\n",
      "alredy deleted\n",
      "alredy deleted\n",
      "alredy deleted\n",
      "alredy deleted\n",
      "alredy deleted\n",
      "alredy deleted\n",
      "alredy deleted\n",
      "alredy deleted\n",
      "alredy deleted\n",
      "alredy deleted\n",
      "alredy deleted\n",
      "alredy deleted\n",
      "alredy deleted\n",
      "alredy deleted\n",
      "alredy deleted\n",
      "alredy deleted\n",
      "alredy deleted\n",
      "alredy deleted\n",
      "alredy deleted\n",
      "alredy deleted\n",
      "alredy deleted\n",
      "alredy deleted\n",
      "alredy deleted\n",
      "alredy deleted\n",
      "alredy deleted\n",
      "alredy deleted\n",
      "alredy deleted\n",
      "alredy deleted\n",
      "alredy deleted\n",
      "alredy deleted\n",
      "alredy deleted\n",
      "alredy deleted\n",
      "alredy deleted\n",
      "alredy deleted\n",
      "alredy deleted\n",
      "alredy deleted\n",
      "alredy deleted\n",
      "alredy deleted\n",
      "alredy deleted\n",
      "alredy deleted\n",
      "alredy deleted\n",
      "alredy deleted\n",
      "alredy deleted\n",
      "alredy deleted\n",
      "alredy deleted\n",
      "alredy deleted\n",
      "alredy deleted\n",
      "alredy deleted\n",
      "alredy deleted\n",
      "alredy deleted\n",
      "alredy deleted\n",
      "alredy deleted\n",
      "alredy deleted\n",
      "alredy deleted\n",
      "alredy deleted\n",
      "alredy deleted\n",
      "alredy deleted\n",
      "alredy deleted\n",
      "alredy deleted\n",
      "alredy deleted\n",
      "alredy deleted\n",
      "alredy deleted\n",
      "alredy deleted\n",
      "alredy deleted\n",
      "alredy deleted\n",
      "alredy deleted\n",
      "alredy deleted\n",
      "alredy deleted\n",
      "alredy deleted\n",
      "alredy deleted\n",
      "alredy deleted\n",
      "alredy deleted\n",
      "alredy deleted\n",
      "alredy deleted\n",
      "alredy deleted\n",
      "alredy deleted\n",
      "alredy deleted\n",
      "alredy deleted\n",
      "alredy deleted\n",
      "alredy deleted\n",
      "alredy deleted\n",
      "alredy deleted\n",
      "alredy deleted\n",
      "alredy deleted\n",
      "alredy deleted\n",
      "alredy deleted\n",
      "alredy deleted\n",
      "alredy deleted\n",
      "alredy deleted\n",
      "alredy deleted\n",
      "alredy deleted\n",
      "alredy deleted\n",
      "alredy deleted\n",
      "alredy deleted\n",
      "alredy deleted\n",
      "alredy deleted\n",
      "alredy deleted\n",
      "alredy deleted\n",
      "alredy deleted\n",
      "alredy deleted\n",
      "alredy deleted\n",
      "alredy deleted\n",
      "alredy deleted\n",
      "alredy deleted\n",
      "alredy deleted\n",
      "alredy deleted\n",
      "alredy deleted\n",
      "alredy deleted\n",
      "alredy deleted\n",
      "alredy deleted\n",
      "alredy deleted\n",
      "alredy deleted\n",
      "alredy deleted\n",
      "alredy deleted\n",
      "alredy deleted\n",
      "alredy deleted\n",
      "alredy deleted\n",
      "alredy deleted\n",
      "alredy deleted\n",
      "alredy deleted\n",
      "alredy deleted\n",
      "alredy deleted\n",
      "alredy deleted\n",
      "alredy deleted\n",
      "alredy deleted\n",
      "alredy deleted\n",
      "alredy deleted\n",
      "alredy deleted\n",
      "alredy deleted\n",
      "alredy deleted\n",
      "alredy deleted\n",
      "alredy deleted\n",
      "alredy deleted\n",
      "alredy deleted\n",
      "alredy deleted\n",
      "alredy deleted\n",
      "alredy deleted\n",
      "alredy deleted\n",
      "alredy deleted\n",
      "alredy deleted\n",
      "alredy deleted\n",
      "alredy deleted\n",
      "alredy deleted\n",
      "alredy deleted\n",
      "alredy deleted\n",
      "alredy deleted\n",
      "alredy deleted\n",
      "alredy deleted\n",
      "alredy deleted\n",
      "alredy deleted\n",
      "alredy deleted\n",
      "alredy deleted\n",
      "alredy deleted\n",
      "alredy deleted\n",
      "alredy deleted\n",
      "alredy deleted\n",
      "alredy deleted\n",
      "alredy deleted\n",
      "alredy deleted\n",
      "alredy deleted\n",
      "alredy deleted\n",
      "alredy deleted\n",
      "alredy deleted\n",
      "alredy deleted\n",
      "alredy deleted\n",
      "alredy deleted\n",
      "alredy deleted\n",
      "alredy deleted\n",
      "alredy deleted\n",
      "alredy deleted\n",
      "alredy deleted\n",
      "alredy deleted\n",
      "alredy deleted\n",
      "alredy deleted\n",
      "alredy deleted\n",
      "alredy deleted\n",
      "alredy deleted\n",
      "alredy deleted\n",
      "alredy deleted\n",
      "alredy deleted\n",
      "alredy deleted\n",
      "alredy deleted\n",
      "alredy deleted\n",
      "alredy deleted\n",
      "alredy deleted\n",
      "alredy deleted\n",
      "alredy deleted\n",
      "alredy deleted\n",
      "alredy deleted\n",
      "alredy deleted\n",
      "alredy deleted\n",
      "alredy deleted\n",
      "alredy deleted\n",
      "alredy deleted\n",
      "alredy deleted\n",
      "alredy deleted\n",
      "alredy deleted\n",
      "alredy deleted\n",
      "alredy deleted\n",
      "alredy deleted\n",
      "alredy deleted\n",
      "alredy deleted\n",
      "alredy deleted\n",
      "alredy deleted\n",
      "alredy deleted\n",
      "alredy deleted\n",
      "alredy deleted\n",
      "alredy deleted\n",
      "alredy deleted\n",
      "alredy deleted\n",
      "alredy deleted\n",
      "alredy deleted\n",
      "alredy deleted\n",
      "alredy deleted\n",
      "alredy deleted\n",
      "alredy deleted\n",
      "alredy deleted\n",
      "alredy deleted\n",
      "alredy deleted\n",
      "alredy deleted\n",
      "alredy deleted\n",
      "alredy deleted\n",
      "alredy deleted\n",
      "alredy deleted\n",
      "alredy deleted\n",
      "alredy deleted\n",
      "alredy deleted\n",
      "alredy deleted\n",
      "alredy deleted\n",
      "alredy deleted\n",
      "alredy deleted\n",
      "alredy deleted\n",
      "alredy deleted\n",
      "alredy deleted\n",
      "alredy deleted\n",
      "alredy deleted\n",
      "alredy deleted\n",
      "alredy deleted\n",
      "alredy deleted\n",
      "alredy deleted\n",
      "alredy deleted\n",
      "alredy deleted\n",
      "alredy deleted\n",
      "alredy deleted\n",
      "alredy deleted\n",
      "alredy deleted\n",
      "alredy deleted\n",
      "alredy deleted\n",
      "alredy deleted\n",
      "alredy deleted\n",
      "alredy deleted\n",
      "alredy deleted\n",
      "alredy deleted\n",
      "alredy deleted\n",
      "alredy deleted\n",
      "alredy deleted\n",
      "alredy deleted\n",
      "alredy deleted\n",
      "alredy deleted\n",
      "alredy deleted\n",
      "alredy deleted\n",
      "alredy deleted\n",
      "alredy deleted\n",
      "alredy deleted\n",
      "alredy deleted\n",
      "alredy deleted\n",
      "alredy deleted\n",
      "alredy deleted\n",
      "alredy deleted\n",
      "alredy deleted\n",
      "alredy deleted\n",
      "alredy deleted\n",
      "alredy deleted\n",
      "alredy deleted\n",
      "alredy deleted\n",
      "alredy deleted\n",
      "alredy deleted\n",
      "alredy deleted\n",
      "alredy deleted\n",
      "alredy deleted\n",
      "alredy deleted\n",
      "alredy deleted\n",
      "alredy deleted\n",
      "alredy deleted\n",
      "alredy deleted\n",
      "alredy deleted\n",
      "alredy deleted\n",
      "alredy deleted\n",
      "alredy deleted\n",
      "alredy deleted\n",
      "alredy deleted\n",
      "alredy deleted\n",
      "alredy deleted\n",
      "alredy deleted\n",
      "alredy deleted\n",
      "alredy deleted\n",
      "alredy deleted\n",
      "alredy deleted\n",
      "alredy deleted\n",
      "alredy deleted\n",
      "alredy deleted\n",
      "alredy deleted\n",
      "alredy deleted\n",
      "alredy deleted\n",
      "alredy deleted\n",
      "alredy deleted\n",
      "alredy deleted\n",
      "alredy deleted\n",
      "alredy deleted\n",
      "alredy deleted\n",
      "alredy deleted\n",
      "alredy deleted\n",
      "alredy deleted\n",
      "alredy deleted\n",
      "alredy deleted\n",
      "alredy deleted\n",
      "alredy deleted\n",
      "alredy deleted\n",
      "alredy deleted\n",
      "alredy deleted\n",
      "alredy deleted\n",
      "alredy deleted\n",
      "alredy deleted\n",
      "alredy deleted\n",
      "alredy deleted\n",
      "alredy deleted\n",
      "alredy deleted\n",
      "alredy deleted\n",
      "alredy deleted\n",
      "alredy deleted\n",
      "alredy deleted\n",
      "alredy deleted\n",
      "alredy deleted\n",
      "alredy deleted\n",
      "alredy deleted\n",
      "alredy deleted\n",
      "alredy deleted\n",
      "alredy deleted\n",
      "alredy deleted\n",
      "alredy deleted\n",
      "alredy deleted\n",
      "alredy deleted\n",
      "alredy deleted\n",
      "alredy deleted\n",
      "alredy deleted\n",
      "alredy deleted\n",
      "alredy deleted\n",
      "alredy deleted\n",
      "alredy deleted\n",
      "alredy deleted\n",
      "alredy deleted\n",
      "alredy deleted\n",
      "alredy deleted\n",
      "alredy deleted\n",
      "alredy deleted\n",
      "alredy deleted\n",
      "alredy deleted\n",
      "alredy deleted\n",
      "alredy deleted\n",
      "alredy deleted\n",
      "alredy deleted\n",
      "alredy deleted\n",
      "alredy deleted\n",
      "alredy deleted\n",
      "alredy deleted\n",
      "alredy deleted\n",
      "alredy deleted\n",
      "alredy deleted\n",
      "alredy deleted\n",
      "alredy deleted\n",
      "alredy deleted\n",
      "alredy deleted\n",
      "alredy deleted\n",
      "alredy deleted\n",
      "alredy deleted\n",
      "alredy deleted\n",
      "alredy deleted\n",
      "alredy deleted\n",
      "alredy deleted\n",
      "alredy deleted\n",
      "alredy deleted\n",
      "alredy deleted\n",
      "alredy deleted\n",
      "alredy deleted\n",
      "alredy deleted\n",
      "alredy deleted\n",
      "alredy deleted\n",
      "alredy deleted\n",
      "alredy deleted\n",
      "alredy deleted\n",
      "alredy deleted\n",
      "alredy deleted\n",
      "alredy deleted\n",
      "alredy deleted\n",
      "alredy deleted\n",
      "alredy deleted\n",
      "alredy deleted\n",
      "alredy deleted\n",
      "alredy deleted\n",
      "alredy deleted\n",
      "alredy deleted\n",
      "alredy deleted\n",
      "alredy deleted\n",
      "alredy deleted\n",
      "alredy deleted\n",
      "alredy deleted\n",
      "alredy deleted\n",
      "alredy deleted\n",
      "alredy deleted\n",
      "alredy deleted\n",
      "alredy deleted\n",
      "alredy deleted\n",
      "alredy deleted\n",
      "alredy deleted\n",
      "alredy deleted\n",
      "alredy deleted\n",
      "alredy deleted\n",
      "alredy deleted\n",
      "alredy deleted\n",
      "alredy deleted\n",
      "alredy deleted\n",
      "alredy deleted\n",
      "alredy deleted\n",
      "alredy deleted\n",
      "alredy deleted\n",
      "alredy deleted\n",
      "alredy deleted\n",
      "alredy deleted\n",
      "alredy deleted\n",
      "alredy deleted\n",
      "alredy deleted\n",
      "alredy deleted\n",
      "alredy deleted\n",
      "alredy deleted\n",
      "alredy deleted\n",
      "alredy deleted\n",
      "alredy deleted\n",
      "alredy deleted\n",
      "alredy deleted\n",
      "alredy deleted\n",
      "alredy deleted\n",
      "alredy deleted\n",
      "alredy deleted\n",
      "alredy deleted\n",
      "alredy deleted\n",
      "alredy deleted\n",
      "alredy deleted\n",
      "alredy deleted\n",
      "alredy deleted\n",
      "alredy deleted\n",
      "alredy deleted\n",
      "alredy deleted\n",
      "alredy deleted\n",
      "alredy deleted\n",
      "alredy deleted\n",
      "alredy deleted\n",
      "alredy deleted\n",
      "alredy deleted\n",
      "alredy deleted\n",
      "alredy deleted\n",
      "alredy deleted\n",
      "alredy deleted\n",
      "alredy deleted\n",
      "alredy deleted\n",
      "alredy deleted\n",
      "alredy deleted\n",
      "alredy deleted\n",
      "alredy deleted\n",
      "alredy deleted\n",
      "alredy deleted\n",
      "alredy deleted\n",
      "alredy deleted\n",
      "alredy deleted\n",
      "alredy deleted\n",
      "alredy deleted\n",
      "alredy deleted\n",
      "alredy deleted\n",
      "alredy deleted\n",
      "alredy deleted\n",
      "alredy deleted\n",
      "alredy deleted\n",
      "alredy deleted\n",
      "alredy deleted\n",
      "alredy deleted\n",
      "alredy deleted\n",
      "alredy deleted\n",
      "alredy deleted\n",
      "alredy deleted\n",
      "alredy deleted\n",
      "alredy deleted\n",
      "alredy deleted\n",
      "alredy deleted\n",
      "alredy deleted\n",
      "alredy deleted\n",
      "alredy deleted\n",
      "alredy deleted\n",
      "alredy deleted\n",
      "alredy deleted\n",
      "alredy deleted\n",
      "alredy deleted\n",
      "alredy deleted\n",
      "alredy deleted\n",
      "alredy deleted\n",
      "alredy deleted\n",
      "alredy deleted\n",
      "alredy deleted\n",
      "alredy deleted\n",
      "alredy deleted\n",
      "alredy deleted\n",
      "alredy deleted\n",
      "alredy deleted\n",
      "alredy deleted\n",
      "alredy deleted\n",
      "alredy deleted\n",
      "alredy deleted\n",
      "alredy deleted\n",
      "alredy deleted\n",
      "alredy deleted\n",
      "alredy deleted\n",
      "alredy deleted\n",
      "alredy deleted\n",
      "alredy deleted\n",
      "alredy deleted\n",
      "alredy deleted\n",
      "alredy deleted\n",
      "alredy deleted\n",
      "alredy deleted\n",
      "alredy deleted\n",
      "alredy deleted\n",
      "alredy deleted\n",
      "alredy deleted\n",
      "alredy deleted\n",
      "alredy deleted\n",
      "alredy deleted\n",
      "alredy deleted\n",
      "alredy deleted\n",
      "alredy deleted\n",
      "alredy deleted\n",
      "alredy deleted\n",
      "alredy deleted\n",
      "alredy deleted\n",
      "alredy deleted\n",
      "alredy deleted\n",
      "alredy deleted\n",
      "alredy deleted\n",
      "alredy deleted\n",
      "alredy deleted\n",
      "alredy deleted\n",
      "alredy deleted\n",
      "alredy deleted\n",
      "alredy deleted\n",
      "alredy deleted\n",
      "alredy deleted\n",
      "alredy deleted\n",
      "alredy deleted\n",
      "alredy deleted\n",
      "alredy deleted\n",
      "alredy deleted\n",
      "alredy deleted\n",
      "alredy deleted\n",
      "alredy deleted\n",
      "alredy deleted\n",
      "alredy deleted\n",
      "alredy deleted\n",
      "alredy deleted\n",
      "alredy deleted\n",
      "alredy deleted\n",
      "alredy deleted\n",
      "alredy deleted\n",
      "alredy deleted\n",
      "alredy deleted\n",
      "alredy deleted\n",
      "alredy deleted\n",
      "alredy deleted\n",
      "alredy deleted\n",
      "alredy deleted\n",
      "alredy deleted\n",
      "alredy deleted\n",
      "alredy deleted\n",
      "alredy deleted\n",
      "alredy deleted\n",
      "alredy deleted\n",
      "alredy deleted\n",
      "alredy deleted\n",
      "alredy deleted\n",
      "alredy deleted\n",
      "alredy deleted\n",
      "alredy deleted\n",
      "alredy deleted\n",
      "alredy deleted\n",
      "alredy deleted\n",
      "alredy deleted\n",
      "alredy deleted\n",
      "alredy deleted\n",
      "alredy deleted\n",
      "alredy deleted\n",
      "alredy deleted\n",
      "alredy deleted\n",
      "alredy deleted\n",
      "alredy deleted\n",
      "alredy deleted\n",
      "alredy deleted\n",
      "alredy deleted\n",
      "alredy deleted\n",
      "alredy deleted\n",
      "alredy deleted\n",
      "alredy deleted\n",
      "alredy deleted\n",
      "alredy deleted\n",
      "alredy deleted\n",
      "alredy deleted\n",
      "alredy deleted\n",
      "alredy deleted\n",
      "alredy deleted\n",
      "alredy deleted\n",
      "alredy deleted\n",
      "alredy deleted\n",
      "alredy deleted\n",
      "alredy deleted\n",
      "alredy deleted\n",
      "alredy deleted\n",
      "alredy deleted\n",
      "alredy deleted\n",
      "alredy deleted\n",
      "alredy deleted\n",
      "alredy deleted\n",
      "alredy deleted\n",
      "alredy deleted\n",
      "alredy deleted\n",
      "alredy deleted\n",
      "alredy deleted\n",
      "alredy deleted\n",
      "alredy deleted\n",
      "alredy deleted\n",
      "alredy deleted\n",
      "alredy deleted\n",
      "alredy deleted\n",
      "alredy deleted\n",
      "alredy deleted\n",
      "alredy deleted\n",
      "alredy deleted\n",
      "alredy deleted\n",
      "alredy deleted\n",
      "alredy deleted\n",
      "alredy deleted\n",
      "alredy deleted\n",
      "alredy deleted\n",
      "alredy deleted\n",
      "alredy deleted\n",
      "alredy deleted\n",
      "alredy deleted\n",
      "alredy deleted\n",
      "alredy deleted\n",
      "alredy deleted\n",
      "alredy deleted\n",
      "alredy deleted\n",
      "alredy deleted\n",
      "alredy deleted\n",
      "alredy deleted\n",
      "alredy deleted\n",
      "alredy deleted\n",
      "alredy deleted\n",
      "alredy deleted\n",
      "alredy deleted\n",
      "alredy deleted\n",
      "alredy deleted\n",
      "alredy deleted\n",
      "alredy deleted\n",
      "alredy deleted\n",
      "alredy deleted\n",
      "alredy deleted\n",
      "alredy deleted\n",
      "alredy deleted\n",
      "alredy deleted\n",
      "alredy deleted\n",
      "alredy deleted\n",
      "alredy deleted\n",
      "alredy deleted\n",
      "alredy deleted\n",
      "alredy deleted\n",
      "alredy deleted\n",
      "alredy deleted\n",
      "alredy deleted\n",
      "alredy deleted\n",
      "alredy deleted\n",
      "alredy deleted\n",
      "alredy deleted\n",
      "alredy deleted\n",
      "alredy deleted\n",
      "alredy deleted\n",
      "alredy deleted\n",
      "alredy deleted\n",
      "alredy deleted\n",
      "alredy deleted\n",
      "alredy deleted\n",
      "alredy deleted\n",
      "alredy deleted\n",
      "alredy deleted\n",
      "alredy deleted\n",
      "alredy deleted\n",
      "alredy deleted\n",
      "alredy deleted\n",
      "alredy deleted\n",
      "alredy deleted\n",
      "alredy deleted\n",
      "alredy deleted\n",
      "alredy deleted\n",
      "alredy deleted\n",
      "alredy deleted\n",
      "alredy deleted\n",
      "alredy deleted\n",
      "alredy deleted\n",
      "alredy deleted\n",
      "alredy deleted\n",
      "alredy deleted\n",
      "alredy deleted\n",
      "alredy deleted\n",
      "alredy deleted\n",
      "alredy deleted\n",
      "alredy deleted\n",
      "alredy deleted\n",
      "alredy deleted\n",
      "alredy deleted\n",
      "alredy deleted\n",
      "alredy deleted\n",
      "alredy deleted\n",
      "alredy deleted\n",
      "alredy deleted\n",
      "alredy deleted\n",
      "alredy deleted\n",
      "alredy deleted\n",
      "alredy deleted\n",
      "alredy deleted\n",
      "alredy deleted\n",
      "alredy deleted\n",
      "alredy deleted\n",
      "alredy deleted\n",
      "alredy deleted\n",
      "alredy deleted\n",
      "alredy deleted\n",
      "alredy deleted\n",
      "alredy deleted\n",
      "alredy deleted\n",
      "alredy deleted\n",
      "alredy deleted\n",
      "alredy deleted\n",
      "alredy deleted\n",
      "alredy deleted\n",
      "alredy deleted\n",
      "alredy deleted\n",
      "alredy deleted\n",
      "alredy deleted\n",
      "alredy deleted\n",
      "alredy deleted\n",
      "alredy deleted\n",
      "alredy deleted\n",
      "alredy deleted\n",
      "alredy deleted\n",
      "alredy deleted\n",
      "alredy deleted\n",
      "alredy deleted\n",
      "alredy deleted\n",
      "alredy deleted\n",
      "alredy deleted\n",
      "alredy deleted\n",
      "alredy deleted\n",
      "alredy deleted\n",
      "alredy deleted\n",
      "alredy deleted\n",
      "alredy deleted\n",
      "alredy deleted\n",
      "alredy deleted\n",
      "alredy deleted\n",
      "alredy deleted\n",
      "alredy deleted\n",
      "alredy deleted\n",
      "alredy deleted\n",
      "alredy deleted\n",
      "alredy deleted\n",
      "alredy deleted\n",
      "alredy deleted\n",
      "alredy deleted\n",
      "alredy deleted\n",
      "alredy deleted\n",
      "alredy deleted\n",
      "alredy deleted\n",
      "alredy deleted\n",
      "alredy deleted\n",
      "alredy deleted\n",
      "alredy deleted\n",
      "alredy deleted\n",
      "alredy deleted\n",
      "alredy deleted\n",
      "alredy deleted\n",
      "alredy deleted\n",
      "alredy deleted\n",
      "alredy deleted\n",
      "alredy deleted\n",
      "alredy deleted\n",
      "alredy deleted\n",
      "alredy deleted\n",
      "alredy deleted\n",
      "alredy deleted\n",
      "alredy deleted\n",
      "alredy deleted\n",
      "alredy deleted\n",
      "alredy deleted\n",
      "alredy deleted\n",
      "alredy deleted\n",
      "alredy deleted\n",
      "alredy deleted\n",
      "alredy deleted\n",
      "alredy deleted\n",
      "alredy deleted\n",
      "alredy deleted\n",
      "alredy deleted\n",
      "alredy deleted\n",
      "alredy deleted\n",
      "alredy deleted\n",
      "alredy deleted\n",
      "alredy deleted\n",
      "alredy deleted\n",
      "alredy deleted\n",
      "alredy deleted\n",
      "alredy deleted\n",
      "alredy deleted\n"
     ]
    },
    {
     "name": "stdout",
     "output_type": "stream",
     "text": [
      "alredy deleted\n",
      "alredy deleted\n",
      "alredy deleted\n",
      "alredy deleted\n",
      "alredy deleted\n",
      "alredy deleted\n",
      "alredy deleted\n",
      "alredy deleted\n",
      "alredy deleted\n",
      "alredy deleted\n",
      "alredy deleted\n",
      "alredy deleted\n",
      "alredy deleted\n",
      "alredy deleted\n",
      "alredy deleted\n",
      "alredy deleted\n",
      "alredy deleted\n",
      "alredy deleted\n",
      "alredy deleted\n",
      "alredy deleted\n",
      "alredy deleted\n",
      "alredy deleted\n",
      "alredy deleted\n",
      "alredy deleted\n",
      "alredy deleted\n",
      "alredy deleted\n",
      "alredy deleted\n",
      "alredy deleted\n",
      "alredy deleted\n",
      "alredy deleted\n",
      "alredy deleted\n",
      "alredy deleted\n",
      "alredy deleted\n",
      "alredy deleted\n",
      "alredy deleted\n",
      "alredy deleted\n",
      "alredy deleted\n",
      "alredy deleted\n",
      "alredy deleted\n",
      "alredy deleted\n",
      "alredy deleted\n",
      "alredy deleted\n",
      "alredy deleted\n",
      "alredy deleted\n",
      "alredy deleted\n",
      "alredy deleted\n",
      "alredy deleted\n",
      "alredy deleted\n",
      "alredy deleted\n",
      "alredy deleted\n",
      "alredy deleted\n",
      "alredy deleted\n",
      "alredy deleted\n",
      "alredy deleted\n",
      "alredy deleted\n",
      "alredy deleted\n",
      "alredy deleted\n",
      "alredy deleted\n",
      "alredy deleted\n",
      "alredy deleted\n",
      "alredy deleted\n",
      "alredy deleted\n",
      "alredy deleted\n",
      "alredy deleted\n",
      "alredy deleted\n",
      "alredy deleted\n",
      "alredy deleted\n",
      "alredy deleted\n",
      "alredy deleted\n",
      "alredy deleted\n",
      "alredy deleted\n",
      "alredy deleted\n",
      "alredy deleted\n",
      "alredy deleted\n",
      "alredy deleted\n",
      "alredy deleted\n",
      "alredy deleted\n",
      "alredy deleted\n",
      "alredy deleted\n",
      "alredy deleted\n",
      "alredy deleted\n",
      "alredy deleted\n",
      "alredy deleted\n",
      "alredy deleted\n",
      "alredy deleted\n",
      "alredy deleted\n",
      "alredy deleted\n",
      "alredy deleted\n",
      "alredy deleted\n",
      "alredy deleted\n",
      "alredy deleted\n",
      "alredy deleted\n",
      "alredy deleted\n",
      "alredy deleted\n",
      "alredy deleted\n",
      "alredy deleted\n",
      "alredy deleted\n",
      "alredy deleted\n",
      "alredy deleted\n",
      "alredy deleted\n",
      "alredy deleted\n",
      "alredy deleted\n",
      "alredy deleted\n",
      "alredy deleted\n",
      "alredy deleted\n",
      "alredy deleted\n",
      "alredy deleted\n",
      "alredy deleted\n",
      "alredy deleted\n",
      "alredy deleted\n",
      "alredy deleted\n",
      "alredy deleted\n",
      "alredy deleted\n",
      "alredy deleted\n",
      "alredy deleted\n",
      "alredy deleted\n",
      "alredy deleted\n",
      "alredy deleted\n",
      "alredy deleted\n",
      "alredy deleted\n",
      "alredy deleted\n",
      "alredy deleted\n",
      "alredy deleted\n",
      "alredy deleted\n",
      "alredy deleted\n",
      "alredy deleted\n",
      "alredy deleted\n",
      "alredy deleted\n",
      "alredy deleted\n",
      "alredy deleted\n",
      "alredy deleted\n",
      "alredy deleted\n",
      "alredy deleted\n",
      "alredy deleted\n",
      "alredy deleted\n",
      "alredy deleted\n",
      "alredy deleted\n",
      "alredy deleted\n",
      "alredy deleted\n",
      "alredy deleted\n",
      "alredy deleted\n",
      "alredy deleted\n",
      "alredy deleted\n",
      "alredy deleted\n",
      "alredy deleted\n",
      "alredy deleted\n",
      "alredy deleted\n",
      "alredy deleted\n",
      "alredy deleted\n",
      "alredy deleted\n",
      "alredy deleted\n",
      "alredy deleted\n",
      "alredy deleted\n",
      "alredy deleted\n",
      "alredy deleted\n",
      "alredy deleted\n",
      "alredy deleted\n",
      "alredy deleted\n",
      "alredy deleted\n",
      "alredy deleted\n",
      "alredy deleted\n",
      "alredy deleted\n",
      "alredy deleted\n",
      "alredy deleted\n",
      "alredy deleted\n",
      "alredy deleted\n",
      "alredy deleted\n",
      "alredy deleted\n",
      "alredy deleted\n",
      "alredy deleted\n",
      "alredy deleted\n",
      "alredy deleted\n",
      "alredy deleted\n",
      "alredy deleted\n",
      "alredy deleted\n",
      "alredy deleted\n",
      "alredy deleted\n",
      "alredy deleted\n",
      "alredy deleted\n",
      "alredy deleted\n",
      "alredy deleted\n",
      "alredy deleted\n",
      "alredy deleted\n",
      "alredy deleted\n",
      "alredy deleted\n",
      "alredy deleted\n",
      "alredy deleted\n",
      "alredy deleted\n",
      "alredy deleted\n",
      "alredy deleted\n",
      "alredy deleted\n",
      "alredy deleted\n",
      "alredy deleted\n",
      "alredy deleted\n",
      "alredy deleted\n",
      "alredy deleted\n",
      "alredy deleted\n",
      "alredy deleted\n",
      "alredy deleted\n",
      "alredy deleted\n",
      "alredy deleted\n",
      "alredy deleted\n",
      "alredy deleted\n",
      "alredy deleted\n",
      "alredy deleted\n",
      "alredy deleted\n",
      "alredy deleted\n",
      "alredy deleted\n",
      "alredy deleted\n",
      "alredy deleted\n",
      "alredy deleted\n",
      "alredy deleted\n",
      "alredy deleted\n",
      "alredy deleted\n",
      "alredy deleted\n",
      "alredy deleted\n",
      "alredy deleted\n",
      "alredy deleted\n",
      "alredy deleted\n",
      "alredy deleted\n",
      "alredy deleted\n",
      "alredy deleted\n",
      "alredy deleted\n",
      "alredy deleted\n",
      "alredy deleted\n",
      "alredy deleted\n",
      "alredy deleted\n",
      "alredy deleted\n",
      "alredy deleted\n",
      "alredy deleted\n",
      "alredy deleted\n",
      "alredy deleted\n",
      "alredy deleted\n",
      "alredy deleted\n",
      "alredy deleted\n",
      "alredy deleted\n",
      "alredy deleted\n",
      "alredy deleted\n",
      "alredy deleted\n",
      "alredy deleted\n",
      "alredy deleted\n",
      "alredy deleted\n",
      "alredy deleted\n",
      "alredy deleted\n",
      "alredy deleted\n",
      "alredy deleted\n",
      "alredy deleted\n",
      "alredy deleted\n",
      "alredy deleted\n",
      "alredy deleted\n",
      "alredy deleted\n",
      "alredy deleted\n",
      "alredy deleted\n",
      "alredy deleted\n",
      "alredy deleted\n",
      "alredy deleted\n",
      "alredy deleted\n",
      "alredy deleted\n",
      "alredy deleted\n",
      "alredy deleted\n",
      "alredy deleted\n",
      "alredy deleted\n",
      "alredy deleted\n",
      "alredy deleted\n",
      "alredy deleted\n",
      "alredy deleted\n",
      "alredy deleted\n",
      "alredy deleted\n",
      "alredy deleted\n",
      "alredy deleted\n",
      "alredy deleted\n",
      "alredy deleted\n",
      "alredy deleted\n",
      "alredy deleted\n",
      "alredy deleted\n",
      "alredy deleted\n",
      "alredy deleted\n",
      "alredy deleted\n",
      "alredy deleted\n",
      "alredy deleted\n",
      "alredy deleted\n",
      "alredy deleted\n",
      "alredy deleted\n",
      "alredy deleted\n",
      "alredy deleted\n",
      "alredy deleted\n",
      "alredy deleted\n",
      "alredy deleted\n",
      "alredy deleted\n",
      "alredy deleted\n",
      "alredy deleted\n",
      "alredy deleted\n",
      "alredy deleted\n",
      "alredy deleted\n",
      "alredy deleted\n",
      "alredy deleted\n",
      "alredy deleted\n",
      "alredy deleted\n",
      "alredy deleted\n",
      "alredy deleted\n",
      "alredy deleted\n",
      "alredy deleted\n",
      "alredy deleted\n",
      "alredy deleted\n",
      "alredy deleted\n",
      "alredy deleted\n",
      "alredy deleted\n",
      "alredy deleted\n",
      "alredy deleted\n",
      "alredy deleted\n",
      "alredy deleted\n",
      "alredy deleted\n",
      "alredy deleted\n",
      "alredy deleted\n",
      "alredy deleted\n",
      "alredy deleted\n",
      "alredy deleted\n",
      "alredy deleted\n",
      "alredy deleted\n",
      "alredy deleted\n",
      "alredy deleted\n",
      "alredy deleted\n",
      "alredy deleted\n",
      "alredy deleted\n",
      "alredy deleted\n",
      "alredy deleted\n",
      "alredy deleted\n",
      "alredy deleted\n",
      "alredy deleted\n",
      "alredy deleted\n",
      "alredy deleted\n",
      "alredy deleted\n",
      "alredy deleted\n",
      "alredy deleted\n",
      "alredy deleted\n",
      "alredy deleted\n",
      "alredy deleted\n",
      "alredy deleted\n",
      "alredy deleted\n",
      "alredy deleted\n",
      "alredy deleted\n",
      "alredy deleted\n",
      "alredy deleted\n",
      "alredy deleted\n",
      "alredy deleted\n",
      "alredy deleted\n",
      "alredy deleted\n",
      "alredy deleted\n",
      "alredy deleted\n",
      "alredy deleted\n",
      "alredy deleted\n",
      "alredy deleted\n",
      "alredy deleted\n",
      "alredy deleted\n",
      "alredy deleted\n",
      "alredy deleted\n",
      "alredy deleted\n",
      "alredy deleted\n",
      "alredy deleted\n",
      "alredy deleted\n",
      "alredy deleted\n",
      "alredy deleted\n",
      "alredy deleted\n",
      "alredy deleted\n",
      "alredy deleted\n",
      "alredy deleted\n",
      "alredy deleted\n",
      "alredy deleted\n",
      "alredy deleted\n",
      "alredy deleted\n",
      "alredy deleted\n",
      "alredy deleted\n",
      "alredy deleted\n",
      "alredy deleted\n",
      "alredy deleted\n",
      "alredy deleted\n",
      "alredy deleted\n",
      "alredy deleted\n",
      "alredy deleted\n",
      "alredy deleted\n",
      "alredy deleted\n",
      "alredy deleted\n",
      "alredy deleted\n",
      "alredy deleted\n",
      "alredy deleted\n",
      "alredy deleted\n",
      "alredy deleted\n",
      "alredy deleted\n",
      "alredy deleted\n",
      "alredy deleted\n",
      "alredy deleted\n",
      "alredy deleted\n",
      "alredy deleted\n",
      "alredy deleted\n",
      "alredy deleted\n",
      "alredy deleted\n",
      "alredy deleted\n",
      "alredy deleted\n",
      "alredy deleted\n",
      "alredy deleted\n",
      "alredy deleted\n",
      "alredy deleted\n",
      "alredy deleted\n",
      "alredy deleted\n",
      "alredy deleted\n",
      "alredy deleted\n",
      "alredy deleted\n",
      "alredy deleted\n",
      "alredy deleted\n",
      "alredy deleted\n",
      "alredy deleted\n",
      "alredy deleted\n",
      "alredy deleted\n",
      "alredy deleted\n",
      "alredy deleted\n",
      "alredy deleted\n",
      "alredy deleted\n",
      "alredy deleted\n",
      "alredy deleted\n",
      "alredy deleted\n",
      "alredy deleted\n",
      "alredy deleted\n",
      "alredy deleted\n",
      "alredy deleted\n",
      "alredy deleted\n",
      "alredy deleted\n",
      "alredy deleted\n",
      "alredy deleted\n",
      "alredy deleted\n",
      "alredy deleted\n",
      "alredy deleted\n",
      "alredy deleted\n",
      "alredy deleted\n",
      "alredy deleted\n",
      "alredy deleted\n",
      "alredy deleted\n",
      "alredy deleted\n",
      "alredy deleted\n",
      "alredy deleted\n",
      "alredy deleted\n",
      "alredy deleted\n",
      "alredy deleted\n",
      "alredy deleted\n",
      "alredy deleted\n",
      "alredy deleted\n",
      "alredy deleted\n",
      "alredy deleted\n",
      "alredy deleted\n",
      "alredy deleted\n",
      "alredy deleted\n",
      "alredy deleted\n",
      "alredy deleted\n",
      "alredy deleted\n",
      "alredy deleted\n",
      "alredy deleted\n",
      "alredy deleted\n",
      "alredy deleted\n",
      "alredy deleted\n",
      "alredy deleted\n",
      "alredy deleted\n",
      "alredy deleted\n",
      "alredy deleted\n",
      "alredy deleted\n",
      "alredy deleted\n",
      "alredy deleted\n",
      "alredy deleted\n",
      "alredy deleted\n",
      "alredy deleted\n",
      "alredy deleted\n",
      "alredy deleted\n",
      "alredy deleted\n",
      "alredy deleted\n",
      "alredy deleted\n",
      "alredy deleted\n",
      "alredy deleted\n",
      "alredy deleted\n",
      "alredy deleted\n",
      "alredy deleted\n",
      "alredy deleted\n",
      "alredy deleted\n",
      "alredy deleted\n",
      "alredy deleted\n",
      "alredy deleted\n",
      "alredy deleted\n",
      "alredy deleted\n",
      "alredy deleted\n",
      "alredy deleted\n",
      "alredy deleted\n",
      "alredy deleted\n",
      "alredy deleted\n",
      "alredy deleted\n",
      "alredy deleted\n",
      "alredy deleted\n",
      "alredy deleted\n",
      "alredy deleted\n",
      "alredy deleted\n",
      "alredy deleted\n",
      "alredy deleted\n",
      "alredy deleted\n",
      "alredy deleted\n",
      "alredy deleted\n",
      "alredy deleted\n",
      "alredy deleted\n",
      "alredy deleted\n",
      "alredy deleted\n",
      "alredy deleted\n",
      "alredy deleted\n",
      "alredy deleted\n",
      "alredy deleted\n",
      "alredy deleted\n",
      "alredy deleted\n",
      "alredy deleted\n",
      "alredy deleted\n",
      "alredy deleted\n",
      "alredy deleted\n",
      "alredy deleted\n",
      "alredy deleted\n",
      "alredy deleted\n",
      "alredy deleted\n",
      "alredy deleted\n",
      "alredy deleted\n",
      "alredy deleted\n",
      "alredy deleted\n",
      "alredy deleted\n",
      "alredy deleted\n",
      "alredy deleted\n",
      "alredy deleted\n",
      "alredy deleted\n",
      "alredy deleted\n",
      "alredy deleted\n",
      "alredy deleted\n",
      "alredy deleted\n",
      "alredy deleted\n",
      "alredy deleted\n",
      "alredy deleted\n",
      "alredy deleted\n",
      "alredy deleted\n",
      "alredy deleted\n",
      "alredy deleted\n",
      "alredy deleted\n",
      "alredy deleted\n",
      "alredy deleted\n",
      "alredy deleted\n",
      "alredy deleted\n",
      "alredy deleted\n",
      "alredy deleted\n",
      "alredy deleted\n",
      "alredy deleted\n",
      "alredy deleted\n",
      "alredy deleted\n",
      "alredy deleted\n",
      "alredy deleted\n",
      "alredy deleted\n",
      "alredy deleted\n",
      "alredy deleted\n",
      "alredy deleted\n",
      "alredy deleted\n",
      "alredy deleted\n",
      "alredy deleted\n",
      "alredy deleted\n",
      "alredy deleted\n",
      "alredy deleted\n",
      "alredy deleted\n",
      "alredy deleted\n",
      "alredy deleted\n",
      "alredy deleted\n",
      "alredy deleted\n",
      "alredy deleted\n",
      "alredy deleted\n",
      "alredy deleted\n",
      "alredy deleted\n",
      "alredy deleted\n",
      "alredy deleted\n",
      "alredy deleted\n",
      "alredy deleted\n",
      "alredy deleted\n",
      "alredy deleted\n",
      "alredy deleted\n",
      "alredy deleted\n",
      "alredy deleted\n",
      "alredy deleted\n",
      "alredy deleted\n",
      "alredy deleted\n",
      "alredy deleted\n",
      "alredy deleted\n",
      "alredy deleted\n",
      "alredy deleted\n",
      "alredy deleted\n",
      "alredy deleted\n",
      "alredy deleted\n",
      "alredy deleted\n",
      "alredy deleted\n",
      "alredy deleted\n",
      "alredy deleted\n",
      "alredy deleted\n",
      "alredy deleted\n",
      "alredy deleted\n",
      "alredy deleted\n",
      "alredy deleted\n",
      "alredy deleted\n",
      "alredy deleted\n",
      "alredy deleted\n",
      "alredy deleted\n",
      "alredy deleted\n",
      "alredy deleted\n",
      "alredy deleted\n",
      "alredy deleted\n",
      "alredy deleted\n",
      "alredy deleted\n",
      "alredy deleted\n",
      "alredy deleted\n",
      "alredy deleted\n",
      "alredy deleted\n",
      "alredy deleted\n",
      "alredy deleted\n",
      "alredy deleted\n",
      "alredy deleted\n",
      "alredy deleted\n",
      "alredy deleted\n",
      "alredy deleted\n",
      "alredy deleted\n",
      "alredy deleted\n",
      "alredy deleted\n",
      "alredy deleted\n",
      "alredy deleted\n",
      "alredy deleted\n",
      "alredy deleted\n",
      "alredy deleted\n",
      "alredy deleted\n",
      "alredy deleted\n",
      "alredy deleted\n",
      "alredy deleted\n",
      "alredy deleted\n",
      "alredy deleted\n",
      "alredy deleted\n",
      "alredy deleted\n",
      "alredy deleted\n",
      "alredy deleted\n",
      "alredy deleted\n",
      "alredy deleted\n",
      "alredy deleted\n",
      "alredy deleted\n",
      "alredy deleted\n",
      "alredy deleted\n",
      "alredy deleted\n",
      "alredy deleted\n",
      "alredy deleted\n",
      "alredy deleted\n",
      "alredy deleted\n",
      "alredy deleted\n",
      "alredy deleted\n",
      "alredy deleted\n",
      "alredy deleted\n",
      "alredy deleted\n",
      "alredy deleted\n",
      "alredy deleted\n",
      "alredy deleted\n",
      "alredy deleted\n",
      "alredy deleted\n",
      "alredy deleted\n",
      "alredy deleted\n",
      "alredy deleted\n",
      "alredy deleted\n",
      "alredy deleted\n",
      "alredy deleted\n",
      "alredy deleted\n",
      "alredy deleted\n",
      "alredy deleted\n",
      "alredy deleted\n",
      "alredy deleted\n",
      "alredy deleted\n",
      "alredy deleted\n",
      "alredy deleted\n",
      "alredy deleted\n",
      "alredy deleted\n",
      "alredy deleted\n",
      "alredy deleted\n",
      "alredy deleted\n",
      "alredy deleted\n",
      "alredy deleted\n",
      "alredy deleted\n",
      "alredy deleted\n",
      "alredy deleted\n",
      "alredy deleted\n",
      "alredy deleted\n",
      "alredy deleted\n",
      "alredy deleted\n",
      "alredy deleted\n",
      "alredy deleted\n",
      "alredy deleted\n",
      "alredy deleted\n",
      "alredy deleted\n",
      "alredy deleted\n",
      "alredy deleted\n",
      "alredy deleted\n",
      "alredy deleted\n",
      "alredy deleted\n",
      "alredy deleted\n",
      "alredy deleted\n",
      "alredy deleted\n",
      "alredy deleted\n",
      "alredy deleted\n",
      "alredy deleted\n",
      "alredy deleted\n",
      "alredy deleted\n",
      "alredy deleted\n",
      "alredy deleted\n",
      "alredy deleted\n",
      "alredy deleted\n",
      "alredy deleted\n",
      "alredy deleted\n",
      "alredy deleted\n",
      "alredy deleted\n",
      "alredy deleted\n",
      "alredy deleted\n",
      "alredy deleted\n",
      "alredy deleted\n",
      "alredy deleted\n",
      "alredy deleted\n",
      "alredy deleted\n",
      "alredy deleted\n",
      "alredy deleted\n",
      "alredy deleted\n",
      "alredy deleted\n",
      "alredy deleted\n",
      "alredy deleted\n",
      "alredy deleted\n",
      "alredy deleted\n",
      "alredy deleted\n",
      "alredy deleted\n",
      "alredy deleted\n",
      "alredy deleted\n",
      "alredy deleted\n",
      "alredy deleted\n",
      "alredy deleted\n",
      "alredy deleted\n",
      "alredy deleted\n",
      "alredy deleted\n",
      "alredy deleted\n",
      "alredy deleted\n",
      "alredy deleted\n",
      "alredy deleted\n",
      "alredy deleted\n",
      "alredy deleted\n",
      "alredy deleted\n",
      "alredy deleted\n",
      "alredy deleted\n",
      "alredy deleted\n",
      "alredy deleted\n",
      "alredy deleted\n",
      "alredy deleted\n",
      "alredy deleted\n",
      "alredy deleted\n",
      "alredy deleted\n",
      "alredy deleted\n",
      "alredy deleted\n",
      "alredy deleted\n",
      "alredy deleted\n",
      "alredy deleted\n",
      "alredy deleted\n",
      "alredy deleted\n",
      "alredy deleted\n",
      "alredy deleted\n",
      "alredy deleted\n",
      "alredy deleted\n",
      "alredy deleted\n",
      "alredy deleted\n",
      "alredy deleted\n",
      "alredy deleted\n",
      "alredy deleted\n",
      "alredy deleted\n",
      "alredy deleted\n",
      "alredy deleted\n",
      "alredy deleted\n",
      "alredy deleted\n",
      "alredy deleted\n",
      "alredy deleted\n",
      "alredy deleted\n",
      "alredy deleted\n",
      "alredy deleted\n",
      "alredy deleted\n",
      "alredy deleted\n",
      "alredy deleted\n",
      "alredy deleted\n",
      "alredy deleted\n",
      "alredy deleted\n",
      "alredy deleted\n",
      "alredy deleted\n",
      "alredy deleted\n",
      "alredy deleted\n",
      "alredy deleted\n",
      "alredy deleted\n",
      "alredy deleted\n",
      "alredy deleted\n",
      "alredy deleted\n",
      "alredy deleted\n",
      "alredy deleted\n",
      "alredy deleted\n",
      "alredy deleted\n",
      "alredy deleted\n",
      "alredy deleted\n",
      "alredy deleted\n",
      "alredy deleted\n",
      "alredy deleted\n",
      "alredy deleted\n",
      "alredy deleted\n",
      "alredy deleted\n",
      "alredy deleted\n",
      "alredy deleted\n",
      "alredy deleted\n",
      "alredy deleted\n",
      "alredy deleted\n",
      "alredy deleted\n",
      "alredy deleted\n",
      "alredy deleted\n",
      "alredy deleted\n",
      "alredy deleted\n",
      "alredy deleted\n",
      "alredy deleted\n",
      "alredy deleted\n",
      "alredy deleted\n",
      "alredy deleted\n",
      "alredy deleted\n",
      "alredy deleted\n",
      "alredy deleted\n",
      "alredy deleted\n",
      "alredy deleted\n",
      "alredy deleted\n",
      "alredy deleted\n",
      "alredy deleted\n",
      "alredy deleted\n",
      "alredy deleted\n",
      "alredy deleted\n",
      "alredy deleted\n",
      "alredy deleted\n",
      "alredy deleted\n",
      "alredy deleted\n",
      "alredy deleted\n",
      "alredy deleted\n",
      "alredy deleted\n",
      "alredy deleted\n",
      "alredy deleted\n",
      "alredy deleted\n",
      "alredy deleted\n",
      "alredy deleted\n",
      "alredy deleted\n",
      "alredy deleted\n",
      "alredy deleted\n",
      "alredy deleted\n",
      "alredy deleted\n",
      "alredy deleted\n",
      "alredy deleted\n",
      "alredy deleted\n",
      "alredy deleted\n",
      "alredy deleted\n",
      "alredy deleted\n",
      "alredy deleted\n",
      "alredy deleted\n",
      "alredy deleted\n",
      "alredy deleted\n",
      "alredy deleted\n",
      "alredy deleted\n",
      "alredy deleted\n",
      "alredy deleted\n",
      "alredy deleted\n",
      "alredy deleted\n",
      "alredy deleted\n",
      "alredy deleted\n",
      "alredy deleted\n",
      "alredy deleted\n",
      "alredy deleted\n",
      "alredy deleted\n",
      "alredy deleted\n",
      "alredy deleted\n",
      "alredy deleted\n",
      "alredy deleted\n",
      "alredy deleted\n",
      "alredy deleted\n",
      "alredy deleted\n",
      "alredy deleted\n",
      "alredy deleted\n",
      "alredy deleted\n",
      "alredy deleted\n",
      "alredy deleted\n",
      "alredy deleted\n",
      "alredy deleted\n",
      "alredy deleted\n",
      "alredy deleted\n",
      "alredy deleted\n",
      "alredy deleted\n",
      "alredy deleted\n",
      "alredy deleted\n",
      "alredy deleted\n",
      "alredy deleted\n",
      "alredy deleted\n",
      "alredy deleted\n",
      "alredy deleted\n",
      "alredy deleted\n",
      "alredy deleted\n",
      "alredy deleted\n",
      "alredy deleted\n",
      "alredy deleted\n",
      "alredy deleted\n",
      "alredy deleted\n",
      "alredy deleted\n",
      "alredy deleted\n",
      "alredy deleted\n",
      "alredy deleted\n",
      "alredy deleted\n",
      "alredy deleted\n",
      "alredy deleted\n",
      "alredy deleted\n",
      "alredy deleted\n",
      "alredy deleted\n",
      "alredy deleted\n",
      "alredy deleted\n",
      "alredy deleted\n",
      "alredy deleted\n",
      "alredy deleted\n",
      "alredy deleted\n",
      "alredy deleted\n",
      "alredy deleted\n",
      "alredy deleted\n",
      "alredy deleted\n",
      "alredy deleted\n",
      "alredy deleted\n",
      "alredy deleted\n",
      "alredy deleted\n",
      "alredy deleted\n",
      "alredy deleted\n",
      "alredy deleted\n",
      "alredy deleted\n",
      "alredy deleted\n",
      "alredy deleted\n",
      "alredy deleted\n",
      "alredy deleted\n",
      "alredy deleted\n",
      "alredy deleted\n",
      "alredy deleted\n",
      "alredy deleted\n",
      "alredy deleted\n",
      "alredy deleted\n",
      "alredy deleted\n",
      "alredy deleted\n",
      "alredy deleted\n",
      "alredy deleted\n",
      "alredy deleted\n",
      "alredy deleted\n",
      "alredy deleted\n",
      "alredy deleted\n",
      "alredy deleted\n",
      "alredy deleted\n",
      "alredy deleted\n",
      "alredy deleted\n",
      "alredy deleted\n",
      "alredy deleted\n",
      "alredy deleted\n",
      "alredy deleted\n",
      "alredy deleted\n",
      "alredy deleted\n",
      "alredy deleted\n",
      "alredy deleted\n",
      "alredy deleted\n",
      "alredy deleted\n",
      "alredy deleted\n",
      "alredy deleted\n",
      "alredy deleted\n",
      "alredy deleted\n",
      "alredy deleted\n",
      "alredy deleted\n",
      "alredy deleted\n",
      "alredy deleted\n",
      "alredy deleted\n",
      "alredy deleted\n",
      "alredy deleted\n",
      "alredy deleted\n",
      "alredy deleted\n",
      "alredy deleted\n",
      "alredy deleted\n",
      "alredy deleted\n",
      "alredy deleted\n",
      "alredy deleted\n",
      "alredy deleted\n",
      "alredy deleted\n",
      "alredy deleted\n",
      "alredy deleted\n",
      "alredy deleted\n",
      "alredy deleted\n",
      "alredy deleted\n",
      "alredy deleted\n",
      "alredy deleted\n",
      "alredy deleted\n",
      "alredy deleted\n",
      "alredy deleted\n",
      "alredy deleted\n",
      "alredy deleted\n",
      "alredy deleted\n",
      "alredy deleted\n",
      "alredy deleted\n",
      "alredy deleted\n",
      "alredy deleted\n",
      "alredy deleted\n",
      "alredy deleted\n",
      "alredy deleted\n",
      "alredy deleted\n",
      "alredy deleted\n",
      "alredy deleted\n",
      "alredy deleted\n",
      "alredy deleted\n",
      "alredy deleted\n",
      "alredy deleted\n",
      "alredy deleted\n",
      "alredy deleted\n",
      "alredy deleted\n",
      "alredy deleted\n",
      "alredy deleted\n",
      "alredy deleted\n",
      "alredy deleted\n",
      "alredy deleted\n",
      "alredy deleted\n",
      "alredy deleted\n",
      "alredy deleted\n",
      "alredy deleted\n",
      "alredy deleted\n",
      "alredy deleted\n",
      "alredy deleted\n",
      "alredy deleted\n",
      "alredy deleted\n",
      "alredy deleted\n",
      "alredy deleted\n",
      "alredy deleted\n",
      "alredy deleted\n",
      "alredy deleted\n",
      "alredy deleted\n",
      "alredy deleted\n",
      "alredy deleted\n",
      "alredy deleted\n",
      "alredy deleted\n",
      "alredy deleted\n",
      "alredy deleted\n",
      "alredy deleted\n",
      "alredy deleted\n",
      "alredy deleted\n",
      "alredy deleted\n",
      "alredy deleted\n",
      "alredy deleted\n",
      "alredy deleted\n",
      "alredy deleted\n",
      "alredy deleted\n",
      "alredy deleted\n",
      "alredy deleted\n",
      "alredy deleted\n",
      "alredy deleted\n",
      "alredy deleted\n",
      "alredy deleted\n",
      "alredy deleted\n",
      "alredy deleted\n",
      "alredy deleted\n",
      "alredy deleted\n",
      "alredy deleted\n",
      "alredy deleted\n",
      "alredy deleted\n",
      "alredy deleted\n",
      "alredy deleted\n",
      "alredy deleted\n",
      "alredy deleted\n",
      "alredy deleted\n",
      "alredy deleted\n",
      "alredy deleted\n",
      "alredy deleted\n",
      "alredy deleted\n",
      "alredy deleted\n",
      "alredy deleted\n",
      "alredy deleted\n",
      "alredy deleted\n",
      "alredy deleted\n",
      "alredy deleted\n",
      "alredy deleted\n",
      "alredy deleted\n",
      "alredy deleted\n",
      "alredy deleted\n",
      "alredy deleted\n",
      "alredy deleted\n",
      "alredy deleted\n",
      "alredy deleted\n",
      "alredy deleted\n",
      "alredy deleted\n",
      "alredy deleted\n",
      "alredy deleted\n",
      "alredy deleted\n",
      "alredy deleted\n",
      "alredy deleted\n",
      "alredy deleted\n",
      "alredy deleted\n",
      "alredy deleted\n",
      "alredy deleted\n",
      "alredy deleted\n",
      "alredy deleted\n",
      "alredy deleted\n",
      "alredy deleted\n",
      "alredy deleted\n",
      "alredy deleted\n",
      "alredy deleted\n",
      "alredy deleted\n",
      "alredy deleted\n",
      "alredy deleted\n",
      "alredy deleted\n",
      "alredy deleted\n",
      "alredy deleted\n",
      "alredy deleted\n",
      "alredy deleted\n",
      "alredy deleted\n",
      "alredy deleted\n",
      "alredy deleted\n",
      "alredy deleted\n",
      "alredy deleted\n",
      "alredy deleted\n",
      "alredy deleted\n",
      "alredy deleted\n",
      "alredy deleted\n",
      "alredy deleted\n",
      "alredy deleted\n",
      "alredy deleted\n",
      "alredy deleted\n",
      "alredy deleted\n",
      "alredy deleted\n",
      "alredy deleted\n",
      "alredy deleted\n",
      "alredy deleted\n",
      "alredy deleted\n",
      "alredy deleted\n",
      "alredy deleted\n",
      "alredy deleted\n",
      "alredy deleted\n",
      "alredy deleted\n",
      "alredy deleted\n",
      "alredy deleted\n",
      "alredy deleted\n",
      "alredy deleted\n",
      "alredy deleted\n",
      "alredy deleted\n",
      "alredy deleted\n",
      "alredy deleted\n",
      "alredy deleted\n",
      "alredy deleted\n",
      "alredy deleted\n",
      "alredy deleted\n",
      "alredy deleted\n",
      "alredy deleted\n",
      "alredy deleted\n",
      "alredy deleted\n",
      "alredy deleted\n",
      "alredy deleted\n",
      "alredy deleted\n",
      "alredy deleted\n",
      "alredy deleted\n",
      "alredy deleted\n",
      "alredy deleted\n",
      "alredy deleted\n",
      "alredy deleted\n",
      "alredy deleted\n",
      "alredy deleted\n",
      "alredy deleted\n",
      "alredy deleted\n",
      "alredy deleted\n",
      "alredy deleted\n",
      "alredy deleted\n",
      "alredy deleted\n",
      "alredy deleted\n",
      "alredy deleted\n",
      "alredy deleted\n",
      "alredy deleted\n",
      "alredy deleted\n",
      "alredy deleted\n",
      "alredy deleted\n",
      "alredy deleted\n",
      "alredy deleted\n",
      "alredy deleted\n",
      "alredy deleted\n",
      "alredy deleted\n",
      "alredy deleted\n",
      "alredy deleted\n",
      "alredy deleted\n",
      "alredy deleted\n",
      "alredy deleted\n",
      "alredy deleted\n",
      "alredy deleted\n",
      "alredy deleted\n",
      "alredy deleted\n",
      "alredy deleted\n",
      "alredy deleted\n",
      "alredy deleted\n",
      "alredy deleted\n",
      "alredy deleted\n",
      "alredy deleted\n",
      "alredy deleted\n",
      "alredy deleted\n",
      "alredy deleted\n",
      "alredy deleted\n",
      "alredy deleted\n",
      "alredy deleted\n",
      "alredy deleted\n",
      "alredy deleted\n",
      "alredy deleted\n",
      "alredy deleted\n",
      "alredy deleted\n",
      "alredy deleted\n",
      "alredy deleted\n",
      "alredy deleted\n",
      "alredy deleted\n",
      "alredy deleted\n",
      "alredy deleted\n",
      "alredy deleted\n",
      "alredy deleted\n",
      "alredy deleted\n",
      "alredy deleted\n",
      "alredy deleted\n",
      "alredy deleted\n",
      "alredy deleted\n",
      "alredy deleted\n",
      "alredy deleted\n",
      "alredy deleted\n",
      "alredy deleted\n",
      "alredy deleted\n",
      "alredy deleted\n",
      "alredy deleted\n",
      "alredy deleted\n",
      "alredy deleted\n",
      "alredy deleted\n",
      "alredy deleted\n",
      "alredy deleted\n",
      "alredy deleted\n",
      "alredy deleted\n",
      "alredy deleted\n",
      "alredy deleted\n",
      "alredy deleted\n",
      "alredy deleted\n",
      "alredy deleted\n",
      "alredy deleted\n",
      "alredy deleted\n",
      "alredy deleted\n",
      "alredy deleted\n",
      "alredy deleted\n",
      "alredy deleted\n",
      "alredy deleted\n",
      "alredy deleted\n",
      "alredy deleted\n",
      "alredy deleted\n",
      "alredy deleted\n",
      "alredy deleted\n",
      "alredy deleted\n",
      "alredy deleted\n",
      "alredy deleted\n",
      "alredy deleted\n",
      "alredy deleted\n",
      "alredy deleted\n",
      "alredy deleted\n",
      "alredy deleted\n",
      "alredy deleted\n",
      "alredy deleted\n",
      "alredy deleted\n",
      "alredy deleted\n",
      "alredy deleted\n",
      "alredy deleted\n",
      "alredy deleted\n",
      "alredy deleted\n",
      "alredy deleted\n",
      "alredy deleted\n",
      "alredy deleted\n",
      "alredy deleted\n",
      "alredy deleted\n",
      "alredy deleted\n",
      "alredy deleted\n",
      "alredy deleted\n",
      "alredy deleted\n",
      "alredy deleted\n",
      "alredy deleted\n",
      "alredy deleted\n",
      "alredy deleted\n",
      "alredy deleted\n",
      "alredy deleted\n",
      "alredy deleted\n",
      "alredy deleted\n",
      "alredy deleted\n"
     ]
    },
    {
     "name": "stdout",
     "output_type": "stream",
     "text": [
      "alredy deleted\n",
      "alredy deleted\n",
      "alredy deleted\n",
      "alredy deleted\n",
      "alredy deleted\n",
      "alredy deleted\n",
      "alredy deleted\n",
      "alredy deleted\n",
      "alredy deleted\n",
      "alredy deleted\n",
      "alredy deleted\n",
      "alredy deleted\n",
      "alredy deleted\n",
      "alredy deleted\n",
      "alredy deleted\n",
      "alredy deleted\n",
      "alredy deleted\n",
      "alredy deleted\n",
      "alredy deleted\n",
      "alredy deleted\n",
      "alredy deleted\n",
      "alredy deleted\n",
      "alredy deleted\n",
      "alredy deleted\n",
      "alredy deleted\n",
      "alredy deleted\n",
      "alredy deleted\n",
      "alredy deleted\n",
      "alredy deleted\n",
      "alredy deleted\n",
      "alredy deleted\n",
      "alredy deleted\n",
      "alredy deleted\n",
      "alredy deleted\n",
      "alredy deleted\n",
      "alredy deleted\n",
      "alredy deleted\n",
      "alredy deleted\n",
      "alredy deleted\n",
      "alredy deleted\n",
      "alredy deleted\n",
      "alredy deleted\n",
      "alredy deleted\n",
      "alredy deleted\n",
      "alredy deleted\n",
      "alredy deleted\n",
      "alredy deleted\n",
      "alredy deleted\n",
      "alredy deleted\n",
      "alredy deleted\n",
      "alredy deleted\n",
      "alredy deleted\n",
      "alredy deleted\n",
      "alredy deleted\n",
      "alredy deleted\n",
      "alredy deleted\n",
      "alredy deleted\n",
      "alredy deleted\n",
      "alredy deleted\n",
      "alredy deleted\n",
      "alredy deleted\n",
      "alredy deleted\n",
      "alredy deleted\n",
      "alredy deleted\n",
      "alredy deleted\n",
      "alredy deleted\n",
      "alredy deleted\n",
      "alredy deleted\n",
      "alredy deleted\n",
      "alredy deleted\n",
      "alredy deleted\n",
      "alredy deleted\n",
      "alredy deleted\n",
      "alredy deleted\n",
      "alredy deleted\n",
      "alredy deleted\n",
      "alredy deleted\n",
      "alredy deleted\n",
      "alredy deleted\n",
      "alredy deleted\n",
      "alredy deleted\n",
      "alredy deleted\n",
      "alredy deleted\n",
      "alredy deleted\n",
      "alredy deleted\n",
      "alredy deleted\n",
      "alredy deleted\n",
      "alredy deleted\n",
      "alredy deleted\n",
      "alredy deleted\n",
      "alredy deleted\n",
      "alredy deleted\n",
      "alredy deleted\n",
      "alredy deleted\n",
      "alredy deleted\n",
      "alredy deleted\n",
      "alredy deleted\n",
      "alredy deleted\n",
      "alredy deleted\n",
      "alredy deleted\n",
      "alredy deleted\n",
      "alredy deleted\n",
      "alredy deleted\n",
      "alredy deleted\n",
      "alredy deleted\n",
      "alredy deleted\n",
      "alredy deleted\n",
      "alredy deleted\n",
      "alredy deleted\n",
      "alredy deleted\n",
      "alredy deleted\n",
      "alredy deleted\n",
      "alredy deleted\n",
      "alredy deleted\n",
      "alredy deleted\n",
      "alredy deleted\n",
      "alredy deleted\n",
      "alredy deleted\n",
      "alredy deleted\n",
      "alredy deleted\n",
      "alredy deleted\n",
      "alredy deleted\n",
      "alredy deleted\n",
      "alredy deleted\n",
      "alredy deleted\n",
      "alredy deleted\n",
      "alredy deleted\n",
      "alredy deleted\n",
      "alredy deleted\n",
      "alredy deleted\n",
      "alredy deleted\n",
      "alredy deleted\n",
      "alredy deleted\n",
      "alredy deleted\n",
      "alredy deleted\n",
      "alredy deleted\n",
      "alredy deleted\n",
      "alredy deleted\n",
      "alredy deleted\n",
      "alredy deleted\n",
      "alredy deleted\n",
      "alredy deleted\n",
      "alredy deleted\n",
      "alredy deleted\n",
      "alredy deleted\n",
      "alredy deleted\n",
      "alredy deleted\n",
      "alredy deleted\n",
      "alredy deleted\n",
      "alredy deleted\n",
      "alredy deleted\n",
      "alredy deleted\n",
      "alredy deleted\n",
      "alredy deleted\n",
      "alredy deleted\n",
      "alredy deleted\n",
      "alredy deleted\n",
      "alredy deleted\n",
      "alredy deleted\n",
      "alredy deleted\n",
      "alredy deleted\n",
      "alredy deleted\n",
      "alredy deleted\n",
      "alredy deleted\n",
      "alredy deleted\n",
      "alredy deleted\n",
      "alredy deleted\n",
      "alredy deleted\n",
      "alredy deleted\n",
      "alredy deleted\n",
      "alredy deleted\n",
      "alredy deleted\n",
      "alredy deleted\n",
      "alredy deleted\n",
      "alredy deleted\n",
      "alredy deleted\n",
      "alredy deleted\n",
      "alredy deleted\n",
      "alredy deleted\n",
      "alredy deleted\n",
      "alredy deleted\n",
      "alredy deleted\n",
      "alredy deleted\n",
      "alredy deleted\n",
      "alredy deleted\n",
      "alredy deleted\n",
      "alredy deleted\n",
      "alredy deleted\n",
      "alredy deleted\n",
      "alredy deleted\n",
      "alredy deleted\n",
      "alredy deleted\n",
      "alredy deleted\n",
      "alredy deleted\n",
      "alredy deleted\n",
      "alredy deleted\n",
      "alredy deleted\n",
      "alredy deleted\n",
      "alredy deleted\n",
      "alredy deleted\n",
      "alredy deleted\n",
      "alredy deleted\n",
      "alredy deleted\n",
      "alredy deleted\n",
      "alredy deleted\n",
      "alredy deleted\n",
      "alredy deleted\n",
      "alredy deleted\n",
      "alredy deleted\n",
      "alredy deleted\n",
      "alredy deleted\n",
      "alredy deleted\n",
      "alredy deleted\n",
      "alredy deleted\n",
      "alredy deleted\n",
      "alredy deleted\n",
      "alredy deleted\n",
      "alredy deleted\n",
      "alredy deleted\n",
      "alredy deleted\n",
      "alredy deleted\n",
      "alredy deleted\n",
      "alredy deleted\n",
      "alredy deleted\n",
      "alredy deleted\n",
      "alredy deleted\n",
      "alredy deleted\n",
      "alredy deleted\n",
      "alredy deleted\n",
      "alredy deleted\n",
      "alredy deleted\n",
      "alredy deleted\n",
      "alredy deleted\n",
      "alredy deleted\n",
      "alredy deleted\n",
      "alredy deleted\n",
      "alredy deleted\n",
      "alredy deleted\n",
      "alredy deleted\n",
      "alredy deleted\n",
      "alredy deleted\n",
      "alredy deleted\n",
      "alredy deleted\n",
      "alredy deleted\n",
      "alredy deleted\n",
      "alredy deleted\n",
      "alredy deleted\n",
      "alredy deleted\n",
      "alredy deleted\n",
      "alredy deleted\n",
      "alredy deleted\n",
      "alredy deleted\n",
      "alredy deleted\n",
      "alredy deleted\n",
      "alredy deleted\n",
      "alredy deleted\n",
      "alredy deleted\n",
      "alredy deleted\n",
      "alredy deleted\n",
      "alredy deleted\n",
      "alredy deleted\n",
      "alredy deleted\n",
      "alredy deleted\n",
      "alredy deleted\n",
      "alredy deleted\n",
      "alredy deleted\n",
      "alredy deleted\n",
      "alredy deleted\n",
      "alredy deleted\n",
      "alredy deleted\n",
      "alredy deleted\n",
      "alredy deleted\n",
      "alredy deleted\n",
      "alredy deleted\n",
      "alredy deleted\n",
      "alredy deleted\n",
      "alredy deleted\n",
      "alredy deleted\n",
      "alredy deleted\n",
      "alredy deleted\n",
      "alredy deleted\n",
      "alredy deleted\n",
      "alredy deleted\n",
      "alredy deleted\n",
      "alredy deleted\n",
      "alredy deleted\n",
      "alredy deleted\n",
      "alredy deleted\n",
      "alredy deleted\n",
      "alredy deleted\n",
      "alredy deleted\n",
      "alredy deleted\n",
      "alredy deleted\n",
      "alredy deleted\n",
      "alredy deleted\n",
      "alredy deleted\n",
      "alredy deleted\n",
      "alredy deleted\n",
      "alredy deleted\n",
      "alredy deleted\n",
      "alredy deleted\n",
      "alredy deleted\n",
      "alredy deleted\n",
      "alredy deleted\n",
      "alredy deleted\n",
      "alredy deleted\n",
      "alredy deleted\n",
      "alredy deleted\n",
      "alredy deleted\n",
      "alredy deleted\n",
      "alredy deleted\n",
      "alredy deleted\n",
      "alredy deleted\n",
      "alredy deleted\n",
      "alredy deleted\n",
      "alredy deleted\n",
      "alredy deleted\n",
      "alredy deleted\n",
      "alredy deleted\n",
      "alredy deleted\n",
      "alredy deleted\n",
      "alredy deleted\n",
      "alredy deleted\n",
      "alredy deleted\n",
      "alredy deleted\n",
      "alredy deleted\n",
      "alredy deleted\n",
      "alredy deleted\n",
      "alredy deleted\n",
      "alredy deleted\n",
      "alredy deleted\n",
      "alredy deleted\n",
      "alredy deleted\n",
      "alredy deleted\n",
      "alredy deleted\n",
      "alredy deleted\n",
      "alredy deleted\n",
      "alredy deleted\n",
      "alredy deleted\n",
      "alredy deleted\n",
      "alredy deleted\n",
      "alredy deleted\n",
      "alredy deleted\n",
      "alredy deleted\n",
      "alredy deleted\n",
      "alredy deleted\n",
      "alredy deleted\n",
      "alredy deleted\n",
      "alredy deleted\n",
      "alredy deleted\n",
      "alredy deleted\n",
      "alredy deleted\n",
      "alredy deleted\n",
      "alredy deleted\n",
      "alredy deleted\n",
      "alredy deleted\n",
      "alredy deleted\n",
      "alredy deleted\n",
      "alredy deleted\n",
      "alredy deleted\n",
      "alredy deleted\n",
      "alredy deleted\n",
      "alredy deleted\n",
      "alredy deleted\n",
      "alredy deleted\n",
      "alredy deleted\n",
      "alredy deleted\n",
      "alredy deleted\n",
      "alredy deleted\n",
      "alredy deleted\n",
      "alredy deleted\n",
      "alredy deleted\n",
      "alredy deleted\n",
      "alredy deleted\n",
      "alredy deleted\n",
      "alredy deleted\n",
      "alredy deleted\n",
      "alredy deleted\n",
      "alredy deleted\n",
      "alredy deleted\n",
      "alredy deleted\n",
      "alredy deleted\n",
      "alredy deleted\n",
      "alredy deleted\n",
      "alredy deleted\n",
      "alredy deleted\n",
      "alredy deleted\n",
      "alredy deleted\n",
      "alredy deleted\n",
      "alredy deleted\n",
      "alredy deleted\n",
      "alredy deleted\n",
      "alredy deleted\n",
      "alredy deleted\n",
      "alredy deleted\n",
      "alredy deleted\n",
      "alredy deleted\n",
      "alredy deleted\n",
      "alredy deleted\n",
      "alredy deleted\n",
      "alredy deleted\n",
      "alredy deleted\n",
      "alredy deleted\n",
      "alredy deleted\n",
      "alredy deleted\n",
      "alredy deleted\n",
      "alredy deleted\n",
      "alredy deleted\n",
      "alredy deleted\n",
      "alredy deleted\n",
      "alredy deleted\n",
      "alredy deleted\n",
      "alredy deleted\n",
      "alredy deleted\n",
      "alredy deleted\n",
      "alredy deleted\n",
      "alredy deleted\n",
      "alredy deleted\n",
      "alredy deleted\n",
      "alredy deleted\n",
      "alredy deleted\n",
      "alredy deleted\n",
      "alredy deleted\n",
      "alredy deleted\n",
      "alredy deleted\n",
      "alredy deleted\n",
      "alredy deleted\n",
      "alredy deleted\n",
      "alredy deleted\n",
      "alredy deleted\n",
      "alredy deleted\n",
      "alredy deleted\n",
      "alredy deleted\n",
      "alredy deleted\n",
      "alredy deleted\n",
      "alredy deleted\n",
      "alredy deleted\n",
      "alredy deleted\n",
      "alredy deleted\n",
      "alredy deleted\n",
      "alredy deleted\n",
      "alredy deleted\n",
      "alredy deleted\n",
      "alredy deleted\n",
      "alredy deleted\n",
      "alredy deleted\n",
      "alredy deleted\n",
      "alredy deleted\n",
      "alredy deleted\n",
      "alredy deleted\n",
      "alredy deleted\n",
      "alredy deleted\n",
      "alredy deleted\n",
      "alredy deleted\n",
      "alredy deleted\n",
      "alredy deleted\n",
      "alredy deleted\n",
      "alredy deleted\n",
      "alredy deleted\n",
      "alredy deleted\n",
      "alredy deleted\n",
      "alredy deleted\n",
      "alredy deleted\n",
      "alredy deleted\n",
      "alredy deleted\n",
      "alredy deleted\n",
      "alredy deleted\n",
      "alredy deleted\n",
      "alredy deleted\n",
      "alredy deleted\n",
      "alredy deleted\n",
      "alredy deleted\n",
      "alredy deleted\n",
      "alredy deleted\n",
      "alredy deleted\n",
      "alredy deleted\n",
      "alredy deleted\n",
      "alredy deleted\n",
      "alredy deleted\n",
      "alredy deleted\n",
      "alredy deleted\n",
      "alredy deleted\n",
      "alredy deleted\n",
      "alredy deleted\n",
      "alredy deleted\n",
      "alredy deleted\n",
      "alredy deleted\n",
      "alredy deleted\n",
      "alredy deleted\n",
      "alredy deleted\n",
      "alredy deleted\n",
      "alredy deleted\n",
      "alredy deleted\n",
      "alredy deleted\n",
      "alredy deleted\n",
      "alredy deleted\n",
      "alredy deleted\n",
      "alredy deleted\n",
      "alredy deleted\n",
      "alredy deleted\n",
      "alredy deleted\n",
      "alredy deleted\n",
      "alredy deleted\n",
      "alredy deleted\n",
      "alredy deleted\n",
      "alredy deleted\n",
      "alredy deleted\n",
      "alredy deleted\n",
      "alredy deleted\n",
      "alredy deleted\n",
      "alredy deleted\n",
      "alredy deleted\n",
      "alredy deleted\n",
      "alredy deleted\n",
      "alredy deleted\n",
      "alredy deleted\n",
      "alredy deleted\n",
      "alredy deleted\n",
      "alredy deleted\n",
      "alredy deleted\n",
      "alredy deleted\n",
      "alredy deleted\n",
      "alredy deleted\n",
      "alredy deleted\n",
      "alredy deleted\n",
      "alredy deleted\n",
      "alredy deleted\n",
      "alredy deleted\n",
      "alredy deleted\n",
      "alredy deleted\n",
      "alredy deleted\n",
      "alredy deleted\n",
      "alredy deleted\n",
      "alredy deleted\n",
      "alredy deleted\n",
      "alredy deleted\n",
      "alredy deleted\n",
      "alredy deleted\n",
      "alredy deleted\n",
      "alredy deleted\n",
      "alredy deleted\n",
      "alredy deleted\n",
      "alredy deleted\n",
      "alredy deleted\n",
      "alredy deleted\n",
      "alredy deleted\n",
      "alredy deleted\n",
      "alredy deleted\n",
      "alredy deleted\n",
      "alredy deleted\n",
      "alredy deleted\n",
      "alredy deleted\n",
      "alredy deleted\n",
      "alredy deleted\n",
      "alredy deleted\n",
      "alredy deleted\n",
      "alredy deleted\n",
      "alredy deleted\n",
      "alredy deleted\n",
      "alredy deleted\n",
      "alredy deleted\n",
      "alredy deleted\n",
      "alredy deleted\n",
      "alredy deleted\n",
      "alredy deleted\n",
      "alredy deleted\n",
      "alredy deleted\n",
      "alredy deleted\n",
      "alredy deleted\n",
      "alredy deleted\n",
      "alredy deleted\n",
      "alredy deleted\n",
      "alredy deleted\n",
      "alredy deleted\n",
      "alredy deleted\n",
      "alredy deleted\n",
      "alredy deleted\n",
      "alredy deleted\n",
      "alredy deleted\n",
      "alredy deleted\n",
      "alredy deleted\n",
      "alredy deleted\n",
      "alredy deleted\n",
      "alredy deleted\n",
      "alredy deleted\n",
      "alredy deleted\n",
      "alredy deleted\n",
      "alredy deleted\n",
      "alredy deleted\n",
      "alredy deleted\n",
      "alredy deleted\n",
      "alredy deleted\n",
      "alredy deleted\n",
      "alredy deleted\n",
      "alredy deleted\n",
      "alredy deleted\n",
      "alredy deleted\n",
      "alredy deleted\n",
      "alredy deleted\n",
      "alredy deleted\n",
      "alredy deleted\n",
      "alredy deleted\n",
      "alredy deleted\n",
      "alredy deleted\n",
      "alredy deleted\n",
      "alredy deleted\n",
      "alredy deleted\n",
      "alredy deleted\n",
      "alredy deleted\n",
      "alredy deleted\n",
      "alredy deleted\n",
      "alredy deleted\n",
      "alredy deleted\n",
      "alredy deleted\n",
      "alredy deleted\n",
      "alredy deleted\n",
      "alredy deleted\n",
      "alredy deleted\n",
      "alredy deleted\n",
      "alredy deleted\n",
      "alredy deleted\n",
      "alredy deleted\n",
      "alredy deleted\n",
      "alredy deleted\n",
      "alredy deleted\n",
      "alredy deleted\n",
      "alredy deleted\n",
      "alredy deleted\n",
      "alredy deleted\n",
      "alredy deleted\n",
      "alredy deleted\n",
      "alredy deleted\n",
      "alredy deleted\n",
      "alredy deleted\n",
      "alredy deleted\n",
      "alredy deleted\n",
      "alredy deleted\n",
      "alredy deleted\n",
      "alredy deleted\n",
      "alredy deleted\n",
      "alredy deleted\n",
      "alredy deleted\n",
      "alredy deleted\n",
      "alredy deleted\n",
      "alredy deleted\n",
      "alredy deleted\n",
      "alredy deleted\n",
      "alredy deleted\n",
      "alredy deleted\n",
      "alredy deleted\n",
      "alredy deleted\n",
      "alredy deleted\n",
      "alredy deleted\n",
      "alredy deleted\n",
      "alredy deleted\n",
      "alredy deleted\n",
      "alredy deleted\n",
      "alredy deleted\n",
      "alredy deleted\n",
      "alredy deleted\n",
      "alredy deleted\n",
      "alredy deleted\n",
      "alredy deleted\n",
      "alredy deleted\n",
      "alredy deleted\n",
      "alredy deleted\n",
      "alredy deleted\n",
      "alredy deleted\n",
      "alredy deleted\n",
      "alredy deleted\n",
      "alredy deleted\n",
      "alredy deleted\n",
      "alredy deleted\n",
      "alredy deleted\n",
      "alredy deleted\n",
      "alredy deleted\n",
      "alredy deleted\n",
      "alredy deleted\n",
      "alredy deleted\n",
      "alredy deleted\n",
      "alredy deleted\n",
      "alredy deleted\n",
      "alredy deleted\n",
      "alredy deleted\n",
      "alredy deleted\n",
      "alredy deleted\n",
      "alredy deleted\n",
      "alredy deleted\n",
      "alredy deleted\n",
      "alredy deleted\n",
      "alredy deleted\n",
      "alredy deleted\n",
      "alredy deleted\n",
      "alredy deleted\n",
      "alredy deleted\n",
      "alredy deleted\n",
      "alredy deleted\n",
      "alredy deleted\n",
      "alredy deleted\n",
      "alredy deleted\n",
      "alredy deleted\n",
      "alredy deleted\n",
      "alredy deleted\n",
      "alredy deleted\n",
      "alredy deleted\n",
      "alredy deleted\n",
      "alredy deleted\n",
      "alredy deleted\n",
      "alredy deleted\n",
      "alredy deleted\n",
      "alredy deleted\n",
      "alredy deleted\n",
      "alredy deleted\n",
      "alredy deleted\n",
      "alredy deleted\n",
      "alredy deleted\n",
      "alredy deleted\n",
      "alredy deleted\n",
      "alredy deleted\n",
      "alredy deleted\n",
      "alredy deleted\n",
      "alredy deleted\n",
      "alredy deleted\n",
      "alredy deleted\n",
      "alredy deleted\n",
      "alredy deleted\n",
      "alredy deleted\n",
      "alredy deleted\n",
      "alredy deleted\n",
      "alredy deleted\n",
      "alredy deleted\n",
      "alredy deleted\n",
      "alredy deleted\n",
      "alredy deleted\n",
      "alredy deleted\n",
      "alredy deleted\n",
      "alredy deleted\n",
      "alredy deleted\n",
      "alredy deleted\n",
      "alredy deleted\n",
      "alredy deleted\n",
      "alredy deleted\n",
      "alredy deleted\n",
      "alredy deleted\n",
      "alredy deleted\n",
      "alredy deleted\n",
      "alredy deleted\n",
      "alredy deleted\n",
      "alredy deleted\n",
      "alredy deleted\n",
      "alredy deleted\n",
      "alredy deleted\n",
      "alredy deleted\n",
      "alredy deleted\n",
      "alredy deleted\n",
      "alredy deleted\n",
      "alredy deleted\n",
      "alredy deleted\n",
      "alredy deleted\n",
      "alredy deleted\n",
      "alredy deleted\n",
      "alredy deleted\n",
      "alredy deleted\n",
      "alredy deleted\n",
      "alredy deleted\n",
      "alredy deleted\n",
      "alredy deleted\n",
      "alredy deleted\n"
     ]
    },
    {
     "name": "stderr",
     "output_type": "stream",
     "text": [
      "  0%|\u001b[38;2;244;3;244m                                                    \u001b[0m| 0/51 [00:00<?, ?it/s]\u001b[0m\u001b[34m\u001b[1mwandb\u001b[0m: Adding directory to artifact (./ESC-50/cat)... Done. 0.2s\n",
      "  2%|\u001b[38;2;244;3;244m▊                                           \u001b[0m| 1/51 [00:00<00:19,  2.56it/s]\u001b[0m\u001b[34m\u001b[1mwandb\u001b[0m: Adding directory to artifact (./ESC-50/chainsaw)... Done. 0.1s\n",
      "  4%|\u001b[38;2;244;3;244m█▋                                          \u001b[0m| 2/51 [00:00<00:15,  3.12it/s]\u001b[0m\u001b[34m\u001b[1mwandb\u001b[0m: Adding directory to artifact (./ESC-50/siren)... Done. 0.1s\n",
      "  6%|\u001b[38;2;244;3;244m██▌                                         \u001b[0m| 3/51 [00:01<00:24,  1.98it/s]\u001b[0m\u001b[34m\u001b[1mwandb\u001b[0m: Adding directory to artifact (./ESC-50/clock_tick)... Done. 0.1s\n",
      "  8%|\u001b[38;2;244;3;244m███▍                                        \u001b[0m| 4/51 [00:01<00:20,  2.34it/s]\u001b[0m\u001b[34m\u001b[1mwandb\u001b[0m: Adding directory to artifact (./ESC-50/can_opening)... Done. 0.1s\n",
      " 10%|\u001b[38;2;244;3;244m████▎                                       \u001b[0m| 5/51 [00:01<00:17,  2.67it/s]\u001b[0m\u001b[34m\u001b[1mwandb\u001b[0m: Adding directory to artifact (./ESC-50/sneezing)... Done. 0.1s\n",
      " 12%|\u001b[38;2;244;3;244m█████▏                                      \u001b[0m| 6/51 [00:02<00:15,  2.95it/s]\u001b[0m\u001b[34m\u001b[1mwandb\u001b[0m: Adding directory to artifact (./ESC-50/pig)... Done. 0.1s\n",
      " 14%|\u001b[38;2;244;3;244m██████                                      \u001b[0m| 7/51 [00:02<00:13,  3.15it/s]\u001b[0m\u001b[34m\u001b[1mwandb\u001b[0m: Adding directory to artifact (./ESC-50/pouring_water)... Done. 0.1s\n",
      " 16%|\u001b[38;2;244;3;244m██████▉                                     \u001b[0m| 8/51 [00:02<00:13,  3.30it/s]\u001b[0m\u001b[34m\u001b[1mwandb\u001b[0m: Adding directory to artifact (./ESC-50/rain)... Done. 0.2s\n",
      " 18%|\u001b[38;2;244;3;244m███████▊                                    \u001b[0m| 9/51 [00:03<00:13,  3.16it/s]\u001b[0m\u001b[34m\u001b[1mwandb\u001b[0m: Adding directory to artifact (./ESC-50/church_bells)... Done. 0.1s\n",
      " 20%|\u001b[38;2;244;3;244m████████▍                                  \u001b[0m| 10/51 [00:03<00:12,  3.31it/s]\u001b[0m\u001b[34m\u001b[1mwandb\u001b[0m: Adding directory to artifact (./ESC-50/mouse_click)... Done. 0.1s\n",
      " 22%|\u001b[38;2;244;3;244m█████████▎                                 \u001b[0m| 11/51 [00:03<00:11,  3.43it/s]\u001b[0m\u001b[34m\u001b[1mwandb\u001b[0m: Adding directory to artifact (./ESC-50/toilet_flush)... Done. 0.1s\n",
      " 24%|\u001b[38;2;244;3;244m██████████                                 \u001b[0m| 12/51 [00:03<00:11,  3.51it/s]\u001b[0m\u001b[34m\u001b[1mwandb\u001b[0m: Adding directory to artifact (./ESC-50/car_horn)... Done. 0.1s\n",
      " 25%|\u001b[38;2;244;3;244m██████████▉                                \u001b[0m| 13/51 [00:04<00:11,  3.40it/s]\u001b[0m\u001b[34m\u001b[1mwandb\u001b[0m: Adding directory to artifact (./ESC-50/dog)... Done. 0.1s\n",
      " 27%|\u001b[38;2;244;3;244m███████████▊                               \u001b[0m| 14/51 [00:04<00:10,  3.50it/s]\u001b[0m\u001b[34m\u001b[1mwandb\u001b[0m: Adding directory to artifact (./ESC-50/vacuum_cleaner)... Done. 0.1s\n",
      " 29%|\u001b[38;2;244;3;244m████████████▋                              \u001b[0m| 15/51 [00:04<00:10,  3.57it/s]\u001b[0m\u001b[34m\u001b[1mwandb\u001b[0m: Adding directory to artifact (./ESC-50/chirping_birds)... Done. 0.1s\n",
      " 31%|\u001b[38;2;244;3;244m█████████████▍                             \u001b[0m| 16/51 [00:05<00:09,  3.65it/s]\u001b[0m\u001b[34m\u001b[1mwandb\u001b[0m: Adding directory to artifact (./ESC-50/crackling_fire)... Done. 0.1s\n",
      " 33%|\u001b[38;2;244;3;244m██████████████▎                            \u001b[0m| 17/51 [00:05<00:09,  3.62it/s]\u001b[0m\u001b[34m\u001b[1mwandb\u001b[0m: Adding directory to artifact (./ESC-50/breathing)... Done. 0.1s\n",
      " 35%|\u001b[38;2;244;3;244m███████████████▏                           \u001b[0m| 18/51 [00:05<00:08,  3.71it/s]\u001b[0m\u001b[34m\u001b[1mwandb\u001b[0m: Adding directory to artifact (./ESC-50/crying_baby)... Done. 0.1s\n",
      " 37%|\u001b[38;2;244;3;244m████████████████                           \u001b[0m| 19/51 [00:05<00:08,  3.73it/s]\u001b[0m\u001b[34m\u001b[1mwandb\u001b[0m: Adding directory to artifact (./ESC-50/sheep)... Done. 0.1s\n",
      " 39%|\u001b[38;2;244;3;244m████████████████▊                          \u001b[0m| 20/51 [00:06<00:08,  3.58it/s]\u001b[0m\u001b[34m\u001b[1mwandb\u001b[0m: Adding directory to artifact (./ESC-50/glass_breaking)... Done. 0.1s\n",
      " 41%|\u001b[38;2;244;3;244m█████████████████▋                         \u001b[0m| 21/51 [00:06<00:08,  3.74it/s]\u001b[0m\u001b[34m\u001b[1mwandb\u001b[0m: Adding directory to artifact (./ESC-50/fireworks)... Done. 0.1s\n",
      " 43%|\u001b[38;2;244;3;244m██████████████████▌                        \u001b[0m| 22/51 [00:07<00:14,  2.04it/s]\u001b[0m\u001b[34m\u001b[1mwandb\u001b[0m: Adding directory to artifact (./ESC-50/crow)... Done. 0.1s\n",
      " 45%|\u001b[38;2;244;3;244m███████████████████▍                       \u001b[0m| 23/51 [00:07<00:11,  2.39it/s]\u001b[0m\u001b[34m\u001b[1mwandb\u001b[0m: Adding directory to artifact (./ESC-50/wind)... Done. 0.1s\n",
      " 47%|\u001b[38;2;244;3;244m████████████████████▏                      \u001b[0m| 24/51 [00:07<00:10,  2.65it/s]\u001b[0m\u001b[34m\u001b[1mwandb\u001b[0m: Adding directory to artifact (./ESC-50/helicopter)... Done. 0.1s\n",
      " 49%|\u001b[38;2;244;3;244m█████████████████████                      \u001b[0m| 25/51 [00:08<00:08,  2.90it/s]\u001b[0m\u001b[34m\u001b[1mwandb\u001b[0m: Adding directory to artifact (./ESC-50/keyboard_typing)... Done. 0.1s\n",
      " 51%|\u001b[38;2;244;3;244m█████████████████████▉                     \u001b[0m| 26/51 [00:08<00:08,  3.10it/s]\u001b[0m\u001b[34m\u001b[1mwandb\u001b[0m: Adding directory to artifact (./ESC-50/snoring)... Done. 0.1s\n",
      " 53%|\u001b[38;2;244;3;244m██████████████████████▊                    \u001b[0m| 27/51 [00:08<00:07,  3.26it/s]\u001b[0m\u001b[34m\u001b[1mwandb\u001b[0m: Adding directory to artifact (./ESC-50/laughing)... Done. 0.1s\n",
      " 55%|\u001b[38;2;244;3;244m███████████████████████▌                   \u001b[0m| 28/51 [00:09<00:06,  3.31it/s]\u001b[0m\u001b[34m\u001b[1mwandb\u001b[0m: Adding directory to artifact (./ESC-50/clapping)... Done. 0.1s\n",
      " 57%|\u001b[38;2;244;3;244m████████████████████████▍                  \u001b[0m| 29/51 [00:09<00:06,  3.31it/s]\u001b[0m\u001b[34m\u001b[1mwandb\u001b[0m: Adding directory to artifact (./ESC-50/hen)... Done. 0.1s\n",
      " 59%|\u001b[38;2;244;3;244m█████████████████████████▎                 \u001b[0m| 30/51 [00:09<00:06,  3.34it/s]\u001b[0m\u001b[34m\u001b[1mwandb\u001b[0m: Adding directory to artifact (./ESC-50/airplane)... Done. 0.1s\n",
      " 61%|\u001b[38;2;244;3;244m██████████████████████████▏                \u001b[0m| 31/51 [00:09<00:05,  3.44it/s]\u001b[0m\u001b[34m\u001b[1mwandb\u001b[0m: Adding directory to artifact (./ESC-50/sea_waves)... Done. 0.1s\n",
      " 63%|\u001b[38;2;244;3;244m██████████████████████████▉                \u001b[0m| 32/51 [00:10<00:05,  3.52it/s]\u001b[0m\u001b[34m\u001b[1mwandb\u001b[0m: Adding directory to artifact (./ESC-50/footsteps)... Done. 0.1s\n",
      " 65%|\u001b[38;2;244;3;244m███████████████████████████▊               \u001b[0m| 33/51 [00:10<00:05,  3.59it/s]\u001b[0m\u001b[34m\u001b[1mwandb\u001b[0m: Adding directory to artifact (./ESC-50/insects)... Done. 0.1s\n",
      " 67%|\u001b[38;2;244;3;244m████████████████████████████▋              \u001b[0m| 34/51 [00:10<00:04,  3.62it/s]\u001b[0m\u001b[34m\u001b[1mwandb\u001b[0m: Adding directory to artifact (./ESC-50/train)... Done. 0.1s\n",
      " 69%|\u001b[38;2;244;3;244m█████████████████████████████▌             \u001b[0m| 35/51 [00:11<00:04,  3.47it/s]\u001b[0m\u001b[34m\u001b[1mwandb\u001b[0m: Adding directory to artifact (./ESC-50/water_drops)... Done. 0.1s\n",
      " 71%|\u001b[38;2;244;3;244m██████████████████████████████▎            \u001b[0m| 36/51 [00:11<00:04,  3.58it/s]\u001b[0m\u001b[34m\u001b[1mwandb\u001b[0m: Adding directory to artifact (./ESC-50/meta_data)... Done. 0.0s\n",
      " 73%|\u001b[38;2;244;3;244m███████████████████████████████▏           \u001b[0m| 37/51 [00:11<00:03,  3.79it/s]\u001b[0m\u001b[34m\u001b[1mwandb\u001b[0m: Adding directory to artifact (./ESC-50/rooster)... Done. 0.1s\n",
      " 75%|\u001b[38;2;244;3;244m████████████████████████████████           \u001b[0m| 38/51 [00:11<00:03,  3.76it/s]\u001b[0m\u001b[34m\u001b[1mwandb\u001b[0m: Adding directory to artifact (./ESC-50/washing_machine)... Done. 0.1s\n",
      " 76%|\u001b[38;2;244;3;244m████████████████████████████████▉          \u001b[0m| 39/51 [00:12<00:03,  3.71it/s]\u001b[0m\u001b[34m\u001b[1mwandb\u001b[0m: Adding directory to artifact (./ESC-50/crickets)... Done. 0.1s\n",
      " 78%|\u001b[38;2;244;3;244m█████████████████████████████████▋         \u001b[0m| 40/51 [00:12<00:02,  3.72it/s]\u001b[0m\u001b[34m\u001b[1mwandb\u001b[0m: Adding directory to artifact (./ESC-50/frog)... Done. 0.1s\n",
      " 80%|\u001b[38;2;244;3;244m██████████████████████████████████▌        \u001b[0m| 41/51 [00:12<00:02,  3.77it/s]\u001b[0m\u001b[34m\u001b[1mwandb\u001b[0m: Adding directory to artifact (./ESC-50/coughing)... Done. 0.1s\n",
      " 82%|\u001b[38;2;244;3;244m███████████████████████████████████▍       \u001b[0m| 42/51 [00:12<00:02,  3.85it/s]\u001b[0m\u001b[34m\u001b[1mwandb\u001b[0m: Adding directory to artifact (./ESC-50/hand_saw)... Done. 0.1s\n",
      " 84%|\u001b[38;2;244;3;244m████████████████████████████████████▎      \u001b[0m| 43/51 [00:13<00:02,  3.81it/s]\u001b[0m\u001b[34m\u001b[1mwandb\u001b[0m: Adding directory to artifact (./ESC-50/door_wood_creaks)... Done. 0.1s\n",
      " 86%|\u001b[38;2;244;3;244m█████████████████████████████████████      \u001b[0m| 44/51 [00:13<00:01,  3.83it/s]\u001b[0m\u001b[34m\u001b[1mwandb\u001b[0m: Adding directory to artifact (./ESC-50/clock_alarm)... Done. 0.1s\n",
      " 88%|\u001b[38;2;244;3;244m█████████████████████████████████████▉     \u001b[0m| 45/51 [00:13<00:01,  3.72it/s]\u001b[0m\u001b[34m\u001b[1mwandb\u001b[0m: Adding directory to artifact (./ESC-50/drinking_sipping)... Done. 0.1s\n",
      " 90%|\u001b[38;2;244;3;244m██████████████████████████████████████▊    \u001b[0m| 46/51 [00:13<00:01,  3.63it/s]\u001b[0m\u001b[34m\u001b[1mwandb\u001b[0m: Adding directory to artifact (./ESC-50/door_wood_knock)... Done. 0.1s\n",
      " 92%|\u001b[38;2;244;3;244m███████████████████████████████████████▋   \u001b[0m| 47/51 [00:14<00:01,  3.76it/s]\u001b[0m\u001b[34m\u001b[1mwandb\u001b[0m: Adding directory to artifact (./ESC-50/brushing_teeth)... Done. 0.1s\n",
      " 94%|\u001b[38;2;244;3;244m████████████████████████████████████████▍  \u001b[0m| 48/51 [00:14<00:00,  3.60it/s]\u001b[0m\u001b[34m\u001b[1mwandb\u001b[0m: Adding directory to artifact (./ESC-50/engine)... Done. 0.1s\n",
      " 96%|\u001b[38;2;244;3;244m█████████████████████████████████████████▎ \u001b[0m| 49/51 [00:14<00:00,  3.69it/s]\u001b[0m\u001b[34m\u001b[1mwandb\u001b[0m: Adding directory to artifact (./ESC-50/thunderstorm)... Done. 0.1s\n",
      " 98%|\u001b[38;2;244;3;244m██████████████████████████████████████████▏\u001b[0m| 50/51 [00:15<00:00,  3.75it/s]\u001b[0m\u001b[34m\u001b[1mwandb\u001b[0m: Adding directory to artifact (./ESC-50/cow)... Done. 0.1s\n",
      "100%|\u001b[38;2;244;3;244m███████████████████████████████████████████\u001b[0m| 51/51 [00:15<00:00,  3.34it/s]\u001b[0m\n"
     ]
    }
   ],
   "source": [
    "for pth in df[df.is_sound==False].all_files.values:\n",
    "    path = Path(pth)\n",
    "    try:\n",
    "        path.unlink()\n",
    "    except FileNotFoundError:\n",
    "        print('alredy deleted')\n",
    "for path in tqdm(esc_artifacts,**tqdm_args,colour=next(tqdm_colours)):\n",
    "    log_wandb_artifact(run=run,path=path)"
   ]
  },
  {
   "cell_type": "markdown",
   "id": "ad928f67",
   "metadata": {
    "slideshow": {
     "slide_type": "slide"
    }
   },
   "source": [
    "## This Function is for Data Augmentation 🎛️"
   ]
  },
  {
   "cell_type": "code",
   "execution_count": 95,
   "id": "4eada95c",
   "metadata": {
    "scrolled": true,
    "slideshow": {
     "slide_type": "fragment"
    }
   },
   "outputs": [],
   "source": [
    "from audiomentations import Compose, AddGaussianNoise, TimeStretch, PitchShift, Shift,RoomSimulator,ClippingDistortion,AddBackgroundNoise\n",
    "def augmenter(audio,sample_rate):\n",
    "    audio = np.array([audio]).astype(np.float32)[0]\n",
    "    augment = Compose([\n",
    "    AddGaussianNoise(min_amplitude=0.001, max_amplitude=0.015, p=0.1),\n",
    "    TimeStretch(min_rate=0.8, max_rate=0.9, p=0.1),\n",
    "    PitchShift(min_semitones=-4, max_semitones=4, p=0.3),\n",
    "    Shift(min_fraction=-0.5, max_fraction=0.5, p=0.3),\n",
    "    RoomSimulator(p=0.5),\n",
    "    ClippingDistortion(min_percentile_threshold=0, max_percentile_threshold=10, p = 0.1),\n",
    "    AddBackgroundNoise(sounds_path='test.wav',p=0.5)\n",
    "    ])\n",
    "    return augment(samples=audio, sample_rate=sample_rate).astype(np.int16)[:44100]"
   ]
  },
  {
   "cell_type": "code",
   "execution_count": 3,
   "id": "187fe8d1",
   "metadata": {},
   "outputs": [
    {
     "ename": "ImportError",
     "evalue": "cannot import name 'log_wandb_artifact' from 'utils' (/Users/fridadesigley/pico/tiny-ml/utils/__init__.py)",
     "output_type": "error",
     "traceback": [
      "\u001b[0;31m---------------------------------------------------------------------------\u001b[0m",
      "\u001b[0;31mImportError\u001b[0m                               Traceback (most recent call last)",
      "Cell \u001b[0;32mIn[3], line 1\u001b[0m\n\u001b[0;32m----> 1\u001b[0m \u001b[38;5;28;01mfrom\u001b[39;00m \u001b[38;5;21;01mutils\u001b[39;00m \u001b[38;5;28;01mimport\u001b[39;00m log_wandb_artifact\n",
      "\u001b[0;31mImportError\u001b[0m: cannot import name 'log_wandb_artifact' from 'utils' (/Users/fridadesigley/pico/tiny-ml/utils/__init__.py)"
     ]
    }
   ],
   "source": []
  },
  {
   "cell_type": "code",
   "execution_count": 123,
   "id": "ee4ff25f",
   "metadata": {},
   "outputs": [
    {
     "ename": "AttributeError",
     "evalue": "module 'utils.data_processing' has no attribute 'augmenter'",
     "output_type": "error",
     "traceback": [
      "\u001b[0;31m---------------------------------------------------------------------------\u001b[0m",
      "\u001b[0;31mAttributeError\u001b[0m                            Traceback (most recent call last)",
      "Cell \u001b[0;32mIn[123], line 1\u001b[0m\n\u001b[0;32m----> 1\u001b[0m \u001b[43mutils\u001b[49m\u001b[38;5;241;43m.\u001b[39;49m\u001b[43mdata_processing\u001b[49m\u001b[38;5;241;43m.\u001b[39;49m\u001b[43maugmenter\u001b[49m\n",
      "\u001b[0;31mAttributeError\u001b[0m: module 'utils.data_processing' has no attribute 'augmenter'"
     ]
    }
   ],
   "source": []
  },
  {
   "cell_type": "markdown",
   "id": "09631f66",
   "metadata": {
    "slideshow": {
     "slide_type": "slide"
    }
   },
   "source": [
    "# Save 3D arrays of Spectrograms using numpy"
   ]
  },
  {
   "cell_type": "code",
   "execution_count": 89,
   "id": "25907320",
   "metadata": {
    "slideshow": {
     "slide_type": "fragment"
    }
   },
   "outputs": [],
   "source": [
    "def save_npz(x,y,name,augmenter=None):\n",
    "    wavs = list(map(read_wav,tqdm(x,f'creating {name}')))\n",
    "    if augmenter:\n",
    "        samples = np.full((1,len(y)), 16000)[0]\n",
    "        wavs = list(map(augmenter,wavs,tqdm(samples,f'augmenting {name}')))\n",
    "        x_data = np.array(list(map(get_arm_spectrogram,tqdm(wavs,f'creating {name} augspects'))))\n",
    "    else:\n",
    "        x_data = np.array(list(map(get_arm_spectrogram,tqdm(wavs,f'creating {name} spects'))))\n",
    "    for array in x_data:\n",
    "        assert array.shape==(682, 257)\n",
    "    np.savez(f'{name}.npz',x_data=x_data,y_data=y)"
   ]
  },
  {
   "cell_type": "markdown",
   "id": "2d785ac4",
   "metadata": {},
   "source": [
    "## Loop over files and save as npz, this is our pre-processed training data."
   ]
  },
  {
   "cell_type": "code",
   "execution_count": 93,
   "id": "6068b6e7",
   "metadata": {},
   "outputs": [],
   "source": [
    "contains_sound = df[df.is_sound==True]\n",
    "subset =  contains_sound[contains_sound.set=='train']\n"
   ]
  },
  {
   "cell_type": "code",
   "execution_count": null,
   "id": "a865c649",
   "metadata": {},
   "outputs": [
    {
     "name": "stderr",
     "output_type": "stream",
     "text": [
      "creating processed/test: 100%|███████████| 6834/6834 [00:00<00:00, 18598.10it/s]\n",
      "creating processed/test spects: 100%|██████| 6834/6834 [00:51<00:00, 133.74it/s]\n",
      "creating processed/train: 100%|█████████| 55257/55257 [00:05<00:00, 9992.27it/s]\n",
      "creating processed/train spects: 100%|███| 55257/55257 [07:23<00:00, 124.57it/s]\n"
     ]
    }
   ],
   "source": [
    "pre_process=True\n",
    "contains_sound = df[df.is_sound==True]\n",
    "if pre_process:\n",
    "    for name in df.set.unique():\n",
    "        subset =  contains_sound[contains_sound.set==name]\n",
    "        x_data = subset['all_files'].values\n",
    "        y_data = subset['target'].values\n",
    "        save_npz(x_data,y_data,f'processed/{name}')\n",
    "        if name=='train':\n",
    "            print('augmenting')\n",
    "            save_npz(x_data[:len(x_data)//5],y_data[:len(y_data)//5],f'processed/{name}_aug',augmenter=augmenter)"
   ]
  },
  {
   "cell_type": "markdown",
   "id": "7637c344",
   "metadata": {
    "slideshow": {
     "slide_type": "slide"
    }
   },
   "source": [
    "# Building a wandb Artifact for our pre processed data (numpy array spectrograms):"
   ]
  },
  {
   "cell_type": "code",
   "execution_count": 174,
   "id": "617cf77a",
   "metadata": {
    "slideshow": {
     "slide_type": "fragment"
    }
   },
   "outputs": [
    {
     "name": "stdout",
     "output_type": "stream",
     "text": [
      "file:///Users/fridadesigley/pico/tiny-ml/processed/train.npz\n",
      "file:///Users/fridadesigley/pico/tiny-ml/processed/train_data.npz\n",
      "file:///Users/fridadesigley/pico/tiny-ml/processed/test.npz\n",
      "file:///Users/fridadesigley/pico/tiny-ml/processed/val.npz\n",
      "file:///Users/fridadesigley/pico/tiny-ml/processed/train_aug.npz\n"
     ]
    }
   ],
   "source": [
    "artifact = wandb.Artifact(type='pre_processed_sound_data',name='npz-esc-50-files')\n",
    "path = Path('./processed/')\n",
    "# create references for our large pre processed npz files\n",
    "for fid_path in path.iterdir():\n",
    "    print(f'file://{fid_path.resolve()}')  \n",
    "    artifact.add_reference(f'file://{fid_path.resolve()}')\n",
    "run.log_artifact(artifact)\n",
    "run.finish()"
   ]
  },
  {
   "cell_type": "code",
   "execution_count": null,
   "id": "657f0228",
   "metadata": {
    "scrolled": true,
    "slideshow": {
     "slide_type": "slide"
    }
   },
   "outputs": [],
   "source": [
    "run"
   ]
  },
  {
   "cell_type": "markdown",
   "id": "553ece38",
   "metadata": {
    "slideshow": {
     "slide_type": "slide"
    }
   },
   "source": [
    "### Training load training dataset which has already been pre processed"
   ]
  },
  {
   "cell_type": "code",
   "execution_count": 46,
   "id": "feaccb8e",
   "metadata": {
    "scrolled": true,
    "slideshow": {
     "slide_type": "fragment"
    }
   },
   "outputs": [],
   "source": [
    "with np.load('processed/train.npz',allow_pickle=True) as data:\n",
    "    train_x = data['x_data']\n",
    "    train_y = data['y_data'].astype(np.uint8)\n",
    "with np.load('processed/train_aug.npz',allow_pickle=True) as data:\n",
    "    aug_x = data['x_data']\n",
    "    aug_y = data['y_data'].astype(np.uint8)\n",
    "with np.load('processed/test.npz',allow_pickle=True) as data:\n",
    "    test_x = data['x_data']\n",
    "    test_y = data['y_data'].astype(np.uint8)\n",
    "with np.load('processed/val.npz',allow_pickle=True) as data:\n",
    "    val_x = data['x_data']\n",
    "    val_y = data['y_data'].astype(np.uint8)\n",
    "    \n"
   ]
  },
  {
   "cell_type": "code",
   "execution_count": 47,
   "id": "4832936a",
   "metadata": {},
   "outputs": [
    {
     "data": {
      "text/plain": [
       "numpy.ndarray"
      ]
     },
     "execution_count": 47,
     "metadata": {},
     "output_type": "execute_result"
    }
   ],
   "source": [
    "type(train_x)"
   ]
  },
  {
   "cell_type": "markdown",
   "id": "1cd03eb3",
   "metadata": {
    "slideshow": {
     "slide_type": "slide"
    }
   },
   "source": [
    "## create TensoFlow Dataset from numpy arrays of spectrograms and target variable"
   ]
  },
  {
   "cell_type": "code",
   "execution_count": 64,
   "id": "50c89b6f",
   "metadata": {
    "scrolled": true,
    "slideshow": {
     "slide_type": "fragment"
    }
   },
   "outputs": [],
   "source": [
    "train_dataset = tf.data.Dataset.from_tensor_slices((train_x, train_y))\n",
    "train_aug_dataset = tf.data.Dataset.from_tensor_slices((aug_x, aug_y))\n",
    "train_dataset = train_dataset.concatenate(train_aug_dataset)\n",
    "val_dataset = tf.data.Dataset.from_tensor_slices((val_x,val_y))\n",
    "test_dataset = tf.data.Dataset.from_tensor_slices((test_x,test_y))\n",
    "\n",
    "train_ds = train_dataset.cache().shuffle(10000, seed=42).batch(32).prefetch(tf.data.AUTOTUNE)\n",
    "val_ds = val_dataset.cache().batch(32).prefetch(tf.data.AUTOTUNE)\n",
    "test_ds = test_dataset.cache().batch(32).prefetch(tf.data.AUTOTUNE)"
   ]
  },
  {
   "cell_type": "code",
   "execution_count": 65,
   "id": "8fc40f20",
   "metadata": {},
   "outputs": [
    {
     "name": "stderr",
     "output_type": "stream",
     "text": [
      "2023-01-29 19:02:05.515235: W tensorflow/core/kernels/data/cache_dataset_ops.cc:856] The calling iterator did not fully read the dataset being cached. In order to avoid unexpected truncation of the dataset, the partially cached contents of the dataset  will be discarded. This can happen if you have an input pipeline similar to `dataset.cache().take(k).repeat()`. You should use `dataset.take(k).cache().repeat()` instead.\n"
     ]
    },
    {
     "data": {
      "text/plain": [
       "(<tf.Tensor: shape=(32, 682, 257), dtype=float32, numpy=\n",
       " array([[[6.1296875e+01, 3.3656250e+01, 3.5937500e+00, ...,\n",
       "          1.0625000e+00, 1.5468750e+00, 3.4375000e-01],\n",
       "         [6.3812500e+01, 3.7500000e+01, 7.8437500e+00, ...,\n",
       "          1.0468750e+00, 1.4843750e+00, 7.3437500e-01],\n",
       "         [5.9984375e+01, 3.6312500e+01, 1.4375000e+01, ...,\n",
       "          1.5937500e+00, 1.5312500e+00, 3.9062500e-01],\n",
       "         ...,\n",
       "         [3.9843750e+01, 3.8781250e+01, 1.5562500e+01, ...,\n",
       "          7.9687500e-01, 7.6562500e-01, 4.6875000e-01],\n",
       "         [2.5906250e+01, 3.3734375e+01, 2.6218750e+01, ...,\n",
       "          1.0937500e+00, 1.3750000e+00, 1.1093750e+00],\n",
       "         [1.4640625e+01, 1.8078125e+01, 4.2578125e+01, ...,\n",
       "          1.4531250e+00, 1.7656250e+00, 1.4843750e+00]],\n",
       " \n",
       "        [[9.4171875e+01, 5.3296875e+01, 9.0781250e+00, ...,\n",
       "          2.4531250e+00, 1.3437500e+00, 4.0625000e-01],\n",
       "         [8.2062500e+01, 4.4734375e+01, 1.2875000e+01, ...,\n",
       "          2.3437500e+00, 1.2500000e+00, 3.5937500e-01],\n",
       "         [6.8906250e+01, 3.3593750e+01, 8.4218750e+00, ...,\n",
       "          1.7812500e+00, 1.0625000e+00, 3.1250000e-02],\n",
       "         ...,\n",
       "         [1.1609375e+01, 4.4218750e+00, 1.3125000e+00, ...,\n",
       "          9.5312500e-01, 1.3281250e+00, 1.5625000e-01],\n",
       "         [1.1031250e+01, 5.4062500e+00, 4.0625000e-01, ...,\n",
       "          8.7500000e-01, 1.7343750e+00, 1.0468750e+00],\n",
       "         [1.1546875e+01, 6.0000000e+00, 9.3750000e-01, ...,\n",
       "          9.5312500e-01, 2.0312500e+00, 1.9218750e+00]],\n",
       " \n",
       "        [[2.8906250e+00, 3.7812500e+00, 2.4687500e+00, ...,\n",
       "          5.3437500e+00, 8.2500000e+00, 7.9843750e+00],\n",
       "         [4.2187500e-01, 2.8437500e+00, 1.2343750e+00, ...,\n",
       "          2.2968750e+00, 6.1718750e+00, 3.9218750e+00],\n",
       "         [2.2343750e+00, 2.7343750e+00, 3.1093750e+00, ...,\n",
       "          2.4843750e+00, 3.8750000e+00, 4.6875000e-02],\n",
       "         ...,\n",
       "         [6.3750000e+00, 4.0156250e+00, 1.0156250e+00, ...,\n",
       "          5.5468750e+00, 2.1875000e+00, 2.2500000e+00],\n",
       "         [7.0468750e+00, 4.8750000e+00, 2.4687500e+00, ...,\n",
       "          5.8125000e+00, 3.5312500e+00, 1.9218750e+00],\n",
       "         [5.7812500e+00, 5.3593750e+00, 2.9062500e+00, ...,\n",
       "          5.8281250e+00, 3.5312500e+00, 1.3593750e+00]],\n",
       " \n",
       "        ...,\n",
       " \n",
       "        [[5.6140625e+01, 7.6375000e+01, 4.3921875e+01, ...,\n",
       "          4.6875000e-01, 8.1250000e-01, 1.2968750e+00],\n",
       "         [7.0687500e+01, 7.4390625e+01, 2.6140625e+01, ...,\n",
       "          6.7187500e-01, 1.0156250e+00, 1.4843750e+00],\n",
       "         [4.0500000e+01, 7.4093750e+01, 3.7625000e+01, ...,\n",
       "          5.7812500e-01, 1.0625000e+00, 1.3750000e+00],\n",
       "         ...,\n",
       "         [6.5062500e+01, 7.2125000e+01, 3.1031250e+01, ...,\n",
       "          2.7031250e+00, 4.4531250e+00, 3.0312500e+00],\n",
       "         [1.5062500e+01, 6.9765625e+01, 3.3125000e+01, ...,\n",
       "          3.2812500e+00, 4.4531250e+00, 4.6093750e+00],\n",
       "         [4.2406250e+01, 6.9921875e+01, 2.8062500e+01, ...,\n",
       "          2.7812500e+00, 3.7500000e+00, 4.3437500e+00]],\n",
       " \n",
       "        [[3.6093750e+00, 2.9218750e+00, 7.5156250e+00, ...,\n",
       "          4.5156250e+00, 5.1718750e+00, 1.2187500e+00],\n",
       "         [9.3750000e-02, 1.5312500e+00, 5.8125000e+00, ...,\n",
       "          2.6406250e+00, 5.3906250e+00, 4.3125000e+00],\n",
       "         [2.2812500e+00, 2.8750000e+00, 5.7812500e+00, ...,\n",
       "          1.6406250e+00, 5.0468750e+00, 5.3281250e+00],\n",
       "         ...,\n",
       "         [7.6250000e+00, 6.5937500e+00, 4.5000000e+00, ...,\n",
       "          8.2812500e-01, 1.7812500e+00, 5.7812500e-01],\n",
       "         [5.8125000e+00, 8.1718750e+00, 3.2187500e+00, ...,\n",
       "          2.4843750e+00, 2.4062500e+00, 2.5000000e-01],\n",
       "         [1.0937500e+00, 1.1015625e+01, 1.0484375e+01, ...,\n",
       "          3.1250000e+00, 3.6718750e+00, 2.5000000e+00]],\n",
       " \n",
       "        [[1.0765625e+01, 8.1875000e+00, 1.8281250e+01, ...,\n",
       "          1.6875000e+00, 4.0937500e+00, 5.0781250e+00],\n",
       "         [9.1875000e+00, 1.1609375e+01, 1.7125000e+01, ...,\n",
       "          4.2187500e-01, 3.5937500e+00, 3.6250000e+00],\n",
       "         [1.1218750e+01, 5.1250000e+00, 1.8390625e+01, ...,\n",
       "          1.9687500e+00, 2.9062500e+00, 1.2656250e+00],\n",
       "         ...,\n",
       "         [1.1875000e+01, 4.2203125e+01, 5.5500000e+01, ...,\n",
       "          7.8125000e-01, 1.4218750e+00, 1.6562500e+00],\n",
       "         [1.4843750e+00, 4.6046875e+01, 4.8343750e+01, ...,\n",
       "          1.3906250e+00, 1.7187500e+00, 1.2656250e+00],\n",
       "         [1.9937500e+01, 4.5218750e+01, 4.1156250e+01, ...,\n",
       "          1.6718750e+00, 1.8437500e+00, 2.3437500e-01]]], dtype=float32)>,\n",
       " <tf.Tensor: shape=(32,), dtype=uint8, numpy=\n",
       " array([43, 33, 13,  6, 33,  4, 14, 36, 43, 26, 15, 44, 28, 40, 23,  6, 27,\n",
       "        38, 41,  6, 21,  4,  3,  0, 44, 41, 47, 37, 41, 38,  4, 44],\n",
       "       dtype=uint8)>)"
      ]
     },
     "execution_count": 65,
     "metadata": {},
     "output_type": "execute_result"
    }
   ],
   "source": [
    "next(iter(train_ds))"
   ]
  },
  {
   "cell_type": "markdown",
   "id": "9f197571",
   "metadata": {
    "slideshow": {
     "slide_type": "slide"
    }
   },
   "source": [
    "## Test that this dataset is loading okay"
   ]
  },
  {
   "cell_type": "code",
   "execution_count": 67,
   "id": "cc95bb2d",
   "metadata": {
    "scrolled": true,
    "slideshow": {
     "slide_type": "fragment"
    }
   },
   "outputs": [
    {
     "name": "stdout",
     "output_type": "stream",
     "text": [
      " target = 10, \n",
      " spectrogram = \n",
      " [[14.6875   10.984375  8.125    ...  2.484375  2.765625  4.21875 ]\n",
      " [ 7.09375  10.1875   10.484375 ...  2.140625  1.921875  4.453125]\n",
      " [ 0.609375  9.265625 14.96875  ...  1.671875  1.859375  4.484375]\n",
      " ...\n",
      " [ 2.265625  4.453125  3.75     ...  5.6875    4.59375   0.40625 ]\n",
      " [ 1.1875    5.765625  6.4375   ...  5.3125    4.03125   2.484375]\n",
      " [ 4.453125  9.6875    7.171875 ...  3.203125  3.375     2.734375]]\n",
      "(682, 257, 1)\n"
     ]
    }
   ],
   "source": [
    "x,y = next(iter(train_dataset.take(1)))\n",
    "print(f' target = {y}, \\n spectrogram = \\n {x}')\n",
    "input_shape = tf.expand_dims(x, axis=-1).shape\n",
    "print(input_shape)"
   ]
  },
  {
   "cell_type": "code",
   "execution_count": 68,
   "id": "e29a130a",
   "metadata": {},
   "outputs": [
    {
     "name": "stdout",
     "output_type": "stream",
     "text": [
      "tf.Tensor(\n",
      "[[14.6875   10.984375  8.125    ...  2.484375  2.765625  4.21875 ]\n",
      " [ 7.09375  10.1875   10.484375 ...  2.140625  1.921875  4.453125]\n",
      " [ 0.609375  9.265625 14.96875  ...  1.671875  1.859375  4.484375]\n",
      " ...\n",
      " [ 2.265625  4.453125  3.75     ...  5.6875    4.59375   0.40625 ]\n",
      " [ 1.1875    5.765625  6.4375   ...  5.3125    4.03125   2.484375]\n",
      " [ 4.453125  9.6875    7.171875 ...  3.203125  3.375     2.734375]], shape=(682, 257), dtype=float32)\n"
     ]
    }
   ],
   "source": [
    "print(x)"
   ]
  },
  {
   "cell_type": "code",
   "execution_count": 69,
   "id": "a2159c4e",
   "metadata": {
    "scrolled": true,
    "slideshow": {
     "slide_type": "slide"
    }
   },
   "outputs": [],
   "source": [
    "norm_layer = tf.keras.layers.experimental.preprocessing.Normalization()\n",
    "norm_layer.adapt(train_dataset.map(lambda x, y: tf.reshape(x, input_shape)))"
   ]
  },
  {
   "cell_type": "markdown",
   "id": "e2e68f71",
   "metadata": {
    "slideshow": {
     "slide_type": "slide"
    }
   },
   "source": [
    "# we have made an application and embeded wandb in the recording process\n",
    "this is to allow us to :\n",
    "> - capture new data from you device 🔊\n",
    "> - Version data using wandb Atefact 🏺\n",
    "> - Define your wakework 📢"
   ]
  },
  {
   "cell_type": "code",
   "execution_count": 71,
   "id": "01e1429d",
   "metadata": {
    "ExecuteTime": {
     "end_time": "2023-01-28T10:47:21.788567Z",
     "start_time": "2023-01-28T10:47:21.587446Z"
    },
    "scrolled": false,
    "slideshow": {
     "slide_type": "subslide"
    }
   },
   "outputs": [
    {
     "name": "stdout",
     "output_type": "stream",
     "text": [
      "\u001b[01;34mdata\u001b[0m\r\n",
      "├── \u001b[01;34mbackground\u001b[0m\r\n",
      "├── \u001b[01;34mno\u001b[0m\r\n",
      "└── \u001b[01;34myes\u001b[0m\r\n",
      "\r\n",
      "3 directories\r\n"
     ]
    }
   ],
   "source": [
    "!tree data -d\n"
   ]
  },
  {
   "cell_type": "markdown",
   "id": "656c87b7",
   "metadata": {
    "slideshow": {
     "slide_type": "slide"
    }
   },
   "source": [
    "# Create a new training run for our training 🏃🏻‍♀️ ♀️ "
   ]
  },
  {
   "cell_type": "code",
   "execution_count": 73,
   "id": "d733c973",
   "metadata": {
    "scrolled": true,
    "slideshow": {
     "slide_type": "fragment"
    }
   },
   "outputs": [
    {
     "data": {
      "text/html": [
       "Finishing last run (ID:c3v5i5te) before initializing another..."
      ],
      "text/plain": [
       "<IPython.core.display.HTML object>"
      ]
     },
     "metadata": {},
     "output_type": "display_data"
    },
    {
     "data": {
      "text/html": [
       "Waiting for W&B process to finish... <strong style=\"color:green\">(success).</strong>"
      ],
      "text/plain": [
       "<IPython.core.display.HTML object>"
      ]
     },
     "metadata": {},
     "output_type": "display_data"
    },
    {
     "data": {
      "application/vnd.jupyter.widget-view+json": {
       "model_id": "7a9a771d20444048afd1c1d1013dbcbe",
       "version_major": 2,
       "version_minor": 0
      },
      "text/plain": [
       "VBox(children=(Label(value='30.993 MB of 30.993 MB uploaded (14.997 MB deduped)\\r'), FloatProgress(value=1.0, …"
      ]
     },
     "metadata": {},
     "output_type": "display_data"
    },
    {
     "data": {
      "text/html": [
       "<style>\n",
       "    table.wandb td:nth-child(1) { padding: 0 10px; text-align: left ; width: auto;} td:nth-child(2) {text-align: left ; width: 100%}\n",
       "    .wandb-row { display: flex; flex-direction: row; flex-wrap: wrap; justify-content: flex-start; width: 100% }\n",
       "    .wandb-col { display: flex; flex-direction: column; flex-basis: 100%; flex: 1; padding: 10px; }\n",
       "    </style>\n",
       "<div class=\"wandb-row\"><div class=\"wandb-col\"><h3>Run history:</h3><br/><table class=\"wandb\"><tr><td>epoch/accuracy</td><td>▁▃▄▅▅▆▆▆▆▆▆▇▇▇▇▇▇▇▇█████████████</td></tr><tr><td>epoch/epoch</td><td>▁▁▁▂▂▂▂▃▃▃▃▃▄▄▄▄▅▅▅▅▆▆▆▆▆▇▇▇▇███</td></tr><tr><td>epoch/learning_rate</td><td>██████████▇▇▆▅▅▄▄▄▃▃▃▂▂▂▂▂▂▁▁▁▁▁</td></tr><tr><td>epoch/loss</td><td>█▅▄▄▄▃▃▃▃▃▃▂▂▂▂▂▂▂▂▁▁▁▁▁▁▁▁▁▁▁▁▁</td></tr><tr><td>epoch/lr</td><td>██████████▇▇▆▅▅▄▄▄▃▃▃▂▂▂▂▂▂▁▁▁▁▁</td></tr><tr><td>epoch/val_accuracy</td><td>▁▆▇▇▇▇▇▆▇▆▆▆▇▇▇█▇▇███▇███▇▇██▇██</td></tr><tr><td>epoch/val_loss</td><td>█▄▃▃▂▁▁▂▂▂▂▂▂▂▂▂▂▂▂▂▂▂▂▂▂▁▁▁▂▂▁▁</td></tr></table><br/></div><div class=\"wandb-col\"><h3>Run summary:</h3><br/><table class=\"wandb\"><tr><td>epoch/accuracy</td><td>0.33651</td></tr><tr><td>epoch/epoch</td><td>31</td></tr><tr><td>epoch/learning_rate</td><td>0.00033</td></tr><tr><td>epoch/loss</td><td>2.44278</td></tr><tr><td>epoch/lr</td><td>0.00033</td></tr><tr><td>epoch/val_accuracy</td><td>0.24167</td></tr><tr><td>epoch/val_loss</td><td>2.83448</td></tr></table><br/></div></div>"
      ],
      "text/plain": [
       "<IPython.core.display.HTML object>"
      ]
     },
     "metadata": {},
     "output_type": "display_data"
    },
    {
     "data": {
      "text/html": [
       " View run <strong style=\"color:#cdcd00\">thriving-orchid-163</strong> at: <a href=\"https://wandb.ai/tiny-ml/wake_word_detection/runs/c3v5i5te\" target=\"_blank\">https://wandb.ai/tiny-ml/wake_word_detection/runs/c3v5i5te</a><br/>Synced 6 W&B file(s), 0 media file(s), 480 artifact file(s) and 0 other file(s)"
      ],
      "text/plain": [
       "<IPython.core.display.HTML object>"
      ]
     },
     "metadata": {},
     "output_type": "display_data"
    },
    {
     "data": {
      "text/html": [
       "Find logs at: <code>./wandb/run-20230129_185612-c3v5i5te/logs</code>"
      ],
      "text/plain": [
       "<IPython.core.display.HTML object>"
      ]
     },
     "metadata": {},
     "output_type": "display_data"
    },
    {
     "data": {
      "text/html": [
       "Successfully finished last run (ID:c3v5i5te). Initializing new run:<br/>"
      ],
      "text/plain": [
       "<IPython.core.display.HTML object>"
      ]
     },
     "metadata": {},
     "output_type": "display_data"
    },
    {
     "data": {
      "application/vnd.jupyter.widget-view+json": {
       "model_id": "9233935e653e4a93b0b1c3d582a6d443",
       "version_major": 2,
       "version_minor": 0
      },
      "text/plain": [
       "VBox(children=(Label(value='Waiting for wandb.init()...\\r'), FloatProgress(value=0.016753233333353514, max=1.0…"
      ]
     },
     "metadata": {},
     "output_type": "display_data"
    },
    {
     "data": {
      "text/html": [
       "Tracking run with wandb version 0.13.9"
      ],
      "text/plain": [
       "<IPython.core.display.HTML object>"
      ]
     },
     "metadata": {},
     "output_type": "display_data"
    },
    {
     "data": {
      "text/html": [
       "Run data is saved locally in <code>/Users/fridadesigley/pico/tiny-ml/wandb/run-20230129_190235-xt4lgm8s</code>"
      ],
      "text/plain": [
       "<IPython.core.display.HTML object>"
      ]
     },
     "metadata": {},
     "output_type": "display_data"
    },
    {
     "data": {
      "text/html": [
       "Syncing run <strong><a href=\"https://wandb.ai/tiny-ml/wake_word_detection/runs/xt4lgm8s\" target=\"_blank\">crimson-pig-164</a></strong> to <a href=\"https://wandb.ai/tiny-ml/wake_word_detection\" target=\"_blank\">Weights & Biases</a> (<a href=\"https://wandb.me/run\" target=\"_blank\">docs</a>)<br/>"
      ],
      "text/plain": [
       "<IPython.core.display.HTML object>"
      ]
     },
     "metadata": {},
     "output_type": "display_data"
    },
    {
     "data": {
      "text/html": [
       " View project at <a href=\"https://wandb.ai/tiny-ml/wake_word_detection\" target=\"_blank\">https://wandb.ai/tiny-ml/wake_word_detection</a>"
      ],
      "text/plain": [
       "<IPython.core.display.HTML object>"
      ]
     },
     "metadata": {},
     "output_type": "display_data"
    },
    {
     "data": {
      "text/html": [
       " View run at <a href=\"https://wandb.ai/tiny-ml/wake_word_detection/runs/xt4lgm8s\" target=\"_blank\">https://wandb.ai/tiny-ml/wake_word_detection/runs/xt4lgm8s</a>"
      ],
      "text/plain": [
       "<IPython.core.display.HTML object>"
      ]
     },
     "metadata": {},
     "output_type": "display_data"
    }
   ],
   "source": [
    "run = wandb.init(config={\"bs\": 12},entity='tiny-ml',project = 'wake_word_detection', group='training')"
   ]
  },
  {
   "cell_type": "markdown",
   "id": "00822475",
   "metadata": {
    "slideshow": {
     "slide_type": "slide"
    }
   },
   "source": [
    "## Define our model 🏗️"
   ]
  },
  {
   "cell_type": "code",
   "execution_count": 75,
   "id": "60cc0681",
   "metadata": {
    "scrolled": true,
    "slideshow": {
     "slide_type": "fragment"
    }
   },
   "outputs": [],
   "source": [
    "baseline_model = tf.keras.models.Sequential([\n",
    "  tf.keras.layers.Input(shape=input_shape),\n",
    "  tf.keras.layers.experimental.preprocessing.Resizing(32, 32, interpolation=\"nearest\"), \n",
    "  norm_layer,\n",
    "  tf.keras.layers.Conv2D(8, kernel_size=(8,8), strides=(2, 2), activation=\"relu\"),\n",
    "  tf.keras.layers.MaxPool2D(pool_size=(2,2)),\n",
    "  tf.keras.layers.Flatten(),\n",
    "  tf.keras.layers.Dropout(0.25),\n",
    "  tf.keras.layers.Dense(50, activation='softmax')\n",
    "])"
   ]
  },
  {
   "cell_type": "code",
   "execution_count": 76,
   "id": "c5401882",
   "metadata": {
    "scrolled": true,
    "slideshow": {
     "slide_type": "slide"
    }
   },
   "outputs": [
    {
     "name": "stdout",
     "output_type": "stream",
     "text": [
      "Model: \"sequential_1\"\n",
      "_________________________________________________________________\n",
      " Layer (type)                Output Shape              Param #   \n",
      "=================================================================\n",
      " resizing_1 (Resizing)       (None, 32, 32, 1)         0         \n",
      "                                                                 \n",
      " normalization_1 (Normalizat  (None, 32, 32, 1)        3         \n",
      " ion)                                                            \n",
      "                                                                 \n",
      " conv2d_1 (Conv2D)           (None, 13, 13, 8)         520       \n",
      "                                                                 \n",
      " max_pooling2d_1 (MaxPooling  (None, 6, 6, 8)          0         \n",
      " 2D)                                                             \n",
      "                                                                 \n",
      " flatten_1 (Flatten)         (None, 288)               0         \n",
      "                                                                 \n",
      " dropout_1 (Dropout)         (None, 288)               0         \n",
      "                                                                 \n",
      " dense_1 (Dense)             (None, 50)                14450     \n",
      "                                                                 \n",
      "=================================================================\n",
      "Total params: 14,973\n",
      "Trainable params: 14,970\n",
      "Non-trainable params: 3\n",
      "_________________________________________________________________\n"
     ]
    }
   ],
   "source": [
    "baseline_model.summary()"
   ]
  },
  {
   "cell_type": "code",
   "execution_count": 77,
   "id": "c008e0d1",
   "metadata": {
    "scrolled": true,
    "slideshow": {
     "slide_type": "slide"
    }
   },
   "outputs": [],
   "source": [
    "METRICS = [\"accuracy\",]\n",
    "baseline_model.compile(\n",
    "    optimizer=tf.keras.optimizers.Adam(learning_rate=0.003),\n",
    "    loss=tf.keras.losses.SparseCategoricalCrossentropy(from_logits=False),\n",
    "    metrics=METRICS,\n",
    ")"
   ]
  },
  {
   "cell_type": "code",
   "execution_count": 78,
   "id": "69ce5024",
   "metadata": {
    "slideshow": {
     "slide_type": "subslide"
    }
   },
   "outputs": [],
   "source": [
    "def scheduler(epoch, lr):\n",
    "    ''' a function to increase lr at start of trining\n",
    "    '''\n",
    "    if epoch < 10:\n",
    "        return lr\n",
    "    else:\n",
    "        # add somthing like np.linespace([0,-0.1])\n",
    "        return lr * tf.math.exp(-0.1)"
   ]
  },
  {
   "cell_type": "code",
   "execution_count": 79,
   "id": "6418c1f4",
   "metadata": {
    "scrolled": true,
    "slideshow": {
     "slide_type": "slide"
    }
   },
   "outputs": [],
   "source": [
    "from wandb.keras import WandbMetricsLogger, WandbModelCheckpoint\n",
    "# Initialize a new W&B run\n",
    "checkpoint_path = \"training_1/\"\n",
    "checkpoint_dir = os.path.dirname(checkpoint_path)\n",
    "# Create a callback that saves the model's weights"
   ]
  },
  {
   "cell_type": "code",
   "execution_count": 80,
   "id": "04840fce",
   "metadata": {
    "slideshow": {
     "slide_type": "fragment"
    }
   },
   "outputs": [],
   "source": [
    "cp_callback = tf.keras.callbacks.ModelCheckpoint(\n",
    "    filepath=checkpoint_path,\n",
    "    save_weights_only=True,\n",
    "    verbose=1\n",
    ")"
   ]
  },
  {
   "cell_type": "code",
   "execution_count": 81,
   "id": "fc7a0b1e",
   "metadata": {
    "slideshow": {
     "slide_type": "fragment"
    }
   },
   "outputs": [],
   "source": [
    "callbacks = [\n",
    "    tf.keras.callbacks.EarlyStopping(verbose=0, patience=25), \n",
    "    tf.keras.callbacks.LearningRateScheduler(scheduler)\n",
    ",cp_callback,WandbMetricsLogger(),WandbModelCheckpoint(checkpoint_path)]"
   ]
  },
  {
   "cell_type": "code",
   "execution_count": 84,
   "id": "ffa1efd6",
   "metadata": {
    "scrolled": false,
    "slideshow": {
     "slide_type": "slide"
    }
   },
   "outputs": [
    {
     "data": {
      "text/html": [
       "<button onClick=\"this.nextSibling.style.display='block';this.style.display='none';\">Display W&B run</button><iframe src=\"https://wandb.ai/tiny-ml/wake_word_detection/runs/xt4lgm8s?jupyter=true\" style=\"border:none;width:100%;height:420px;display:none;\"></iframe>"
      ],
      "text/plain": [
       "<wandb.sdk.wandb_run.Run at 0x5fb5a7d00>"
      ]
     },
     "execution_count": 84,
     "metadata": {},
     "output_type": "execute_result"
    }
   ],
   "source": [
    "run"
   ]
  },
  {
   "cell_type": "code",
   "execution_count": 83,
   "id": "09c56d39",
   "metadata": {
    "scrolled": true,
    "slideshow": {
     "slide_type": "fragment"
    }
   },
   "outputs": [
    {
     "name": "stdout",
     "output_type": "stream",
     "text": [
      "Epoch 1/250\n",
      "358/365 [============================>.] - ETA: 0s - loss: 3.5079 - accuracy: 0.1027\n",
      "Epoch 1: saving model to training_1/\n"
     ]
    },
    {
     "name": "stderr",
     "output_type": "stream",
     "text": [
      "WARNING:absl:Found untraced functions such as _jit_compiled_convolution_op, _update_step_xla while saving (showing 2 of 2). These functions will not be directly callable after loading.\n"
     ]
    },
    {
     "name": "stdout",
     "output_type": "stream",
     "text": [
      "INFO:tensorflow:Assets written to: training_1/assets\n"
     ]
    },
    {
     "name": "stderr",
     "output_type": "stream",
     "text": [
      "INFO:tensorflow:Assets written to: training_1/assets\n",
      "\u001b[34m\u001b[1mwandb\u001b[0m: Adding directory to artifact (./training_1)... Done. 0.0s\n"
     ]
    },
    {
     "name": "stdout",
     "output_type": "stream",
     "text": [
      "365/365 [==============================] - 3s 7ms/step - loss: 3.5046 - accuracy: 0.1035 - val_loss: 3.1314 - val_accuracy: 0.1713 - lr: 0.0030\n",
      "Epoch 2/250\n",
      "364/365 [============================>.] - ETA: 0s - loss: 3.1033 - accuracy: 0.1947\n",
      "Epoch 2: saving model to training_1/\n"
     ]
    },
    {
     "name": "stderr",
     "output_type": "stream",
     "text": [
      "WARNING:absl:Found untraced functions such as _jit_compiled_convolution_op, _update_step_xla while saving (showing 2 of 2). These functions will not be directly callable after loading.\n"
     ]
    },
    {
     "name": "stdout",
     "output_type": "stream",
     "text": [
      "INFO:tensorflow:Assets written to: training_1/assets\n"
     ]
    },
    {
     "name": "stderr",
     "output_type": "stream",
     "text": [
      "INFO:tensorflow:Assets written to: training_1/assets\n",
      "\u001b[34m\u001b[1mwandb\u001b[0m: Adding directory to artifact (./training_1)... Done. 0.0s\n"
     ]
    },
    {
     "name": "stdout",
     "output_type": "stream",
     "text": [
      "365/365 [==============================] - 2s 6ms/step - loss: 3.1035 - accuracy: 0.1946 - val_loss: 2.9419 - val_accuracy: 0.2213 - lr: 0.0030\n",
      "Epoch 3/250\n",
      "355/365 [============================>.] - ETA: 0s - loss: 2.9484 - accuracy: 0.2262\n",
      "Epoch 3: saving model to training_1/\n"
     ]
    },
    {
     "name": "stderr",
     "output_type": "stream",
     "text": [
      "WARNING:absl:Found untraced functions such as _jit_compiled_convolution_op, _update_step_xla while saving (showing 2 of 2). These functions will not be directly callable after loading.\n"
     ]
    },
    {
     "name": "stdout",
     "output_type": "stream",
     "text": [
      "INFO:tensorflow:Assets written to: training_1/assets\n"
     ]
    },
    {
     "name": "stderr",
     "output_type": "stream",
     "text": [
      "INFO:tensorflow:Assets written to: training_1/assets\n",
      "\u001b[34m\u001b[1mwandb\u001b[0m: Adding directory to artifact (./training_1)... Done. 0.0s\n"
     ]
    },
    {
     "name": "stdout",
     "output_type": "stream",
     "text": [
      "365/365 [==============================] - 2s 5ms/step - loss: 2.9503 - accuracy: 0.2260 - val_loss: 2.8956 - val_accuracy: 0.2380 - lr: 0.0030\n",
      "Epoch 4/250\n",
      "349/365 [===========================>..] - ETA: 0s - loss: 2.8745 - accuracy: 0.2416\n",
      "Epoch 4: saving model to training_1/\n"
     ]
    },
    {
     "name": "stderr",
     "output_type": "stream",
     "text": [
      "WARNING:absl:Found untraced functions such as _jit_compiled_convolution_op, _update_step_xla while saving (showing 2 of 2). These functions will not be directly callable after loading.\n"
     ]
    },
    {
     "name": "stdout",
     "output_type": "stream",
     "text": [
      "INFO:tensorflow:Assets written to: training_1/assets\n"
     ]
    },
    {
     "name": "stderr",
     "output_type": "stream",
     "text": [
      "INFO:tensorflow:Assets written to: training_1/assets\n",
      "\u001b[34m\u001b[1mwandb\u001b[0m: Adding directory to artifact (./training_1)... Done. 0.0s\n"
     ]
    },
    {
     "name": "stdout",
     "output_type": "stream",
     "text": [
      "365/365 [==============================] - 2s 5ms/step - loss: 2.8755 - accuracy: 0.2417 - val_loss: 2.8463 - val_accuracy: 0.2250 - lr: 0.0030\n",
      "Epoch 5/250\n",
      "351/365 [===========================>..] - ETA: 0s - loss: 2.8096 - accuracy: 0.2621\n",
      "Epoch 5: saving model to training_1/\n"
     ]
    },
    {
     "name": "stderr",
     "output_type": "stream",
     "text": [
      "WARNING:absl:Found untraced functions such as _jit_compiled_convolution_op, _update_step_xla while saving (showing 2 of 2). These functions will not be directly callable after loading.\n"
     ]
    },
    {
     "name": "stdout",
     "output_type": "stream",
     "text": [
      "INFO:tensorflow:Assets written to: training_1/assets\n"
     ]
    },
    {
     "name": "stderr",
     "output_type": "stream",
     "text": [
      "INFO:tensorflow:Assets written to: training_1/assets\n",
      "\u001b[34m\u001b[1mwandb\u001b[0m: Adding directory to artifact (./training_1)... Done. 0.0s\n"
     ]
    },
    {
     "name": "stdout",
     "output_type": "stream",
     "text": [
      "365/365 [==============================] - 2s 6ms/step - loss: 2.8118 - accuracy: 0.2613 - val_loss: 2.8184 - val_accuracy: 0.2546 - lr: 0.0030\n",
      "Epoch 6/250\n",
      "363/365 [============================>.] - ETA: 0s - loss: 2.7584 - accuracy: 0.2658\n",
      "Epoch 6: saving model to training_1/\n"
     ]
    },
    {
     "name": "stderr",
     "output_type": "stream",
     "text": [
      "WARNING:absl:Found untraced functions such as _jit_compiled_convolution_op, _update_step_xla while saving (showing 2 of 2). These functions will not be directly callable after loading.\n"
     ]
    },
    {
     "name": "stdout",
     "output_type": "stream",
     "text": [
      "INFO:tensorflow:Assets written to: training_1/assets\n"
     ]
    },
    {
     "name": "stderr",
     "output_type": "stream",
     "text": [
      "INFO:tensorflow:Assets written to: training_1/assets\n",
      "\u001b[34m\u001b[1mwandb\u001b[0m: Adding directory to artifact (./training_1)... Done. 0.0s\n"
     ]
    },
    {
     "name": "stdout",
     "output_type": "stream",
     "text": [
      "365/365 [==============================] - 2s 6ms/step - loss: 2.7585 - accuracy: 0.2655 - val_loss: 2.8520 - val_accuracy: 0.2398 - lr: 0.0030\n",
      "Epoch 7/250\n",
      "356/365 [============================>.] - ETA: 0s - loss: 2.7299 - accuracy: 0.2714\n",
      "Epoch 7: saving model to training_1/\n"
     ]
    },
    {
     "name": "stderr",
     "output_type": "stream",
     "text": [
      "WARNING:absl:Found untraced functions such as _jit_compiled_convolution_op, _update_step_xla while saving (showing 2 of 2). These functions will not be directly callable after loading.\n"
     ]
    },
    {
     "name": "stdout",
     "output_type": "stream",
     "text": [
      "INFO:tensorflow:Assets written to: training_1/assets\n"
     ]
    },
    {
     "name": "stderr",
     "output_type": "stream",
     "text": [
      "INFO:tensorflow:Assets written to: training_1/assets\n",
      "\u001b[34m\u001b[1mwandb\u001b[0m: Adding directory to artifact (./training_1)... Done. 0.0s\n"
     ]
    },
    {
     "name": "stdout",
     "output_type": "stream",
     "text": [
      "365/365 [==============================] - 2s 6ms/step - loss: 2.7327 - accuracy: 0.2713 - val_loss: 2.8330 - val_accuracy: 0.2593 - lr: 0.0030\n",
      "Epoch 8/250\n",
      "364/365 [============================>.] - ETA: 0s - loss: 2.7043 - accuracy: 0.2800\n",
      "Epoch 8: saving model to training_1/\n"
     ]
    },
    {
     "name": "stderr",
     "output_type": "stream",
     "text": [
      "WARNING:absl:Found untraced functions such as _jit_compiled_convolution_op, _update_step_xla while saving (showing 2 of 2). These functions will not be directly callable after loading.\n"
     ]
    },
    {
     "name": "stdout",
     "output_type": "stream",
     "text": [
      "INFO:tensorflow:Assets written to: training_1/assets\n"
     ]
    },
    {
     "name": "stderr",
     "output_type": "stream",
     "text": [
      "INFO:tensorflow:Assets written to: training_1/assets\n",
      "\u001b[34m\u001b[1mwandb\u001b[0m: Adding directory to artifact (./training_1)... Done. 0.0s\n"
     ]
    },
    {
     "name": "stdout",
     "output_type": "stream",
     "text": [
      "365/365 [==============================] - 3s 7ms/step - loss: 2.7043 - accuracy: 0.2799 - val_loss: 2.8262 - val_accuracy: 0.2546 - lr: 0.0030\n",
      "Epoch 9/250\n",
      "355/365 [============================>.] - ETA: 0s - loss: 2.6848 - accuracy: 0.2820\n",
      "Epoch 9: saving model to training_1/\n"
     ]
    },
    {
     "name": "stderr",
     "output_type": "stream",
     "text": [
      "WARNING:absl:Found untraced functions such as _jit_compiled_convolution_op, _update_step_xla while saving (showing 2 of 2). These functions will not be directly callable after loading.\n"
     ]
    },
    {
     "name": "stdout",
     "output_type": "stream",
     "text": [
      "INFO:tensorflow:Assets written to: training_1/assets\n"
     ]
    },
    {
     "name": "stderr",
     "output_type": "stream",
     "text": [
      "INFO:tensorflow:Assets written to: training_1/assets\n",
      "\u001b[34m\u001b[1mwandb\u001b[0m: Adding directory to artifact (./training_1)... Done. 0.0s\n"
     ]
    },
    {
     "name": "stdout",
     "output_type": "stream",
     "text": [
      "365/365 [==============================] - 2s 6ms/step - loss: 2.6847 - accuracy: 0.2824 - val_loss: 2.8388 - val_accuracy: 0.2417 - lr: 0.0030\n",
      "Epoch 10/250\n",
      "363/365 [============================>.] - ETA: 0s - loss: 2.6784 - accuracy: 0.2850\n",
      "Epoch 10: saving model to training_1/\n"
     ]
    },
    {
     "name": "stderr",
     "output_type": "stream",
     "text": [
      "WARNING:absl:Found untraced functions such as _jit_compiled_convolution_op, _update_step_xla while saving (showing 2 of 2). These functions will not be directly callable after loading.\n"
     ]
    },
    {
     "name": "stdout",
     "output_type": "stream",
     "text": [
      "INFO:tensorflow:Assets written to: training_1/assets\n"
     ]
    },
    {
     "name": "stderr",
     "output_type": "stream",
     "text": [
      "INFO:tensorflow:Assets written to: training_1/assets\n",
      "\u001b[34m\u001b[1mwandb\u001b[0m: Adding directory to artifact (./training_1)... Done. 0.0s\n"
     ]
    },
    {
     "name": "stdout",
     "output_type": "stream",
     "text": [
      "365/365 [==============================] - 2s 5ms/step - loss: 2.6775 - accuracy: 0.2852 - val_loss: 2.8424 - val_accuracy: 0.2491 - lr: 0.0030\n",
      "Epoch 11/250\n",
      "349/365 [===========================>..] - ETA: 0s - loss: 2.6459 - accuracy: 0.2900\n",
      "Epoch 11: saving model to training_1/\n"
     ]
    },
    {
     "name": "stderr",
     "output_type": "stream",
     "text": [
      "WARNING:absl:Found untraced functions such as _jit_compiled_convolution_op, _update_step_xla while saving (showing 2 of 2). These functions will not be directly callable after loading.\n"
     ]
    },
    {
     "name": "stdout",
     "output_type": "stream",
     "text": [
      "INFO:tensorflow:Assets written to: training_1/assets\n"
     ]
    },
    {
     "name": "stderr",
     "output_type": "stream",
     "text": [
      "INFO:tensorflow:Assets written to: training_1/assets\n",
      "\u001b[34m\u001b[1mwandb\u001b[0m: Adding directory to artifact (./training_1)... Done. 0.0s\n"
     ]
    },
    {
     "name": "stdout",
     "output_type": "stream",
     "text": [
      "365/365 [==============================] - 2s 6ms/step - loss: 2.6490 - accuracy: 0.2889 - val_loss: 2.8102 - val_accuracy: 0.2667 - lr: 0.0027\n",
      "Epoch 12/250\n",
      "353/365 [============================>.] - ETA: 0s - loss: 2.6064 - accuracy: 0.3039\n",
      "Epoch 12: saving model to training_1/\n"
     ]
    },
    {
     "name": "stderr",
     "output_type": "stream",
     "text": [
      "WARNING:absl:Found untraced functions such as _jit_compiled_convolution_op, _update_step_xla while saving (showing 2 of 2). These functions will not be directly callable after loading.\n"
     ]
    },
    {
     "name": "stdout",
     "output_type": "stream",
     "text": [
      "INFO:tensorflow:Assets written to: training_1/assets\n"
     ]
    },
    {
     "name": "stderr",
     "output_type": "stream",
     "text": [
      "INFO:tensorflow:Assets written to: training_1/assets\n",
      "\u001b[34m\u001b[1mwandb\u001b[0m: Adding directory to artifact (./training_1)... Done. 0.0s\n"
     ]
    },
    {
     "name": "stdout",
     "output_type": "stream",
     "text": [
      "365/365 [==============================] - 2s 6ms/step - loss: 2.6102 - accuracy: 0.3021 - val_loss: 2.8581 - val_accuracy: 0.2630 - lr: 0.0025\n",
      "Epoch 13/250\n",
      "360/365 [============================>.] - ETA: 0s - loss: 2.5994 - accuracy: 0.3045\n",
      "Epoch 13: saving model to training_1/\n"
     ]
    },
    {
     "name": "stderr",
     "output_type": "stream",
     "text": [
      "WARNING:absl:Found untraced functions such as _jit_compiled_convolution_op, _update_step_xla while saving (showing 2 of 2). These functions will not be directly callable after loading.\n"
     ]
    },
    {
     "name": "stdout",
     "output_type": "stream",
     "text": [
      "INFO:tensorflow:Assets written to: training_1/assets\n"
     ]
    },
    {
     "name": "stderr",
     "output_type": "stream",
     "text": [
      "INFO:tensorflow:Assets written to: training_1/assets\n",
      "\u001b[34m\u001b[1mwandb\u001b[0m: Adding directory to artifact (./training_1)... Done. 0.0s\n"
     ]
    },
    {
     "name": "stdout",
     "output_type": "stream",
     "text": [
      "365/365 [==============================] - 2s 6ms/step - loss: 2.6010 - accuracy: 0.3040 - val_loss: 2.8415 - val_accuracy: 0.2537 - lr: 0.0022\n",
      "Epoch 14/250\n",
      "362/365 [============================>.] - ETA: 0s - loss: 2.5749 - accuracy: 0.3076\n",
      "Epoch 14: saving model to training_1/\n"
     ]
    },
    {
     "name": "stderr",
     "output_type": "stream",
     "text": [
      "WARNING:absl:Found untraced functions such as _jit_compiled_convolution_op, _update_step_xla while saving (showing 2 of 2). These functions will not be directly callable after loading.\n"
     ]
    },
    {
     "name": "stdout",
     "output_type": "stream",
     "text": [
      "INFO:tensorflow:Assets written to: training_1/assets\n"
     ]
    },
    {
     "name": "stderr",
     "output_type": "stream",
     "text": [
      "INFO:tensorflow:Assets written to: training_1/assets\n",
      "\u001b[34m\u001b[1mwandb\u001b[0m: Adding directory to artifact (./training_1)... Done. 0.0s\n"
     ]
    },
    {
     "name": "stdout",
     "output_type": "stream",
     "text": [
      "365/365 [==============================] - 2s 6ms/step - loss: 2.5743 - accuracy: 0.3079 - val_loss: 2.8397 - val_accuracy: 0.2667 - lr: 0.0020\n",
      "Epoch 15/250\n",
      "353/365 [============================>.] - ETA: 0s - loss: 2.5628 - accuracy: 0.3129\n",
      "Epoch 15: saving model to training_1/\n"
     ]
    },
    {
     "name": "stderr",
     "output_type": "stream",
     "text": [
      "WARNING:absl:Found untraced functions such as _jit_compiled_convolution_op, _update_step_xla while saving (showing 2 of 2). These functions will not be directly callable after loading.\n"
     ]
    },
    {
     "name": "stdout",
     "output_type": "stream",
     "text": [
      "INFO:tensorflow:Assets written to: training_1/assets\n"
     ]
    },
    {
     "name": "stderr",
     "output_type": "stream",
     "text": [
      "INFO:tensorflow:Assets written to: training_1/assets\n",
      "\u001b[34m\u001b[1mwandb\u001b[0m: Adding directory to artifact (./training_1)... Done. 0.0s\n"
     ]
    },
    {
     "name": "stdout",
     "output_type": "stream",
     "text": [
      "365/365 [==============================] - 2s 6ms/step - loss: 2.5609 - accuracy: 0.3128 - val_loss: 2.8626 - val_accuracy: 0.2537 - lr: 0.0018\n",
      "Epoch 16/250\n",
      "353/365 [============================>.] - ETA: 0s - loss: 2.5325 - accuracy: 0.3180\n",
      "Epoch 16: saving model to training_1/\n"
     ]
    },
    {
     "name": "stderr",
     "output_type": "stream",
     "text": [
      "WARNING:absl:Found untraced functions such as _jit_compiled_convolution_op, _update_step_xla while saving (showing 2 of 2). These functions will not be directly callable after loading.\n"
     ]
    },
    {
     "name": "stdout",
     "output_type": "stream",
     "text": [
      "INFO:tensorflow:Assets written to: training_1/assets\n"
     ]
    },
    {
     "name": "stderr",
     "output_type": "stream",
     "text": [
      "INFO:tensorflow:Assets written to: training_1/assets\n",
      "\u001b[34m\u001b[1mwandb\u001b[0m: Adding directory to artifact (./training_1)... Done. 0.0s\n"
     ]
    },
    {
     "name": "stdout",
     "output_type": "stream",
     "text": [
      "365/365 [==============================] - 2s 6ms/step - loss: 2.5322 - accuracy: 0.3182 - val_loss: 2.8643 - val_accuracy: 0.2630 - lr: 0.0016\n",
      "Epoch 17/250\n",
      "353/365 [============================>.] - ETA: 0s - loss: 2.5199 - accuracy: 0.3194\n",
      "Epoch 17: saving model to training_1/\n"
     ]
    },
    {
     "name": "stderr",
     "output_type": "stream",
     "text": [
      "WARNING:absl:Found untraced functions such as _jit_compiled_convolution_op, _update_step_xla while saving (showing 2 of 2). These functions will not be directly callable after loading.\n"
     ]
    },
    {
     "name": "stdout",
     "output_type": "stream",
     "text": [
      "INFO:tensorflow:Assets written to: training_1/assets\n"
     ]
    },
    {
     "name": "stderr",
     "output_type": "stream",
     "text": [
      "INFO:tensorflow:Assets written to: training_1/assets\n",
      "\u001b[34m\u001b[1mwandb\u001b[0m: Adding directory to artifact (./training_1)... Done. 0.0s\n"
     ]
    },
    {
     "name": "stdout",
     "output_type": "stream",
     "text": [
      "365/365 [==============================] - 2s 5ms/step - loss: 2.5227 - accuracy: 0.3184 - val_loss: 2.8357 - val_accuracy: 0.2611 - lr: 0.0015\n",
      "Epoch 18/250\n",
      "360/365 [============================>.] - ETA: 0s - loss: 2.5052 - accuracy: 0.3261\n",
      "Epoch 18: saving model to training_1/\n"
     ]
    },
    {
     "name": "stderr",
     "output_type": "stream",
     "text": [
      "WARNING:absl:Found untraced functions such as _jit_compiled_convolution_op, _update_step_xla while saving (showing 2 of 2). These functions will not be directly callable after loading.\n"
     ]
    },
    {
     "name": "stdout",
     "output_type": "stream",
     "text": [
      "INFO:tensorflow:Assets written to: training_1/assets\n"
     ]
    },
    {
     "name": "stderr",
     "output_type": "stream",
     "text": [
      "INFO:tensorflow:Assets written to: training_1/assets\n",
      "\u001b[34m\u001b[1mwandb\u001b[0m: Adding directory to artifact (./training_1)... Done. 0.0s\n"
     ]
    },
    {
     "name": "stdout",
     "output_type": "stream",
     "text": [
      "365/365 [==============================] - 2s 6ms/step - loss: 2.5065 - accuracy: 0.3260 - val_loss: 2.8635 - val_accuracy: 0.2611 - lr: 0.0013\n",
      "Epoch 19/250\n",
      "352/365 [===========================>..] - ETA: 0s - loss: 2.5047 - accuracy: 0.3291\n",
      "Epoch 19: saving model to training_1/\n"
     ]
    },
    {
     "name": "stderr",
     "output_type": "stream",
     "text": [
      "WARNING:absl:Found untraced functions such as _jit_compiled_convolution_op, _update_step_xla while saving (showing 2 of 2). These functions will not be directly callable after loading.\n"
     ]
    },
    {
     "name": "stdout",
     "output_type": "stream",
     "text": [
      "INFO:tensorflow:Assets written to: training_1/assets\n"
     ]
    },
    {
     "name": "stderr",
     "output_type": "stream",
     "text": [
      "INFO:tensorflow:Assets written to: training_1/assets\n",
      "\u001b[34m\u001b[1mwandb\u001b[0m: Adding directory to artifact (./training_1)... Done. 0.0s\n"
     ]
    },
    {
     "name": "stdout",
     "output_type": "stream",
     "text": [
      "365/365 [==============================] - 2s 6ms/step - loss: 2.5042 - accuracy: 0.3293 - val_loss: 2.8208 - val_accuracy: 0.2639 - lr: 0.0012\n",
      "Epoch 20/250\n",
      "360/365 [============================>.] - ETA: 0s - loss: 2.4892 - accuracy: 0.3310\n",
      "Epoch 20: saving model to training_1/\n"
     ]
    },
    {
     "name": "stderr",
     "output_type": "stream",
     "text": [
      "WARNING:absl:Found untraced functions such as _jit_compiled_convolution_op, _update_step_xla while saving (showing 2 of 2). These functions will not be directly callable after loading.\n"
     ]
    },
    {
     "name": "stdout",
     "output_type": "stream",
     "text": [
      "INFO:tensorflow:Assets written to: training_1/assets\n"
     ]
    },
    {
     "name": "stderr",
     "output_type": "stream",
     "text": [
      "INFO:tensorflow:Assets written to: training_1/assets\n",
      "\u001b[34m\u001b[1mwandb\u001b[0m: Adding directory to artifact (./training_1)... Done. 0.0s\n"
     ]
    },
    {
     "name": "stdout",
     "output_type": "stream",
     "text": [
      "365/365 [==============================] - 2s 6ms/step - loss: 2.4913 - accuracy: 0.3305 - val_loss: 2.8285 - val_accuracy: 0.2685 - lr: 0.0011\n",
      "Epoch 21/250\n",
      "353/365 [============================>.] - ETA: 0s - loss: 2.4823 - accuracy: 0.3306\n",
      "Epoch 21: saving model to training_1/\n"
     ]
    },
    {
     "name": "stderr",
     "output_type": "stream",
     "text": [
      "WARNING:absl:Found untraced functions such as _jit_compiled_convolution_op, _update_step_xla while saving (showing 2 of 2). These functions will not be directly callable after loading.\n"
     ]
    },
    {
     "name": "stdout",
     "output_type": "stream",
     "text": [
      "INFO:tensorflow:Assets written to: training_1/assets\n"
     ]
    },
    {
     "name": "stderr",
     "output_type": "stream",
     "text": [
      "INFO:tensorflow:Assets written to: training_1/assets\n",
      "\u001b[34m\u001b[1mwandb\u001b[0m: Adding directory to artifact (./training_1)... Done. 0.0s\n"
     ]
    },
    {
     "name": "stdout",
     "output_type": "stream",
     "text": [
      "365/365 [==============================] - 2s 6ms/step - loss: 2.4799 - accuracy: 0.3312 - val_loss: 2.8162 - val_accuracy: 0.2676 - lr: 9.9861e-04\n",
      "Epoch 22/250\n",
      "354/365 [============================>.] - ETA: 0s - loss: 2.4794 - accuracy: 0.3272\n",
      "Epoch 22: saving model to training_1/\n"
     ]
    },
    {
     "name": "stderr",
     "output_type": "stream",
     "text": [
      "WARNING:absl:Found untraced functions such as _jit_compiled_convolution_op, _update_step_xla while saving (showing 2 of 2). These functions will not be directly callable after loading.\n"
     ]
    },
    {
     "name": "stdout",
     "output_type": "stream",
     "text": [
      "INFO:tensorflow:Assets written to: training_1/assets\n"
     ]
    },
    {
     "name": "stderr",
     "output_type": "stream",
     "text": [
      "INFO:tensorflow:Assets written to: training_1/assets\n",
      "\u001b[34m\u001b[1mwandb\u001b[0m: Adding directory to artifact (./training_1)... Done. 0.0s\n"
     ]
    },
    {
     "name": "stdout",
     "output_type": "stream",
     "text": [
      "365/365 [==============================] - 2s 6ms/step - loss: 2.4787 - accuracy: 0.3274 - val_loss: 2.8175 - val_accuracy: 0.2713 - lr: 9.0358e-04\n",
      "Epoch 23/250\n",
      "351/365 [===========================>..] - ETA: 0s - loss: 2.4557 - accuracy: 0.3409\n",
      "Epoch 23: saving model to training_1/\n"
     ]
    },
    {
     "name": "stderr",
     "output_type": "stream",
     "text": [
      "WARNING:absl:Found untraced functions such as _jit_compiled_convolution_op, _update_step_xla while saving (showing 2 of 2). These functions will not be directly callable after loading.\n"
     ]
    },
    {
     "name": "stdout",
     "output_type": "stream",
     "text": [
      "INFO:tensorflow:Assets written to: training_1/assets\n"
     ]
    },
    {
     "name": "stderr",
     "output_type": "stream",
     "text": [
      "INFO:tensorflow:Assets written to: training_1/assets\n",
      "\u001b[34m\u001b[1mwandb\u001b[0m: Adding directory to artifact (./training_1)... Done. 0.0s\n"
     ]
    },
    {
     "name": "stdout",
     "output_type": "stream",
     "text": [
      "365/365 [==============================] - 2s 6ms/step - loss: 2.4533 - accuracy: 0.3410 - val_loss: 2.8119 - val_accuracy: 0.2694 - lr: 8.1760e-04\n",
      "Epoch 24/250\n",
      "363/365 [============================>.] - ETA: 0s - loss: 2.4478 - accuracy: 0.3381\n",
      "Epoch 24: saving model to training_1/\n"
     ]
    },
    {
     "name": "stderr",
     "output_type": "stream",
     "text": [
      "WARNING:absl:Found untraced functions such as _jit_compiled_convolution_op, _update_step_xla while saving (showing 2 of 2). These functions will not be directly callable after loading.\n"
     ]
    },
    {
     "name": "stdout",
     "output_type": "stream",
     "text": [
      "INFO:tensorflow:Assets written to: training_1/assets\n"
     ]
    },
    {
     "name": "stderr",
     "output_type": "stream",
     "text": [
      "INFO:tensorflow:Assets written to: training_1/assets\n",
      "\u001b[34m\u001b[1mwandb\u001b[0m: Adding directory to artifact (./training_1)... Done. 0.0s\n"
     ]
    },
    {
     "name": "stdout",
     "output_type": "stream",
     "text": [
      "365/365 [==============================] - 2s 6ms/step - loss: 2.4481 - accuracy: 0.3380 - val_loss: 2.8111 - val_accuracy: 0.2815 - lr: 7.3979e-04\n",
      "Epoch 25/250\n",
      "350/365 [===========================>..] - ETA: 0s - loss: 2.4509 - accuracy: 0.3390\n",
      "Epoch 25: saving model to training_1/\n"
     ]
    },
    {
     "name": "stderr",
     "output_type": "stream",
     "text": [
      "WARNING:absl:Found untraced functions such as _jit_compiled_convolution_op, _update_step_xla while saving (showing 2 of 2). These functions will not be directly callable after loading.\n"
     ]
    },
    {
     "name": "stdout",
     "output_type": "stream",
     "text": [
      "INFO:tensorflow:Assets written to: training_1/assets\n"
     ]
    },
    {
     "name": "stderr",
     "output_type": "stream",
     "text": [
      "INFO:tensorflow:Assets written to: training_1/assets\n",
      "\u001b[34m\u001b[1mwandb\u001b[0m: Adding directory to artifact (./training_1)... Done. 0.0s\n"
     ]
    },
    {
     "name": "stdout",
     "output_type": "stream",
     "text": [
      "365/365 [==============================] - 2s 6ms/step - loss: 2.4483 - accuracy: 0.3394 - val_loss: 2.8173 - val_accuracy: 0.2685 - lr: 6.6939e-04\n",
      "Epoch 26/250\n",
      "354/365 [============================>.] - ETA: 0s - loss: 2.4445 - accuracy: 0.3365\n",
      "Epoch 26: saving model to training_1/\n"
     ]
    },
    {
     "name": "stderr",
     "output_type": "stream",
     "text": [
      "WARNING:absl:Found untraced functions such as _jit_compiled_convolution_op, _update_step_xla while saving (showing 2 of 2). These functions will not be directly callable after loading.\n"
     ]
    },
    {
     "name": "stdout",
     "output_type": "stream",
     "text": [
      "INFO:tensorflow:Assets written to: training_1/assets\n"
     ]
    },
    {
     "name": "stderr",
     "output_type": "stream",
     "text": [
      "INFO:tensorflow:Assets written to: training_1/assets\n",
      "\u001b[34m\u001b[1mwandb\u001b[0m: Adding directory to artifact (./training_1)... Done. 0.0s\n"
     ]
    },
    {
     "name": "stdout",
     "output_type": "stream",
     "text": [
      "365/365 [==============================] - 2s 7ms/step - loss: 2.4395 - accuracy: 0.3378 - val_loss: 2.8100 - val_accuracy: 0.2620 - lr: 6.0569e-04\n",
      "Epoch 27/250\n",
      "351/365 [===========================>..] - ETA: 0s - loss: 2.4294 - accuracy: 0.3447\n",
      "Epoch 27: saving model to training_1/\n"
     ]
    },
    {
     "name": "stderr",
     "output_type": "stream",
     "text": [
      "WARNING:absl:Found untraced functions such as _jit_compiled_convolution_op, _update_step_xla while saving (showing 2 of 2). These functions will not be directly callable after loading.\n"
     ]
    },
    {
     "name": "stdout",
     "output_type": "stream",
     "text": [
      "INFO:tensorflow:Assets written to: training_1/assets\n"
     ]
    },
    {
     "name": "stderr",
     "output_type": "stream",
     "text": [
      "INFO:tensorflow:Assets written to: training_1/assets\n",
      "\u001b[34m\u001b[1mwandb\u001b[0m: Adding directory to artifact (./training_1)... Done. 0.0s\n"
     ]
    },
    {
     "name": "stdout",
     "output_type": "stream",
     "text": [
      "365/365 [==============================] - 2s 6ms/step - loss: 2.4324 - accuracy: 0.3438 - val_loss: 2.8263 - val_accuracy: 0.2704 - lr: 5.4805e-04\n",
      "Epoch 28/250\n",
      "356/365 [============================>.] - ETA: 0s - loss: 2.4265 - accuracy: 0.3466\n",
      "Epoch 28: saving model to training_1/\n"
     ]
    },
    {
     "name": "stderr",
     "output_type": "stream",
     "text": [
      "WARNING:absl:Found untraced functions such as _jit_compiled_convolution_op, _update_step_xla while saving (showing 2 of 2). These functions will not be directly callable after loading.\n"
     ]
    },
    {
     "name": "stdout",
     "output_type": "stream",
     "text": [
      "INFO:tensorflow:Assets written to: training_1/assets\n"
     ]
    },
    {
     "name": "stderr",
     "output_type": "stream",
     "text": [
      "INFO:tensorflow:Assets written to: training_1/assets\n",
      "\u001b[34m\u001b[1mwandb\u001b[0m: Adding directory to artifact (./training_1)... Done. 0.0s\n"
     ]
    },
    {
     "name": "stdout",
     "output_type": "stream",
     "text": [
      "365/365 [==============================] - 2s 6ms/step - loss: 2.4284 - accuracy: 0.3465 - val_loss: 2.8037 - val_accuracy: 0.2796 - lr: 4.9590e-04\n",
      "Epoch 29/250\n",
      "356/365 [============================>.] - ETA: 0s - loss: 2.4367 - accuracy: 0.3402\n",
      "Epoch 29: saving model to training_1/\n"
     ]
    },
    {
     "name": "stderr",
     "output_type": "stream",
     "text": [
      "WARNING:absl:Found untraced functions such as _jit_compiled_convolution_op, _update_step_xla while saving (showing 2 of 2). These functions will not be directly callable after loading.\n"
     ]
    },
    {
     "name": "stdout",
     "output_type": "stream",
     "text": [
      "INFO:tensorflow:Assets written to: training_1/assets\n"
     ]
    },
    {
     "name": "stderr",
     "output_type": "stream",
     "text": [
      "INFO:tensorflow:Assets written to: training_1/assets\n",
      "\u001b[34m\u001b[1mwandb\u001b[0m: Adding directory to artifact (./training_1)... Done. 0.0s\n"
     ]
    },
    {
     "name": "stdout",
     "output_type": "stream",
     "text": [
      "365/365 [==============================] - 2s 6ms/step - loss: 2.4364 - accuracy: 0.3404 - val_loss: 2.8117 - val_accuracy: 0.2778 - lr: 4.4871e-04\n",
      "Epoch 30/250\n",
      "357/365 [============================>.] - ETA: 0s - loss: 2.4094 - accuracy: 0.3461\n",
      "Epoch 30: saving model to training_1/\n"
     ]
    },
    {
     "name": "stderr",
     "output_type": "stream",
     "text": [
      "WARNING:absl:Found untraced functions such as _jit_compiled_convolution_op, _update_step_xla while saving (showing 2 of 2). These functions will not be directly callable after loading.\n"
     ]
    },
    {
     "name": "stdout",
     "output_type": "stream",
     "text": [
      "INFO:tensorflow:Assets written to: training_1/assets\n"
     ]
    },
    {
     "name": "stderr",
     "output_type": "stream",
     "text": [
      "INFO:tensorflow:Assets written to: training_1/assets\n",
      "\u001b[34m\u001b[1mwandb\u001b[0m: Adding directory to artifact (./training_1)... Done. 0.0s\n"
     ]
    },
    {
     "name": "stdout",
     "output_type": "stream",
     "text": [
      "365/365 [==============================] - 2s 5ms/step - loss: 2.4130 - accuracy: 0.3453 - val_loss: 2.8067 - val_accuracy: 0.2741 - lr: 4.0601e-04\n",
      "Epoch 31/250\n",
      "363/365 [============================>.] - ETA: 0s - loss: 2.4247 - accuracy: 0.3459\n",
      "Epoch 31: saving model to training_1/\n"
     ]
    },
    {
     "name": "stderr",
     "output_type": "stream",
     "text": [
      "WARNING:absl:Found untraced functions such as _jit_compiled_convolution_op, _update_step_xla while saving (showing 2 of 2). These functions will not be directly callable after loading.\n"
     ]
    },
    {
     "name": "stdout",
     "output_type": "stream",
     "text": [
      "INFO:tensorflow:Assets written to: training_1/assets\n"
     ]
    },
    {
     "name": "stderr",
     "output_type": "stream",
     "text": [
      "INFO:tensorflow:Assets written to: training_1/assets\n",
      "\u001b[34m\u001b[1mwandb\u001b[0m: Adding directory to artifact (./training_1)... Done. 0.0s\n"
     ]
    },
    {
     "name": "stdout",
     "output_type": "stream",
     "text": [
      "365/365 [==============================] - 2s 6ms/step - loss: 2.4250 - accuracy: 0.3457 - val_loss: 2.8059 - val_accuracy: 0.2676 - lr: 3.6737e-04\n",
      "Epoch 32/250\n",
      "362/365 [============================>.] - ETA: 0s - loss: 2.4176 - accuracy: 0.3446\n",
      "Epoch 32: saving model to training_1/\n"
     ]
    },
    {
     "name": "stderr",
     "output_type": "stream",
     "text": [
      "WARNING:absl:Found untraced functions such as _jit_compiled_convolution_op, _update_step_xla while saving (showing 2 of 2). These functions will not be directly callable after loading.\n"
     ]
    },
    {
     "name": "stdout",
     "output_type": "stream",
     "text": [
      "INFO:tensorflow:Assets written to: training_1/assets\n"
     ]
    },
    {
     "name": "stderr",
     "output_type": "stream",
     "text": [
      "INFO:tensorflow:Assets written to: training_1/assets\n",
      "\u001b[34m\u001b[1mwandb\u001b[0m: Adding directory to artifact (./training_1)... Done. 0.0s\n"
     ]
    },
    {
     "name": "stdout",
     "output_type": "stream",
     "text": [
      "365/365 [==============================] - 2s 6ms/step - loss: 2.4147 - accuracy: 0.3450 - val_loss: 2.8052 - val_accuracy: 0.2713 - lr: 3.3241e-04\n",
      "Epoch 33/250\n",
      "365/365 [==============================] - ETA: 0s - loss: 2.4138 - accuracy: 0.3465\n",
      "Epoch 33: saving model to training_1/\n"
     ]
    },
    {
     "name": "stderr",
     "output_type": "stream",
     "text": [
      "WARNING:absl:Found untraced functions such as _jit_compiled_convolution_op, _update_step_xla while saving (showing 2 of 2). These functions will not be directly callable after loading.\n"
     ]
    },
    {
     "name": "stdout",
     "output_type": "stream",
     "text": [
      "INFO:tensorflow:Assets written to: training_1/assets\n"
     ]
    },
    {
     "name": "stderr",
     "output_type": "stream",
     "text": [
      "INFO:tensorflow:Assets written to: training_1/assets\n",
      "\u001b[34m\u001b[1mwandb\u001b[0m: Adding directory to artifact (./training_1)... Done. 0.0s\n"
     ]
    },
    {
     "name": "stdout",
     "output_type": "stream",
     "text": [
      "365/365 [==============================] - 2s 6ms/step - loss: 2.4138 - accuracy: 0.3465 - val_loss: 2.8106 - val_accuracy: 0.2713 - lr: 3.0078e-04\n",
      "Epoch 34/250\n",
      "359/365 [============================>.] - ETA: 0s - loss: 2.4110 - accuracy: 0.3498\n",
      "Epoch 34: saving model to training_1/\n"
     ]
    },
    {
     "name": "stderr",
     "output_type": "stream",
     "text": [
      "WARNING:absl:Found untraced functions such as _jit_compiled_convolution_op, _update_step_xla while saving (showing 2 of 2). These functions will not be directly callable after loading.\n"
     ]
    },
    {
     "name": "stdout",
     "output_type": "stream",
     "text": [
      "INFO:tensorflow:Assets written to: training_1/assets\n"
     ]
    },
    {
     "name": "stderr",
     "output_type": "stream",
     "text": [
      "INFO:tensorflow:Assets written to: training_1/assets\n",
      "\u001b[34m\u001b[1mwandb\u001b[0m: Adding directory to artifact (./training_1)... Done. 0.0s\n"
     ]
    },
    {
     "name": "stdout",
     "output_type": "stream",
     "text": [
      "365/365 [==============================] - 2s 6ms/step - loss: 2.4093 - accuracy: 0.3505 - val_loss: 2.8073 - val_accuracy: 0.2731 - lr: 2.7215e-04\n",
      "Epoch 35/250\n",
      "361/365 [============================>.] - ETA: 0s - loss: 2.3926 - accuracy: 0.3512\n",
      "Epoch 35: saving model to training_1/\n"
     ]
    },
    {
     "name": "stderr",
     "output_type": "stream",
     "text": [
      "WARNING:absl:Found untraced functions such as _jit_compiled_convolution_op, _update_step_xla while saving (showing 2 of 2). These functions will not be directly callable after loading.\n"
     ]
    },
    {
     "name": "stdout",
     "output_type": "stream",
     "text": [
      "INFO:tensorflow:Assets written to: training_1/assets\n"
     ]
    },
    {
     "name": "stderr",
     "output_type": "stream",
     "text": [
      "INFO:tensorflow:Assets written to: training_1/assets\n",
      "\u001b[34m\u001b[1mwandb\u001b[0m: Adding directory to artifact (./training_1)... Done. 0.0s\n"
     ]
    },
    {
     "name": "stdout",
     "output_type": "stream",
     "text": [
      "365/365 [==============================] - 2s 6ms/step - loss: 2.3969 - accuracy: 0.3503 - val_loss: 2.8160 - val_accuracy: 0.2759 - lr: 2.4626e-04\n",
      "Epoch 36/250\n",
      "349/365 [===========================>..] - ETA: 0s - loss: 2.4129 - accuracy: 0.3472\n",
      "Epoch 36: saving model to training_1/\n"
     ]
    },
    {
     "name": "stderr",
     "output_type": "stream",
     "text": [
      "WARNING:absl:Found untraced functions such as _jit_compiled_convolution_op, _update_step_xla while saving (showing 2 of 2). These functions will not be directly callable after loading.\n"
     ]
    },
    {
     "name": "stdout",
     "output_type": "stream",
     "text": [
      "INFO:tensorflow:Assets written to: training_1/assets\n"
     ]
    },
    {
     "name": "stderr",
     "output_type": "stream",
     "text": [
      "INFO:tensorflow:Assets written to: training_1/assets\n",
      "\u001b[34m\u001b[1mwandb\u001b[0m: Adding directory to artifact (./training_1)... Done. 0.0s\n"
     ]
    },
    {
     "name": "stdout",
     "output_type": "stream",
     "text": [
      "365/365 [==============================] - 6s 15ms/step - loss: 2.4132 - accuracy: 0.3473 - val_loss: 2.8081 - val_accuracy: 0.2759 - lr: 2.2282e-04\n",
      "Epoch 37/250\n",
      "354/365 [============================>.] - ETA: 0s - loss: 2.4027 - accuracy: 0.3491\n",
      "Epoch 37: saving model to training_1/\n"
     ]
    },
    {
     "name": "stderr",
     "output_type": "stream",
     "text": [
      "WARNING:absl:Found untraced functions such as _jit_compiled_convolution_op, _update_step_xla while saving (showing 2 of 2). These functions will not be directly callable after loading.\n"
     ]
    },
    {
     "name": "stdout",
     "output_type": "stream",
     "text": [
      "INFO:tensorflow:Assets written to: training_1/assets\n"
     ]
    },
    {
     "name": "stderr",
     "output_type": "stream",
     "text": [
      "INFO:tensorflow:Assets written to: training_1/assets\n",
      "\u001b[34m\u001b[1mwandb\u001b[0m: Adding directory to artifact (./training_1)... Done. 0.0s\n"
     ]
    },
    {
     "name": "stdout",
     "output_type": "stream",
     "text": [
      "365/365 [==============================] - 2s 6ms/step - loss: 2.4038 - accuracy: 0.3489 - val_loss: 2.8060 - val_accuracy: 0.2741 - lr: 2.0162e-04\n",
      "Epoch 38/250\n",
      "358/365 [============================>.] - ETA: 0s - loss: 2.4036 - accuracy: 0.3477\n",
      "Epoch 38: saving model to training_1/\n"
     ]
    },
    {
     "name": "stderr",
     "output_type": "stream",
     "text": [
      "WARNING:absl:Found untraced functions such as _jit_compiled_convolution_op, _update_step_xla while saving (showing 2 of 2). These functions will not be directly callable after loading.\n"
     ]
    },
    {
     "name": "stdout",
     "output_type": "stream",
     "text": [
      "INFO:tensorflow:Assets written to: training_1/assets\n"
     ]
    },
    {
     "name": "stderr",
     "output_type": "stream",
     "text": [
      "INFO:tensorflow:Assets written to: training_1/assets\n",
      "\u001b[34m\u001b[1mwandb\u001b[0m: Adding directory to artifact (./training_1)... Done. 0.0s\n"
     ]
    },
    {
     "name": "stdout",
     "output_type": "stream",
     "text": [
      "365/365 [==============================] - 2s 6ms/step - loss: 2.4037 - accuracy: 0.3471 - val_loss: 2.8038 - val_accuracy: 0.2731 - lr: 1.8243e-04\n",
      "Epoch 39/250\n",
      "360/365 [============================>.] - ETA: 0s - loss: 2.3976 - accuracy: 0.3553\n",
      "Epoch 39: saving model to training_1/\n"
     ]
    },
    {
     "name": "stderr",
     "output_type": "stream",
     "text": [
      "WARNING:absl:Found untraced functions such as _jit_compiled_convolution_op, _update_step_xla while saving (showing 2 of 2). These functions will not be directly callable after loading.\n"
     ]
    },
    {
     "name": "stdout",
     "output_type": "stream",
     "text": [
      "INFO:tensorflow:Assets written to: training_1/assets\n"
     ]
    },
    {
     "name": "stderr",
     "output_type": "stream",
     "text": [
      "INFO:tensorflow:Assets written to: training_1/assets\n",
      "\u001b[34m\u001b[1mwandb\u001b[0m: Adding directory to artifact (./training_1)... Done. 0.0s\n"
     ]
    },
    {
     "name": "stdout",
     "output_type": "stream",
     "text": [
      "365/365 [==============================] - 2s 6ms/step - loss: 2.3977 - accuracy: 0.3549 - val_loss: 2.8056 - val_accuracy: 0.2750 - lr: 1.6507e-04\n",
      "Epoch 40/250\n",
      "354/365 [============================>.] - ETA: 0s - loss: 2.4071 - accuracy: 0.3530\n",
      "Epoch 40: saving model to training_1/\n"
     ]
    },
    {
     "name": "stderr",
     "output_type": "stream",
     "text": [
      "WARNING:absl:Found untraced functions such as _jit_compiled_convolution_op, _update_step_xla while saving (showing 2 of 2). These functions will not be directly callable after loading.\n"
     ]
    },
    {
     "name": "stdout",
     "output_type": "stream",
     "text": [
      "INFO:tensorflow:Assets written to: training_1/assets\n"
     ]
    },
    {
     "name": "stderr",
     "output_type": "stream",
     "text": [
      "INFO:tensorflow:Assets written to: training_1/assets\n",
      "\u001b[34m\u001b[1mwandb\u001b[0m: Adding directory to artifact (./training_1)... Done. 0.0s\n"
     ]
    },
    {
     "name": "stdout",
     "output_type": "stream",
     "text": [
      "365/365 [==============================] - 2s 7ms/step - loss: 2.4039 - accuracy: 0.3542 - val_loss: 2.8046 - val_accuracy: 0.2741 - lr: 1.4936e-04\n",
      "Epoch 41/250\n",
      "353/365 [============================>.] - ETA: 0s - loss: 2.3943 - accuracy: 0.3561\n",
      "Epoch 41: saving model to training_1/\n"
     ]
    },
    {
     "name": "stderr",
     "output_type": "stream",
     "text": [
      "WARNING:absl:Found untraced functions such as _jit_compiled_convolution_op, _update_step_xla while saving (showing 2 of 2). These functions will not be directly callable after loading.\n"
     ]
    },
    {
     "name": "stdout",
     "output_type": "stream",
     "text": [
      "INFO:tensorflow:Assets written to: training_1/assets\n"
     ]
    },
    {
     "name": "stderr",
     "output_type": "stream",
     "text": [
      "INFO:tensorflow:Assets written to: training_1/assets\n",
      "\u001b[34m\u001b[1mwandb\u001b[0m: Adding directory to artifact (./training_1)... Done. 0.0s\n"
     ]
    },
    {
     "name": "stdout",
     "output_type": "stream",
     "text": [
      "365/365 [==============================] - 2s 6ms/step - loss: 2.3935 - accuracy: 0.3557 - val_loss: 2.8021 - val_accuracy: 0.2731 - lr: 1.3515e-04\n",
      "Epoch 42/250\n",
      "349/365 [===========================>..] - ETA: 0s - loss: 2.4039 - accuracy: 0.3512\n",
      "Epoch 42: saving model to training_1/\n"
     ]
    },
    {
     "name": "stderr",
     "output_type": "stream",
     "text": [
      "WARNING:absl:Found untraced functions such as _jit_compiled_convolution_op, _update_step_xla while saving (showing 2 of 2). These functions will not be directly callable after loading.\n"
     ]
    },
    {
     "name": "stdout",
     "output_type": "stream",
     "text": [
      "INFO:tensorflow:Assets written to: training_1/assets\n"
     ]
    },
    {
     "name": "stderr",
     "output_type": "stream",
     "text": [
      "INFO:tensorflow:Assets written to: training_1/assets\n",
      "\u001b[34m\u001b[1mwandb\u001b[0m: Adding directory to artifact (./training_1)... Done. 0.0s\n"
     ]
    },
    {
     "name": "stdout",
     "output_type": "stream",
     "text": [
      "365/365 [==============================] - 3s 8ms/step - loss: 2.4028 - accuracy: 0.3511 - val_loss: 2.8060 - val_accuracy: 0.2750 - lr: 1.2229e-04\n",
      "Epoch 43/250\n",
      "356/365 [============================>.] - ETA: 0s - loss: 2.3897 - accuracy: 0.3596\n",
      "Epoch 43: saving model to training_1/\n"
     ]
    },
    {
     "name": "stderr",
     "output_type": "stream",
     "text": [
      "WARNING:absl:Found untraced functions such as _jit_compiled_convolution_op, _update_step_xla while saving (showing 2 of 2). These functions will not be directly callable after loading.\n"
     ]
    },
    {
     "name": "stdout",
     "output_type": "stream",
     "text": [
      "INFO:tensorflow:Assets written to: training_1/assets\n"
     ]
    },
    {
     "name": "stderr",
     "output_type": "stream",
     "text": [
      "INFO:tensorflow:Assets written to: training_1/assets\n",
      "\u001b[34m\u001b[1mwandb\u001b[0m: Adding directory to artifact (./training_1)... Done. 0.0s\n"
     ]
    },
    {
     "name": "stdout",
     "output_type": "stream",
     "text": [
      "365/365 [==============================] - 3s 8ms/step - loss: 2.3897 - accuracy: 0.3589 - val_loss: 2.8061 - val_accuracy: 0.2713 - lr: 1.1065e-04\n",
      "Epoch 44/250\n",
      "359/365 [============================>.] - ETA: 0s - loss: 2.3820 - accuracy: 0.3528\n",
      "Epoch 44: saving model to training_1/\n"
     ]
    },
    {
     "name": "stderr",
     "output_type": "stream",
     "text": [
      "WARNING:absl:Found untraced functions such as _jit_compiled_convolution_op, _update_step_xla while saving (showing 2 of 2). These functions will not be directly callable after loading.\n"
     ]
    },
    {
     "name": "stdout",
     "output_type": "stream",
     "text": [
      "INFO:tensorflow:Assets written to: training_1/assets\n"
     ]
    },
    {
     "name": "stderr",
     "output_type": "stream",
     "text": [
      "INFO:tensorflow:Assets written to: training_1/assets\n",
      "\u001b[34m\u001b[1mwandb\u001b[0m: Adding directory to artifact (./training_1)... Done. 0.0s\n"
     ]
    },
    {
     "name": "stdout",
     "output_type": "stream",
     "text": [
      "365/365 [==============================] - 2s 6ms/step - loss: 2.3843 - accuracy: 0.3523 - val_loss: 2.8009 - val_accuracy: 0.2806 - lr: 1.0012e-04\n",
      "Epoch 45/250\n",
      "361/365 [============================>.] - ETA: 0s - loss: 2.3821 - accuracy: 0.3581\n",
      "Epoch 45: saving model to training_1/\n"
     ]
    },
    {
     "name": "stderr",
     "output_type": "stream",
     "text": [
      "WARNING:absl:Found untraced functions such as _jit_compiled_convolution_op, _update_step_xla while saving (showing 2 of 2). These functions will not be directly callable after loading.\n"
     ]
    },
    {
     "name": "stdout",
     "output_type": "stream",
     "text": [
      "INFO:tensorflow:Assets written to: training_1/assets\n"
     ]
    },
    {
     "name": "stderr",
     "output_type": "stream",
     "text": [
      "INFO:tensorflow:Assets written to: training_1/assets\n",
      "\u001b[34m\u001b[1mwandb\u001b[0m: Adding directory to artifact (./training_1)... Done. 0.0s\n"
     ]
    },
    {
     "name": "stdout",
     "output_type": "stream",
     "text": [
      "365/365 [==============================] - 3s 7ms/step - loss: 2.3821 - accuracy: 0.3580 - val_loss: 2.8041 - val_accuracy: 0.2741 - lr: 9.0592e-05\n",
      "Epoch 46/250\n",
      "357/365 [============================>.] - ETA: 0s - loss: 2.3925 - accuracy: 0.3474\n",
      "Epoch 46: saving model to training_1/\n"
     ]
    },
    {
     "name": "stderr",
     "output_type": "stream",
     "text": [
      "WARNING:absl:Found untraced functions such as _jit_compiled_convolution_op, _update_step_xla while saving (showing 2 of 2). These functions will not be directly callable after loading.\n"
     ]
    },
    {
     "name": "stdout",
     "output_type": "stream",
     "text": [
      "INFO:tensorflow:Assets written to: training_1/assets\n"
     ]
    },
    {
     "name": "stderr",
     "output_type": "stream",
     "text": [
      "INFO:tensorflow:Assets written to: training_1/assets\n",
      "\u001b[34m\u001b[1mwandb\u001b[0m: Adding directory to artifact (./training_1)... Done. 0.0s\n"
     ]
    },
    {
     "name": "stdout",
     "output_type": "stream",
     "text": [
      "365/365 [==============================] - 3s 9ms/step - loss: 2.3935 - accuracy: 0.3472 - val_loss: 2.8061 - val_accuracy: 0.2769 - lr: 8.1971e-05\n",
      "Epoch 47/250\n",
      "354/365 [============================>.] - ETA: 0s - loss: 2.3888 - accuracy: 0.3483\n",
      "Epoch 47: saving model to training_1/\n"
     ]
    },
    {
     "name": "stderr",
     "output_type": "stream",
     "text": [
      "WARNING:absl:Found untraced functions such as _jit_compiled_convolution_op, _update_step_xla while saving (showing 2 of 2). These functions will not be directly callable after loading.\n"
     ]
    },
    {
     "name": "stdout",
     "output_type": "stream",
     "text": [
      "INFO:tensorflow:Assets written to: training_1/assets\n"
     ]
    },
    {
     "name": "stderr",
     "output_type": "stream",
     "text": [
      "INFO:tensorflow:Assets written to: training_1/assets\n",
      "\u001b[34m\u001b[1mwandb\u001b[0m: Adding directory to artifact (./training_1)... Done. 0.0s\n"
     ]
    },
    {
     "name": "stdout",
     "output_type": "stream",
     "text": [
      "365/365 [==============================] - 2s 6ms/step - loss: 2.3895 - accuracy: 0.3483 - val_loss: 2.8066 - val_accuracy: 0.2722 - lr: 7.4171e-05\n",
      "Epoch 48/250\n",
      "364/365 [============================>.] - ETA: 0s - loss: 2.3834 - accuracy: 0.3500\n",
      "Epoch 48: saving model to training_1/\n"
     ]
    },
    {
     "name": "stderr",
     "output_type": "stream",
     "text": [
      "WARNING:absl:Found untraced functions such as _jit_compiled_convolution_op, _update_step_xla while saving (showing 2 of 2). These functions will not be directly callable after loading.\n"
     ]
    },
    {
     "name": "stdout",
     "output_type": "stream",
     "text": [
      "INFO:tensorflow:Assets written to: training_1/assets\n"
     ]
    },
    {
     "name": "stderr",
     "output_type": "stream",
     "text": [
      "INFO:tensorflow:Assets written to: training_1/assets\n",
      "\u001b[34m\u001b[1mwandb\u001b[0m: Adding directory to artifact (./training_1)... Done. 0.0s\n"
     ]
    },
    {
     "name": "stdout",
     "output_type": "stream",
     "text": [
      "365/365 [==============================] - 2s 6ms/step - loss: 2.3825 - accuracy: 0.3501 - val_loss: 2.8057 - val_accuracy: 0.2731 - lr: 6.7112e-05\n",
      "Epoch 49/250\n",
      "365/365 [==============================] - ETA: 0s - loss: 2.3794 - accuracy: 0.3531\n",
      "Epoch 49: saving model to training_1/\n"
     ]
    },
    {
     "name": "stderr",
     "output_type": "stream",
     "text": [
      "WARNING:absl:Found untraced functions such as _jit_compiled_convolution_op, _update_step_xla while saving (showing 2 of 2). These functions will not be directly callable after loading.\n"
     ]
    },
    {
     "name": "stdout",
     "output_type": "stream",
     "text": [
      "INFO:tensorflow:Assets written to: training_1/assets\n"
     ]
    },
    {
     "name": "stderr",
     "output_type": "stream",
     "text": [
      "INFO:tensorflow:Assets written to: training_1/assets\n",
      "\u001b[34m\u001b[1mwandb\u001b[0m: Adding directory to artifact (./training_1)... Done. 0.0s\n"
     ]
    },
    {
     "name": "stdout",
     "output_type": "stream",
     "text": [
      "365/365 [==============================] - 2s 5ms/step - loss: 2.3794 - accuracy: 0.3531 - val_loss: 2.8047 - val_accuracy: 0.2731 - lr: 6.0726e-05\n",
      "Epoch 50/250\n",
      "353/365 [============================>.] - ETA: 0s - loss: 2.3924 - accuracy: 0.3540\n",
      "Epoch 50: saving model to training_1/\n"
     ]
    },
    {
     "name": "stderr",
     "output_type": "stream",
     "text": [
      "WARNING:absl:Found untraced functions such as _jit_compiled_convolution_op, _update_step_xla while saving (showing 2 of 2). These functions will not be directly callable after loading.\n"
     ]
    },
    {
     "name": "stdout",
     "output_type": "stream",
     "text": [
      "INFO:tensorflow:Assets written to: training_1/assets\n"
     ]
    },
    {
     "name": "stderr",
     "output_type": "stream",
     "text": [
      "INFO:tensorflow:Assets written to: training_1/assets\n",
      "\u001b[34m\u001b[1mwandb\u001b[0m: Adding directory to artifact (./training_1)... Done. 0.0s\n"
     ]
    },
    {
     "name": "stdout",
     "output_type": "stream",
     "text": [
      "365/365 [==============================] - 2s 6ms/step - loss: 2.3895 - accuracy: 0.3546 - val_loss: 2.8061 - val_accuracy: 0.2759 - lr: 5.4947e-05\n",
      "Epoch 51/250\n",
      "357/365 [============================>.] - ETA: 0s - loss: 2.3782 - accuracy: 0.3575\n",
      "Epoch 51: saving model to training_1/\n"
     ]
    },
    {
     "name": "stderr",
     "output_type": "stream",
     "text": [
      "WARNING:absl:Found untraced functions such as _jit_compiled_convolution_op, _update_step_xla while saving (showing 2 of 2). These functions will not be directly callable after loading.\n"
     ]
    },
    {
     "name": "stdout",
     "output_type": "stream",
     "text": [
      "INFO:tensorflow:Assets written to: training_1/assets\n"
     ]
    },
    {
     "name": "stderr",
     "output_type": "stream",
     "text": [
      "INFO:tensorflow:Assets written to: training_1/assets\n",
      "\u001b[34m\u001b[1mwandb\u001b[0m: Adding directory to artifact (./training_1)... Done. 0.0s\n"
     ]
    },
    {
     "name": "stdout",
     "output_type": "stream",
     "text": [
      "365/365 [==============================] - 2s 7ms/step - loss: 2.3773 - accuracy: 0.3580 - val_loss: 2.8048 - val_accuracy: 0.2769 - lr: 4.9718e-05\n",
      "Epoch 52/250\n",
      "365/365 [==============================] - ETA: 0s - loss: 2.3830 - accuracy: 0.3532\n",
      "Epoch 52: saving model to training_1/\n"
     ]
    },
    {
     "name": "stderr",
     "output_type": "stream",
     "text": [
      "WARNING:absl:Found untraced functions such as _jit_compiled_convolution_op, _update_step_xla while saving (showing 2 of 2). These functions will not be directly callable after loading.\n"
     ]
    },
    {
     "name": "stdout",
     "output_type": "stream",
     "text": [
      "INFO:tensorflow:Assets written to: training_1/assets\n"
     ]
    },
    {
     "name": "stderr",
     "output_type": "stream",
     "text": [
      "INFO:tensorflow:Assets written to: training_1/assets\n",
      "\u001b[34m\u001b[1mwandb\u001b[0m: Adding directory to artifact (./training_1)... Done. 0.0s\n"
     ]
    },
    {
     "name": "stdout",
     "output_type": "stream",
     "text": [
      "365/365 [==============================] - 2s 7ms/step - loss: 2.3830 - accuracy: 0.3532 - val_loss: 2.8038 - val_accuracy: 0.2787 - lr: 4.4987e-05\n",
      "Epoch 53/250\n",
      "364/365 [============================>.] - ETA: 0s - loss: 2.3928 - accuracy: 0.3490\n",
      "Epoch 53: saving model to training_1/\n"
     ]
    },
    {
     "name": "stderr",
     "output_type": "stream",
     "text": [
      "WARNING:absl:Found untraced functions such as _jit_compiled_convolution_op, _update_step_xla while saving (showing 2 of 2). These functions will not be directly callable after loading.\n"
     ]
    },
    {
     "name": "stdout",
     "output_type": "stream",
     "text": [
      "INFO:tensorflow:Assets written to: training_1/assets\n"
     ]
    },
    {
     "name": "stderr",
     "output_type": "stream",
     "text": [
      "INFO:tensorflow:Assets written to: training_1/assets\n",
      "\u001b[34m\u001b[1mwandb\u001b[0m: Adding directory to artifact (./training_1)... Done. 0.0s\n"
     ]
    },
    {
     "name": "stdout",
     "output_type": "stream",
     "text": [
      "365/365 [==============================] - 2s 6ms/step - loss: 2.3928 - accuracy: 0.3489 - val_loss: 2.8061 - val_accuracy: 0.2759 - lr: 4.0706e-05\n",
      "Epoch 54/250\n",
      "354/365 [============================>.] - ETA: 0s - loss: 2.3784 - accuracy: 0.3523\n",
      "Epoch 54: saving model to training_1/\n"
     ]
    },
    {
     "name": "stderr",
     "output_type": "stream",
     "text": [
      "WARNING:absl:Found untraced functions such as _jit_compiled_convolution_op, _update_step_xla while saving (showing 2 of 2). These functions will not be directly callable after loading.\n"
     ]
    },
    {
     "name": "stdout",
     "output_type": "stream",
     "text": [
      "INFO:tensorflow:Assets written to: training_1/assets\n"
     ]
    },
    {
     "name": "stderr",
     "output_type": "stream",
     "text": [
      "INFO:tensorflow:Assets written to: training_1/assets\n",
      "\u001b[34m\u001b[1mwandb\u001b[0m: Adding directory to artifact (./training_1)... Done. 0.0s\n"
     ]
    },
    {
     "name": "stdout",
     "output_type": "stream",
     "text": [
      "365/365 [==============================] - 2s 6ms/step - loss: 2.3792 - accuracy: 0.3533 - val_loss: 2.8045 - val_accuracy: 0.2769 - lr: 3.6832e-05\n",
      "Epoch 55/250\n",
      "363/365 [============================>.] - ETA: 0s - loss: 2.3884 - accuracy: 0.3519\n",
      "Epoch 55: saving model to training_1/\n"
     ]
    },
    {
     "name": "stderr",
     "output_type": "stream",
     "text": [
      "WARNING:absl:Found untraced functions such as _jit_compiled_convolution_op, _update_step_xla while saving (showing 2 of 2). These functions will not be directly callable after loading.\n"
     ]
    },
    {
     "name": "stdout",
     "output_type": "stream",
     "text": [
      "INFO:tensorflow:Assets written to: training_1/assets\n"
     ]
    },
    {
     "name": "stderr",
     "output_type": "stream",
     "text": [
      "INFO:tensorflow:Assets written to: training_1/assets\n",
      "\u001b[34m\u001b[1mwandb\u001b[0m: Adding directory to artifact (./training_1)... Done. 0.0s\n"
     ]
    },
    {
     "name": "stdout",
     "output_type": "stream",
     "text": [
      "365/365 [==============================] - 3s 9ms/step - loss: 2.3884 - accuracy: 0.3522 - val_loss: 2.8048 - val_accuracy: 0.2759 - lr: 3.3327e-05\n",
      "Epoch 56/250\n",
      "359/365 [============================>.] - ETA: 0s - loss: 2.3816 - accuracy: 0.3525\n",
      "Epoch 56: saving model to training_1/\n"
     ]
    },
    {
     "name": "stderr",
     "output_type": "stream",
     "text": [
      "WARNING:absl:Found untraced functions such as _jit_compiled_convolution_op, _update_step_xla while saving (showing 2 of 2). These functions will not be directly callable after loading.\n"
     ]
    },
    {
     "name": "stdout",
     "output_type": "stream",
     "text": [
      "INFO:tensorflow:Assets written to: training_1/assets\n"
     ]
    },
    {
     "name": "stderr",
     "output_type": "stream",
     "text": [
      "INFO:tensorflow:Assets written to: training_1/assets\n",
      "\u001b[34m\u001b[1mwandb\u001b[0m: Adding directory to artifact (./training_1)... Done. 0.0s\n"
     ]
    },
    {
     "name": "stdout",
     "output_type": "stream",
     "text": [
      "365/365 [==============================] - 3s 7ms/step - loss: 2.3811 - accuracy: 0.3537 - val_loss: 2.8055 - val_accuracy: 0.2759 - lr: 3.0156e-05\n",
      "Epoch 57/250\n",
      "355/365 [============================>.] - ETA: 0s - loss: 2.3734 - accuracy: 0.3507\n",
      "Epoch 57: saving model to training_1/\n"
     ]
    },
    {
     "name": "stderr",
     "output_type": "stream",
     "text": [
      "WARNING:absl:Found untraced functions such as _jit_compiled_convolution_op, _update_step_xla while saving (showing 2 of 2). These functions will not be directly callable after loading.\n"
     ]
    },
    {
     "name": "stdout",
     "output_type": "stream",
     "text": [
      "INFO:tensorflow:Assets written to: training_1/assets\n"
     ]
    },
    {
     "name": "stderr",
     "output_type": "stream",
     "text": [
      "INFO:tensorflow:Assets written to: training_1/assets\n",
      "\u001b[34m\u001b[1mwandb\u001b[0m: Adding directory to artifact (./training_1)... Done. 0.0s\n"
     ]
    },
    {
     "name": "stdout",
     "output_type": "stream",
     "text": [
      "365/365 [==============================] - 2s 6ms/step - loss: 2.3736 - accuracy: 0.3501 - val_loss: 2.8051 - val_accuracy: 0.2769 - lr: 2.7286e-05\n",
      "Epoch 58/250\n",
      "362/365 [============================>.] - ETA: 0s - loss: 2.3734 - accuracy: 0.3578\n",
      "Epoch 58: saving model to training_1/\n"
     ]
    },
    {
     "name": "stderr",
     "output_type": "stream",
     "text": [
      "WARNING:absl:Found untraced functions such as _jit_compiled_convolution_op, _update_step_xla while saving (showing 2 of 2). These functions will not be directly callable after loading.\n"
     ]
    },
    {
     "name": "stdout",
     "output_type": "stream",
     "text": [
      "INFO:tensorflow:Assets written to: training_1/assets\n"
     ]
    },
    {
     "name": "stderr",
     "output_type": "stream",
     "text": [
      "INFO:tensorflow:Assets written to: training_1/assets\n",
      "\u001b[34m\u001b[1mwandb\u001b[0m: Adding directory to artifact (./training_1)... Done. 0.0s\n"
     ]
    },
    {
     "name": "stdout",
     "output_type": "stream",
     "text": [
      "365/365 [==============================] - 2s 6ms/step - loss: 2.3742 - accuracy: 0.3579 - val_loss: 2.8043 - val_accuracy: 0.2750 - lr: 2.4689e-05\n",
      "Epoch 59/250\n",
      "364/365 [============================>.] - ETA: 0s - loss: 2.3887 - accuracy: 0.3549\n",
      "Epoch 59: saving model to training_1/\n"
     ]
    },
    {
     "name": "stderr",
     "output_type": "stream",
     "text": [
      "WARNING:absl:Found untraced functions such as _jit_compiled_convolution_op, _update_step_xla while saving (showing 2 of 2). These functions will not be directly callable after loading.\n"
     ]
    },
    {
     "name": "stdout",
     "output_type": "stream",
     "text": [
      "INFO:tensorflow:Assets written to: training_1/assets\n"
     ]
    },
    {
     "name": "stderr",
     "output_type": "stream",
     "text": [
      "INFO:tensorflow:Assets written to: training_1/assets\n",
      "\u001b[34m\u001b[1mwandb\u001b[0m: Adding directory to artifact (./training_1)... Done. 0.0s\n"
     ]
    },
    {
     "name": "stdout",
     "output_type": "stream",
     "text": [
      "365/365 [==============================] - 6s 16ms/step - loss: 2.3886 - accuracy: 0.3550 - val_loss: 2.8050 - val_accuracy: 0.2759 - lr: 2.2340e-05\n",
      "Epoch 60/250\n",
      "357/365 [============================>.] - ETA: 0s - loss: 2.3843 - accuracy: 0.3545\n",
      "Epoch 60: saving model to training_1/\n"
     ]
    },
    {
     "name": "stderr",
     "output_type": "stream",
     "text": [
      "WARNING:absl:Found untraced functions such as _jit_compiled_convolution_op, _update_step_xla while saving (showing 2 of 2). These functions will not be directly callable after loading.\n"
     ]
    },
    {
     "name": "stdout",
     "output_type": "stream",
     "text": [
      "INFO:tensorflow:Assets written to: training_1/assets\n"
     ]
    },
    {
     "name": "stderr",
     "output_type": "stream",
     "text": [
      "INFO:tensorflow:Assets written to: training_1/assets\n",
      "\u001b[34m\u001b[1mwandb\u001b[0m: Adding directory to artifact (./training_1)... Done. 0.0s\n"
     ]
    },
    {
     "name": "stdout",
     "output_type": "stream",
     "text": [
      "365/365 [==============================] - 3s 8ms/step - loss: 2.3833 - accuracy: 0.3534 - val_loss: 2.8056 - val_accuracy: 0.2741 - lr: 2.0214e-05\n",
      "Epoch 61/250\n",
      "365/365 [==============================] - ETA: 0s - loss: 2.3802 - accuracy: 0.3558\n",
      "Epoch 61: saving model to training_1/\n"
     ]
    },
    {
     "name": "stderr",
     "output_type": "stream",
     "text": [
      "WARNING:absl:Found untraced functions such as _jit_compiled_convolution_op, _update_step_xla while saving (showing 2 of 2). These functions will not be directly callable after loading.\n"
     ]
    },
    {
     "name": "stdout",
     "output_type": "stream",
     "text": [
      "INFO:tensorflow:Assets written to: training_1/assets\n"
     ]
    },
    {
     "name": "stderr",
     "output_type": "stream",
     "text": [
      "INFO:tensorflow:Assets written to: training_1/assets\n",
      "\u001b[34m\u001b[1mwandb\u001b[0m: Adding directory to artifact (./training_1)... Done. 0.0s\n"
     ]
    },
    {
     "name": "stdout",
     "output_type": "stream",
     "text": [
      "365/365 [==============================] - 2s 6ms/step - loss: 2.3802 - accuracy: 0.3558 - val_loss: 2.8052 - val_accuracy: 0.2759 - lr: 1.8290e-05\n",
      "Epoch 62/250\n",
      "353/365 [============================>.] - ETA: 0s - loss: 2.3884 - accuracy: 0.3541\n",
      "Epoch 62: saving model to training_1/\n"
     ]
    },
    {
     "name": "stderr",
     "output_type": "stream",
     "text": [
      "WARNING:absl:Found untraced functions such as _jit_compiled_convolution_op, _update_step_xla while saving (showing 2 of 2). These functions will not be directly callable after loading.\n"
     ]
    },
    {
     "name": "stdout",
     "output_type": "stream",
     "text": [
      "INFO:tensorflow:Assets written to: training_1/assets\n"
     ]
    },
    {
     "name": "stderr",
     "output_type": "stream",
     "text": [
      "INFO:tensorflow:Assets written to: training_1/assets\n",
      "\u001b[34m\u001b[1mwandb\u001b[0m: Adding directory to artifact (./training_1)... Done. 0.0s\n"
     ]
    },
    {
     "name": "stdout",
     "output_type": "stream",
     "text": [
      "365/365 [==============================] - 2s 6ms/step - loss: 2.3925 - accuracy: 0.3530 - val_loss: 2.8053 - val_accuracy: 0.2759 - lr: 1.6550e-05\n",
      "Epoch 63/250\n",
      "353/365 [============================>.] - ETA: 0s - loss: 2.3718 - accuracy: 0.3562\n",
      "Epoch 63: saving model to training_1/\n"
     ]
    },
    {
     "name": "stderr",
     "output_type": "stream",
     "text": [
      "WARNING:absl:Found untraced functions such as _jit_compiled_convolution_op, _update_step_xla while saving (showing 2 of 2). These functions will not be directly callable after loading.\n"
     ]
    },
    {
     "name": "stdout",
     "output_type": "stream",
     "text": [
      "INFO:tensorflow:Assets written to: training_1/assets\n"
     ]
    },
    {
     "name": "stderr",
     "output_type": "stream",
     "text": [
      "INFO:tensorflow:Assets written to: training_1/assets\n",
      "\u001b[34m\u001b[1mwandb\u001b[0m: Adding directory to artifact (./training_1)... Done. 0.0s\n"
     ]
    },
    {
     "name": "stdout",
     "output_type": "stream",
     "text": [
      "365/365 [==============================] - 2s 6ms/step - loss: 2.3742 - accuracy: 0.3560 - val_loss: 2.8051 - val_accuracy: 0.2759 - lr: 1.4975e-05\n",
      "Epoch 64/250\n",
      "353/365 [============================>.] - ETA: 0s - loss: 2.3959 - accuracy: 0.3526\n",
      "Epoch 64: saving model to training_1/\n"
     ]
    },
    {
     "name": "stderr",
     "output_type": "stream",
     "text": [
      "WARNING:absl:Found untraced functions such as _jit_compiled_convolution_op, _update_step_xla while saving (showing 2 of 2). These functions will not be directly callable after loading.\n"
     ]
    },
    {
     "name": "stdout",
     "output_type": "stream",
     "text": [
      "INFO:tensorflow:Assets written to: training_1/assets\n"
     ]
    },
    {
     "name": "stderr",
     "output_type": "stream",
     "text": [
      "INFO:tensorflow:Assets written to: training_1/assets\n",
      "\u001b[34m\u001b[1mwandb\u001b[0m: Adding directory to artifact (./training_1)... Done. 0.0s\n"
     ]
    },
    {
     "name": "stdout",
     "output_type": "stream",
     "text": [
      "365/365 [==============================] - 2s 6ms/step - loss: 2.3932 - accuracy: 0.3543 - val_loss: 2.8047 - val_accuracy: 0.2750 - lr: 1.3550e-05\n",
      "Epoch 65/250\n",
      "352/365 [===========================>..] - ETA: 0s - loss: 2.3778 - accuracy: 0.3576\n",
      "Epoch 65: saving model to training_1/\n"
     ]
    },
    {
     "name": "stderr",
     "output_type": "stream",
     "text": [
      "WARNING:absl:Found untraced functions such as _jit_compiled_convolution_op, _update_step_xla while saving (showing 2 of 2). These functions will not be directly callable after loading.\n"
     ]
    },
    {
     "name": "stdout",
     "output_type": "stream",
     "text": [
      "INFO:tensorflow:Assets written to: training_1/assets\n"
     ]
    },
    {
     "name": "stderr",
     "output_type": "stream",
     "text": [
      "INFO:tensorflow:Assets written to: training_1/assets\n",
      "\u001b[34m\u001b[1mwandb\u001b[0m: Adding directory to artifact (./training_1)... Done. 0.0s\n"
     ]
    },
    {
     "name": "stdout",
     "output_type": "stream",
     "text": [
      "365/365 [==============================] - 2s 6ms/step - loss: 2.3773 - accuracy: 0.3573 - val_loss: 2.8042 - val_accuracy: 0.2759 - lr: 1.2260e-05\n",
      "Epoch 66/250\n",
      "356/365 [============================>.] - ETA: 0s - loss: 2.3851 - accuracy: 0.3593\n",
      "Epoch 66: saving model to training_1/\n"
     ]
    },
    {
     "name": "stderr",
     "output_type": "stream",
     "text": [
      "WARNING:absl:Found untraced functions such as _jit_compiled_convolution_op, _update_step_xla while saving (showing 2 of 2). These functions will not be directly callable after loading.\n"
     ]
    },
    {
     "name": "stdout",
     "output_type": "stream",
     "text": [
      "INFO:tensorflow:Assets written to: training_1/assets\n"
     ]
    },
    {
     "name": "stderr",
     "output_type": "stream",
     "text": [
      "INFO:tensorflow:Assets written to: training_1/assets\n",
      "\u001b[34m\u001b[1mwandb\u001b[0m: Adding directory to artifact (./training_1)... Done. 0.0s\n"
     ]
    },
    {
     "name": "stdout",
     "output_type": "stream",
     "text": [
      "365/365 [==============================] - 2s 7ms/step - loss: 2.3860 - accuracy: 0.3585 - val_loss: 2.8051 - val_accuracy: 0.2759 - lr: 1.1094e-05\n",
      "Epoch 67/250\n",
      "356/365 [============================>.] - ETA: 0s - loss: 2.3746 - accuracy: 0.3573\n",
      "Epoch 67: saving model to training_1/\n"
     ]
    },
    {
     "name": "stderr",
     "output_type": "stream",
     "text": [
      "WARNING:absl:Found untraced functions such as _jit_compiled_convolution_op, _update_step_xla while saving (showing 2 of 2). These functions will not be directly callable after loading.\n"
     ]
    },
    {
     "name": "stdout",
     "output_type": "stream",
     "text": [
      "INFO:tensorflow:Assets written to: training_1/assets\n"
     ]
    },
    {
     "name": "stderr",
     "output_type": "stream",
     "text": [
      "INFO:tensorflow:Assets written to: training_1/assets\n",
      "\u001b[34m\u001b[1mwandb\u001b[0m: Adding directory to artifact (./training_1)... Done. 0.0s\n"
     ]
    },
    {
     "name": "stdout",
     "output_type": "stream",
     "text": [
      "365/365 [==============================] - 2s 7ms/step - loss: 2.3793 - accuracy: 0.3571 - val_loss: 2.8049 - val_accuracy: 0.2759 - lr: 1.0038e-05\n",
      "Epoch 68/250\n",
      "361/365 [============================>.] - ETA: 0s - loss: 2.3826 - accuracy: 0.3525\n",
      "Epoch 68: saving model to training_1/\n"
     ]
    },
    {
     "name": "stderr",
     "output_type": "stream",
     "text": [
      "WARNING:absl:Found untraced functions such as _jit_compiled_convolution_op, _update_step_xla while saving (showing 2 of 2). These functions will not be directly callable after loading.\n"
     ]
    },
    {
     "name": "stdout",
     "output_type": "stream",
     "text": [
      "INFO:tensorflow:Assets written to: training_1/assets\n"
     ]
    },
    {
     "name": "stderr",
     "output_type": "stream",
     "text": [
      "INFO:tensorflow:Assets written to: training_1/assets\n",
      "\u001b[34m\u001b[1mwandb\u001b[0m: Adding directory to artifact (./training_1)... Done. 0.0s\n"
     ]
    },
    {
     "name": "stdout",
     "output_type": "stream",
     "text": [
      "365/365 [==============================] - 2s 6ms/step - loss: 2.3822 - accuracy: 0.3525 - val_loss: 2.8045 - val_accuracy: 0.2759 - lr: 9.0827e-06\n",
      "Epoch 69/250\n",
      "356/365 [============================>.] - ETA: 0s - loss: 2.3728 - accuracy: 0.3515\n",
      "Epoch 69: saving model to training_1/\n"
     ]
    },
    {
     "name": "stderr",
     "output_type": "stream",
     "text": [
      "WARNING:absl:Found untraced functions such as _jit_compiled_convolution_op, _update_step_xla while saving (showing 2 of 2). These functions will not be directly callable after loading.\n"
     ]
    },
    {
     "name": "stdout",
     "output_type": "stream",
     "text": [
      "INFO:tensorflow:Assets written to: training_1/assets\n"
     ]
    },
    {
     "name": "stderr",
     "output_type": "stream",
     "text": [
      "INFO:tensorflow:Assets written to: training_1/assets\n",
      "\u001b[34m\u001b[1mwandb\u001b[0m: Adding directory to artifact (./training_1)... Done. 0.0s\n"
     ]
    },
    {
     "name": "stdout",
     "output_type": "stream",
     "text": [
      "\b\b\b\b\b\b\b\b\b\b\b\b\b\b\b\b\b\b\b\b\b\b\b\b\b\b\b\b\b\b\b\b\b\b\b\b\b\b\b\b\b\b\b\b\b\b\b\b\b\b\b\b\b\b\b\b\b\b\b\b\b\b\b\b\b\b\b\b\b\b\b\b\b\b\b\b\b\b\b\b\b\b\b\b\r",
      "365/365 [==============================] - 2s 6ms/step - loss: 2.3741 - accuracy: 0.3513 - val_loss: 2.8046 - val_accuracy: 0.2759 - lr: 8.2183e-06\n"
     ]
    }
   ],
   "source": [
    "EPOCHS = 250\n",
    "history = baseline_model.fit(\n",
    "     train_ds, \n",
    "    epochs=EPOCHS,\n",
    "    callbacks=callbacks,\n",
    "    validation_data=val_ds\n",
    ")"
   ]
  },
  {
   "cell_type": "code",
   "execution_count": null,
   "id": "9b6b1a4d",
   "metadata": {
    "slideshow": {
     "slide_type": "fragment"
    }
   },
   "outputs": [],
   "source": [
    "run.finish()"
   ]
  },
  {
   "cell_type": "markdown",
   "id": "45b6c064",
   "metadata": {
    "slideshow": {
     "slide_type": "slide"
    }
   },
   "source": [
    "### Evaluate our locally saved model"
   ]
  },
  {
   "cell_type": "code",
   "execution_count": 86,
   "id": "2483cbb9",
   "metadata": {
    "scrolled": true,
    "slideshow": {
     "slide_type": "fragment"
    }
   },
   "outputs": [
    {
     "name": "stderr",
     "output_type": "stream",
     "text": [
      "2023-01-29 19:06:39.183283: W tensorflow/core/util/tensor_slice_reader.cc:96] Could not open training_1/.: FAILED_PRECONDITION: training_1; Is a directory: perhaps your file is in a different file format and you need to use a different restore operator?\n"
     ]
    },
    {
     "data": {
      "text/plain": [
       "<tensorflow.python.checkpoint.checkpoint.CheckpointLoadStatus at 0x5fbfe53f0>"
      ]
     },
     "execution_count": 86,
     "metadata": {},
     "output_type": "execute_result"
    }
   ],
   "source": [
    "latest = tf.train.latest_checkpoint('training_1')\n",
    "baseline_model.load_weights(latest)"
   ]
  },
  {
   "cell_type": "markdown",
   "id": "ec365219",
   "metadata": {
    "slideshow": {
     "slide_type": "fragment"
    }
   },
   "source": [
    "### Evaluate our Pre-trained Model"
   ]
  },
  {
   "cell_type": "code",
   "execution_count": 88,
   "id": "638700bf",
   "metadata": {
    "scrolled": true,
    "slideshow": {
     "slide_type": "fragment"
    }
   },
   "outputs": [
    {
     "name": "stdout",
     "output_type": "stream",
     "text": [
      "214/214 - 2s - loss: 2.3728 - accuracy: 0.3750 - 2s/epoch - 8ms/step\n"
     ]
    },
    {
     "data": {
      "text/plain": [
       "[2.3727927207946777, 0.3750365674495697]"
      ]
     },
     "execution_count": 88,
     "metadata": {},
     "output_type": "execute_result"
    }
   ],
   "source": [
    "baseline_model.evaluate(test_ds, verbose=2)"
   ]
  },
  {
   "cell_type": "markdown",
   "id": "6ed189bc",
   "metadata": {
    "slideshow": {
     "slide_type": "fragment"
    }
   },
   "source": [
    "### Dowload model artifact/ our registered model  "
   ]
  },
  {
   "cell_type": "code",
   "execution_count": 91,
   "id": "c0444ac4",
   "metadata": {
    "scrolled": true,
    "slideshow": {
     "slide_type": "fragment"
    }
   },
   "outputs": [
    {
     "name": "stdout",
     "output_type": "stream",
     "text": [
      "7818bd64cbe173268a53d74e25cb04f1 ['latest', 'epoch_68']\n"
     ]
    },
    {
     "name": "stderr",
     "output_type": "stream",
     "text": [
      "\u001b[34m\u001b[1mwandb\u001b[0m:   15 of 15 files downloaded.  \n"
     ]
    },
    {
     "data": {
      "text/plain": [
       "'./artifacts/run_xt4lgm8s_model:v68'"
      ]
     },
     "execution_count": 91,
     "metadata": {},
     "output_type": "execute_result"
    }
   ],
   "source": [
    "api = wandb.Api()\n",
    "artifact = api.artifact('tiny-ml/wake_word_detection/run_xt4lgm8s_model:latest', type='model')\n",
    "print(artifact.digest,artifact.aliases)\n",
    "artifact.download()  "
   ]
  },
  {
   "cell_type": "markdown",
   "id": "7d4217e6",
   "metadata": {
    "slideshow": {
     "slide_type": "fragment"
    }
   },
   "source": [
    "### Load our pre trained tiny model from wandb artifact"
   ]
  },
  {
   "cell_type": "code",
   "execution_count": 92,
   "id": "28eada02",
   "metadata": {
    "scrolled": true,
    "slideshow": {
     "slide_type": "fragment"
    }
   },
   "outputs": [
    {
     "name": "stdout",
     "output_type": "stream",
     "text": [
      "214/214 - 2s - loss: 2.5362 - accuracy: 0.3197 - 2s/epoch - 8ms/step\n"
     ]
    },
    {
     "data": {
      "text/plain": [
       "[2.5361759662628174, 0.3197249174118042]"
      ]
     },
     "execution_count": 92,
     "metadata": {},
     "output_type": "execute_result"
    }
   ],
   "source": [
    "baseline_model.load_weights('./artifacts/run_xt4lgm8s_model:v68/cp.ckpt')\n",
    "baseline_model.evaluate(test_ds, verbose=2)"
   ]
  },
  {
   "cell_type": "code",
   "execution_count": 93,
   "id": "4a280760",
   "metadata": {
    "scrolled": true,
    "slideshow": {
     "slide_type": "subslide"
    }
   },
   "outputs": [
    {
     "ename": "NameError",
     "evalue": "name 'augmenter' is not defined",
     "output_type": "error",
     "traceback": [
      "\u001b[0;31m---------------------------------------------------------------------------\u001b[0m",
      "\u001b[0;31mNameError\u001b[0m                                 Traceback (most recent call last)",
      "Cell \u001b[0;32mIn[93], line 8\u001b[0m\n\u001b[1;32m      4\u001b[0m paths \u001b[38;5;241m=\u001b[39m {k:np\u001b[38;5;241m.\u001b[39mstack(\u001b[38;5;28mlist\u001b[39m(\u001b[38;5;28mfilter\u001b[39m(\u001b[38;5;28;01mlambda\u001b[39;00m x:\u001b[38;5;28mlen\u001b[39m(x)\u001b[38;5;241m==\u001b[39m\u001b[38;5;241m16384\u001b[39m,\u001b[38;5;28mmap\u001b[39m(read_wav,v)))) \n\u001b[1;32m      5\u001b[0m          \u001b[38;5;28;01mfor\u001b[39;00m (k,v) \u001b[38;5;129;01min\u001b[39;00m paths\u001b[38;5;241m.\u001b[39mitems()}\n\u001b[1;32m      7\u001b[0m \u001b[38;5;28;01mfor\u001b[39;00m k,v \u001b[38;5;129;01min\u001b[39;00m paths\u001b[38;5;241m.\u001b[39mitems():\n\u001b[0;32m----> 8\u001b[0m     filler_x \u001b[38;5;241m=\u001b[39m [augmenter(x,sample_rate) \n\u001b[1;32m      9\u001b[0m                 \u001b[38;5;28;01mfor\u001b[39;00m x \u001b[38;5;129;01min\u001b[39;00m v[np\u001b[38;5;241m.\u001b[39mrandom\u001b[38;5;241m.\u001b[39mchoice(v\u001b[38;5;241m.\u001b[39mshape[\u001b[38;5;241m0\u001b[39m], \u001b[38;5;241m500\u001b[39m\u001b[38;5;241m-\u001b[39m\u001b[38;5;28mlen\u001b[39m(v), replace\u001b[38;5;241m=\u001b[39m\u001b[38;5;28;01mTrue\u001b[39;00m)]]\n\u001b[1;32m     10\u001b[0m     filler_x \u001b[38;5;241m=\u001b[39m np\u001b[38;5;241m.\u001b[39mstack(\u001b[38;5;28mlist\u001b[39m(\u001b[38;5;28mmap\u001b[39m(\u001b[38;5;28;01mlambda\u001b[39;00m x:x[:\u001b[38;5;241m16384\u001b[39m], filler_x)))\n\u001b[1;32m     11\u001b[0m     paths[k]\u001b[38;5;241m=\u001b[39mnp\u001b[38;5;241m.\u001b[39marray(\u001b[38;5;28mlist\u001b[39m(\u001b[38;5;28mmap\u001b[39m(get_arm_spectrogram,np\u001b[38;5;241m.\u001b[39mvstack([v,filler_x]))))\n",
      "Cell \u001b[0;32mIn[93], line 8\u001b[0m, in \u001b[0;36m<listcomp>\u001b[0;34m(.0)\u001b[0m\n\u001b[1;32m      4\u001b[0m paths \u001b[38;5;241m=\u001b[39m {k:np\u001b[38;5;241m.\u001b[39mstack(\u001b[38;5;28mlist\u001b[39m(\u001b[38;5;28mfilter\u001b[39m(\u001b[38;5;28;01mlambda\u001b[39;00m x:\u001b[38;5;28mlen\u001b[39m(x)\u001b[38;5;241m==\u001b[39m\u001b[38;5;241m16384\u001b[39m,\u001b[38;5;28mmap\u001b[39m(read_wav,v)))) \n\u001b[1;32m      5\u001b[0m          \u001b[38;5;28;01mfor\u001b[39;00m (k,v) \u001b[38;5;129;01min\u001b[39;00m paths\u001b[38;5;241m.\u001b[39mitems()}\n\u001b[1;32m      7\u001b[0m \u001b[38;5;28;01mfor\u001b[39;00m k,v \u001b[38;5;129;01min\u001b[39;00m paths\u001b[38;5;241m.\u001b[39mitems():\n\u001b[0;32m----> 8\u001b[0m     filler_x \u001b[38;5;241m=\u001b[39m [\u001b[43maugmenter\u001b[49m(x,sample_rate) \n\u001b[1;32m      9\u001b[0m                 \u001b[38;5;28;01mfor\u001b[39;00m x \u001b[38;5;129;01min\u001b[39;00m v[np\u001b[38;5;241m.\u001b[39mrandom\u001b[38;5;241m.\u001b[39mchoice(v\u001b[38;5;241m.\u001b[39mshape[\u001b[38;5;241m0\u001b[39m], \u001b[38;5;241m500\u001b[39m\u001b[38;5;241m-\u001b[39m\u001b[38;5;28mlen\u001b[39m(v), replace\u001b[38;5;241m=\u001b[39m\u001b[38;5;28;01mTrue\u001b[39;00m)]]\n\u001b[1;32m     10\u001b[0m     filler_x \u001b[38;5;241m=\u001b[39m np\u001b[38;5;241m.\u001b[39mstack(\u001b[38;5;28mlist\u001b[39m(\u001b[38;5;28mmap\u001b[39m(\u001b[38;5;28;01mlambda\u001b[39;00m x:x[:\u001b[38;5;241m16384\u001b[39m], filler_x)))\n\u001b[1;32m     11\u001b[0m     paths[k]\u001b[38;5;241m=\u001b[39mnp\u001b[38;5;241m.\u001b[39marray(\u001b[38;5;28mlist\u001b[39m(\u001b[38;5;28mmap\u001b[39m(get_arm_spectrogram,np\u001b[38;5;241m.\u001b[39mvstack([v,filler_x]))))\n",
      "\u001b[0;31mNameError\u001b[0m: name 'augmenter' is not defined"
     ]
    }
   ],
   "source": [
    "path = Path('./data/') \n",
    "paths = {pth.name:list(map(str,filter(lambda x:x.name != '.gitkeep',pth.iterdir()))) \n",
    "         for pth in path.iterdir() if pth.name in ['background','yes']}\n",
    "paths = {k:np.stack(list(filter(lambda x:len(x)==16384,map(read_wav,v)))) \n",
    "         for (k,v) in paths.items()}\n",
    "\n",
    "for k,v in paths.items():\n",
    "    filler_x = [augmenter(x,sample_rate) \n",
    "                for x in v[np.random.choice(v.shape[0], 500-len(v), replace=True)]]\n",
    "    filler_x = np.stack(list(map(lambda x:x[:16384], filler_x)))\n",
    "    paths[k]=np.array(list(map(get_arm_spectrogram,np.vstack([v,filler_x]))))\n"
   ]
  },
  {
   "cell_type": "code",
   "execution_count": 94,
   "id": "ae8548cc",
   "metadata": {
    "slideshow": {
     "slide_type": "subslide"
    }
   },
   "outputs": [
    {
     "data": {
      "text/plain": [
       "dict_values([array([[   0,    0,    0, ..., -227, -295, -311],\n",
       "       [   0,    0,    0, ..., -327, -279, -227],\n",
       "       [   0,    0,    0, ..., -391, -395, -443],\n",
       "       ...,\n",
       "       [   0,    0,    0, ..., -483, -535, -499],\n",
       "       [   0,    0,    0, ..., -239, -267, -303],\n",
       "       [   0,    0,    0, ..., -439, -403, -387]], dtype=int16), array([[   0,    0,    0, ...,    0,    0,    0],\n",
       "       [   0,    0,    0, ..., -107, -123, -115],\n",
       "       [   0,    0,    0, ..., -275, -275,  -83],\n",
       "       ...,\n",
       "       [   0,    0,    0, ..., -347, -363, -447],\n",
       "       [   0,    0,    0, ..., -619, -603, -603],\n",
       "       [   0,    0,    0, ...,  -59,  -63,  -51]], dtype=int16)])"
      ]
     },
     "execution_count": 94,
     "metadata": {},
     "output_type": "execute_result"
    }
   ],
   "source": [
    "paths.values()"
   ]
  },
  {
   "cell_type": "code",
   "execution_count": null,
   "id": "ee8cdee4",
   "metadata": {
    "scrolled": true,
    "slideshow": {
     "slide_type": "subslide"
    }
   },
   "outputs": [],
   "source": [
    "y = np.concatenate([np.zeros((1,500)).astype(np.uint16)[0], np.ones((1,500)).astype(np.uint16)[0]])\n",
    "x = np.vstack(list(paths.values()))"
   ]
  },
  {
   "cell_type": "code",
   "execution_count": null,
   "id": "80441b99",
   "metadata": {
    "scrolled": false,
    "slideshow": {
     "slide_type": "subslide"
    }
   },
   "outputs": [],
   "source": [
    "train_wake_data = tf.data.Dataset.from_tensor_slices((x, y))\n",
    "train_wake_loader = train_wake_data.cache().shuffle(2000, seed=42).batch(32).prefetch(tf.data.AUTOTUNE)"
   ]
  },
  {
   "cell_type": "code",
   "execution_count": null,
   "id": "b4150fbb",
   "metadata": {
    "slideshow": {
     "slide_type": "subslide"
    }
   },
   "outputs": [],
   "source": [
    "next(iter(train_wake_loader.take(1)))"
   ]
  },
  {
   "cell_type": "code",
   "execution_count": null,
   "id": "3ea53ccf",
   "metadata": {
    "scrolled": true,
    "slideshow": {
     "slide_type": "subslide"
    }
   },
   "outputs": [],
   "source": [
    "x,y = next(iter(train_wake_data.take(1)))\n",
    "print(f' target = {y}, \\n spectrogram = \\n {x}')\n",
    "input_shape = tf.expand_dims(x, axis=-1).shape\n",
    "norm_layer = tf.keras.layers.experimental.preprocessing.Normalization()\n",
    "norm_layer.adapt(train_wake_data.map(lambda x, y: tf.reshape(x, input_shape)))\n"
   ]
  },
  {
   "cell_type": "code",
   "execution_count": null,
   "id": "539a8df6",
   "metadata": {
    "slideshow": {
     "slide_type": "subslide"
    }
   },
   "outputs": [],
   "source": [
    "input_shape = tf.expand_dims(x, axis=-1).shape\n",
    "print(input_shape)"
   ]
  },
  {
   "cell_type": "code",
   "execution_count": null,
   "id": "be5316e1",
   "metadata": {
    "slideshow": {
     "slide_type": "subslide"
    }
   },
   "outputs": [],
   "source": [
    "base_model = tf.keras.models.Sequential([\n",
    "  tf.keras.layers.Input(shape=input_shape),\n",
    "  tf.keras.layers.experimental.preprocessing.Resizing(32, 32, interpolation=\"nearest\"), \n",
    "  norm_layer,\n",
    "  tf.keras.layers.Conv2D(8, kernel_size=(8,8), strides=(2, 2), activation=\"relu\"),\n",
    "  tf.keras.layers.MaxPool2D(pool_size=(2,2)),\n",
    "  tf.keras.layers.Flatten(),\n",
    "  tf.keras.layers.Dropout(0.25),\n",
    "  tf.keras.layers.Dense(50, activation='softmax')\n",
    "])"
   ]
  },
  {
   "cell_type": "code",
   "execution_count": null,
   "id": "47f5e99a",
   "metadata": {
    "slideshow": {
     "slide_type": "subslide"
    }
   },
   "outputs": [],
   "source": [
    "wake_word_model.load_weights('./artifacts/run_ao5qr95h_model:v26/cp.ckpt')"
   ]
  },
  {
   "cell_type": "code",
   "execution_count": null,
   "id": "860affaf",
   "metadata": {
    "slideshow": {
     "slide_type": "subslide"
    }
   },
   "outputs": [],
   "source": [
    "model_body = tf.keras.Model(inputs=base_model.input, outputs=base_model.layers[-2].output)\n",
    "classifier_head = tf.keras.layers.Dense(1, activation=\"sigmoid\")(model_body.output)\n",
    "wake_word_model = tf.keras.Model(model_body.input, classifier_head)\n",
    "wake_word_model.summary()"
   ]
  },
  {
   "cell_type": "code",
   "execution_count": null,
   "id": "8c48223b",
   "metadata": {
    "slideshow": {
     "slide_type": "subslide"
    }
   },
   "outputs": [],
   "source": [
    "for layer in wake_word_model.layers:\n",
    "    layer.trainable = False\n",
    "wake_word_model.layers[-1].trainable = True"
   ]
  },
  {
   "cell_type": "code",
   "execution_count": null,
   "id": "1d073e6d",
   "metadata": {
    "slideshow": {
     "slide_type": "subslide"
    }
   },
   "outputs": [],
   "source": [
    "# Initialize a new W&B run\n",
    "checkpoint_path = \"training_2/\"\n",
    "checkpoint_dir = os.path.dirname(checkpoint_path)\n",
    "print(checkpoint_dir)\n",
    "# Create a callback that saves the model's weights\n",
    "cp_callback = tf.keras.callbacks.ModelCheckpoint(\n",
    "    filepath=checkpoint_path,\n",
    "    save_weights_only=True,\n",
    "    verbose=1\n",
    ")\n",
    "callbacks = [\n",
    "    tf.keras.callbacks.EarlyStopping(verbose=0, patience=25), \n",
    "    tf.keras.callbacks.LearningRateScheduler(scheduler)\n",
    ",cp_callback,WandbMetricsLogger(),WandbModelCheckpoint(checkpoint_path)]"
   ]
  },
  {
   "cell_type": "code",
   "execution_count": null,
   "id": "d0615265",
   "metadata": {
    "slideshow": {
     "slide_type": "subslide"
    }
   },
   "outputs": [],
   "source": [
    "wake_word_model.compile(\n",
    "    optimizer=tf.keras.optimizers.Adam(learning_rate=0.003),\n",
    "    loss=tf.keras.losses.BinaryCrossentropy(),\n",
    "    metrics=METRICS,\n",
    ")"
   ]
  },
  {
   "cell_type": "code",
   "execution_count": 24,
   "id": "87a0bc2c",
   "metadata": {
    "scrolled": true,
    "slideshow": {
     "slide_type": "slide"
    }
   },
   "outputs": [
    {
     "data": {
      "text/html": [
       "<button onClick=\"this.nextSibling.style.display='block';this.style.display='none';\">Display W&B run</button><iframe src=\"https://wandb.ai/tiny-ml/wake_word_detection/runs/1tvjaowm?jupyter=true\" style=\"border:none;width:100%;height:420px;display:none;\"></iframe>"
      ],
      "text/plain": [
       "<wandb.sdk.wandb_run.Run at 0x29b71bd60>"
      ]
     },
     "execution_count": 24,
     "metadata": {},
     "output_type": "execute_result"
    }
   ],
   "source": [
    "run = wandb.init(config={\"bs\": 12},\n",
    "                 entity='tiny-ml',\n",
    "                 project='wake_word_detection', group='training',\n",
    "                settings={'quiet':True,'silent':True,'show_warnings':False,'show_info':False})\n",
    "run"
   ]
  },
  {
   "cell_type": "code",
   "execution_count": null,
   "id": "f8697694",
   "metadata": {
    "slideshow": {
     "slide_type": "fragment"
    }
   },
   "outputs": [],
   "source": [
    "EPOCHS = 100\n",
    "history = wake_word_model.fit(\n",
    "    train_wake_loader, \n",
    "    epochs=EPOCHS,\n",
    "    callbacks=callbacks\n",
    ")"
   ]
  }
 ],
 "metadata": {
  "celltoolbar": "Slideshow",
  "kernelspec": {
   "display_name": "Python 3 (ipykernel)",
   "language": "python",
   "name": "python3"
  },
  "language_info": {
   "codemirror_mode": {
    "name": "ipython",
    "version": 3
   },
   "file_extension": ".py",
   "mimetype": "text/x-python",
   "name": "python",
   "nbconvert_exporter": "python",
   "pygments_lexer": "ipython3",
   "version": "3.10.6"
  },
  "rise": {
   "backimage": "wandb_bg.png",
   "centre": false,
   "controls": false,
   "embedded": false,
   "enable_chalkboard": false,
   "height": "99%",
   "margin": 0.09,
   "progress": true,
   "scroll": false,
   "slideNumber": false,
   "start_slideshow_at": "selected",
   "theme": "black",
   "transition": "convex",
   "width": "100%"
  },
  "widgets": {
   "application/vnd.jupyter.widget-state+json": {
    "state": {},
    "version_major": 2,
    "version_minor": 0
   }
  }
 },
 "nbformat": 4,
 "nbformat_minor": 5
}
