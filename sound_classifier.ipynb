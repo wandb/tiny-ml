{
 "cells": [
  {
   "cell_type": "code",
   "execution_count": 26,
   "id": "041fd318",
   "metadata": {},
   "outputs": [],
   "source": []
  },
  {
   "cell_type": "markdown",
   "id": "ceff20e6",
   "metadata": {
    "ExecuteTime": {
     "end_time": "2023-01-28T11:30:00.672579Z",
     "start_time": "2023-01-28T11:30:00.292579Z"
    },
    "slideshow": {
     "slide_type": "slide"
    }
   },
   "source": [
    "![](slides/tiny_ml_cover.svg)"
   ]
  },
  {
   "cell_type": "markdown",
   "id": "fd4b9b3b",
   "metadata": {
    "slideshow": {
     "slide_type": "slide"
    }
   },
   "source": [
    "![](slides/ml_morphology.svg)"
   ]
  },
  {
   "cell_type": "markdown",
   "id": "25943d74",
   "metadata": {
    "slideshow": {
     "slide_type": "slide"
    }
   },
   "source": [
    "![](slides/mlops_graph.svg)"
   ]
  },
  {
   "cell_type": "markdown",
   "id": "8df11f7e",
   "metadata": {
    "slideshow": {
     "slide_type": "slide"
    }
   },
   "source": [
    "![](slides/edge_devices.svg)"
   ]
  },
  {
   "cell_type": "markdown",
   "id": "1b1d7fb4",
   "metadata": {
    "slideshow": {
     "slide_type": "slide"
    }
   },
   "source": [
    "\n",
    " <tr>\n",
    "    <td> <img src=\"./slides/spark_micro_mod_pico_1.jpg\" alt=\"Drawing\" style=\"height: 50%;width:100%;\" align=\"right\"/> </td>\n",
    "    <td> <img src=\"./slides/micro_mod_pico_2.jpg\" alt=\"Drawing\" style=\"height: 50%; width:100%\" align=\"left\"/> </td>\n",
    "    </tr>\n"
   ]
  },
  {
   "cell_type": "code",
   "execution_count": 1,
   "id": "f6e6a457",
   "metadata": {
    "slideshow": {
     "slide_type": "slide"
    }
   },
   "outputs": [],
   "source": [
    "# !git clone https://github.com/wandb/tiny-ml.git"
   ]
  },
  {
   "cell_type": "code",
   "execution_count": 72,
   "id": "ebc6cac1",
   "metadata": {
    "ExecuteTime": {
     "end_time": "2023-01-28T11:27:36.482912Z",
     "start_time": "2023-01-28T11:27:32.170223Z"
    },
    "scrolled": true,
    "slideshow": {
     "slide_type": "slide"
    }
   },
   "outputs": [],
   "source": [
    "import tensorflow as tf\n",
    "import wandb\n",
    "from pathlib import Path\n",
    "import pandas as pd\n",
    "import plotly.express as px\n",
    "from tqdm import tqdm\n",
    "import numpy as np\n",
    "import sounddevice as sd\n",
    "import wave\n",
    "from pvrecorder import PvRecorder\n",
    "import time \n",
    "from IPython.display import HTML\n",
    "from IPython.display import IFrame"
   ]
  },
  {
   "cell_type": "code",
   "execution_count": 3,
   "id": "e44460ed",
   "metadata": {
    "slideshow": {
     "slide_type": "slide"
    }
   },
   "outputs": [],
   "source": [
    "# some utilities that weve made in \n",
    "import recorder\n",
    "from utils.data_processing import augmenter,log_wandb_artifact,plot_spectrogram,segment,read_wav,Arm_spect\n",
    "from utils.create_sweep import create_sweep"
   ]
  },
  {
   "cell_type": "code",
   "execution_count": 4,
   "id": "427edae0",
   "metadata": {
    "slideshow": {
     "slide_type": "slide"
    }
   },
   "outputs": [],
   "source": [
    "# %load utils/data_processing.py"
   ]
  },
  {
   "cell_type": "code",
   "execution_count": 173,
   "id": "cc22bc31",
   "metadata": {
    "slideshow": {
     "slide_type": "slide"
    }
   },
   "outputs": [
    {
     "data": {
      "application/vnd.jupyter.widget-view+json": {
       "model_id": "b4006954d26c4e7bb48417118ff50af6",
       "version_major": 2,
       "version_minor": 0
      },
      "text/plain": [
       "VBox(children=(Label(value='Waiting for wandb.init()...\\r'), FloatProgress(value=0.016703370133351807, max=1.0…"
      ]
     },
     "metadata": {},
     "output_type": "display_data"
    },
    {
     "data": {
      "application/vnd.jupyter.widget-view+json": {
       "model_id": "0df3e2f8e32c4d5fb7eae2a6b4195379",
       "version_major": 2,
       "version_minor": 0
      },
      "text/plain": [
       "VBox(children=(Button(description='record yes', style=ButtonStyle()), Button(description='record background', …"
      ]
     },
     "metadata": {},
     "output_type": "display_data"
    }
   ],
   "source": [
    "sample  = recorder.record.Response(512)\n",
    "# set the time we want to sample sound\n",
    "sample.set_time(delta_sec=1)\n",
    "# defie wandb target projcts\n",
    "sample.set_run(project='wake_word_detection',entity='tiny-ml',group='yes_no',name='sound_recording')\n",
    "# set classes\n",
    "sample.get_classes(('yes','background'))"
   ]
  },
  {
   "cell_type": "code",
   "execution_count": 73,
   "id": "da54139b",
   "metadata": {
    "ExecuteTime": {
     "end_time": "2023-01-28T11:27:48.771672Z",
     "start_time": "2023-01-28T11:27:46.173182Z"
    },
    "scrolled": false,
    "slideshow": {
     "slide_type": "slide"
    }
   },
   "outputs": [],
   "source": [
    "tqdm_args = dict(leave=True,position=0)\n",
    "tqdm_colours = (f'#{r:02x}{g:02x}{b:02x}'for r,g,b in [(int(255*s), 3, int(255*s)) for s in np.linspace(1,0,100)])\n",
    "run = wandb.init(entity='tiny-ml',project = 'wake_word_detection', group='Data')"
   ]
  },
  {
   "cell_type": "code",
   "execution_count": 74,
   "id": "39dc1a45",
   "metadata": {
    "scrolled": true,
    "slideshow": {
     "slide_type": "subslide"
    }
   },
   "outputs": [],
   "source": [
    "recorder = PvRecorder(device_index=0, frame_length=512)\n",
    "sound = []\n",
    "recorder.start()\n",
    "t_0 = time.time()\n",
    "while time.time()-t_0<4:\n",
    "    frame = recorder.read()\n",
    "    sound.extend(frame)\n",
    "recorder.stop()"
   ]
  },
  {
   "cell_type": "code",
   "execution_count": 75,
   "id": "f171c251",
   "metadata": {
    "scrolled": false,
    "slideshow": {
     "slide_type": "subslide"
    }
   },
   "outputs": [],
   "source": [
    "data = np.array(sound).astype(np.int16)\n",
    "t_step = np.arange(0, len(data))\n",
    "fig = px.line(x=t_step, y=data, title='a sound wave')\n",
    "run.log({'sound_wave': fig})"
   ]
  },
  {
   "cell_type": "markdown",
   "id": "7eb0a0f7",
   "metadata": {
    "slideshow": {
     "slide_type": "slide"
    }
   },
   "source": [
    "### Showing a Run in Notebook"
   ]
  },
  {
   "cell_type": "code",
   "execution_count": 76,
   "id": "f0cdd1dc",
   "metadata": {
    "scrolled": false,
    "slideshow": {
     "slide_type": "fragment"
    }
   },
   "outputs": [
    {
     "data": {
      "text/html": [
       "<button onClick=\"this.nextSibling.style.display='block';this.style.display='none';\">Display W&B run</button><iframe src=\"https://wandb.ai/tiny-ml/wake_word_detection/runs/c66y5ajj?jupyter=true\" style=\"border:none;width:100%;height:420px;display:none;\"></iframe>"
      ],
      "text/plain": [
       "<wandb.sdk.wandb_run.Run at 0x2d2ad2170>"
      ]
     },
     "execution_count": 76,
     "metadata": {},
     "output_type": "execute_result"
    }
   ],
   "source": [
    "run"
   ]
  },
  {
   "cell_type": "code",
   "execution_count": 77,
   "id": "0b7237b4",
   "metadata": {
    "slideshow": {
     "slide_type": "subslide"
    }
   },
   "outputs": [
    {
     "data": {
      "text/html": [
       "<button onClick=\"this.nextSibling.style.display='block';this.style.display='none';\">Display W&B run</button><iframe src=\"https://wandb.ai/tiny-ml/wake_word_detection/runs/c66y5ajj?jupyter=true\" style=\"border:none;width:100%;height:420px;display:none;\"></iframe>"
      ],
      "text/plain": [
       "<wandb.sdk.wandb_run.Run at 0x2d2ad2170>"
      ]
     },
     "execution_count": 77,
     "metadata": {},
     "output_type": "execute_result"
    }
   ],
   "source": [
    "path = './data/yes/yes_record 102.wav'\n",
    "run.log({'test_sound':wandb.Audio(path)})\n",
    "run"
   ]
  },
  {
   "cell_type": "markdown",
   "id": "ba972c38",
   "metadata": {
    "slideshow": {
     "slide_type": "slide"
    }
   },
   "source": [
    "# The basis of our signal processing is using Fast Fourier Transform (FFT)\n",
    "> - [here](https://www.youtube.com/watch?v=spUNpyF58BY) is an amazing video on how FFT works. \n",
    "> - quickly go through getting from FFT to a Spectrogram. \n",
    ">  ![](./slides/200px-Fourier_in_his_coat_of_prefect.jpg)"
   ]
  },
  {
   "cell_type": "code",
   "execution_count": 78,
   "id": "6e0272c9",
   "metadata": {
    "scrolled": true,
    "slideshow": {
     "slide_type": "fragment"
    }
   },
   "outputs": [
    {
     "name": "stderr",
     "output_type": "stream",
     "text": [
      "/var/folders/q8/9dhs6y4d21s87vxtnwqflq5m0000gn/T/ipykernel_41368/660930182.py:1: ComplexWarning:\n",
      "\n",
      "Casting complex values to real discards the imaginary part\n",
      "\n"
     ]
    }
   ],
   "source": [
    "fft = np.fft.fft(data).astype(np.int16)\n",
    "t_steps = np.arange(0,len(fft))\n",
    "fft = np.stack([fft,t_step]).T\n",
    "df = pd.DataFrame(fft, columns = ['Faurrier_Value','Time_Step'])\n",
    "fig = px.line(df,x='Time_Step', y='Faurrier_Value', title='Fourrier Transform')\n",
    "run.log({'Fouriere Transform':fig})"
   ]
  },
  {
   "cell_type": "code",
   "execution_count": 79,
   "id": "e47afaf7",
   "metadata": {
    "scrolled": true,
    "slideshow": {
     "slide_type": "subslide"
    }
   },
   "outputs": [
    {
     "data": {
      "text/html": [
       "<button onClick=\"this.nextSibling.style.display='block';this.style.display='none';\">Display W&B run</button><iframe src=\"https://wandb.ai/tiny-ml/wake_word_detection/runs/c66y5ajj?jupyter=true\" style=\"border:none;width:100%;height:420px;display:none;\"></iframe>"
      ],
      "text/plain": [
       "<wandb.sdk.wandb_run.Run at 0x2d2ad2170>"
      ]
     },
     "execution_count": 79,
     "metadata": {},
     "output_type": "execute_result"
    }
   ],
   "source": [
    "run"
   ]
  },
  {
   "cell_type": "markdown",
   "id": "1f788ee0",
   "metadata": {
    "slideshow": {
     "slide_type": "slide"
    }
   },
   "source": [
    "## FFT can also be inverted, we can get sound back"
   ]
  },
  {
   "cell_type": "code",
   "execution_count": 81,
   "id": "43d25b76",
   "metadata": {
    "scrolled": true,
    "slideshow": {
     "slide_type": "subslide"
    }
   },
   "outputs": [
    {
     "name": "stderr",
     "output_type": "stream",
     "text": [
      "/var/folders/q8/9dhs6y4d21s87vxtnwqflq5m0000gn/T/ipykernel_41368/1994990191.py:3: ComplexWarning:\n",
      "\n",
      "Casting complex values to real discards the imaginary part\n",
      "\n"
     ]
    }
   ],
   "source": [
    "fft = np.fft.fft(data)\n",
    "roll = np.roll(fft,200)\n",
    "ifft = np.fft.ifft(roll).astype(np.int16)\n",
    "t_step = np.arange(len(ifft))\n",
    "ifft = np.stack([ifft,t_step]).T\n",
    "df = pd.DataFrame(ifft, columns = ['Frequecy_Value','Time_Step'])\n",
    "fig = px.line(df,x='Time_Step', \n",
    "              y='Frequecy_Value', \n",
    "              title='Inverse Fourrier Transform to Get sound Back')\n",
    "run.log({'Inverset Fouriere':fig})"
   ]
  },
  {
   "cell_type": "code",
   "execution_count": 82,
   "id": "f9df0e8e",
   "metadata": {
    "scrolled": true,
    "slideshow": {
     "slide_type": "subslide"
    }
   },
   "outputs": [
    {
     "data": {
      "text/html": [
       "<button onClick=\"this.nextSibling.style.display='block';this.style.display='none';\">Display W&B run</button><iframe src=\"https://wandb.ai/tiny-ml/wake_word_detection/runs/c66y5ajj?jupyter=true\" style=\"border:none;width:100%;height:420px;display:none;\"></iframe>"
      ],
      "text/plain": [
       "<wandb.sdk.wandb_run.Run at 0x2d2ad2170>"
      ]
     },
     "execution_count": 82,
     "metadata": {},
     "output_type": "execute_result"
    }
   ],
   "source": [
    "run"
   ]
  },
  {
   "cell_type": "markdown",
   "id": "f2507bf7",
   "metadata": {
    "slideshow": {
     "slide_type": "slide"
    }
   },
   "source": [
    "## Down Sample using FFT as an example of Signal Processing"
   ]
  },
  {
   "cell_type": "code",
   "execution_count": 83,
   "id": "eab43216",
   "metadata": {
    "scrolled": true,
    "slideshow": {
     "slide_type": "fragment"
    }
   },
   "outputs": [
    {
     "name": "stderr",
     "output_type": "stream",
     "text": [
      "/var/folders/q8/9dhs6y4d21s87vxtnwqflq5m0000gn/T/ipykernel_41368/3482508054.py:4: ComplexWarning:\n",
      "\n",
      "Casting complex values to real discards the imaginary part\n",
      "\n"
     ]
    }
   ],
   "source": [
    "# and examper of downsampling using FFT\n",
    "roll = np.roll(fft,15)\n",
    "ifft_ten = np.fft.ifft(roll)\n",
    "ifft_ten = ((2**(16-4)) * ifft_ten/ifft_ten.max()).astype(np.int16)\n",
    "ifft_ten = np.stack([ifft_ten,t_step]).T\n",
    "df = pd.DataFrame(ifft_ten, columns = ['Frequecy_Value','Time_Step'])\n",
    "fig = px.line(df,x='Time_Step', y='Frequecy_Value', title='Dowsampling using Fast Fourrier Transform (FFT)')\n",
    "run.log({'Down_Sampled_Sound':fig})"
   ]
  },
  {
   "cell_type": "code",
   "execution_count": 84,
   "id": "dc2fa951",
   "metadata": {
    "scrolled": true,
    "slideshow": {
     "slide_type": "subslide"
    }
   },
   "outputs": [
    {
     "data": {
      "text/html": [
       "<button onClick=\"this.nextSibling.style.display='block';this.style.display='none';\">Display W&B run</button><iframe src=\"https://wandb.ai/tiny-ml/wake_word_detection/runs/c66y5ajj?jupyter=true\" style=\"border:none;width:100%;height:420px;display:none;\"></iframe>"
      ],
      "text/plain": [
       "<wandb.sdk.wandb_run.Run at 0x2d2ad2170>"
      ]
     },
     "execution_count": 84,
     "metadata": {},
     "output_type": "execute_result"
    }
   ],
   "source": [
    "run"
   ]
  },
  {
   "cell_type": "code",
   "execution_count": 85,
   "id": "340af87a",
   "metadata": {
    "scrolled": true,
    "slideshow": {
     "slide_type": "fragment"
    }
   },
   "outputs": [
    {
     "data": {
      "application/vnd.jupyter.widget-view+json": {
       "model_id": "f371eea9d87e495bbcd8899c4ba4cfb2",
       "version_major": 2,
       "version_minor": 0
      },
      "text/plain": [
       "VBox(children=(Label(value='Waiting for wandb.init()...\\r'), FloatProgress(value=0.016735940283251694, max=1.0…"
      ]
     },
     "metadata": {},
     "output_type": "display_data"
    }
   ],
   "source": [
    "run.finish()\n",
    "run = wandb.init(id=run.id,\n",
    "                 entity='tiny-ml',\n",
    "                 project = 'wake_word_detection ',\n",
    "                 group='Data',\n",
    "                 resume='must')"
   ]
  },
  {
   "cell_type": "markdown",
   "id": "3a04b458",
   "metadata": {
    "slideshow": {
     "slide_type": "slide"
    }
   },
   "source": [
    "### ARM spectrogram using FFT 🦾\n"
   ]
  },
  {
   "cell_type": "code",
   "execution_count": 86,
   "id": "605df5b5",
   "metadata": {
    "slideshow": {
     "slide_type": "fragment"
    }
   },
   "outputs": [
    {
     "data": {
      "text/plain": [
       "array([[0.5     , 0.3125  , 0.125   , ..., 0.      , 0.      , 0.      ],\n",
       "       [0.671875, 0.375   , 0.0625  , ..., 0.015625, 0.      , 0.      ],\n",
       "       [0.78125 , 0.390625, 0.03125 , ..., 0.      , 0.      , 0.      ],\n",
       "       ...,\n",
       "       [1.109375, 0.53125 , 0.125   , ..., 0.015625, 0.      , 0.      ],\n",
       "       [0.96875 , 0.375   , 0.03125 , ..., 0.015625, 0.      , 0.      ],\n",
       "       [0.921875, 0.34375 , 0.0625  , ..., 0.      , 0.      , 0.      ]],\n",
       "      dtype=float32)"
      ]
     },
     "execution_count": 86,
     "metadata": {},
     "output_type": "execute_result"
    }
   ],
   "source": [
    "category = 'yes'\n",
    "idx = 10\n",
    "sound = read_wav(f'./data/{category}/{category}_record {idx}.wav')\n",
    "sound = sound.astype(np.float32, order='F') / 32768.0\n",
    "get_arm_spectrogram = Arm_spect().get_arm_spectrogram\n",
    "get_arm_spectrogram(sound)"
   ]
  },
  {
   "cell_type": "code",
   "execution_count": 87,
   "id": "3c0aeffb",
   "metadata": {
    "scrolled": true,
    "slideshow": {
     "slide_type": "slide"
    }
   },
   "outputs": [
    {
     "data": {
      "text/html": [
       "\n",
       "        <iframe\n",
       "            width=\"1900\"\n",
       "            height=\"800\"\n",
       "            src=\"https://wandb.ai/tiny-ml/wake_word_detection/reports/Walking-Rubbix-Cube--VmlldzozNDU0NTI5\"\n",
       "            frameborder=\"0\"\n",
       "            allowfullscreen\n",
       "            \n",
       "        ></iframe>\n",
       "        "
      ],
      "text/plain": [
       "<IPython.lib.display.IFrame at 0x2e71d92a0>"
      ]
     },
     "execution_count": 87,
     "metadata": {},
     "output_type": "execute_result"
    }
   ],
   "source": [
    "IFrame('https://wandb.ai/tiny-ml/wake_word_detection/reports/Walking-Rubbix-Cube--VmlldzozNDU0NTI5', width=1900,\n",
    "       height=800)"
   ]
  },
  {
   "cell_type": "markdown",
   "id": "79663ee8",
   "metadata": {
    "slideshow": {
     "slide_type": "slide"
    }
   },
   "source": [
    "### Showing output of custom function optimized for arm processor"
   ]
  },
  {
   "cell_type": "code",
   "execution_count": 88,
   "id": "953d6351",
   "metadata": {
    "scrolled": true,
    "slideshow": {
     "slide_type": "fragment"
    }
   },
   "outputs": [
    {
     "name": "stdout",
     "output_type": "stream",
     "text": [
      "[   0    0    0 ... -591 -643 -631]\n"
     ]
    },
    {
     "name": "stderr",
     "output_type": "stream",
     "text": [
      "/var/folders/q8/9dhs6y4d21s87vxtnwqflq5m0000gn/T/ipykernel_41368/3992365391.py:8: ComplexWarning:\n",
      "\n",
      "Casting complex values to real discards the imaginary part\n",
      "\n"
     ]
    }
   ],
   "source": [
    "category = 'yes'\n",
    "sound = read_wav(f'./data/{category}/yes_record 119.wav')\n",
    "print(sound)\n",
    "sound = sound.astype(np.float32, order='F') / 32768.0\n",
    "# what we are using \n",
    "arm_spct = get_arm_spectrogram(sound)\n",
    "# what were not using \n",
    "tf_spect = tf.signal.stft(sound, frame_length=512, frame_step=128).numpy().astype(np.float32)\n",
    "fig = px.imshow(np.array(arm_spct))\n",
    "run.log({f'spectrogram_{category}':fig})"
   ]
  },
  {
   "cell_type": "code",
   "execution_count": 89,
   "id": "442d339f",
   "metadata": {
    "scrolled": true,
    "slideshow": {
     "slide_type": "subslide"
    }
   },
   "outputs": [],
   "source": [
    "run.finish()\n"
   ]
  },
  {
   "cell_type": "code",
   "execution_count": 23,
   "id": "ad34c01e",
   "metadata": {
    "scrolled": true,
    "slideshow": {
     "slide_type": "slide"
    }
   },
   "outputs": [
    {
     "data": {
      "text/html": [
       "\n",
       "        <iframe\n",
       "            width=\"1900\"\n",
       "            height=\"800\"\n",
       "            src=\"https://wandb.ai/tiny-ml/wake_word_detection/reports/yes-spectrograms--VmlldzozNDU0NDI3\"\n",
       "            frameborder=\"0\"\n",
       "            allowfullscreen\n",
       "            \n",
       "        ></iframe>\n",
       "        "
      ],
      "text/plain": [
       "<IPython.lib.display.IFrame at 0x2abad0520>"
      ]
     },
     "execution_count": 23,
     "metadata": {},
     "output_type": "execute_result"
    }
   ],
   "source": [
    "IFrame('https://wandb.ai/tiny-ml/wake_word_detection/reports/yes-spectrograms--VmlldzozNDU0NDI3', \n",
    "       width=1900, \n",
    "       height=800)"
   ]
  },
  {
   "cell_type": "code",
   "execution_count": 24,
   "id": "4d5cd776",
   "metadata": {
    "slideshow": {
     "slide_type": "slide"
    }
   },
   "outputs": [
    {
     "data": {
      "text/html": [
       "\n",
       "        <iframe\n",
       "            width=\"1900\"\n",
       "            height=\"800\"\n",
       "            src=\"https://wandb.ai/tiny-ml/wake_word_detection/reports/Walking-Rubbix-Cube--VmlldzozNDU0NTI5\"\n",
       "            frameborder=\"0\"\n",
       "            allowfullscreen\n",
       "            \n",
       "        ></iframe>\n",
       "        "
      ],
      "text/plain": [
       "<IPython.lib.display.IFrame at 0x2abad09d0>"
      ]
     },
     "execution_count": 24,
     "metadata": {},
     "output_type": "execute_result"
    }
   ],
   "source": [
    "IFrame('https://wandb.ai/tiny-ml/wake_word_detection/reports/Walking-Rubbix-Cube--VmlldzozNDU0NTI5', \n",
    "       width=1900, height=800)"
   ]
  },
  {
   "cell_type": "markdown",
   "id": "719bd660",
   "metadata": {
    "slideshow": {
     "slide_type": "skip"
    }
   },
   "source": [
    "# Adding spectrogram plot to wandb table 🌌"
   ]
  },
  {
   "cell_type": "markdown",
   "id": "e2bb1fb1",
   "metadata": {
    "slideshow": {
     "slide_type": "subslide"
    }
   },
   "source": [
    "# logging some media outside of a table to workspace\n",
    "This is for:\n",
    "- cheching what our network see in signal domain;\n",
    "- to spot patterns;\n",
    "- gain intuitions about process and raw signal data."
   ]
  },
  {
   "cell_type": "code",
   "execution_count": 19,
   "id": "9cb23d2f",
   "metadata": {
    "scrolled": true,
    "slideshow": {
     "slide_type": "skip"
    }
   },
   "outputs": [
    {
     "name": "stderr",
     "output_type": "stream",
     "text": [
      "  0%|\u001b[38;2;255;3;255m                                                                                                                   \u001b[0m| 0/9 [00:00<?, ?it/s]\u001b[0mException in thread SockSrvRdThr:\n",
      " 11%|\u001b[38;2;255;3;255m███████████▉                                                                                               \u001b[0m| 1/9 [00:00<00:07,  1.03it/s]\u001b[0mTraceback (most recent call last):\n",
      "  File \"/Users/fridadesigley/.pyenv/versions/3.10.6/lib/python3.10/threading.py\", line 1016, in _bootstrap_inner\n",
      "    self.run()\n",
      "  File \"/Users/fridadesigley/.pyenv/versions/3.10.6/envs/tiny-ml/lib/python3.10/site-packages/wandb/sdk/service/server_sock.py\", line 112, in run\n",
      "    shandler(sreq)\n",
      "  File \"/Users/fridadesigley/.pyenv/versions/3.10.6/envs/tiny-ml/lib/python3.10/site-packages/wandb/sdk/service/server_sock.py\", line 174, in server_record_publish\n",
      "    iface = self._mux.get_stream(stream_id).interface\n",
      "  File \"/Users/fridadesigley/.pyenv/versions/3.10.6/envs/tiny-ml/lib/python3.10/site-packages/wandb/sdk/service/streams.py\", line 206, in get_stream\n",
      "    stream = self._streams[stream_id]\n",
      "KeyError: 'mi552m39'\n",
      "100%|\u001b[38;2;255;3;255m███████████████████████████████████████████████████████████████████████████████████████████████████████████\u001b[0m| 9/9 [00:03<00:00,  2.74it/s]\u001b[0m\n"
     ]
    }
   ],
   "source": [
    "run = wandb.init(id=run.id,\n",
    "                 entity='tiny-ml',\n",
    "                 project = 'wake_word_detection ',\n",
    "                 group='Data',\n",
    "                 resume='must')\n",
    "sample_rate = 16000\n",
    "category = 'yes'\n",
    "n_samples = 10\n",
    "for idx in tqdm(range(1,n_samples), colour=next(tqdm_colours)):\n",
    "    sound = read_wav(f'./data/{category}/{category}_record {idx}.wav')\n",
    "    sound = sound.astype(np.float32, order='F') / 32768.0\n",
    "    arm_spect = get_arm_spectrogram(sound)\n",
    "    img = plot_spectrogram(arm_spect,sample_rate=sample_rate)\n",
    "    img = wandb.Image(img)\n",
    "    run.log({f'spectrogram_image{category}':img})"
   ]
  },
  {
   "cell_type": "code",
   "execution_count": 25,
   "id": "e7626bb5",
   "metadata": {
    "slideshow": {
     "slide_type": "slide"
    }
   },
   "outputs": [
    {
     "data": {
      "text/html": [
       "\n",
       "        <iframe\n",
       "            width=\"1900\"\n",
       "            height=\"800\"\n",
       "            src=\"https://wandb.ai/tiny-ml/wake_word_detection/reports/WandB-Table-with-Sound-Spectrogram--VmlldzozNDU0NDc5\"\n",
       "            frameborder=\"0\"\n",
       "            allowfullscreen\n",
       "            \n",
       "        ></iframe>\n",
       "        "
      ],
      "text/plain": [
       "<IPython.lib.display.IFrame at 0x2abad11e0>"
      ]
     },
     "execution_count": 25,
     "metadata": {},
     "output_type": "execute_result"
    }
   ],
   "source": [
    "IFrame('https://wandb.ai/tiny-ml/wake_word_detection/reports/WandB-Table-with-Sound-Spectrogram--VmlldzozNDU0NDc5', \n",
    "       width=1900, height=800)"
   ]
  },
  {
   "cell_type": "code",
   "execution_count": 20,
   "id": "7e78af2b",
   "metadata": {
    "scrolled": false,
    "slideshow": {
     "slide_type": "skip"
    }
   },
   "outputs": [
    {
     "data": {
      "text/html": [
       "<button onClick=\"this.nextSibling.style.display='block';this.style.display='none';\">Display W&B run</button><iframe src=\"https://wandb.ai/tiny-ml/wake_word_detection/runs/mi552m39?jupyter=true\" style=\"border:none;width:100%;height:420px;display:none;\"></iframe>"
      ],
      "text/plain": [
       "<wandb.sdk.wandb_run.Run at 0x16c157e80>"
      ]
     },
     "execution_count": 20,
     "metadata": {},
     "output_type": "execute_result"
    }
   ],
   "source": [
    "run.finish()\n",
    "run"
   ]
  },
  {
   "cell_type": "code",
   "execution_count": 64,
   "id": "e330931e",
   "metadata": {
    "scrolled": true,
    "slideshow": {
     "slide_type": "skip"
    }
   },
   "outputs": [],
   "source": [
    "# !rm -rf datasets\n",
    "# artifact = wandb.Artifact(name='metadata', type='ESC-50-master')\n",
    "# artifact.add_reference('https://github.com/karoldvl/ESC-50/archive/master.zip')\n",
    "# artifact = run.use_artifact('tiny-ml/wake_word_detection/metadata:v0', type='ESC-50-master')\n",
    "# artifact_dir = artifact.download()\n",
    "# !mkdir datasets\n",
    "# !unzip ./artifacts/metadata:v0/master.zip -d /Users/fridadesigley/pico/tiny-ml/datasets/ "
   ]
  },
  {
   "cell_type": "markdown",
   "id": "6ff62315",
   "metadata": {
    "slideshow": {
     "slide_type": "skip"
    }
   },
   "source": [
    "# 2. This Covers Pre Processing on ESC 50 dataset 💅🏻"
   ]
  },
  {
   "cell_type": "markdown",
   "id": "ed107e5e",
   "metadata": {
    "slideshow": {
     "slide_type": "skip"
    }
   },
   "source": [
    "### Reading our pre-traning data to pandas 🐼"
   ]
  },
  {
   "cell_type": "code",
   "execution_count": 21,
   "id": "4af1b618",
   "metadata": {
    "scrolled": true,
    "slideshow": {
     "slide_type": "skip"
    }
   },
   "outputs": [
    {
     "data": {
      "application/vnd.jupyter.widget-view+json": {
       "model_id": "5fb998f373eb4c349f8558bba622b360",
       "version_major": 2,
       "version_minor": 0
      },
      "text/plain": [
       "VBox(children=(Label(value='Waiting for wandb.init()...\\r'), FloatProgress(value=0.016738641666718953, max=1.0…"
      ]
     },
     "metadata": {},
     "output_type": "display_data"
    },
    {
     "name": "stdout",
     "output_type": "stream",
     "text": [
      "Problem at: /var/folders/q8/9dhs6y4d21s87vxtnwqflq5m0000gn/T/ipykernel_34488/1036862475.py 1 <module>\n"
     ]
    },
    {
     "name": "stderr",
     "output_type": "stream",
     "text": [
      "Traceback (most recent call last):\n",
      "  File \"/Users/fridadesigley/.pyenv/versions/3.10.6/envs/tiny-ml/lib/python3.10/site-packages/wandb/sdk/wandb_init.py\", line 1108, in init\n",
      "    run = wi.init()\n",
      "  File \"/Users/fridadesigley/.pyenv/versions/3.10.6/envs/tiny-ml/lib/python3.10/site-packages/wandb/sdk/wandb_init.py\", line 742, in init\n",
      "    raise error\n",
      "wandb.errors.CommError: Error communicating with wandb process, exiting...\n",
      "For more info see: https://docs.wandb.ai/library/init#init-start-error\n"
     ]
    },
    {
     "ename": "Exception",
     "evalue": "problem",
     "output_type": "error",
     "traceback": [
      "\u001b[0;31m---------------------------------------------------------------------------\u001b[0m",
      "\u001b[0;31mCommError\u001b[0m                                 Traceback (most recent call last)",
      "File \u001b[0;32m~/.pyenv/versions/3.10.6/envs/tiny-ml/lib/python3.10/site-packages/wandb/sdk/wandb_init.py:1108\u001b[0m, in \u001b[0;36minit\u001b[0;34m(job_type, dir, config, project, entity, reinit, tags, group, name, notes, magic, config_exclude_keys, config_include_keys, anonymous, mode, allow_val_change, resume, force, tensorboard, sync_tensorboard, monitor_gym, save_code, id, settings)\u001b[0m\n\u001b[1;32m   1107\u001b[0m \u001b[38;5;28;01mtry\u001b[39;00m:\n\u001b[0;32m-> 1108\u001b[0m     run \u001b[38;5;241m=\u001b[39m \u001b[43mwi\u001b[49m\u001b[38;5;241;43m.\u001b[39;49m\u001b[43minit\u001b[49m\u001b[43m(\u001b[49m\u001b[43m)\u001b[49m\n\u001b[1;32m   1109\u001b[0m     except_exit \u001b[38;5;241m=\u001b[39m wi\u001b[38;5;241m.\u001b[39msettings\u001b[38;5;241m.\u001b[39m_except_exit\n",
      "File \u001b[0;32m~/.pyenv/versions/3.10.6/envs/tiny-ml/lib/python3.10/site-packages/wandb/sdk/wandb_init.py:742\u001b[0m, in \u001b[0;36m_WandbInit.init\u001b[0;34m(self)\u001b[0m\n\u001b[1;32m    741\u001b[0m         \u001b[38;5;28mself\u001b[39m\u001b[38;5;241m.\u001b[39mteardown()\n\u001b[0;32m--> 742\u001b[0m     \u001b[38;5;28;01mraise\u001b[39;00m error\n\u001b[1;32m    744\u001b[0m \u001b[38;5;28;01mif\u001b[39;00m run_result \u001b[38;5;129;01mis\u001b[39;00m \u001b[38;5;129;01mnot\u001b[39;00m \u001b[38;5;28;01mNone\u001b[39;00m:\n",
      "\u001b[0;31mCommError\u001b[0m: Error communicating with wandb process, exiting...\nFor more info see: https://docs.wandb.ai/library/init#init-start-error",
      "\nThe above exception was the direct cause of the following exception:\n",
      "\u001b[0;31mException\u001b[0m                                 Traceback (most recent call last)",
      "Cell \u001b[0;32mIn[21], line 1\u001b[0m\n\u001b[0;32m----> 1\u001b[0m run \u001b[38;5;241m=\u001b[39m \u001b[43mwandb\u001b[49m\u001b[38;5;241;43m.\u001b[39;49m\u001b[43minit\u001b[49m\u001b[43m(\u001b[49m\u001b[38;5;28;43mid\u001b[39;49m\u001b[38;5;241;43m=\u001b[39;49m\u001b[43mrun\u001b[49m\u001b[38;5;241;43m.\u001b[39;49m\u001b[43mid\u001b[49m\u001b[43m,\u001b[49m\n\u001b[1;32m      2\u001b[0m \u001b[43m                 \u001b[49m\u001b[43mentity\u001b[49m\u001b[38;5;241;43m=\u001b[39;49m\u001b[38;5;124;43m'\u001b[39;49m\u001b[38;5;124;43mtiny-ml\u001b[39;49m\u001b[38;5;124;43m'\u001b[39;49m\u001b[43m,\u001b[49m\n\u001b[1;32m      3\u001b[0m \u001b[43m                 \u001b[49m\u001b[43mproject\u001b[49m\u001b[43m \u001b[49m\u001b[38;5;241;43m=\u001b[39;49m\u001b[43m \u001b[49m\u001b[38;5;124;43m'\u001b[39;49m\u001b[38;5;124;43mwake_word_detection\u001b[39;49m\u001b[38;5;124;43m'\u001b[39;49m\u001b[43m,\u001b[49m\u001b[43m \u001b[49m\n\u001b[1;32m      4\u001b[0m \u001b[43m                 \u001b[49m\u001b[43mgroup\u001b[49m\u001b[38;5;241;43m=\u001b[39;49m\u001b[38;5;124;43m'\u001b[39;49m\u001b[38;5;124;43mData\u001b[39;49m\u001b[38;5;124;43m'\u001b[39;49m\u001b[43m,\u001b[49m\n\u001b[1;32m      5\u001b[0m \u001b[43m                 \u001b[49m\u001b[43mresume\u001b[49m\u001b[38;5;241;43m=\u001b[39;49m\u001b[38;5;124;43m'\u001b[39;49m\u001b[38;5;124;43mmust\u001b[39;49m\u001b[38;5;124;43m'\u001b[39;49m\u001b[43m)\u001b[49m\n\u001b[1;32m      6\u001b[0m esc50_csv \u001b[38;5;241m=\u001b[39m \u001b[38;5;124m'\u001b[39m\u001b[38;5;124m./datasets/ESC-50-master/meta/esc50.csv\u001b[39m\u001b[38;5;124m'\u001b[39m\n\u001b[1;32m      7\u001b[0m df \u001b[38;5;241m=\u001b[39m pd\u001b[38;5;241m.\u001b[39mread_csv(esc50_csv)\n",
      "File \u001b[0;32m~/.pyenv/versions/3.10.6/envs/tiny-ml/lib/python3.10/site-packages/wandb/sdk/wandb_init.py:1145\u001b[0m, in \u001b[0;36minit\u001b[0;34m(job_type, dir, config, project, entity, reinit, tags, group, name, notes, magic, config_exclude_keys, config_include_keys, anonymous, mode, allow_val_change, resume, force, tensorboard, sync_tensorboard, monitor_gym, save_code, id, settings)\u001b[0m\n\u001b[1;32m   1143\u001b[0m         \u001b[38;5;28;01mif\u001b[39;00m except_exit:\n\u001b[1;32m   1144\u001b[0m             os\u001b[38;5;241m.\u001b[39m_exit(\u001b[38;5;241m1\u001b[39m)\n\u001b[0;32m-> 1145\u001b[0m         \u001b[38;5;28;01mraise\u001b[39;00m \u001b[38;5;167;01mException\u001b[39;00m(\u001b[38;5;124m\"\u001b[39m\u001b[38;5;124mproblem\u001b[39m\u001b[38;5;124m\"\u001b[39m) \u001b[38;5;28;01mfrom\u001b[39;00m \u001b[38;5;21;01merror_seen\u001b[39;00m\n\u001b[1;32m   1146\u001b[0m \u001b[38;5;28;01mreturn\u001b[39;00m run\n",
      "\u001b[0;31mException\u001b[0m: problem"
     ]
    }
   ],
   "source": [
    "run = wandb.init(id=run.id,\n",
    "                 entity='tiny-ml',\n",
    "                 project = 'wake_word_detection', \n",
    "                 group='Data',\n",
    "                 resume='must')\n",
    "esc50_csv = './datasets/ESC-50-master/meta/esc50.csv'\n",
    "df = pd.read_csv(esc50_csv)\n",
    "initial_data_table = wandb.Table(data=df, columns=list(df.columns))\n",
    "run.log({'initial_table':initial_data_table})"
   ]
  },
  {
   "cell_type": "markdown",
   "id": "fc78f8b4",
   "metadata": {
    "slideshow": {
     "slide_type": "skip"
    }
   },
   "source": [
    "### Here we are training on 1 second sound clips and our ESC 50 Dataset is 4 seconds per class"
   ]
  },
  {
   "cell_type": "markdown",
   "id": "f85a58fe",
   "metadata": {
    "slideshow": {
     "slide_type": "skip"
    }
   },
   "source": [
    "### testing our function "
   ]
  },
  {
   "cell_type": "code",
   "execution_count": null,
   "id": "bc2b25bb",
   "metadata": {
    "scrolled": true,
    "slideshow": {
     "slide_type": "skip"
    }
   },
   "outputs": [],
   "source": [
    "test_file = 'datasets/ESC-50-master/audio/1-100032-A-0.wav'\n",
    "data = segment(fid=test_file,chunk=1)\n"
   ]
  },
  {
   "cell_type": "markdown",
   "id": "ed34bed9",
   "metadata": {
    "slideshow": {
     "slide_type": "skip"
    }
   },
   "source": [
    "### reading 1 second clips writing to a new files"
   ]
  },
  {
   "cell_type": "code",
   "execution_count": null,
   "id": "7ea9518a",
   "metadata": {
    "scrolled": true,
    "slideshow": {
     "slide_type": "skip"
    }
   },
   "outputs": [],
   "source": [
    "in_paranet = Path('./datasets/ESC-50-master/audio/')\n",
    "out_data_dir = Path('ESC-50')\n",
    "out_data_dir.mkdir(exist_ok=True)\n",
    "all_out = [ ]\n",
    "for idx, row in tqdm(df.iterrows()):\n",
    "    out_dir = out_data_dir/row.category\n",
    "    out_dir.mkdir(exist_ok=True)\n",
    "    data, vals = segment(fid = str(in_paranet/row.filename),\n",
    "       chunk=1)\n",
    "    chans, samp_width , rate = vals\n",
    "    out_fids = [ ]\n",
    "    for idx,sound in enumerate(data):\n",
    "        out_fid = out_dir/f'{idx}_{row.filename}'\n",
    "        out_fids.append(out_fid)\n",
    "        with wave.open(str(out_fid), 'w') as outfile:\n",
    "            outfile.setnchannels(chans)\n",
    "            outfile.setsampwidth(samp_width)\n",
    "            outfile.setframerate(rate)\n",
    "            outfile.setnframes(int(len(sound) /  samp_width))\n",
    "            outfile.writeframes(sound)\n",
    "    all_out.append(out_fids)\n"
   ]
  },
  {
   "cell_type": "markdown",
   "id": "a8b34806",
   "metadata": {
    "slideshow": {
     "slide_type": "skip"
    }
   },
   "source": [
    "# Building an Artifact of 1 second sound clips broken down into class/category name\n",
    "This:\n",
    "> - creates a type which is here a parent directory\n",
    "> - names an artfact for each class\n",
    "> - creates a list of artfacts which are then itterated through to add a dirctory"
   ]
  },
  {
   "cell_type": "markdown",
   "id": "ee8aaf6c",
   "metadata": {
    "slideshow": {
     "slide_type": "skip"
    }
   },
   "source": [
    "#### Our artifacts are going to follow this pattern"
   ]
  },
  {
   "cell_type": "code",
   "execution_count": 78,
   "id": "4080ab6d",
   "metadata": {
    "scrolled": true,
    "slideshow": {
     "slide_type": "skip"
    }
   },
   "outputs": [
    {
     "name": "stderr",
     "output_type": "stream",
     "text": [
      "100%|\u001b[38;2;252;3;252m█████████████████████████████████████████████\u001b[0m| 2/2 [00:00<00:00,  3.19it/s]\u001b[0m\n"
     ]
    }
   ],
   "source": [
    "import shutil\n",
    "run = wandb.init(id=run.id,entity='tiny-ml',project = 'wake_word_detection', group='Data',\n",
    "                resume='must')\n",
    "\n",
    "esc50_csv = Path('./datasets/ESC-50-master/meta/esc50.csv')\n",
    "path = Path('ESC-50/')\n",
    "meta_data = path/'meta_data'\n",
    "meta_data.mkdir(exist_ok=True)\n",
    "shutil.copyfile(esc50_csv,meta_data/esc50_csv.name)\n",
    "esc_artifacts = [pth for pth in path.iterdir()]\n",
    "for pth in tqdm(esc_artifacts[-2:],**tqdm_args,colour=next(tqdm_colours)):\n",
    "    log_wandb_artifact(run=run,path=pth)\n",
    "    \n",
    "run.finish()\n"
   ]
  },
  {
   "cell_type": "markdown",
   "id": "d97a544c",
   "metadata": {
    "slideshow": {
     "slide_type": "slide"
    }
   },
   "source": [
    "### adding our one second sound file paths to our data frame"
   ]
  },
  {
   "cell_type": "code",
   "execution_count": 79,
   "id": "49b5e83a",
   "metadata": {
    "scrolled": true,
    "slideshow": {
     "slide_type": "subslide"
    }
   },
   "outputs": [
    {
     "data": {
      "text/html": [
       "<div>\n",
       "<style scoped>\n",
       "    .dataframe tbody tr th:only-of-type {\n",
       "        vertical-align: middle;\n",
       "    }\n",
       "\n",
       "    .dataframe tbody tr th {\n",
       "        vertical-align: top;\n",
       "    }\n",
       "\n",
       "    .dataframe thead th {\n",
       "        text-align: right;\n",
       "    }\n",
       "</style>\n",
       "<table border=\"1\" class=\"dataframe\">\n",
       "  <thead>\n",
       "    <tr style=\"text-align: right;\">\n",
       "      <th></th>\n",
       "      <th>filename</th>\n",
       "      <th>fold</th>\n",
       "      <th>target</th>\n",
       "      <th>category</th>\n",
       "      <th>esc10</th>\n",
       "      <th>src_file</th>\n",
       "      <th>take</th>\n",
       "      <th>0_1_sec</th>\n",
       "      <th>1_2_sec</th>\n",
       "      <th>2_3_sec</th>\n",
       "      <th>3_4_sec</th>\n",
       "      <th>4_5_sec</th>\n",
       "      <th>5_6_sec</th>\n",
       "    </tr>\n",
       "  </thead>\n",
       "  <tbody>\n",
       "    <tr>\n",
       "      <th>0</th>\n",
       "      <td>1-100032-A-0.wav</td>\n",
       "      <td>1</td>\n",
       "      <td>0</td>\n",
       "      <td>dog</td>\n",
       "      <td>True</td>\n",
       "      <td>100032</td>\n",
       "      <td>A</td>\n",
       "      <td>ESC-50/dog/0_1-100032-A-0.wav</td>\n",
       "      <td>ESC-50/dog/1_1-100032-A-0.wav</td>\n",
       "      <td>ESC-50/dog/2_1-100032-A-0.wav</td>\n",
       "      <td>ESC-50/dog/3_1-100032-A-0.wav</td>\n",
       "      <td>ESC-50/dog/4_1-100032-A-0.wav</td>\n",
       "      <td>ESC-50/dog/5_1-100032-A-0.wav</td>\n",
       "    </tr>\n",
       "    <tr>\n",
       "      <th>1</th>\n",
       "      <td>1-100038-A-14.wav</td>\n",
       "      <td>1</td>\n",
       "      <td>14</td>\n",
       "      <td>chirping_birds</td>\n",
       "      <td>False</td>\n",
       "      <td>100038</td>\n",
       "      <td>A</td>\n",
       "      <td>ESC-50/chirping_birds/0_1-100038-A-14.wav</td>\n",
       "      <td>ESC-50/chirping_birds/1_1-100038-A-14.wav</td>\n",
       "      <td>ESC-50/chirping_birds/2_1-100038-A-14.wav</td>\n",
       "      <td>ESC-50/chirping_birds/3_1-100038-A-14.wav</td>\n",
       "      <td>ESC-50/chirping_birds/4_1-100038-A-14.wav</td>\n",
       "      <td>ESC-50/chirping_birds/5_1-100038-A-14.wav</td>\n",
       "    </tr>\n",
       "    <tr>\n",
       "      <th>2</th>\n",
       "      <td>1-100210-A-36.wav</td>\n",
       "      <td>1</td>\n",
       "      <td>36</td>\n",
       "      <td>vacuum_cleaner</td>\n",
       "      <td>False</td>\n",
       "      <td>100210</td>\n",
       "      <td>A</td>\n",
       "      <td>ESC-50/vacuum_cleaner/0_1-100210-A-36.wav</td>\n",
       "      <td>ESC-50/vacuum_cleaner/1_1-100210-A-36.wav</td>\n",
       "      <td>ESC-50/vacuum_cleaner/2_1-100210-A-36.wav</td>\n",
       "      <td>ESC-50/vacuum_cleaner/3_1-100210-A-36.wav</td>\n",
       "      <td>ESC-50/vacuum_cleaner/4_1-100210-A-36.wav</td>\n",
       "      <td>ESC-50/vacuum_cleaner/5_1-100210-A-36.wav</td>\n",
       "    </tr>\n",
       "    <tr>\n",
       "      <th>3</th>\n",
       "      <td>1-100210-B-36.wav</td>\n",
       "      <td>1</td>\n",
       "      <td>36</td>\n",
       "      <td>vacuum_cleaner</td>\n",
       "      <td>False</td>\n",
       "      <td>100210</td>\n",
       "      <td>B</td>\n",
       "      <td>ESC-50/vacuum_cleaner/0_1-100210-B-36.wav</td>\n",
       "      <td>ESC-50/vacuum_cleaner/1_1-100210-B-36.wav</td>\n",
       "      <td>ESC-50/vacuum_cleaner/2_1-100210-B-36.wav</td>\n",
       "      <td>ESC-50/vacuum_cleaner/3_1-100210-B-36.wav</td>\n",
       "      <td>ESC-50/vacuum_cleaner/4_1-100210-B-36.wav</td>\n",
       "      <td>ESC-50/vacuum_cleaner/5_1-100210-B-36.wav</td>\n",
       "    </tr>\n",
       "    <tr>\n",
       "      <th>4</th>\n",
       "      <td>1-101296-A-19.wav</td>\n",
       "      <td>1</td>\n",
       "      <td>19</td>\n",
       "      <td>thunderstorm</td>\n",
       "      <td>False</td>\n",
       "      <td>101296</td>\n",
       "      <td>A</td>\n",
       "      <td>ESC-50/thunderstorm/0_1-101296-A-19.wav</td>\n",
       "      <td>ESC-50/thunderstorm/1_1-101296-A-19.wav</td>\n",
       "      <td>ESC-50/thunderstorm/2_1-101296-A-19.wav</td>\n",
       "      <td>ESC-50/thunderstorm/3_1-101296-A-19.wav</td>\n",
       "      <td>ESC-50/thunderstorm/4_1-101296-A-19.wav</td>\n",
       "      <td>ESC-50/thunderstorm/5_1-101296-A-19.wav</td>\n",
       "    </tr>\n",
       "    <tr>\n",
       "      <th>...</th>\n",
       "      <td>...</td>\n",
       "      <td>...</td>\n",
       "      <td>...</td>\n",
       "      <td>...</td>\n",
       "      <td>...</td>\n",
       "      <td>...</td>\n",
       "      <td>...</td>\n",
       "      <td>...</td>\n",
       "      <td>...</td>\n",
       "      <td>...</td>\n",
       "      <td>...</td>\n",
       "      <td>...</td>\n",
       "      <td>...</td>\n",
       "    </tr>\n",
       "    <tr>\n",
       "      <th>1995</th>\n",
       "      <td>5-263831-B-6.wav</td>\n",
       "      <td>5</td>\n",
       "      <td>6</td>\n",
       "      <td>hen</td>\n",
       "      <td>False</td>\n",
       "      <td>263831</td>\n",
       "      <td>B</td>\n",
       "      <td>ESC-50/hen/0_5-263831-B-6.wav</td>\n",
       "      <td>ESC-50/hen/1_5-263831-B-6.wav</td>\n",
       "      <td>ESC-50/hen/2_5-263831-B-6.wav</td>\n",
       "      <td>ESC-50/hen/3_5-263831-B-6.wav</td>\n",
       "      <td>ESC-50/hen/4_5-263831-B-6.wav</td>\n",
       "      <td>ESC-50/hen/5_5-263831-B-6.wav</td>\n",
       "    </tr>\n",
       "    <tr>\n",
       "      <th>1996</th>\n",
       "      <td>5-263902-A-36.wav</td>\n",
       "      <td>5</td>\n",
       "      <td>36</td>\n",
       "      <td>vacuum_cleaner</td>\n",
       "      <td>False</td>\n",
       "      <td>263902</td>\n",
       "      <td>A</td>\n",
       "      <td>ESC-50/vacuum_cleaner/0_5-263902-A-36.wav</td>\n",
       "      <td>ESC-50/vacuum_cleaner/1_5-263902-A-36.wav</td>\n",
       "      <td>ESC-50/vacuum_cleaner/2_5-263902-A-36.wav</td>\n",
       "      <td>ESC-50/vacuum_cleaner/3_5-263902-A-36.wav</td>\n",
       "      <td>ESC-50/vacuum_cleaner/4_5-263902-A-36.wav</td>\n",
       "      <td>ESC-50/vacuum_cleaner/5_5-263902-A-36.wav</td>\n",
       "    </tr>\n",
       "    <tr>\n",
       "      <th>1997</th>\n",
       "      <td>5-51149-A-25.wav</td>\n",
       "      <td>5</td>\n",
       "      <td>25</td>\n",
       "      <td>footsteps</td>\n",
       "      <td>False</td>\n",
       "      <td>51149</td>\n",
       "      <td>A</td>\n",
       "      <td>ESC-50/footsteps/0_5-51149-A-25.wav</td>\n",
       "      <td>ESC-50/footsteps/1_5-51149-A-25.wav</td>\n",
       "      <td>ESC-50/footsteps/2_5-51149-A-25.wav</td>\n",
       "      <td>ESC-50/footsteps/3_5-51149-A-25.wav</td>\n",
       "      <td>ESC-50/footsteps/4_5-51149-A-25.wav</td>\n",
       "      <td>ESC-50/footsteps/5_5-51149-A-25.wav</td>\n",
       "    </tr>\n",
       "    <tr>\n",
       "      <th>1998</th>\n",
       "      <td>5-61635-A-8.wav</td>\n",
       "      <td>5</td>\n",
       "      <td>8</td>\n",
       "      <td>sheep</td>\n",
       "      <td>False</td>\n",
       "      <td>61635</td>\n",
       "      <td>A</td>\n",
       "      <td>ESC-50/sheep/0_5-61635-A-8.wav</td>\n",
       "      <td>ESC-50/sheep/1_5-61635-A-8.wav</td>\n",
       "      <td>ESC-50/sheep/2_5-61635-A-8.wav</td>\n",
       "      <td>ESC-50/sheep/3_5-61635-A-8.wav</td>\n",
       "      <td>ESC-50/sheep/4_5-61635-A-8.wav</td>\n",
       "      <td>ESC-50/sheep/5_5-61635-A-8.wav</td>\n",
       "    </tr>\n",
       "    <tr>\n",
       "      <th>1999</th>\n",
       "      <td>5-9032-A-0.wav</td>\n",
       "      <td>5</td>\n",
       "      <td>0</td>\n",
       "      <td>dog</td>\n",
       "      <td>True</td>\n",
       "      <td>9032</td>\n",
       "      <td>A</td>\n",
       "      <td>ESC-50/dog/0_5-9032-A-0.wav</td>\n",
       "      <td>ESC-50/dog/1_5-9032-A-0.wav</td>\n",
       "      <td>ESC-50/dog/2_5-9032-A-0.wav</td>\n",
       "      <td>ESC-50/dog/3_5-9032-A-0.wav</td>\n",
       "      <td>ESC-50/dog/4_5-9032-A-0.wav</td>\n",
       "      <td>ESC-50/dog/5_5-9032-A-0.wav</td>\n",
       "    </tr>\n",
       "  </tbody>\n",
       "</table>\n",
       "<p>2000 rows × 13 columns</p>\n",
       "</div>"
      ],
      "text/plain": [
       "               filename  fold  target        category  esc10  src_file take  \\\n",
       "0      1-100032-A-0.wav     1       0             dog   True    100032    A   \n",
       "1     1-100038-A-14.wav     1      14  chirping_birds  False    100038    A   \n",
       "2     1-100210-A-36.wav     1      36  vacuum_cleaner  False    100210    A   \n",
       "3     1-100210-B-36.wav     1      36  vacuum_cleaner  False    100210    B   \n",
       "4     1-101296-A-19.wav     1      19    thunderstorm  False    101296    A   \n",
       "...                 ...   ...     ...             ...    ...       ...  ...   \n",
       "1995   5-263831-B-6.wav     5       6             hen  False    263831    B   \n",
       "1996  5-263902-A-36.wav     5      36  vacuum_cleaner  False    263902    A   \n",
       "1997   5-51149-A-25.wav     5      25       footsteps  False     51149    A   \n",
       "1998    5-61635-A-8.wav     5       8           sheep  False     61635    A   \n",
       "1999     5-9032-A-0.wav     5       0             dog   True      9032    A   \n",
       "\n",
       "                                        0_1_sec  \\\n",
       "0                 ESC-50/dog/0_1-100032-A-0.wav   \n",
       "1     ESC-50/chirping_birds/0_1-100038-A-14.wav   \n",
       "2     ESC-50/vacuum_cleaner/0_1-100210-A-36.wav   \n",
       "3     ESC-50/vacuum_cleaner/0_1-100210-B-36.wav   \n",
       "4       ESC-50/thunderstorm/0_1-101296-A-19.wav   \n",
       "...                                         ...   \n",
       "1995              ESC-50/hen/0_5-263831-B-6.wav   \n",
       "1996  ESC-50/vacuum_cleaner/0_5-263902-A-36.wav   \n",
       "1997        ESC-50/footsteps/0_5-51149-A-25.wav   \n",
       "1998             ESC-50/sheep/0_5-61635-A-8.wav   \n",
       "1999                ESC-50/dog/0_5-9032-A-0.wav   \n",
       "\n",
       "                                        1_2_sec  \\\n",
       "0                 ESC-50/dog/1_1-100032-A-0.wav   \n",
       "1     ESC-50/chirping_birds/1_1-100038-A-14.wav   \n",
       "2     ESC-50/vacuum_cleaner/1_1-100210-A-36.wav   \n",
       "3     ESC-50/vacuum_cleaner/1_1-100210-B-36.wav   \n",
       "4       ESC-50/thunderstorm/1_1-101296-A-19.wav   \n",
       "...                                         ...   \n",
       "1995              ESC-50/hen/1_5-263831-B-6.wav   \n",
       "1996  ESC-50/vacuum_cleaner/1_5-263902-A-36.wav   \n",
       "1997        ESC-50/footsteps/1_5-51149-A-25.wav   \n",
       "1998             ESC-50/sheep/1_5-61635-A-8.wav   \n",
       "1999                ESC-50/dog/1_5-9032-A-0.wav   \n",
       "\n",
       "                                        2_3_sec  \\\n",
       "0                 ESC-50/dog/2_1-100032-A-0.wav   \n",
       "1     ESC-50/chirping_birds/2_1-100038-A-14.wav   \n",
       "2     ESC-50/vacuum_cleaner/2_1-100210-A-36.wav   \n",
       "3     ESC-50/vacuum_cleaner/2_1-100210-B-36.wav   \n",
       "4       ESC-50/thunderstorm/2_1-101296-A-19.wav   \n",
       "...                                         ...   \n",
       "1995              ESC-50/hen/2_5-263831-B-6.wav   \n",
       "1996  ESC-50/vacuum_cleaner/2_5-263902-A-36.wav   \n",
       "1997        ESC-50/footsteps/2_5-51149-A-25.wav   \n",
       "1998             ESC-50/sheep/2_5-61635-A-8.wav   \n",
       "1999                ESC-50/dog/2_5-9032-A-0.wav   \n",
       "\n",
       "                                        3_4_sec  \\\n",
       "0                 ESC-50/dog/3_1-100032-A-0.wav   \n",
       "1     ESC-50/chirping_birds/3_1-100038-A-14.wav   \n",
       "2     ESC-50/vacuum_cleaner/3_1-100210-A-36.wav   \n",
       "3     ESC-50/vacuum_cleaner/3_1-100210-B-36.wav   \n",
       "4       ESC-50/thunderstorm/3_1-101296-A-19.wav   \n",
       "...                                         ...   \n",
       "1995              ESC-50/hen/3_5-263831-B-6.wav   \n",
       "1996  ESC-50/vacuum_cleaner/3_5-263902-A-36.wav   \n",
       "1997        ESC-50/footsteps/3_5-51149-A-25.wav   \n",
       "1998             ESC-50/sheep/3_5-61635-A-8.wav   \n",
       "1999                ESC-50/dog/3_5-9032-A-0.wav   \n",
       "\n",
       "                                        4_5_sec  \\\n",
       "0                 ESC-50/dog/4_1-100032-A-0.wav   \n",
       "1     ESC-50/chirping_birds/4_1-100038-A-14.wav   \n",
       "2     ESC-50/vacuum_cleaner/4_1-100210-A-36.wav   \n",
       "3     ESC-50/vacuum_cleaner/4_1-100210-B-36.wav   \n",
       "4       ESC-50/thunderstorm/4_1-101296-A-19.wav   \n",
       "...                                         ...   \n",
       "1995              ESC-50/hen/4_5-263831-B-6.wav   \n",
       "1996  ESC-50/vacuum_cleaner/4_5-263902-A-36.wav   \n",
       "1997        ESC-50/footsteps/4_5-51149-A-25.wav   \n",
       "1998             ESC-50/sheep/4_5-61635-A-8.wav   \n",
       "1999                ESC-50/dog/4_5-9032-A-0.wav   \n",
       "\n",
       "                                        5_6_sec  \n",
       "0                 ESC-50/dog/5_1-100032-A-0.wav  \n",
       "1     ESC-50/chirping_birds/5_1-100038-A-14.wav  \n",
       "2     ESC-50/vacuum_cleaner/5_1-100210-A-36.wav  \n",
       "3     ESC-50/vacuum_cleaner/5_1-100210-B-36.wav  \n",
       "4       ESC-50/thunderstorm/5_1-101296-A-19.wav  \n",
       "...                                         ...  \n",
       "1995              ESC-50/hen/5_5-263831-B-6.wav  \n",
       "1996  ESC-50/vacuum_cleaner/5_5-263902-A-36.wav  \n",
       "1997        ESC-50/footsteps/5_5-51149-A-25.wav  \n",
       "1998             ESC-50/sheep/5_5-61635-A-8.wav  \n",
       "1999                ESC-50/dog/5_5-9032-A-0.wav  \n",
       "\n",
       "[2000 rows x 13 columns]"
      ]
     },
     "execution_count": 79,
     "metadata": {},
     "output_type": "execute_result"
    }
   ],
   "source": [
    "run = wandb.init(id=run.id,entity='tiny-ml',project = 'wake_word_detection', group='Data',\n",
    "                resume='must')\n",
    "df = pd.read_csv(esc50_csv)\n",
    "out_esc50_csv = meta_data/esc50_csv.name\n",
    "sec_files = np.array(all_out).astype(str)\n",
    "for files in range(sec_files.shape[-1]):\n",
    "    df[f'{files}_{files+1}_sec']=sec_files[...,files].astype(str)\n",
    "df.to_csv(out_esc50_csv)\n",
    "log_wandb_artifact(run=run,path=out_esc50_csv)\n",
    "df"
   ]
  },
  {
   "cell_type": "code",
   "execution_count": 80,
   "id": "6406535a",
   "metadata": {
    "slideshow": {
     "slide_type": "skip"
    }
   },
   "outputs": [
    {
     "data": {
      "text/html": [
       "<button onClick=\"this.nextSibling.style.display='block';this.style.display='none';\">Display W&B run</button><iframe src=\"https://wandb.ai/tiny-ml/wake_word_detection/runs/u164yrde?jupyter=true\" style=\"border:none;width:100%;height:420px;display:none;\"></iframe>"
      ],
      "text/plain": [
       "<wandb.sdk.wandb_run.Run at 0x2b713ffd0>"
      ]
     },
     "execution_count": 80,
     "metadata": {},
     "output_type": "execute_result"
    }
   ],
   "source": [
    "run"
   ]
  },
  {
   "cell_type": "code",
   "execution_count": 81,
   "id": "c02048d2",
   "metadata": {
    "slideshow": {
     "slide_type": "skip"
    }
   },
   "outputs": [],
   "source": [
    "meta_data_table = wandb.Table(data=df,columns=list(df.columns))\n",
    "run.log({'meta_data_without_media':meta_data_table})"
   ]
  },
  {
   "cell_type": "markdown",
   "id": "e7c4c383",
   "metadata": {
    "slideshow": {
     "slide_type": "skip"
    }
   },
   "source": [
    "\n",
    "# Data table for sound Wandb table with \n",
    "\n",
    "> 1. ouriginal sound string\n",
    "> 2. playable sound file\n",
    "> 3. 4 * 1 second clips files\n",
    "> 4  4 * 1 second clips files\n",
    "\n",
    "# Sound and Spectrogram Table\n",
    "\n"
   ]
  },
  {
   "cell_type": "markdown",
   "id": "47880190",
   "metadata": {
    "slideshow": {
     "slide_type": "skip"
    }
   },
   "source": [
    "## Adding Sound and Spectrograms to WandB Table  🔉 🪄 🐝"
   ]
  },
  {
   "cell_type": "code",
   "execution_count": 18,
   "id": "67d34470",
   "metadata": {
    "scrolled": true,
    "slideshow": {
     "slide_type": "skip"
    }
   },
   "outputs": [
    {
     "ename": "NameError",
     "evalue": "name 'df' is not defined",
     "output_type": "error",
     "traceback": [
      "\u001b[0;31m---------------------------------------------------------------------------\u001b[0m",
      "\u001b[0;31mNameError\u001b[0m                                 Traceback (most recent call last)",
      "Cell \u001b[0;32mIn[18], line 5\u001b[0m\n\u001b[1;32m      3\u001b[0m n_examples \u001b[38;5;241m=\u001b[39m \u001b[38;5;241m2\u001b[39m\n\u001b[1;32m      4\u001b[0m n_samples \u001b[38;5;241m=\u001b[39m \u001b[38;5;241m10\u001b[39m\n\u001b[0;32m----> 5\u001b[0m s_df \u001b[38;5;241m=\u001b[39m \u001b[43mdf\u001b[49m\u001b[38;5;241m.\u001b[39msample(n\u001b[38;5;241m=\u001b[39mn_samples, random_state\u001b[38;5;241m=\u001b[39m\u001b[38;5;241m2\u001b[39m)\n\u001b[1;32m      6\u001b[0m columns \u001b[38;5;241m=\u001b[39m \u001b[38;5;28mlist\u001b[39m(df\u001b[38;5;241m.\u001b[39mcolumns)\n\u001b[1;32m      7\u001b[0m table_with_media \u001b[38;5;241m=\u001b[39m wandb\u001b[38;5;241m.\u001b[39mTable(data\u001b[38;5;241m=\u001b[39ms_df,columns\u001b[38;5;241m=\u001b[39mcolumns)\n",
      "\u001b[0;31mNameError\u001b[0m: name 'df' is not defined"
     ]
    }
   ],
   "source": [
    "run = wandb.init(id=run.id,entity='tiny-ml',project = 'wake_word_detection', group='Data',\n",
    "                resume='must')\n",
    "n_examples = 2\n",
    "n_samples = 10\n",
    "s_df = df.sample(n=n_samples, random_state=2)\n",
    "columns = list(df.columns)\n",
    "table_with_media = wandb.Table(data=s_df,columns=columns)\n",
    "for colmn in df.columns[-n_examples:]:\n",
    "    # create wandb sound objects\n",
    "    sounds = [wandb.Audio(fid) for fid in tqdm(s_df[colmn].values,**tqdm_args,desc=colmn)]\n",
    "    # add these as a column to our wandb table\n",
    "    table_with_media.add_column(name=f'sound_{colmn}',data=sounds)"
   ]
  },
  {
   "cell_type": "markdown",
   "id": "36010449",
   "metadata": {
    "slideshow": {
     "slide_type": "skip"
    }
   },
   "source": [
    "### Adding Spectrograms to wandb Table"
   ]
  },
  {
   "cell_type": "code",
   "execution_count": 19,
   "id": "d4bd84c4",
   "metadata": {
    "scrolled": true,
    "slideshow": {
     "slide_type": "skip"
    }
   },
   "outputs": [
    {
     "ename": "NameError",
     "evalue": "name 'df' is not defined",
     "output_type": "error",
     "traceback": [
      "\u001b[0;31m---------------------------------------------------------------------------\u001b[0m",
      "\u001b[0;31mNameError\u001b[0m                                 Traceback (most recent call last)",
      "Cell \u001b[0;32mIn[19], line 1\u001b[0m\n\u001b[0;32m----> 1\u001b[0m \u001b[38;5;28;01mfor\u001b[39;00m col \u001b[38;5;129;01min\u001b[39;00m \u001b[43mdf\u001b[49m\u001b[38;5;241m.\u001b[39mcolumns[\u001b[38;5;241m-\u001b[39mn_examples:]:\n\u001b[1;32m      2\u001b[0m     \u001b[38;5;66;03m# read wavs \u001b[39;00m\n\u001b[1;32m      3\u001b[0m     wavs \u001b[38;5;241m=\u001b[39m \u001b[38;5;28mmap\u001b[39m(read_wav,tqdm(s_df[col]\u001b[38;5;241m.\u001b[39mvalues,\u001b[38;5;241m*\u001b[39m\u001b[38;5;241m*\u001b[39mtqdm_args,desc\u001b[38;5;241m=\u001b[39mcol))\n\u001b[1;32m      4\u001b[0m     \u001b[38;5;66;03m# generate spectrograms\u001b[39;00m\n",
      "\u001b[0;31mNameError\u001b[0m: name 'df' is not defined"
     ]
    }
   ],
   "source": [
    "for col in df.columns[-n_examples:]:\n",
    "    # read wavs \n",
    "    wavs = map(read_wav,tqdm(s_df[col].values,**tqdm_args,desc=col))\n",
    "    # generate spectrograms\n",
    "    spects = map(get_arm_spectrogram,wavs)\n",
    "    sample_rates = iter(np.full((1,len(df)),1600)[0])\n",
    "    # get numpy arrays of save .jpg files\n",
    "    ims = list(map(plot_spectrogram,spects,sample_rates))\n",
    "    # create a list of wandb images\n",
    "    spects = list(map(wandb.Image,tqdm(ims)))\n",
    "    # add these to a table \n",
    "    table_with_media.add_column(name=f'image_{col}',data=spects)\n",
    "run.log({'sound_spectrogram_table':table_with_media})"
   ]
  },
  {
   "cell_type": "markdown",
   "id": "2521245b",
   "metadata": {
    "slideshow": {
     "slide_type": "skip"
    }
   },
   "source": [
    "## Stack our pandas df by 1 second Files 🧱"
   ]
  },
  {
   "cell_type": "code",
   "execution_count": 84,
   "id": "12952f33",
   "metadata": {
    "scrolled": false,
    "slideshow": {
     "slide_type": "skip"
    }
   },
   "outputs": [
    {
     "data": {
      "text/html": [
       "<div>\n",
       "<style scoped>\n",
       "    .dataframe tbody tr th:only-of-type {\n",
       "        vertical-align: middle;\n",
       "    }\n",
       "\n",
       "    .dataframe tbody tr th {\n",
       "        vertical-align: top;\n",
       "    }\n",
       "\n",
       "    .dataframe thead th {\n",
       "        text-align: right;\n",
       "    }\n",
       "</style>\n",
       "<table border=\"1\" class=\"dataframe\">\n",
       "  <thead>\n",
       "    <tr style=\"text-align: right;\">\n",
       "      <th></th>\n",
       "      <th>filename</th>\n",
       "      <th>fold</th>\n",
       "      <th>target</th>\n",
       "      <th>category</th>\n",
       "      <th>esc10</th>\n",
       "      <th>src_file</th>\n",
       "      <th>take</th>\n",
       "      <th>all_files</th>\n",
       "    </tr>\n",
       "  </thead>\n",
       "  <tbody>\n",
       "    <tr>\n",
       "      <th>0</th>\n",
       "      <td>1-100032-A-0.wav</td>\n",
       "      <td>1</td>\n",
       "      <td>0</td>\n",
       "      <td>dog</td>\n",
       "      <td>True</td>\n",
       "      <td>100032</td>\n",
       "      <td>A</td>\n",
       "      <td>ESC-50/dog/0_1-100032-A-0.wav</td>\n",
       "    </tr>\n",
       "    <tr>\n",
       "      <th>1</th>\n",
       "      <td>1-100032-A-0.wav</td>\n",
       "      <td>1</td>\n",
       "      <td>0</td>\n",
       "      <td>dog</td>\n",
       "      <td>True</td>\n",
       "      <td>100032</td>\n",
       "      <td>A</td>\n",
       "      <td>ESC-50/dog/1_1-100032-A-0.wav</td>\n",
       "    </tr>\n",
       "    <tr>\n",
       "      <th>2</th>\n",
       "      <td>1-100032-A-0.wav</td>\n",
       "      <td>1</td>\n",
       "      <td>0</td>\n",
       "      <td>dog</td>\n",
       "      <td>True</td>\n",
       "      <td>100032</td>\n",
       "      <td>A</td>\n",
       "      <td>ESC-50/dog/2_1-100032-A-0.wav</td>\n",
       "    </tr>\n",
       "    <tr>\n",
       "      <th>3</th>\n",
       "      <td>1-100032-A-0.wav</td>\n",
       "      <td>1</td>\n",
       "      <td>0</td>\n",
       "      <td>dog</td>\n",
       "      <td>True</td>\n",
       "      <td>100032</td>\n",
       "      <td>A</td>\n",
       "      <td>ESC-50/dog/3_1-100032-A-0.wav</td>\n",
       "    </tr>\n",
       "    <tr>\n",
       "      <th>4</th>\n",
       "      <td>1-100032-A-0.wav</td>\n",
       "      <td>1</td>\n",
       "      <td>0</td>\n",
       "      <td>dog</td>\n",
       "      <td>True</td>\n",
       "      <td>100032</td>\n",
       "      <td>A</td>\n",
       "      <td>ESC-50/dog/4_1-100032-A-0.wav</td>\n",
       "    </tr>\n",
       "    <tr>\n",
       "      <th>...</th>\n",
       "      <td>...</td>\n",
       "      <td>...</td>\n",
       "      <td>...</td>\n",
       "      <td>...</td>\n",
       "      <td>...</td>\n",
       "      <td>...</td>\n",
       "      <td>...</td>\n",
       "      <td>...</td>\n",
       "    </tr>\n",
       "    <tr>\n",
       "      <th>11995</th>\n",
       "      <td>5-9032-A-0.wav</td>\n",
       "      <td>5</td>\n",
       "      <td>0</td>\n",
       "      <td>dog</td>\n",
       "      <td>True</td>\n",
       "      <td>9032</td>\n",
       "      <td>A</td>\n",
       "      <td>ESC-50/dog/1_5-9032-A-0.wav</td>\n",
       "    </tr>\n",
       "    <tr>\n",
       "      <th>11996</th>\n",
       "      <td>5-9032-A-0.wav</td>\n",
       "      <td>5</td>\n",
       "      <td>0</td>\n",
       "      <td>dog</td>\n",
       "      <td>True</td>\n",
       "      <td>9032</td>\n",
       "      <td>A</td>\n",
       "      <td>ESC-50/dog/2_5-9032-A-0.wav</td>\n",
       "    </tr>\n",
       "    <tr>\n",
       "      <th>11997</th>\n",
       "      <td>5-9032-A-0.wav</td>\n",
       "      <td>5</td>\n",
       "      <td>0</td>\n",
       "      <td>dog</td>\n",
       "      <td>True</td>\n",
       "      <td>9032</td>\n",
       "      <td>A</td>\n",
       "      <td>ESC-50/dog/3_5-9032-A-0.wav</td>\n",
       "    </tr>\n",
       "    <tr>\n",
       "      <th>11998</th>\n",
       "      <td>5-9032-A-0.wav</td>\n",
       "      <td>5</td>\n",
       "      <td>0</td>\n",
       "      <td>dog</td>\n",
       "      <td>True</td>\n",
       "      <td>9032</td>\n",
       "      <td>A</td>\n",
       "      <td>ESC-50/dog/4_5-9032-A-0.wav</td>\n",
       "    </tr>\n",
       "    <tr>\n",
       "      <th>11999</th>\n",
       "      <td>5-9032-A-0.wav</td>\n",
       "      <td>5</td>\n",
       "      <td>0</td>\n",
       "      <td>dog</td>\n",
       "      <td>True</td>\n",
       "      <td>9032</td>\n",
       "      <td>A</td>\n",
       "      <td>ESC-50/dog/5_5-9032-A-0.wav</td>\n",
       "    </tr>\n",
       "  </tbody>\n",
       "</table>\n",
       "<p>12000 rows × 8 columns</p>\n",
       "</div>"
      ],
      "text/plain": [
       "               filename fold target category esc10 src_file take  \\\n",
       "0      1-100032-A-0.wav    1      0      dog  True   100032    A   \n",
       "1      1-100032-A-0.wav    1      0      dog  True   100032    A   \n",
       "2      1-100032-A-0.wav    1      0      dog  True   100032    A   \n",
       "3      1-100032-A-0.wav    1      0      dog  True   100032    A   \n",
       "4      1-100032-A-0.wav    1      0      dog  True   100032    A   \n",
       "...                 ...  ...    ...      ...   ...      ...  ...   \n",
       "11995    5-9032-A-0.wav    5      0      dog  True     9032    A   \n",
       "11996    5-9032-A-0.wav    5      0      dog  True     9032    A   \n",
       "11997    5-9032-A-0.wav    5      0      dog  True     9032    A   \n",
       "11998    5-9032-A-0.wav    5      0      dog  True     9032    A   \n",
       "11999    5-9032-A-0.wav    5      0      dog  True     9032    A   \n",
       "\n",
       "                           all_files  \n",
       "0      ESC-50/dog/0_1-100032-A-0.wav  \n",
       "1      ESC-50/dog/1_1-100032-A-0.wav  \n",
       "2      ESC-50/dog/2_1-100032-A-0.wav  \n",
       "3      ESC-50/dog/3_1-100032-A-0.wav  \n",
       "4      ESC-50/dog/4_1-100032-A-0.wav  \n",
       "...                              ...  \n",
       "11995    ESC-50/dog/1_5-9032-A-0.wav  \n",
       "11996    ESC-50/dog/2_5-9032-A-0.wav  \n",
       "11997    ESC-50/dog/3_5-9032-A-0.wav  \n",
       "11998    ESC-50/dog/4_5-9032-A-0.wav  \n",
       "11999    ESC-50/dog/5_5-9032-A-0.wav  \n",
       "\n",
       "[12000 rows x 8 columns]"
      ]
     },
     "execution_count": 84,
     "metadata": {},
     "output_type": "execute_result"
    }
   ],
   "source": [
    "rp_df = pd.DataFrame(np.repeat(df.values, 6, axis=0))\n",
    "rp_df.columns=df.columns\n",
    "a,b,c,d,e,f = np.array([df[col].values for col in df.columns[-6:]])\n",
    "all_files =np.vstack((a,b,c,d,e,f)).reshape((-1,),order='F')\n",
    "rp_df = rp_df[df.columns[:-6]]\n",
    "rp_df['all_files']=all_files\n",
    "df = rp_df  \n",
    "df.to_csv(out_esc50_csv)\n",
    "log_wandb_artifact(run,out_esc50_csv)\n",
    "df"
   ]
  },
  {
   "cell_type": "markdown",
   "id": "d0c82182",
   "metadata": {
    "slideshow": {
     "slide_type": "skip"
    }
   },
   "source": [
    "### Define Test,Train, Val using pandas & add sets column to our dataset"
   ]
  },
  {
   "cell_type": "code",
   "execution_count": 86,
   "id": "9e14e26c",
   "metadata": {
    "slideshow": {
     "slide_type": "skip"
    }
   },
   "outputs": [],
   "source": [
    "sets = { }\n",
    "train_val = df.sample(frac=0.9,random_state=42)\n",
    "sets['test']=df.drop(train_val.index)\n",
    "sets['train']=train_val.sample(frac=0.9,random_state=42)\n",
    "sets['val']=train_val.drop(sets['train'].index)\n",
    "for name,subset in sets.items():\n",
    "        subset = subset.reset_index(drop=True)\n",
    "        subset['set']=[name for va in range(len(subset))]\n",
    "        sets[name]=subset\n",
    "df.groupby(\"target\", group_keys=False).apply(lambda x: x)\n",
    "df = pd.concat(sets.values()).reset_index(drop=True)\n",
    "df.to_csv(out_esc50_csv)\n",
    "log_wandb_artifact(run,out_esc50_csv)"
   ]
  },
  {
   "cell_type": "code",
   "execution_count": 92,
   "id": "8cb5024d",
   "metadata": {
    "slideshow": {
     "slide_type": "skip"
    }
   },
   "outputs": [
    {
     "data": {
      "text/html": [
       "<button onClick=\"this.nextSibling.style.display='block';this.style.display='none';\">Display W&B run</button><iframe src=\"https://wandb.ai/tiny-ml/wake_word_detection/runs/u164yrde?jupyter=true\" style=\"border:none;width:100%;height:420px;display:none;\"></iframe>"
      ],
      "text/plain": [
       "<wandb.sdk.wandb_run.Run at 0x2c1988940>"
      ]
     },
     "execution_count": 92,
     "metadata": {},
     "output_type": "execute_result"
    }
   ],
   "source": [
    "run"
   ]
  },
  {
   "cell_type": "markdown",
   "id": "92dd012a",
   "metadata": {
    "slideshow": {
     "slide_type": "skip"
    }
   },
   "source": [
    "# remove silence by randomly sampling from non silent"
   ]
  },
  {
   "cell_type": "code",
   "execution_count": 88,
   "id": "f2343c49",
   "metadata": {
    "scrolled": true,
    "slideshow": {
     "slide_type": "skip"
    }
   },
   "outputs": [],
   "source": [
    "run = wandb.init(id=run.id,entity='tiny-ml',project = 'wake_word_detection', group='Data',\n",
    "                resume='must')\n",
    "is_sound = [not np.std(read_wav(x)) < 0.1 for x in df.all_files.values]\n",
    "df['is_sound']=is_sound\n",
    "df.to_csv(out_esc50_csv)\n",
    "log_wandb_artifact(run,out_esc50_csv)"
   ]
  },
  {
   "cell_type": "code",
   "execution_count": 89,
   "id": "79ff83db",
   "metadata": {
    "slideshow": {
     "slide_type": "skip"
    }
   },
   "outputs": [],
   "source": [
    "silence = df[df.is_sound==False]\n",
    "final_meta_table = wandb.Table(data=silence,columns=list(df.columns))\n",
    "wandb_audio = list(map(wandb.Audio,silence.all_files.values))\n",
    "final_meta_table.add_column(name='audio',data=wandb_audio)\n",
    "run.log({'silence_tabel':final_meta_table})"
   ]
  },
  {
   "cell_type": "code",
   "execution_count": 93,
   "id": "2bf86940",
   "metadata": {
    "slideshow": {
     "slide_type": "skip"
    }
   },
   "outputs": [
    {
     "data": {
      "text/html": [
       "<button onClick=\"this.nextSibling.style.display='block';this.style.display='none';\">Display W&B run</button><iframe src=\"https://wandb.ai/tiny-ml/wake_word_detection/runs/u164yrde?jupyter=true\" style=\"border:none;width:100%;height:420px;display:none;\"></iframe>"
      ],
      "text/plain": [
       "<wandb.sdk.wandb_run.Run at 0x2c1988940>"
      ]
     },
     "execution_count": 93,
     "metadata": {},
     "output_type": "execute_result"
    }
   ],
   "source": [
    "run"
   ]
  },
  {
   "cell_type": "markdown",
   "id": "4f5cc303",
   "metadata": {
    "slideshow": {
     "slide_type": "skip"
    }
   },
   "source": [
    "# Building a wandb Artifact for our pre processed data (numpy array spectrograms):"
   ]
  },
  {
   "cell_type": "code",
   "execution_count": 91,
   "id": "1be18f6e",
   "metadata": {
    "slideshow": {
     "slide_type": "skip"
    }
   },
   "outputs": [
    {
     "name": "stdout",
     "output_type": "stream",
     "text": [
      "file:///Users/fridadesigley/pico/tiny-ml/processed/train.npz\n",
      "file:///Users/fridadesigley/pico/tiny-ml/processed/train_data.npz\n",
      "file:///Users/fridadesigley/pico/tiny-ml/processed/test.npz\n",
      "file:///Users/fridadesigley/pico/tiny-ml/processed/val.npz\n",
      "file:///Users/fridadesigley/pico/tiny-ml/processed/train_aug.npz\n"
     ]
    },
    {
     "data": {
      "text/plain": [
       "<wandb.sdk.wandb_artifacts.Artifact at 0x2c199dff0>"
      ]
     },
     "execution_count": 91,
     "metadata": {},
     "output_type": "execute_result"
    }
   ],
   "source": [
    "run = wandb.init(id=run.id,entity='tiny-ml',project = 'wake_word_detection', group='Data',\n",
    "                resume='must')\n",
    "artifact = wandb.Artifact(type='pre_processed_sound_data',name='npz-esc-50-files')\n",
    "path = Path('./processed/')\n",
    "# create references for our large pre processed npz files\n",
    "for fid_path in path.iterdir():\n",
    "    print(f'file://{fid_path.resolve()}')  \n",
    "    artifact.add_reference(f'file://{fid_path.resolve()}')\n",
    "run.log_artifact(artifact)"
   ]
  },
  {
   "cell_type": "code",
   "execution_count": 95,
   "id": "852643f5",
   "metadata": {
    "slideshow": {
     "slide_type": "skip"
    }
   },
   "outputs": [
    {
     "name": "stderr",
     "output_type": "stream",
     "text": [
      "100%|\u001b[38;2;249;3;249m███████████████████████████████████████████\u001b[0m| 51/51 [00:16<00:00,  3.09it/s]\u001b[0m\n"
     ]
    }
   ],
   "source": [
    "for pth in df[df.is_sound==False].all_files.values:\n",
    "    path = Path(pth)\n",
    "    try:\n",
    "        path.unlink()\n",
    "    except FileNotFoundError:\n",
    "        print('file alredady deleted')\n",
    "for path in tqdm(esc_artifacts,**tqdm_args,colour=next(tqdm_colours)):\n",
    "    log_wandb_artifact(run=run,path=path)"
   ]
  },
  {
   "cell_type": "markdown",
   "id": "09631f66",
   "metadata": {
    "slideshow": {
     "slide_type": "skip"
    }
   },
   "source": [
    "# Save 3D arrays of Spectrograms using numpy"
   ]
  },
  {
   "cell_type": "code",
   "execution_count": 96,
   "id": "25907320",
   "metadata": {
    "slideshow": {
     "slide_type": "skip"
    }
   },
   "outputs": [],
   "source": [
    "def save_npz(x,y,name,augmenter=None):\n",
    "    wavs = list(map(read_wav,tqdm(x,f'creating {name}')))\n",
    "    if augmenter:\n",
    "        samples = np.full((1,len(y)), 16000)[0]\n",
    "        wavs = list(map(augmenter,wavs,tqdm(samples,f'augmenting {name}')))\n",
    "        x_data = np.array(list(map(get_arm_spectrogram,tqdm(wavs,f'creating {name} augspects'))))\n",
    "    else:\n",
    "        x_data = np.array(list(map(get_arm_spectrogram,tqdm(wavs,f'creating {name} spects'))))\n",
    "    for array in x_data:\n",
    "        assert array.shape==(682, 257)\n",
    "    np.savez(f'{name}.npz',x_data=x_data,y_data=y)"
   ]
  },
  {
   "cell_type": "markdown",
   "id": "2d785ac4",
   "metadata": {
    "slideshow": {
     "slide_type": "skip"
    }
   },
   "source": [
    "## Loop over files and save as npz, this is our pre-processed training data."
   ]
  },
  {
   "cell_type": "code",
   "execution_count": 97,
   "id": "6068b6e7",
   "metadata": {
    "slideshow": {
     "slide_type": "skip"
    }
   },
   "outputs": [],
   "source": [
    "contains_sound = df[df.is_sound==True]\n",
    "subset =  contains_sound[contains_sound.set=='train']\n"
   ]
  },
  {
   "cell_type": "code",
   "execution_count": 98,
   "id": "a865c649",
   "metadata": {
    "slideshow": {
     "slide_type": "skip"
    }
   },
   "outputs": [
    {
     "name": "stderr",
     "output_type": "stream",
     "text": [
      "creating processed/test: 100%|████████████| 1149/1149 [00:00<00:00, 5700.45it/s]\n",
      "creating processed/test spects: 100%|██████| 1149/1149 [00:09<00:00, 123.06it/s]\n",
      "creating processed/train: 100%|███████████| 9194/9194 [00:02<00:00, 3544.44it/s]\n",
      "creating processed/train spects: 100%|█████| 9194/9194 [01:24<00:00, 108.78it/s]\n"
     ]
    },
    {
     "name": "stdout",
     "output_type": "stream",
     "text": [
      "augmenting\n"
     ]
    },
    {
     "name": "stderr",
     "output_type": "stream",
     "text": [
      "creating processed/train_aug: 100%|███████| 1838/1838 [00:00<00:00, 2010.63it/s]\n",
      "augmenting processed/train_aug: 100%|██████▉| 1837/1838 [03:45<00:00,  8.16it/s]\n",
      "creating processed/train_aug augspects: 100%|█| 1838/1838 [00:15<00:00, 120.38it\n",
      "creating processed/val: 100%|█████████████| 1030/1030 [00:00<00:00, 3070.56it/s]\n",
      "creating processed/val spects: 100%|███████| 1030/1030 [00:08<00:00, 119.39it/s]\n"
     ]
    }
   ],
   "source": [
    "pre_process=True\n",
    "contains_sound = df[df.is_sound==True]\n",
    "if pre_process:\n",
    "    for name in df.set.unique():\n",
    "        subset =  contains_sound[contains_sound.set==name]\n",
    "        x_data = subset['all_files'].values\n",
    "        y_data = subset['target'].values\n",
    "        save_npz(x_data,y_data,f'processed/{name}')\n",
    "        if name=='train':\n",
    "            print('augmenting')\n",
    "            save_npz(x_data[:len(x_data)//5],y_data[:len(y_data)//5],f'processed/{name}_aug',augmenter=augmenter)"
   ]
  },
  {
   "cell_type": "markdown",
   "id": "7637c344",
   "metadata": {
    "slideshow": {
     "slide_type": "skip"
    }
   },
   "source": [
    "# Building a wandb Artifact for our pre processed data (numpy array spectrograms):"
   ]
  },
  {
   "cell_type": "code",
   "execution_count": 99,
   "id": "617cf77a",
   "metadata": {
    "slideshow": {
     "slide_type": "skip"
    }
   },
   "outputs": [
    {
     "name": "stdout",
     "output_type": "stream",
     "text": [
      "file:///Users/fridadesigley/pico/tiny-ml/processed/train.npz\n",
      "file:///Users/fridadesigley/pico/tiny-ml/processed/train_data.npz\n",
      "file:///Users/fridadesigley/pico/tiny-ml/processed/test.npz\n",
      "file:///Users/fridadesigley/pico/tiny-ml/processed/val.npz\n",
      "file:///Users/fridadesigley/pico/tiny-ml/processed/train_aug.npz\n"
     ]
    },
    {
     "data": {
      "text/plain": [
       "<wandb.sdk.wandb_artifacts.Artifact at 0x2c45f4670>"
      ]
     },
     "execution_count": 99,
     "metadata": {},
     "output_type": "execute_result"
    }
   ],
   "source": [
    "artifact = wandb.Artifact(type='pre_processed_sound_data',name='npz-esc-50-files')\n",
    "path = Path('./processed/')\n",
    "# create references for our large pre processed npz files\n",
    "for fid_path in path.iterdir():\n",
    "    print(f'file://{fid_path.resolve()}')  \n",
    "    artifact.add_reference(f'file://{fid_path.resolve()}')\n",
    "run.log_artifact(artifact)"
   ]
  },
  {
   "cell_type": "markdown",
   "id": "5f758cf5",
   "metadata": {
    "slideshow": {
     "slide_type": "skip"
    }
   },
   "source": [
    "### To finish our data run"
   ]
  },
  {
   "cell_type": "code",
   "execution_count": 100,
   "id": "657f0228",
   "metadata": {
    "scrolled": true,
    "slideshow": {
     "slide_type": "skip"
    }
   },
   "outputs": [
    {
     "data": {
      "text/html": [
       "<button onClick=\"this.nextSibling.style.display='block';this.style.display='none';\">Display W&B run</button><iframe src=\"https://wandb.ai/tiny-ml/wake_word_detection/runs/u164yrde?jupyter=true\" style=\"border:none;width:100%;height:420px;display:none;\"></iframe>"
      ],
      "text/plain": [
       "<wandb.sdk.wandb_run.Run at 0x2c1988940>"
      ]
     },
     "execution_count": 100,
     "metadata": {},
     "output_type": "execute_result"
    }
   ],
   "source": [
    "run.finish()\n",
    "run"
   ]
  },
  {
   "cell_type": "markdown",
   "id": "8097b848",
   "metadata": {
    "slideshow": {
     "slide_type": "slide"
    }
   },
   "source": [
    "# Part 3. Training"
   ]
  },
  {
   "cell_type": "markdown",
   "id": "553ece38",
   "metadata": {
    "slideshow": {
     "slide_type": "slide"
    }
   },
   "source": [
    "### Training load training dataset which has already been pre processed"
   ]
  },
  {
   "cell_type": "code",
   "execution_count": 90,
   "id": "1a092388",
   "metadata": {
    "slideshow": {
     "slide_type": "fragment"
    }
   },
   "outputs": [],
   "source": [
    "import tensorflow as tf\n",
    "import wandb\n",
    "from pathlib import Path\n",
    "import pandas as pd\n",
    "import plotly.express as px\n",
    "from tqdm import tqdm\n",
    "import numpy as np\n",
    "import sounddevice as sd\n",
    "import wave\n",
    "from pvrecorder import PvRecorder\n",
    "import time \n",
    "from utils.data_processing import log_wandb_artifact,plot_spectrogram,segment,read_wav,Arm_spect,augmenter\n",
    "from utils.create_sweep import create_sweep"
   ]
  },
  {
   "cell_type": "code",
   "execution_count": 2,
   "id": "feaccb8e",
   "metadata": {
    "scrolled": true,
    "slideshow": {
     "slide_type": "skip"
    }
   },
   "outputs": [],
   "source": [
    "with np.load('processed/train.npz',allow_pickle=True) as data:\n",
    "    train_x = data['x_data'].astype(np.float32)\n",
    "    train_y = data['y_data'].astype(np.uint8)\n",
    "with np.load('processed/train_aug.npz',allow_pickle=True) as data:\n",
    "    aug_x = data['x_data'].astype(np.float32)\n",
    "    aug_y = data['y_data'].astype(np.uint8)\n",
    "with np.load('processed/val.npz',allow_pickle=True) as data:\n",
    "    val_x = data['x_data'].astype(np.float32)\n",
    "    val_y = data['y_data'].astype(np.uint8)\n",
    "    "
   ]
  },
  {
   "cell_type": "markdown",
   "id": "1cd03eb3",
   "metadata": {
    "slideshow": {
     "slide_type": "skip"
    }
   },
   "source": [
    "## create TensoFlow Dataset from numpy arrays of spectrograms and target variable"
   ]
  },
  {
   "cell_type": "code",
   "execution_count": 3,
   "id": "50c89b6f",
   "metadata": {
    "scrolled": true,
    "slideshow": {
     "slide_type": "skip"
    }
   },
   "outputs": [],
   "source": [
    "train_dataset = tf.data.Dataset.from_tensor_slices((tf.cast(train_x, tf.float32), train_y))\n",
    "train_aug_dataset = tf.data.Dataset.from_tensor_slices((tf.cast(aug_x, tf.float32), aug_y))\n",
    "train_dataset = train_dataset.concatenate(train_aug_dataset)\n",
    "val_dataset = tf.data.Dataset.from_tensor_slices((tf.cast(val_x, tf.float32),val_y))\n",
    "train_ds = train_dataset.cache().shuffle(100, seed=42).batch(32).prefetch(tf.data.AUTOTUNE)\n",
    "val_ds = val_dataset.cache().batch(32).prefetch(tf.data.AUTOTUNE)"
   ]
  },
  {
   "cell_type": "code",
   "execution_count": 4,
   "id": "8fc40f20",
   "metadata": {
    "scrolled": true,
    "slideshow": {
     "slide_type": "skip"
    }
   },
   "outputs": [
    {
     "name": "stderr",
     "output_type": "stream",
     "text": [
      "2023-01-31 14:29:12.393101: W tensorflow/core/kernels/data/cache_dataset_ops.cc:856] The calling iterator did not fully read the dataset being cached. In order to avoid unexpected truncation of the dataset, the partially cached contents of the dataset  will be discarded. This can happen if you have an input pipeline similar to `dataset.cache().take(k).repeat()`. You should use `dataset.take(k).cache().repeat()` instead.\n"
     ]
    },
    {
     "data": {
      "text/plain": [
       "(<tf.Tensor: shape=(682, 257), dtype=float32, numpy=\n",
       " array([[ 7.65625 ,  6.71875 , 22.296875, ...,  1.875   ,  2.765625,\n",
       "          3.328125],\n",
       "        [12.28125 , 10.046875, 21.640625, ...,  2.921875,  3.046875,\n",
       "          2.5625  ],\n",
       "        [ 9.      , 19.953125, 30.546875, ...,  2.75    ,  3.03125 ,\n",
       "          0.796875],\n",
       "        ...,\n",
       "        [ 8.171875, 10.484375, 25.4375  , ...,  1.125   ,  0.875   ,\n",
       "          0.421875],\n",
       "        [ 1.765625, 18.71875 , 24.359375, ...,  1.25    ,  1.890625,\n",
       "          0.703125],\n",
       "        [ 6.4375  , 25.96875 , 31.125   , ...,  2.40625 ,  3.171875,\n",
       "          2.390625]], dtype=float32)>,\n",
       " <tf.Tensor: shape=(), dtype=uint8, numpy=28>)"
      ]
     },
     "execution_count": 4,
     "metadata": {},
     "output_type": "execute_result"
    }
   ],
   "source": [
    "x, y = next(iter(train_ds))\n",
    "x[0],y[0]"
   ]
  },
  {
   "cell_type": "markdown",
   "id": "9f197571",
   "metadata": {
    "slideshow": {
     "slide_type": "skip"
    }
   },
   "source": [
    "## Test that this dataset is loading okay"
   ]
  },
  {
   "cell_type": "code",
   "execution_count": 5,
   "id": "cc95bb2d",
   "metadata": {
    "scrolled": true,
    "slideshow": {
     "slide_type": "skip"
    }
   },
   "outputs": [],
   "source": [
    "x,y = next(iter(train_dataset.take(1)))\n",
    "#print(f' target = {y}, \\n spectrogram = \\n {x}')\n",
    "input_shape = tf.expand_dims(x, axis=-1).shape\n",
    "#print(input_shape)\n",
    "norm_layer = tf.keras.layers.experimental.preprocessing.Normalization()\n",
    "norm_layer.adapt(train_dataset.map(lambda x, y: tf.reshape(x, input_shape)))\n",
    "baseline_model = tf.keras.models.Sequential([\n",
    "  tf.keras.layers.Input(shape=input_shape),\n",
    "  tf.keras.layers.experimental.preprocessing.Resizing(32, 32, interpolation=\"nearest\"), \n",
    "  norm_layer,\n",
    "  tf.keras.layers.Conv2D(8, kernel_size=(8,8), strides=(2, 2), activation=\"relu\"),\n",
    "  tf.keras.layers.MaxPool2D(pool_size=(2,2)),\n",
    "  tf.keras.layers.Flatten(),\n",
    "  tf.keras.layers.Dropout(0.25),\n",
    "  tf.keras.layers.Dense(50, activation='softmax')\n",
    "])"
   ]
  },
  {
   "cell_type": "markdown",
   "id": "656c87b7",
   "metadata": {
    "slideshow": {
     "slide_type": "skip"
    }
   },
   "source": [
    "# Create a new training run for our training 🏃🏻‍♀️ ♀️ "
   ]
  },
  {
   "cell_type": "code",
   "execution_count": 87,
   "id": "d733c973",
   "metadata": {
    "scrolled": true,
    "slideshow": {
     "slide_type": "skip"
    }
   },
   "outputs": [
    {
     "data": {
      "text/html": [
       "Changes to your `wandb` environment variables will be ignored because your `wandb` session has already started. For more information on how to modify your settings with `wandb.init()` arguments, please refer to <a href=\"https://wandb.me/wandb-init\" target=\"_blank\">the W&B docs</a>."
      ],
      "text/plain": [
       "<IPython.core.display.HTML object>"
      ]
     },
     "metadata": {},
     "output_type": "display_data"
    },
    {
     "data": {
      "text/html": [
       "Tracking run with wandb version 0.13.9"
      ],
      "text/plain": [
       "<IPython.core.display.HTML object>"
      ]
     },
     "metadata": {},
     "output_type": "display_data"
    },
    {
     "data": {
      "text/html": [
       "Run data is saved locally in <code>/Users/fridadesigley/pico/tiny-ml/wandb/run-20230131_164352-siagg2vs</code>"
      ],
      "text/plain": [
       "<IPython.core.display.HTML object>"
      ]
     },
     "metadata": {},
     "output_type": "display_data"
    },
    {
     "data": {
      "text/html": [
       "Syncing run <strong><a href=\"https://wandb.ai/tiny-ml/wake_word_detection/runs/siagg2vs\" target=\"_blank\">incandescent-dumpling-417</a></strong> to <a href=\"https://wandb.ai/tiny-ml/wake_word_detection\" target=\"_blank\">Weights & Biases</a> (<a href=\"https://wandb.me/run\" target=\"_blank\">docs</a>)<br/>"
      ],
      "text/plain": [
       "<IPython.core.display.HTML object>"
      ]
     },
     "metadata": {},
     "output_type": "display_data"
    },
    {
     "data": {
      "text/html": [
       " View project at <a href=\"https://wandb.ai/tiny-ml/wake_word_detection\" target=\"_blank\">https://wandb.ai/tiny-ml/wake_word_detection</a>"
      ],
      "text/plain": [
       "<IPython.core.display.HTML object>"
      ]
     },
     "metadata": {},
     "output_type": "display_data"
    },
    {
     "data": {
      "text/html": [
       " View run at <a href=\"https://wandb.ai/tiny-ml/wake_word_detection/runs/siagg2vs\" target=\"_blank\">https://wandb.ai/tiny-ml/wake_word_detection/runs/siagg2vs</a>"
      ],
      "text/plain": [
       "<IPython.core.display.HTML object>"
      ]
     },
     "metadata": {},
     "output_type": "display_data"
    }
   ],
   "source": [
    "run = wandb.init(entity='tiny-ml',project = 'wake_word_detection', group='training')"
   ]
  },
  {
   "cell_type": "markdown",
   "id": "00822475",
   "metadata": {
    "slideshow": {
     "slide_type": "skip"
    }
   },
   "source": [
    "## Define our model 🏗️"
   ]
  },
  {
   "cell_type": "code",
   "execution_count": 88,
   "id": "60cc0681",
   "metadata": {
    "scrolled": true,
    "slideshow": {
     "slide_type": "skip"
    }
   },
   "outputs": [],
   "source": []
  },
  {
   "cell_type": "code",
   "execution_count": 89,
   "id": "c5401882",
   "metadata": {
    "scrolled": true,
    "slideshow": {
     "slide_type": "skip"
    }
   },
   "outputs": [
    {
     "name": "stdout",
     "output_type": "stream",
     "text": [
      "Model: \"sequential_3\"\n",
      "_________________________________________________________________\n",
      " Layer (type)                Output Shape              Param #   \n",
      "=================================================================\n",
      " resizing_3 (Resizing)       (None, 32, 32, 1)         0         \n",
      "                                                                 \n",
      " normalization_1 (Normalizat  (None, 32, 32, 1)        3         \n",
      " ion)                                                            \n",
      "                                                                 \n",
      " conv2d_3 (Conv2D)           (None, 13, 13, 8)         520       \n",
      "                                                                 \n",
      " max_pooling2d_3 (MaxPooling  (None, 6, 6, 8)          0         \n",
      " 2D)                                                             \n",
      "                                                                 \n",
      " flatten_3 (Flatten)         (None, 288)               0         \n",
      "                                                                 \n",
      " dropout_3 (Dropout)         (None, 288)               0         \n",
      "                                                                 \n",
      " dense_4 (Dense)             (None, 50)                14450     \n",
      "                                                                 \n",
      "=================================================================\n",
      "Total params: 14,973\n",
      "Trainable params: 14,970\n",
      "Non-trainable params: 3\n",
      "_________________________________________________________________\n"
     ]
    }
   ],
   "source": [
    "baseline_model.summary()"
   ]
  },
  {
   "cell_type": "code",
   "execution_count": 90,
   "id": "c008e0d1",
   "metadata": {
    "scrolled": true,
    "slideshow": {
     "slide_type": "skip"
    }
   },
   "outputs": [],
   "source": [
    "METRICS = [\"accuracy\",]\n",
    "baseline_model.compile(\n",
    "    optimizer=tf.keras.optimizers.Adam(learning_rate=0.003),\n",
    "    loss=tf.keras.losses.SparseCategoricalCrossentropy(from_logits=False),\n",
    "    metrics=METRICS,\n",
    ")"
   ]
  },
  {
   "cell_type": "code",
   "execution_count": 91,
   "id": "6418c1f4",
   "metadata": {
    "scrolled": true,
    "slideshow": {
     "slide_type": "slide"
    }
   },
   "outputs": [],
   "source": [
    "\n",
    "# Initialize a new W&B run \n",
    "checkpoint_path = \"training_1/\"\n",
    "checkpoint_dir = os.path.dirname(checkpoint_path)\n",
    "# Create a callback that saves the model's weights"
   ]
  },
  {
   "cell_type": "code",
   "execution_count": 94,
   "id": "fc7a0b1e",
   "metadata": {
    "slideshow": {
     "slide_type": "skip"
    }
   },
   "outputs": [],
   "source": [
    "callbacks = [\n",
    "    tf.keras.callbacks.EarlyStopping(verbose=0, patience=25), \n",
    "    tf.keras.callbacks.LearningRateScheduler(scheduler)\n",
    ",cp_callback,WandbMetricsLogger(),WandbModelCheckpoint(checkpoint_path)]"
   ]
  },
  {
   "cell_type": "code",
   "execution_count": 95,
   "id": "ffa1efd6",
   "metadata": {
    "scrolled": false,
    "slideshow": {
     "slide_type": "skip"
    }
   },
   "outputs": [
    {
     "data": {
      "text/html": [
       "<button onClick=\"this.nextSibling.style.display='block';this.style.display='none';\">Display W&B run</button><iframe src=\"https://wandb.ai/tiny-ml/wake_word_detection/runs/siagg2vs?jupyter=true\" style=\"border:none;width:100%;height:420px;display:none;\"></iframe>"
      ],
      "text/plain": [
       "<wandb.sdk.wandb_run.Run at 0x28a41b880>"
      ]
     },
     "execution_count": 95,
     "metadata": {},
     "output_type": "execute_result"
    }
   ],
   "source": [
    "run"
   ]
  },
  {
   "cell_type": "code",
   "execution_count": 96,
   "id": "09c56d39",
   "metadata": {
    "scrolled": true,
    "slideshow": {
     "slide_type": "skip"
    }
   },
   "outputs": [
    {
     "name": "stdout",
     "output_type": "stream",
     "text": [
      "Epoch 1/50\n"
     ]
    },
    {
     "ename": "ValueError",
     "evalue": "in user code:\n\n    File \"/Users/fridadesigley/.pyenv/versions/3.10.6/envs/tiny-ml/lib/python3.10/site-packages/keras/engine/training.py\", line 1249, in train_function  *\n        return step_function(self, iterator)\n    File \"/Users/fridadesigley/.pyenv/versions/3.10.6/envs/tiny-ml/lib/python3.10/site-packages/keras/engine/training.py\", line 1233, in step_function  **\n        outputs = model.distribute_strategy.run(run_step, args=(data,))\n    File \"/Users/fridadesigley/.pyenv/versions/3.10.6/envs/tiny-ml/lib/python3.10/site-packages/keras/engine/training.py\", line 1222, in run_step  **\n        outputs = model.train_step(data)\n    File \"/Users/fridadesigley/.pyenv/versions/3.10.6/envs/tiny-ml/lib/python3.10/site-packages/keras/engine/training.py\", line 1023, in train_step\n        y_pred = self(x, training=True)\n    File \"/Users/fridadesigley/.pyenv/versions/3.10.6/envs/tiny-ml/lib/python3.10/site-packages/keras/utils/traceback_utils.py\", line 70, in error_handler\n        raise e.with_traceback(filtered_tb) from None\n    File \"/Users/fridadesigley/.pyenv/versions/3.10.6/envs/tiny-ml/lib/python3.10/site-packages/keras/engine/input_spec.py\", line 295, in assert_input_compatibility\n        raise ValueError(\n\n    ValueError: Input 0 of layer \"sequential_3\" is incompatible with the layer: expected shape=(None, 249, 257, 1), found shape=(None, 682, 257)\n",
     "output_type": "error",
     "traceback": [
      "\u001b[0;31m---------------------------------------------------------------------------\u001b[0m",
      "\u001b[0;31mValueError\u001b[0m                                Traceback (most recent call last)",
      "Cell \u001b[0;32mIn[96], line 2\u001b[0m\n\u001b[1;32m      1\u001b[0m EPOCHS \u001b[38;5;241m=\u001b[39m \u001b[38;5;241m50\u001b[39m\n\u001b[0;32m----> 2\u001b[0m history \u001b[38;5;241m=\u001b[39m \u001b[43mbaseline_model\u001b[49m\u001b[38;5;241;43m.\u001b[39;49m\u001b[43mfit\u001b[49m\u001b[43m(\u001b[49m\n\u001b[1;32m      3\u001b[0m \u001b[43m     \u001b[49m\u001b[43mtrain_ds\u001b[49m\u001b[43m,\u001b[49m\u001b[43m \u001b[49m\n\u001b[1;32m      4\u001b[0m \u001b[43m    \u001b[49m\u001b[43mepochs\u001b[49m\u001b[38;5;241;43m=\u001b[39;49m\u001b[43mEPOCHS\u001b[49m\u001b[43m,\u001b[49m\n\u001b[1;32m      5\u001b[0m \u001b[43m    \u001b[49m\u001b[43mcallbacks\u001b[49m\u001b[38;5;241;43m=\u001b[39;49m\u001b[43mcallbacks\u001b[49m\u001b[43m,\u001b[49m\n\u001b[1;32m      6\u001b[0m \u001b[43m    \u001b[49m\u001b[43mvalidation_data\u001b[49m\u001b[38;5;241;43m=\u001b[39;49m\u001b[43mval_ds\u001b[49m\n\u001b[1;32m      7\u001b[0m \u001b[43m)\u001b[49m\n",
      "File \u001b[0;32m~/.pyenv/versions/3.10.6/envs/tiny-ml/lib/python3.10/site-packages/wandb/integration/keras/keras.py:174\u001b[0m, in \u001b[0;36mpatch_tf_keras.<locals>.new_v2\u001b[0;34m(*args, **kwargs)\u001b[0m\n\u001b[1;32m    172\u001b[0m     \u001b[38;5;28;01mfor\u001b[39;00m cbk \u001b[38;5;129;01min\u001b[39;00m cbks:\n\u001b[1;32m    173\u001b[0m         set_wandb_attrs(cbk, val_data)\n\u001b[0;32m--> 174\u001b[0m \u001b[38;5;28;01mreturn\u001b[39;00m \u001b[43mold_v2\u001b[49m\u001b[43m(\u001b[49m\u001b[38;5;241;43m*\u001b[39;49m\u001b[43margs\u001b[49m\u001b[43m,\u001b[49m\u001b[43m \u001b[49m\u001b[38;5;241;43m*\u001b[39;49m\u001b[38;5;241;43m*\u001b[39;49m\u001b[43mkwargs\u001b[49m\u001b[43m)\u001b[49m\n",
      "File \u001b[0;32m~/.pyenv/versions/3.10.6/envs/tiny-ml/lib/python3.10/site-packages/wandb/integration/keras/keras.py:174\u001b[0m, in \u001b[0;36mpatch_tf_keras.<locals>.new_v2\u001b[0;34m(*args, **kwargs)\u001b[0m\n\u001b[1;32m    172\u001b[0m     \u001b[38;5;28;01mfor\u001b[39;00m cbk \u001b[38;5;129;01min\u001b[39;00m cbks:\n\u001b[1;32m    173\u001b[0m         set_wandb_attrs(cbk, val_data)\n\u001b[0;32m--> 174\u001b[0m \u001b[38;5;28;01mreturn\u001b[39;00m \u001b[43mold_v2\u001b[49m\u001b[43m(\u001b[49m\u001b[38;5;241;43m*\u001b[39;49m\u001b[43margs\u001b[49m\u001b[43m,\u001b[49m\u001b[43m \u001b[49m\u001b[38;5;241;43m*\u001b[39;49m\u001b[38;5;241;43m*\u001b[39;49m\u001b[43mkwargs\u001b[49m\u001b[43m)\u001b[49m\n",
      "File \u001b[0;32m~/.pyenv/versions/3.10.6/envs/tiny-ml/lib/python3.10/site-packages/wandb/integration/keras/keras.py:174\u001b[0m, in \u001b[0;36mpatch_tf_keras.<locals>.new_v2\u001b[0;34m(*args, **kwargs)\u001b[0m\n\u001b[1;32m    172\u001b[0m     \u001b[38;5;28;01mfor\u001b[39;00m cbk \u001b[38;5;129;01min\u001b[39;00m cbks:\n\u001b[1;32m    173\u001b[0m         set_wandb_attrs(cbk, val_data)\n\u001b[0;32m--> 174\u001b[0m \u001b[38;5;28;01mreturn\u001b[39;00m \u001b[43mold_v2\u001b[49m\u001b[43m(\u001b[49m\u001b[38;5;241;43m*\u001b[39;49m\u001b[43margs\u001b[49m\u001b[43m,\u001b[49m\u001b[43m \u001b[49m\u001b[38;5;241;43m*\u001b[39;49m\u001b[38;5;241;43m*\u001b[39;49m\u001b[43mkwargs\u001b[49m\u001b[43m)\u001b[49m\n",
      "File \u001b[0;32m~/.pyenv/versions/3.10.6/envs/tiny-ml/lib/python3.10/site-packages/keras/utils/traceback_utils.py:70\u001b[0m, in \u001b[0;36mfilter_traceback.<locals>.error_handler\u001b[0;34m(*args, **kwargs)\u001b[0m\n\u001b[1;32m     67\u001b[0m     filtered_tb \u001b[38;5;241m=\u001b[39m _process_traceback_frames(e\u001b[38;5;241m.\u001b[39m__traceback__)\n\u001b[1;32m     68\u001b[0m     \u001b[38;5;66;03m# To get the full stack trace, call:\u001b[39;00m\n\u001b[1;32m     69\u001b[0m     \u001b[38;5;66;03m# `tf.debugging.disable_traceback_filtering()`\u001b[39;00m\n\u001b[0;32m---> 70\u001b[0m     \u001b[38;5;28;01mraise\u001b[39;00m e\u001b[38;5;241m.\u001b[39mwith_traceback(filtered_tb) \u001b[38;5;28;01mfrom\u001b[39;00m \u001b[38;5;28mNone\u001b[39m\n\u001b[1;32m     71\u001b[0m \u001b[38;5;28;01mfinally\u001b[39;00m:\n\u001b[1;32m     72\u001b[0m     \u001b[38;5;28;01mdel\u001b[39;00m filtered_tb\n",
      "File \u001b[0;32m/var/folders/q8/9dhs6y4d21s87vxtnwqflq5m0000gn/T/__autograph_generated_fileulnazmoc.py:15\u001b[0m, in \u001b[0;36mouter_factory.<locals>.inner_factory.<locals>.tf__train_function\u001b[0;34m(iterator)\u001b[0m\n\u001b[1;32m     13\u001b[0m \u001b[38;5;28;01mtry\u001b[39;00m:\n\u001b[1;32m     14\u001b[0m     do_return \u001b[38;5;241m=\u001b[39m \u001b[38;5;28;01mTrue\u001b[39;00m\n\u001b[0;32m---> 15\u001b[0m     retval_ \u001b[38;5;241m=\u001b[39m ag__\u001b[38;5;241m.\u001b[39mconverted_call(ag__\u001b[38;5;241m.\u001b[39mld(step_function), (ag__\u001b[38;5;241m.\u001b[39mld(\u001b[38;5;28mself\u001b[39m), ag__\u001b[38;5;241m.\u001b[39mld(iterator)), \u001b[38;5;28;01mNone\u001b[39;00m, fscope)\n\u001b[1;32m     16\u001b[0m \u001b[38;5;28;01mexcept\u001b[39;00m:\n\u001b[1;32m     17\u001b[0m     do_return \u001b[38;5;241m=\u001b[39m \u001b[38;5;28;01mFalse\u001b[39;00m\n",
      "\u001b[0;31mValueError\u001b[0m: in user code:\n\n    File \"/Users/fridadesigley/.pyenv/versions/3.10.6/envs/tiny-ml/lib/python3.10/site-packages/keras/engine/training.py\", line 1249, in train_function  *\n        return step_function(self, iterator)\n    File \"/Users/fridadesigley/.pyenv/versions/3.10.6/envs/tiny-ml/lib/python3.10/site-packages/keras/engine/training.py\", line 1233, in step_function  **\n        outputs = model.distribute_strategy.run(run_step, args=(data,))\n    File \"/Users/fridadesigley/.pyenv/versions/3.10.6/envs/tiny-ml/lib/python3.10/site-packages/keras/engine/training.py\", line 1222, in run_step  **\n        outputs = model.train_step(data)\n    File \"/Users/fridadesigley/.pyenv/versions/3.10.6/envs/tiny-ml/lib/python3.10/site-packages/keras/engine/training.py\", line 1023, in train_step\n        y_pred = self(x, training=True)\n    File \"/Users/fridadesigley/.pyenv/versions/3.10.6/envs/tiny-ml/lib/python3.10/site-packages/keras/utils/traceback_utils.py\", line 70, in error_handler\n        raise e.with_traceback(filtered_tb) from None\n    File \"/Users/fridadesigley/.pyenv/versions/3.10.6/envs/tiny-ml/lib/python3.10/site-packages/keras/engine/input_spec.py\", line 295, in assert_input_compatibility\n        raise ValueError(\n\n    ValueError: Input 0 of layer \"sequential_3\" is incompatible with the layer: expected shape=(None, 249, 257, 1), found shape=(None, 682, 257)\n"
     ]
    }
   ],
   "source": [
    "EPOCHS = 50\n",
    "history = baseline_model.fit(\n",
    "     train_ds, \n",
    "    epochs=EPOCHS,\n",
    "    callbacks=callbacks,\n",
    "    validation_data=val_ds\n",
    ")"
   ]
  },
  {
   "cell_type": "code",
   "execution_count": 97,
   "id": "e73e2f68",
   "metadata": {
    "slideshow": {
     "slide_type": "skip"
    }
   },
   "outputs": [
    {
     "data": {
      "text/html": [
       "Waiting for W&B process to finish... <strong style=\"color:green\">(success).</strong>"
      ],
      "text/plain": [
       "<IPython.core.display.HTML object>"
      ]
     },
     "metadata": {},
     "output_type": "display_data"
    },
    {
     "data": {
      "text/html": [
       " View run <strong style=\"color:#cdcd00\">incandescent-dumpling-417</strong> at: <a href=\"https://wandb.ai/tiny-ml/wake_word_detection/runs/siagg2vs\" target=\"_blank\">https://wandb.ai/tiny-ml/wake_word_detection/runs/siagg2vs</a><br/>Synced 6 W&B file(s), 0 media file(s), 3 artifact file(s) and 1 other file(s)"
      ],
      "text/plain": [
       "<IPython.core.display.HTML object>"
      ]
     },
     "metadata": {},
     "output_type": "display_data"
    },
    {
     "data": {
      "text/html": [
       "Find logs at: <code>./wandb/run-20230131_164352-siagg2vs/logs</code>"
      ],
      "text/plain": [
       "<IPython.core.display.HTML object>"
      ]
     },
     "metadata": {},
     "output_type": "display_data"
    }
   ],
   "source": [
    "run.finish()"
   ]
  },
  {
   "cell_type": "markdown",
   "id": "719b44b9",
   "metadata": {
    "slideshow": {
     "slide_type": "slide"
    }
   },
   "source": [
    "## WandB Sweep 🧹"
   ]
  },
  {
   "cell_type": "code",
   "execution_count": 54,
   "id": "f7a2cf31",
   "metadata": {
    "slideshow": {
     "slide_type": "slide"
    }
   },
   "outputs": [
    {
     "data": {
      "text/html": [
       "\n",
       "        <iframe\n",
       "            width=\"1900\"\n",
       "            height=\"850\"\n",
       "            src=\"https://wandb.ai/tiny-ml/wake_word_detection/reports/Sweep-Only--VmlldzozNDUzNjIy\"\n",
       "            frameborder=\"0\"\n",
       "            allowfullscreen\n",
       "            \n",
       "        ></iframe>\n",
       "        "
      ],
      "text/plain": [
       "<IPython.lib.display.IFrame at 0x29262f6a0>"
      ]
     },
     "execution_count": 54,
     "metadata": {},
     "output_type": "execute_result"
    }
   ],
   "source": [
    "IFrame('https://wandb.ai/tiny-ml/wake_word_detection/reports/Sweep-Only--VmlldzozNDUzNjIy', \n",
    "       width=1900,  \n",
    "       height=850)"
   ]
  },
  {
   "cell_type": "code",
   "execution_count": 92,
   "id": "d2f9d74c",
   "metadata": {
    "slideshow": {
     "slide_type": "subslide"
    }
   },
   "outputs": [],
   "source": [
    "from utils import create_sweep\n",
    "from utils.pre_train_sweep import pre_train\n",
    "import wandb\n",
    "import os\n",
    "from wandb.keras import WandbMetricsLogger, WandbModelCheckpoint"
   ]
  },
  {
   "cell_type": "code",
   "execution_count": 57,
   "id": "99dbc7c7",
   "metadata": {
    "scrolled": false,
    "slideshow": {
     "slide_type": "subslide"
    }
   },
   "outputs": [
    {
     "name": "stdout",
     "output_type": "stream",
     "text": [
      "Create sweep with ID: fjitorla\n",
      "Sweep URL: https://wandb.ai/tiny-ml/wake_word_detection/sweeps/fjitorla\n",
      "WARNING:tensorflow:From /Users/fridadesigley/.pyenv/versions/3.10.6/envs/tiny-ml/lib/python3.10/site-packages/tensorflow/python/autograph/pyct/static_analysis/liveness.py:83: Analyzer.lamba_check (from tensorflow.python.autograph.pyct.static_analysis.liveness) is deprecated and will be removed after 2023-09-23.\n",
      "Instructions for updating:\n",
      "Lambda fuctions will be no more assumed to be used in the statement where they are used, or at least in the same block. https://github.com/tensorflow/tensorflow/issues/56089\n"
     ]
    },
    {
     "name": "stderr",
     "output_type": "stream",
     "text": [
      "2023-01-31 17:32:16.089065: W tensorflow/tsl/platform/profile_utils/cpu_utils.cc:128] Failed to get CPU frequency: 0 Hz\n"
     ]
    },
    {
     "name": "stdout",
     "output_type": "stream",
     "text": [
      "Epoch 1/100\n",
      "17/21 [=======================>......] - ETA: 0s - loss: 3.9837 - accuracy: 0.0325\n",
      "Epoch 1: saving model to training_1/\n",
      "21/21 [==============================] - 1s 34ms/step - loss: 3.9734 - accuracy: 0.0350 - val_loss: 3.9091 - val_accuracy: 0.0231 - lr: 7.0000e-04\n",
      "Epoch 2/100\n",
      "16/21 [=====================>........] - ETA: 0s - loss: 3.8968 - accuracy: 0.0384\n",
      "Epoch 2: saving model to training_1/\n",
      "21/21 [==============================] - 0s 16ms/step - loss: 3.8984 - accuracy: 0.0415 - val_loss: 3.8554 - val_accuracy: 0.0417 - lr: 7.0000e-04\n",
      "Epoch 3/100\n",
      "18/21 [========================>.....] - ETA: 0s - loss: 3.8261 - accuracy: 0.0538\n",
      "Epoch 3: saving model to training_1/\n",
      "21/21 [==============================] - 0s 18ms/step - loss: 3.8216 - accuracy: 0.0555 - val_loss: 3.7875 - val_accuracy: 0.0583 - lr: 7.0000e-04\n",
      "Epoch 4/100\n",
      "16/21 [=====================>........] - ETA: 0s - loss: 3.7410 - accuracy: 0.0671\n",
      "Epoch 4: saving model to training_1/\n",
      "21/21 [==============================] - 0s 14ms/step - loss: 3.7460 - accuracy: 0.0675 - val_loss: 3.7277 - val_accuracy: 0.0602 - lr: 7.0000e-04\n",
      "Epoch 5/100\n",
      "15/21 [====================>.........] - ETA: 0s - loss: 3.6910 - accuracy: 0.0785\n",
      "Epoch 5: saving model to training_1/\n",
      "21/21 [==============================] - 0s 12ms/step - loss: 3.6888 - accuracy: 0.0755 - val_loss: 3.6877 - val_accuracy: 0.0685 - lr: 7.0000e-04\n",
      "Epoch 6/100\n",
      "19/21 [==========================>...] - ETA: 0s - loss: 3.6404 - accuracy: 0.0888\n",
      "Epoch 6: saving model to training_1/\n",
      "21/21 [==============================] - 0s 12ms/step - loss: 3.6313 - accuracy: 0.0910 - val_loss: 3.6464 - val_accuracy: 0.0759 - lr: 7.0000e-04\n",
      "Epoch 7/100\n",
      "15/21 [====================>.........] - ETA: 0s - loss: 3.5976 - accuracy: 0.1000\n",
      "Epoch 7: saving model to training_1/\n",
      "21/21 [==============================] - 0s 12ms/step - loss: 3.5933 - accuracy: 0.1030 - val_loss: 3.6074 - val_accuracy: 0.0944 - lr: 7.0000e-04\n",
      "Epoch 8/100\n",
      "15/21 [====================>.........] - ETA: 0s - loss: 3.5431 - accuracy: 0.1264\n",
      "Epoch 8: saving model to training_1/\n",
      "21/21 [==============================] - 0s 15ms/step - loss: 3.5596 - accuracy: 0.1220 - val_loss: 3.5720 - val_accuracy: 0.0981 - lr: 7.0000e-04\n",
      "Epoch 9/100\n",
      "19/21 [==========================>...] - ETA: 0s - loss: 3.4947 - accuracy: 0.1223\n",
      "Epoch 9: saving model to training_1/\n",
      "21/21 [==============================] - 0s 13ms/step - loss: 3.4935 - accuracy: 0.1245 - val_loss: 3.5357 - val_accuracy: 0.1046 - lr: 7.0000e-04\n",
      "Epoch 10/100\n",
      "21/21 [==============================] - ETA: 0s - loss: 3.4491 - accuracy: 0.1330\n",
      "Epoch 10: saving model to training_1/\n",
      "21/21 [==============================] - 1s 32ms/step - loss: 3.4491 - accuracy: 0.1330 - val_loss: 3.5048 - val_accuracy: 0.1111 - lr: 7.0000e-04\n",
      "Epoch 11/100\n",
      "18/21 [========================>.....] - ETA: 0s - loss: 3.4281 - accuracy: 0.1337\n",
      "Epoch 11: saving model to training_1/\n",
      "21/21 [==============================] - 0s 14ms/step - loss: 3.4256 - accuracy: 0.1355 - val_loss: 3.4804 - val_accuracy: 0.1167 - lr: 6.3339e-04\n",
      "Epoch 12/100\n",
      "18/21 [========================>.....] - ETA: 0s - loss: 3.3729 - accuracy: 0.1400\n",
      "Epoch 12: saving model to training_1/\n",
      "21/21 [==============================] - 0s 14ms/step - loss: 3.3624 - accuracy: 0.1460 - val_loss: 3.4522 - val_accuracy: 0.1194 - lr: 5.7311e-04\n",
      "Epoch 13/100\n",
      "16/21 [=====================>........] - ETA: 0s - loss: 3.3672 - accuracy: 0.1595\n",
      "Epoch 13: saving model to training_1/\n",
      "21/21 [==============================] - 0s 14ms/step - loss: 3.3586 - accuracy: 0.1535 - val_loss: 3.4308 - val_accuracy: 0.1194 - lr: 5.1857e-04\n",
      "Epoch 14/100\n",
      "18/21 [========================>.....] - ETA: 0s - loss: 3.3077 - accuracy: 0.1632\n",
      "Epoch 14: saving model to training_1/\n",
      "21/21 [==============================] - 0s 13ms/step - loss: 3.3149 - accuracy: 0.1605 - val_loss: 3.4162 - val_accuracy: 0.1231 - lr: 4.6922e-04\n",
      "Epoch 15/100\n",
      "17/21 [=======================>......] - ETA: 0s - loss: 3.3058 - accuracy: 0.1642\n",
      "Epoch 15: saving model to training_1/\n",
      "21/21 [==============================] - 0s 14ms/step - loss: 3.3029 - accuracy: 0.1645 - val_loss: 3.3983 - val_accuracy: 0.1269 - lr: 4.2457e-04\n",
      "Epoch 16/100\n",
      "17/21 [=======================>......] - ETA: 0s - loss: 3.2799 - accuracy: 0.1599\n",
      "Epoch 16: saving model to training_1/\n",
      "21/21 [==============================] - 0s 14ms/step - loss: 3.2890 - accuracy: 0.1585 - val_loss: 3.3849 - val_accuracy: 0.1259 - lr: 3.8417e-04\n",
      "Epoch 17/100\n",
      "18/21 [========================>.....] - ETA: 0s - loss: 3.2630 - accuracy: 0.1730\n",
      "Epoch 17: saving model to training_1/\n",
      "21/21 [==============================] - 0s 14ms/step - loss: 3.2667 - accuracy: 0.1715 - val_loss: 3.3748 - val_accuracy: 0.1306 - lr: 3.4761e-04\n",
      "Epoch 18/100\n",
      "19/21 [==========================>...] - ETA: 0s - loss: 3.2410 - accuracy: 0.1765\n",
      "Epoch 18: saving model to training_1/\n",
      "21/21 [==============================] - 0s 13ms/step - loss: 3.2414 - accuracy: 0.1775 - val_loss: 3.3645 - val_accuracy: 0.1324 - lr: 3.1453e-04\n",
      "Epoch 19/100\n",
      "18/21 [========================>.....] - ETA: 0s - loss: 3.2296 - accuracy: 0.1811\n",
      "Epoch 19: saving model to training_1/\n",
      "21/21 [==============================] - 0s 13ms/step - loss: 3.2214 - accuracy: 0.1810 - val_loss: 3.3563 - val_accuracy: 0.1324 - lr: 2.8460e-04\n",
      "Epoch 20/100\n",
      "18/21 [========================>.....] - ETA: 0s - loss: 3.2269 - accuracy: 0.1748\n",
      "Epoch 20: saving model to training_1/\n",
      "21/21 [==============================] - 0s 14ms/step - loss: 3.2279 - accuracy: 0.1765 - val_loss: 3.3489 - val_accuracy: 0.1361 - lr: 2.5752e-04\n",
      "Epoch 21/100\n",
      "18/21 [========================>.....] - ETA: 0s - loss: 3.2020 - accuracy: 0.1829\n",
      "Epoch 21: saving model to training_1/\n",
      "21/21 [==============================] - 0s 14ms/step - loss: 3.2060 - accuracy: 0.1815 - val_loss: 3.3440 - val_accuracy: 0.1370 - lr: 2.3301e-04\n",
      "Epoch 22/100\n",
      "19/21 [==========================>...] - ETA: 0s - loss: 3.2177 - accuracy: 0.1804\n",
      "Epoch 22: saving model to training_1/\n",
      "21/21 [==============================] - 0s 13ms/step - loss: 3.2090 - accuracy: 0.1800 - val_loss: 3.3391 - val_accuracy: 0.1352 - lr: 2.1084e-04\n",
      "Epoch 23/100\n",
      "19/21 [==========================>...] - ETA: 0s - loss: 3.1809 - accuracy: 0.1798\n",
      "Epoch 23: saving model to training_1/\n",
      "21/21 [==============================] - 0s 13ms/step - loss: 3.1879 - accuracy: 0.1795 - val_loss: 3.3337 - val_accuracy: 0.1398 - lr: 1.9077e-04\n",
      "Epoch 24/100\n",
      "19/21 [==========================>...] - ETA: 0s - loss: 3.1896 - accuracy: 0.1941\n",
      "Epoch 24: saving model to training_1/\n",
      "21/21 [==============================] - 0s 13ms/step - loss: 3.1788 - accuracy: 0.1940 - val_loss: 3.3299 - val_accuracy: 0.1398 - lr: 1.7262e-04\n",
      "Epoch 25/100\n",
      "19/21 [==========================>...] - ETA: 0s - loss: 3.1735 - accuracy: 0.2029\n",
      "Epoch 25: saving model to training_1/\n",
      "21/21 [==============================] - 0s 15ms/step - loss: 3.1736 - accuracy: 0.2025 - val_loss: 3.3262 - val_accuracy: 0.1426 - lr: 1.5619e-04\n",
      "Epoch 26/100\n",
      "19/21 [==========================>...] - ETA: 0s - loss: 3.1685 - accuracy: 0.1974\n",
      "Epoch 26: saving model to training_1/\n",
      "21/21 [==============================] - 0s 13ms/step - loss: 3.1711 - accuracy: 0.1960 - val_loss: 3.3222 - val_accuracy: 0.1417 - lr: 1.4133e-04\n",
      "Epoch 27/100\n",
      "17/21 [=======================>......] - ETA: 0s - loss: 3.1351 - accuracy: 0.2034\n",
      "Epoch 27: saving model to training_1/\n",
      "21/21 [==============================] - 0s 14ms/step - loss: 3.1542 - accuracy: 0.1960 - val_loss: 3.3196 - val_accuracy: 0.1417 - lr: 1.2788e-04\n",
      "Epoch 28/100\n",
      "18/21 [========================>.....] - ETA: 0s - loss: 3.1455 - accuracy: 0.2020\n",
      "Epoch 28: saving model to training_1/\n",
      "21/21 [==============================] - 0s 14ms/step - loss: 3.1495 - accuracy: 0.2015 - val_loss: 3.3172 - val_accuracy: 0.1426 - lr: 1.1571e-04\n",
      "Epoch 29/100\n",
      "19/21 [==========================>...] - ETA: 0s - loss: 3.1372 - accuracy: 0.2072\n",
      "Epoch 29: saving model to training_1/\n",
      "21/21 [==============================] - 0s 13ms/step - loss: 3.1420 - accuracy: 0.2075 - val_loss: 3.3152 - val_accuracy: 0.1435 - lr: 1.0470e-04\n",
      "Epoch 30/100\n"
     ]
    },
    {
     "name": "stdout",
     "output_type": "stream",
     "text": [
      "18/21 [========================>.....] - ETA: 0s - loss: 3.1094 - accuracy: 0.2060\n",
      "Epoch 30: saving model to training_1/\n",
      "21/21 [==============================] - 0s 14ms/step - loss: 3.1227 - accuracy: 0.2030 - val_loss: 3.3130 - val_accuracy: 0.1463 - lr: 9.4735e-05\n",
      "Epoch 31/100\n",
      "16/21 [=====================>........] - ETA: 0s - loss: 3.1420 - accuracy: 0.2038\n",
      "Epoch 31: saving model to training_1/\n",
      "21/21 [==============================] - 0s 14ms/step - loss: 3.1402 - accuracy: 0.2040 - val_loss: 3.3109 - val_accuracy: 0.1454 - lr: 8.5720e-05\n",
      "Epoch 32/100\n",
      "21/21 [==============================] - ETA: 0s - loss: 3.1392 - accuracy: 0.1970\n",
      "Epoch 32: saving model to training_1/\n",
      "21/21 [==============================] - 0s 15ms/step - loss: 3.1392 - accuracy: 0.1970 - val_loss: 3.3093 - val_accuracy: 0.1481 - lr: 7.7562e-05\n",
      "Epoch 33/100\n",
      "19/21 [==========================>...] - ETA: 0s - loss: 3.1428 - accuracy: 0.1919\n",
      "Epoch 33: saving model to training_1/\n",
      "21/21 [==============================] - 0s 13ms/step - loss: 3.1316 - accuracy: 0.1970 - val_loss: 3.3073 - val_accuracy: 0.1481 - lr: 7.0181e-05\n",
      "Epoch 34/100\n",
      "18/21 [========================>.....] - ETA: 0s - loss: 3.1467 - accuracy: 0.1944\n",
      "Epoch 34: saving model to training_1/\n",
      "21/21 [==============================] - 0s 13ms/step - loss: 3.1365 - accuracy: 0.1940 - val_loss: 3.3058 - val_accuracy: 0.1481 - lr: 6.3503e-05\n",
      "Epoch 35/100\n",
      "18/21 [========================>.....] - ETA: 0s - loss: 3.1521 - accuracy: 0.1950\n",
      "Epoch 35: saving model to training_1/\n",
      "21/21 [==============================] - 0s 14ms/step - loss: 3.1414 - accuracy: 0.2000 - val_loss: 3.3046 - val_accuracy: 0.1500 - lr: 5.7460e-05\n",
      "Epoch 36/100\n",
      "19/21 [==========================>...] - ETA: 0s - loss: 3.1193 - accuracy: 0.2039\n",
      "Epoch 36: saving model to training_1/\n",
      "21/21 [==============================] - 0s 13ms/step - loss: 3.1236 - accuracy: 0.2015 - val_loss: 3.3035 - val_accuracy: 0.1491 - lr: 5.1992e-05\n",
      "Epoch 37/100\n",
      "17/21 [=======================>......] - ETA: 0s - loss: 3.1311 - accuracy: 0.2138\n",
      "Epoch 37: saving model to training_1/\n",
      "21/21 [==============================] - 0s 15ms/step - loss: 3.1342 - accuracy: 0.2050 - val_loss: 3.3026 - val_accuracy: 0.1472 - lr: 4.7044e-05\n",
      "Epoch 38/100\n",
      "19/21 [==========================>...] - ETA: 0s - loss: 3.1246 - accuracy: 0.2116\n",
      "Epoch 38: saving model to training_1/\n",
      "21/21 [==============================] - 0s 14ms/step - loss: 3.1222 - accuracy: 0.2060 - val_loss: 3.3017 - val_accuracy: 0.1472 - lr: 4.2567e-05\n",
      "Epoch 39/100\n",
      "18/21 [========================>.....] - ETA: 0s - loss: 3.1256 - accuracy: 0.2037\n",
      "Epoch 39: saving model to training_1/\n",
      "21/21 [==============================] - 0s 14ms/step - loss: 3.1268 - accuracy: 0.2035 - val_loss: 3.3010 - val_accuracy: 0.1472 - lr: 3.8516e-05\n",
      "Epoch 40/100\n",
      "19/21 [==========================>...] - ETA: 0s - loss: 3.1238 - accuracy: 0.2078\n",
      "Epoch 40: saving model to training_1/\n",
      "21/21 [==============================] - 0s 13ms/step - loss: 3.1322 - accuracy: 0.2050 - val_loss: 3.3003 - val_accuracy: 0.1491 - lr: 3.4851e-05\n",
      "Epoch 41/100\n",
      "19/21 [==========================>...] - ETA: 0s - loss: 3.1432 - accuracy: 0.2001\n",
      "Epoch 41: saving model to training_1/\n",
      "21/21 [==============================] - 0s 13ms/step - loss: 3.1224 - accuracy: 0.2085 - val_loss: 3.2997 - val_accuracy: 0.1491 - lr: 3.1534e-05\n",
      "Epoch 42/100\n",
      "19/21 [==========================>...] - ETA: 0s - loss: 3.1316 - accuracy: 0.1990\n",
      "Epoch 42: saving model to training_1/\n",
      "21/21 [==============================] - 0s 13ms/step - loss: 3.1228 - accuracy: 0.2025 - val_loss: 3.2992 - val_accuracy: 0.1491 - lr: 2.8534e-05\n",
      "Epoch 43/100\n",
      "19/21 [==========================>...] - ETA: 0s - loss: 3.1334 - accuracy: 0.1974\n",
      "Epoch 43: saving model to training_1/\n",
      "21/21 [==============================] - 0s 13ms/step - loss: 3.1259 - accuracy: 0.2000 - val_loss: 3.2987 - val_accuracy: 0.1472 - lr: 2.5818e-05\n",
      "Epoch 44/100\n",
      "19/21 [==========================>...] - ETA: 0s - loss: 3.1296 - accuracy: 0.2083\n",
      "Epoch 44: saving model to training_1/\n",
      "21/21 [==============================] - 0s 13ms/step - loss: 3.1200 - accuracy: 0.2105 - val_loss: 3.2982 - val_accuracy: 0.1481 - lr: 2.3361e-05\n",
      "Epoch 45/100\n",
      "19/21 [==========================>...] - ETA: 0s - loss: 3.1103 - accuracy: 0.2039\n",
      "Epoch 45: saving model to training_1/\n",
      "21/21 [==============================] - 0s 13ms/step - loss: 3.1132 - accuracy: 0.2055 - val_loss: 3.2978 - val_accuracy: 0.1481 - lr: 2.1138e-05\n",
      "Epoch 46/100\n",
      "19/21 [==========================>...] - ETA: 0s - loss: 3.0989 - accuracy: 0.2094\n",
      "Epoch 46: saving model to training_1/\n",
      "21/21 [==============================] - 0s 13ms/step - loss: 3.1029 - accuracy: 0.2090 - val_loss: 3.2974 - val_accuracy: 0.1481 - lr: 1.9127e-05\n",
      "Epoch 47/100\n",
      "19/21 [==========================>...] - ETA: 0s - loss: 3.1163 - accuracy: 0.1957\n",
      "Epoch 47: saving model to training_1/\n",
      "21/21 [==============================] - 0s 14ms/step - loss: 3.1208 - accuracy: 0.1955 - val_loss: 3.2972 - val_accuracy: 0.1491 - lr: 1.7306e-05\n",
      "Epoch 48/100\n",
      "18/21 [========================>.....] - ETA: 0s - loss: 3.1015 - accuracy: 0.2008\n",
      "Epoch 48: saving model to training_1/\n",
      "21/21 [==============================] - 0s 14ms/step - loss: 3.1088 - accuracy: 0.2035 - val_loss: 3.2970 - val_accuracy: 0.1500 - lr: 1.5660e-05\n",
      "Epoch 49/100\n",
      "17/21 [=======================>......] - ETA: 0s - loss: 3.1040 - accuracy: 0.2126\n",
      "Epoch 49: saving model to training_1/\n",
      "21/21 [==============================] - 0s 17ms/step - loss: 3.1147 - accuracy: 0.2060 - val_loss: 3.2968 - val_accuracy: 0.1491 - lr: 1.4169e-05\n",
      "Epoch 50/100\n",
      "19/21 [==========================>...] - ETA: 0s - loss: 3.1182 - accuracy: 0.1952\n",
      "Epoch 50: saving model to training_1/\n",
      "21/21 [==============================] - 0s 13ms/step - loss: 3.1217 - accuracy: 0.1985 - val_loss: 3.2965 - val_accuracy: 0.1491 - lr: 1.2821e-05\n",
      "Epoch 51/100\n",
      "19/21 [==========================>...] - ETA: 0s - loss: 3.1115 - accuracy: 0.2039\n",
      "Epoch 51: saving model to training_1/\n",
      "21/21 [==============================] - 0s 13ms/step - loss: 3.1144 - accuracy: 0.2045 - val_loss: 3.2962 - val_accuracy: 0.1500 - lr: 1.1601e-05\n",
      "Epoch 52/100\n",
      "18/21 [========================>.....] - ETA: 0s - loss: 3.1140 - accuracy: 0.2008\n",
      "Epoch 52: saving model to training_1/\n",
      "21/21 [==============================] - 0s 15ms/step - loss: 3.1173 - accuracy: 0.2005 - val_loss: 3.2960 - val_accuracy: 0.1491 - lr: 1.0497e-05\n",
      "Epoch 53/100\n",
      "20/21 [===========================>..] - ETA: 0s - loss: 3.1080 - accuracy: 0.2010\n",
      "Epoch 53: saving model to training_1/\n",
      "21/21 [==============================] - 0s 12ms/step - loss: 3.1103 - accuracy: 0.2000 - val_loss: 3.2957 - val_accuracy: 0.1491 - lr: 9.4980e-06\n",
      "Epoch 54/100\n",
      "15/21 [====================>.........] - ETA: 0s - loss: 3.0930 - accuracy: 0.1972\n",
      "Epoch 54: saving model to training_1/\n",
      "21/21 [==============================] - 0s 12ms/step - loss: 3.1037 - accuracy: 0.1960 - val_loss: 3.2956 - val_accuracy: 0.1509 - lr: 8.5941e-06\n",
      "Epoch 55/100\n",
      "19/21 [==========================>...] - ETA: 0s - loss: 3.1124 - accuracy: 0.2007\n",
      "Epoch 55: saving model to training_1/\n",
      "21/21 [==============================] - 0s 13ms/step - loss: 3.1158 - accuracy: 0.2000 - val_loss: 3.2954 - val_accuracy: 0.1509 - lr: 7.7763e-06\n",
      "Epoch 56/100\n",
      "21/21 [==============================] - ETA: 0s - loss: 3.1052 - accuracy: 0.2070\n",
      "Epoch 56: saving model to training_1/\n",
      "21/21 [==============================] - 0s 12ms/step - loss: 3.1052 - accuracy: 0.2070 - val_loss: 3.2953 - val_accuracy: 0.1509 - lr: 7.0363e-06\n",
      "Epoch 57/100\n",
      "21/21 [==============================] - ETA: 0s - loss: 3.1154 - accuracy: 0.2030\n",
      "Epoch 57: saving model to training_1/\n",
      "21/21 [==============================] - 0s 18ms/step - loss: 3.1154 - accuracy: 0.2030 - val_loss: 3.2951 - val_accuracy: 0.1519 - lr: 6.3667e-06\n",
      "Epoch 58/100\n",
      "18/21 [========================>.....] - ETA: 0s - loss: 3.0702 - accuracy: 0.2303\n",
      "Epoch 58: saving model to training_1/\n",
      "21/21 [==============================] - 0s 14ms/step - loss: 3.1042 - accuracy: 0.2150 - val_loss: 3.2950 - val_accuracy: 0.1509 - lr: 5.7608e-06\n",
      "Epoch 59/100\n"
     ]
    },
    {
     "name": "stdout",
     "output_type": "stream",
     "text": [
      "18/21 [========================>.....] - ETA: 0s - loss: 3.1299 - accuracy: 0.2014\n",
      "Epoch 59: saving model to training_1/\n",
      "21/21 [==============================] - 0s 14ms/step - loss: 3.1240 - accuracy: 0.1995 - val_loss: 3.2950 - val_accuracy: 0.1519 - lr: 5.2126e-06\n",
      "Epoch 60/100\n",
      "18/21 [========================>.....] - ETA: 0s - loss: 3.0897 - accuracy: 0.2072\n",
      "Epoch 60: saving model to training_1/\n",
      "21/21 [==============================] - 0s 13ms/step - loss: 3.1057 - accuracy: 0.2030 - val_loss: 3.2948 - val_accuracy: 0.1509 - lr: 4.7166e-06\n",
      "Epoch 61/100\n",
      "21/21 [==============================] - ETA: 0s - loss: 3.1135 - accuracy: 0.2060\n",
      "Epoch 61: saving model to training_1/\n",
      "21/21 [==============================] - 0s 12ms/step - loss: 3.1135 - accuracy: 0.2060 - val_loss: 3.2948 - val_accuracy: 0.1519 - lr: 4.2677e-06\n",
      "Epoch 62/100\n",
      "20/21 [===========================>..] - ETA: 0s - loss: 3.1264 - accuracy: 0.2094\n",
      "Epoch 62: saving model to training_1/\n",
      "21/21 [==============================] - 0s 12ms/step - loss: 3.1277 - accuracy: 0.2075 - val_loss: 3.2947 - val_accuracy: 0.1519 - lr: 3.8616e-06\n",
      "Epoch 63/100\n",
      "21/21 [==============================] - ETA: 0s - loss: 3.1068 - accuracy: 0.2005\n",
      "Epoch 63: saving model to training_1/\n",
      "21/21 [==============================] - 0s 12ms/step - loss: 3.1068 - accuracy: 0.2005 - val_loss: 3.2946 - val_accuracy: 0.1519 - lr: 3.4941e-06\n",
      "Epoch 64/100\n",
      "17/21 [=======================>......] - ETA: 0s - loss: 3.0985 - accuracy: 0.1979\n",
      "Epoch 64: saving model to training_1/\n",
      "21/21 [==============================] - 0s 14ms/step - loss: 3.1031 - accuracy: 0.1980 - val_loss: 3.2946 - val_accuracy: 0.1519 - lr: 3.1616e-06\n",
      "Epoch 65/100\n",
      "20/21 [===========================>..] - ETA: 0s - loss: 3.1202 - accuracy: 0.2000\n",
      "Epoch 65: saving model to training_1/\n",
      "21/21 [==============================] - 0s 12ms/step - loss: 3.1163 - accuracy: 0.2010 - val_loss: 3.2946 - val_accuracy: 0.1519 - lr: 2.8607e-06\n",
      "Epoch 66/100\n",
      "19/21 [==========================>...] - ETA: 0s - loss: 3.0982 - accuracy: 0.2188\n",
      "Epoch 66: saving model to training_1/\n",
      "21/21 [==============================] - 0s 13ms/step - loss: 3.1028 - accuracy: 0.2180 - val_loss: 3.2945 - val_accuracy: 0.1519 - lr: 2.5885e-06\n",
      "Epoch 67/100\n",
      "19/21 [==========================>...] - ETA: 0s - loss: 3.1107 - accuracy: 0.2045\n",
      "Epoch 67: saving model to training_1/\n",
      "21/21 [==============================] - 0s 13ms/step - loss: 3.1200 - accuracy: 0.2030 - val_loss: 3.2945 - val_accuracy: 0.1519 - lr: 2.3422e-06\n",
      "Epoch 68/100\n",
      "19/21 [==========================>...] - ETA: 0s - loss: 3.1083 - accuracy: 0.2281\n",
      "Epoch 68: saving model to training_1/\n",
      "21/21 [==============================] - 0s 12ms/step - loss: 3.1146 - accuracy: 0.2225 - val_loss: 3.2944 - val_accuracy: 0.1519 - lr: 2.1193e-06\n",
      "Epoch 69/100\n",
      "19/21 [==========================>...] - ETA: 0s - loss: 3.1271 - accuracy: 0.2144\n",
      "Epoch 69: saving model to training_1/\n",
      "21/21 [==============================] - 0s 12ms/step - loss: 3.1234 - accuracy: 0.2140 - val_loss: 3.2944 - val_accuracy: 0.1519 - lr: 1.9176e-06\n",
      "Epoch 70/100\n",
      "15/21 [====================>.........] - ETA: 0s - loss: 3.0726 - accuracy: 0.2188\n",
      "Epoch 70: saving model to training_1/\n",
      "21/21 [==============================] - 0s 12ms/step - loss: 3.1034 - accuracy: 0.2065 - val_loss: 3.2943 - val_accuracy: 0.1509 - lr: 1.7351e-06\n",
      "Epoch 71/100\n",
      "15/21 [====================>.........] - ETA: 0s - loss: 3.1230 - accuracy: 0.2007\n",
      "Epoch 71: saving model to training_1/\n",
      "21/21 [==============================] - 0s 11ms/step - loss: 3.1274 - accuracy: 0.1960 - val_loss: 3.2943 - val_accuracy: 0.1509 - lr: 1.5700e-06\n",
      "Epoch 72/100\n",
      "21/21 [==============================] - ETA: 0s - loss: 3.1169 - accuracy: 0.2000\n",
      "Epoch 72: saving model to training_1/\n",
      "21/21 [==============================] - 0s 12ms/step - loss: 3.1169 - accuracy: 0.2000 - val_loss: 3.2943 - val_accuracy: 0.1509 - lr: 1.4206e-06\n",
      "Epoch 73/100\n",
      "20/21 [===========================>..] - ETA: 0s - loss: 3.1125 - accuracy: 0.2042\n",
      "Epoch 73: saving model to training_1/\n",
      "21/21 [==============================] - 0s 12ms/step - loss: 3.1209 - accuracy: 0.2015 - val_loss: 3.2943 - val_accuracy: 0.1509 - lr: 1.2854e-06\n",
      "Epoch 74/100\n",
      "20/21 [===========================>..] - ETA: 0s - loss: 3.1112 - accuracy: 0.2052\n",
      "Epoch 74: saving model to training_1/\n",
      "21/21 [==============================] - 0s 12ms/step - loss: 3.1170 - accuracy: 0.2035 - val_loss: 3.2943 - val_accuracy: 0.1509 - lr: 1.1631e-06\n",
      "Epoch 75/100\n",
      "20/21 [===========================>..] - ETA: 0s - loss: 3.0918 - accuracy: 0.2271\n",
      "Epoch 75: saving model to training_1/\n",
      "21/21 [==============================] - 0s 12ms/step - loss: 3.0909 - accuracy: 0.2255 - val_loss: 3.2942 - val_accuracy: 0.1509 - lr: 1.0524e-06\n",
      "Epoch 76/100\n",
      "19/21 [==========================>...] - ETA: 0s - loss: 3.0974 - accuracy: 0.2061\n",
      "Epoch 76: saving model to training_1/\n",
      "21/21 [==============================] - 0s 13ms/step - loss: 3.0999 - accuracy: 0.2025 - val_loss: 3.2942 - val_accuracy: 0.1509 - lr: 9.5226e-07\n",
      "Epoch 77/100\n",
      "19/21 [==========================>...] - ETA: 0s - loss: 3.1095 - accuracy: 0.2067\n",
      "Epoch 77: saving model to training_1/\n",
      "21/21 [==============================] - 0s 12ms/step - loss: 3.1175 - accuracy: 0.2030 - val_loss: 3.2942 - val_accuracy: 0.1509 - lr: 8.6164e-07\n",
      "Epoch 78/100\n",
      "19/21 [==========================>...] - ETA: 0s - loss: 3.0796 - accuracy: 0.2166\n",
      "Epoch 78: saving model to training_1/\n",
      "21/21 [==============================] - 0s 12ms/step - loss: 3.0854 - accuracy: 0.2155 - val_loss: 3.2942 - val_accuracy: 0.1509 - lr: 7.7964e-07\n",
      "Epoch 79/100\n",
      "21/21 [==============================] - ETA: 0s - loss: 3.1137 - accuracy: 0.2030\n",
      "Epoch 79: saving model to training_1/\n",
      "21/21 [==============================] - 0s 12ms/step - loss: 3.1137 - accuracy: 0.2030 - val_loss: 3.2942 - val_accuracy: 0.1509 - lr: 7.0545e-07\n",
      "Epoch 80/100\n",
      "21/21 [==============================] - ETA: 0s - loss: 3.1350 - accuracy: 0.1995\n",
      "Epoch 80: saving model to training_1/\n",
      "21/21 [==============================] - 0s 12ms/step - loss: 3.1350 - accuracy: 0.1995 - val_loss: 3.2941 - val_accuracy: 0.1509 - lr: 6.3832e-07\n",
      "Epoch 81/100\n",
      "19/21 [==========================>...] - ETA: 0s - loss: 3.1123 - accuracy: 0.1908\n",
      "Epoch 81: saving model to training_1/\n",
      "21/21 [==============================] - 0s 13ms/step - loss: 3.1191 - accuracy: 0.1910 - val_loss: 3.2941 - val_accuracy: 0.1509 - lr: 5.7757e-07\n",
      "Epoch 82/100\n",
      "18/21 [========================>.....] - ETA: 0s - loss: 3.1013 - accuracy: 0.1973\n",
      "Epoch 82: saving model to training_1/\n",
      "21/21 [==============================] - 0s 13ms/step - loss: 3.1018 - accuracy: 0.1985 - val_loss: 3.2941 - val_accuracy: 0.1509 - lr: 5.2261e-07\n",
      "Epoch 83/100\n",
      "19/21 [==========================>...] - ETA: 0s - loss: 3.1040 - accuracy: 0.2209\n",
      "Epoch 83: saving model to training_1/\n",
      "21/21 [==============================] - 0s 12ms/step - loss: 3.1045 - accuracy: 0.2200 - val_loss: 3.2941 - val_accuracy: 0.1509 - lr: 4.7288e-07\n",
      "Epoch 84/100\n",
      "18/21 [========================>.....] - ETA: 0s - loss: 3.0982 - accuracy: 0.2060\n",
      "Epoch 84: saving model to training_1/\n",
      "21/21 [==============================] - 0s 13ms/step - loss: 3.0994 - accuracy: 0.2065 - val_loss: 3.2941 - val_accuracy: 0.1509 - lr: 4.2788e-07\n",
      "Epoch 85/100\n",
      "20/21 [===========================>..] - ETA: 0s - loss: 3.1307 - accuracy: 0.1953\n",
      "Epoch 85: saving model to training_1/\n",
      "21/21 [==============================] - 0s 12ms/step - loss: 3.1258 - accuracy: 0.1970 - val_loss: 3.2941 - val_accuracy: 0.1509 - lr: 3.8716e-07\n",
      "Epoch 86/100\n",
      "19/21 [==========================>...] - ETA: 0s - loss: 3.1121 - accuracy: 0.2029\n",
      "Epoch 86: saving model to training_1/\n",
      "21/21 [==============================] - 0s 12ms/step - loss: 3.1104 - accuracy: 0.2045 - val_loss: 3.2941 - val_accuracy: 0.1509 - lr: 3.5032e-07\n",
      "Epoch 87/100\n",
      "19/21 [==========================>...] - ETA: 0s - loss: 3.1000 - accuracy: 0.2122\n",
      "Epoch 87: saving model to training_1/\n",
      "21/21 [==============================] - 0s 12ms/step - loss: 3.1000 - accuracy: 0.2125 - val_loss: 3.2941 - val_accuracy: 0.1509 - lr: 3.1698e-07\n",
      "Epoch 88/100\n"
     ]
    },
    {
     "name": "stdout",
     "output_type": "stream",
     "text": [
      "19/21 [==========================>...] - ETA: 0s - loss: 3.1347 - accuracy: 0.2007\n",
      "Epoch 88: saving model to training_1/\n",
      "21/21 [==============================] - 0s 13ms/step - loss: 3.1202 - accuracy: 0.2010 - val_loss: 3.2941 - val_accuracy: 0.1509 - lr: 2.8681e-07\n",
      "Epoch 89/100\n",
      "15/21 [====================>.........] - ETA: 0s - loss: 3.0971 - accuracy: 0.2035\n",
      "Epoch 89: saving model to training_1/\n",
      "21/21 [==============================] - 0s 12ms/step - loss: 3.0979 - accuracy: 0.1975 - val_loss: 3.2941 - val_accuracy: 0.1509 - lr: 2.5952e-07\n",
      "Epoch 90/100\n",
      "19/21 [==========================>...] - ETA: 0s - loss: 3.1093 - accuracy: 0.1946\n",
      "Epoch 90: saving model to training_1/\n",
      "21/21 [==============================] - 0s 12ms/step - loss: 3.1195 - accuracy: 0.1900 - val_loss: 3.2941 - val_accuracy: 0.1509 - lr: 2.3482e-07\n",
      "Epoch 91/100\n",
      "21/21 [==============================] - ETA: 0s - loss: 3.1079 - accuracy: 0.2005\n",
      "Epoch 91: saving model to training_1/\n",
      "21/21 [==============================] - 0s 12ms/step - loss: 3.1079 - accuracy: 0.2005 - val_loss: 3.2941 - val_accuracy: 0.1509 - lr: 2.1248e-07\n",
      "Epoch 92/100\n",
      "19/21 [==========================>...] - ETA: 0s - loss: 3.0837 - accuracy: 0.2094\n",
      "Epoch 92: saving model to training_1/\n",
      "21/21 [==============================] - 0s 13ms/step - loss: 3.0955 - accuracy: 0.2085 - val_loss: 3.2941 - val_accuracy: 0.1509 - lr: 1.9226e-07\n",
      "Epoch 93/100\n",
      "21/21 [==============================] - ETA: 0s - loss: 3.1257 - accuracy: 0.2075\n",
      "Epoch 93: saving model to training_1/\n",
      "21/21 [==============================] - 0s 12ms/step - loss: 3.1257 - accuracy: 0.2075 - val_loss: 3.2941 - val_accuracy: 0.1509 - lr: 1.7396e-07\n",
      "Epoch 94/100\n",
      "20/21 [===========================>..] - ETA: 0s - loss: 3.1001 - accuracy: 0.2115\n",
      "Epoch 94: saving model to training_1/\n",
      "21/21 [==============================] - 0s 12ms/step - loss: 3.1032 - accuracy: 0.2120 - val_loss: 3.2941 - val_accuracy: 0.1509 - lr: 1.5741e-07\n",
      "Epoch 95/100\n",
      "21/21 [==============================] - ETA: 0s - loss: 3.1157 - accuracy: 0.2045\n",
      "Epoch 95: saving model to training_1/\n",
      "21/21 [==============================] - 0s 12ms/step - loss: 3.1157 - accuracy: 0.2045 - val_loss: 3.2941 - val_accuracy: 0.1509 - lr: 1.4243e-07\n",
      "Epoch 96/100\n",
      "21/21 [==============================] - ETA: 0s - loss: 3.1289 - accuracy: 0.2025\n",
      "Epoch 96: saving model to training_1/\n",
      "21/21 [==============================] - 0s 12ms/step - loss: 3.1289 - accuracy: 0.2025 - val_loss: 3.2941 - val_accuracy: 0.1509 - lr: 1.2887e-07\n",
      "Epoch 97/100\n",
      "19/21 [==========================>...] - ETA: 0s - loss: 3.0879 - accuracy: 0.2001\n",
      "Epoch 97: saving model to training_1/\n",
      "21/21 [==============================] - 0s 13ms/step - loss: 3.0918 - accuracy: 0.1985 - val_loss: 3.2941 - val_accuracy: 0.1509 - lr: 1.1661e-07\n",
      "Epoch 98/100\n",
      "19/21 [==========================>...] - ETA: 0s - loss: 3.1023 - accuracy: 0.2089\n",
      "Epoch 98: saving model to training_1/\n",
      "21/21 [==============================] - 0s 13ms/step - loss: 3.1097 - accuracy: 0.2100 - val_loss: 3.2941 - val_accuracy: 0.1509 - lr: 1.0551e-07\n",
      "Epoch 99/100\n",
      "15/21 [====================>.........] - ETA: 0s - loss: 3.0951 - accuracy: 0.2104\n",
      "Epoch 99: saving model to training_1/\n",
      "21/21 [==============================] - 0s 11ms/step - loss: 3.1018 - accuracy: 0.2100 - val_loss: 3.2941 - val_accuracy: 0.1509 - lr: 9.5472e-08\n",
      "Epoch 100/100\n",
      "20/21 [===========================>..] - ETA: 0s - loss: 3.1108 - accuracy: 0.2099\n",
      "Epoch 100: saving model to training_1/\n",
      "21/21 [==============================] - 0s 12ms/step - loss: 3.1117 - accuracy: 0.2085 - val_loss: 3.2941 - val_accuracy: 0.1509 - lr: 8.6387e-08\n"
     ]
    }
   ],
   "source": [
    "entity, project ='tiny-ml', 'wake_word_detection'\n",
    "sweep_id = create_sweep(**{'project':project,'entity':entity})\n",
    "wandb.agent(sweep_id, function=pre_train,count=1 )"
   ]
  },
  {
   "cell_type": "markdown",
   "id": "ec365219",
   "metadata": {
    "slideshow": {
     "slide_type": "slide"
    }
   },
   "source": [
    "### Evaluate our Pre-trained Model"
   ]
  },
  {
   "cell_type": "code",
   "execution_count": 93,
   "id": "638700bf",
   "metadata": {
    "scrolled": true,
    "slideshow": {
     "slide_type": "fragment"
    }
   },
   "outputs": [],
   "source": [
    "with np.load('processed/test.npz',allow_pickle=True) as data:\n",
    "    test_x = data['x_data'].astype(np.float32)\n",
    "    test_y = data['y_data'].astype(np.uint8)\n",
    "test_dataset = tf.data.Dataset.from_tensor_slices((tf.cast(test_x,tf.float32),test_y))\n",
    "test_ds = test_dataset.cache().batch(32).prefetch(tf.data.AUTOTUNE)\n",
    "x,y = next(iter(test_dataset.take(1)))\n"
   ]
  },
  {
   "cell_type": "code",
   "execution_count": 94,
   "id": "68427d6b",
   "metadata": {},
   "outputs": [],
   "source": [
    "input_shape = tf.expand_dims(x, axis=-1).shape\n",
    "norm_layer = tf.keras.layers.experimental.preprocessing.Normalization()\n",
    "norm_layer.adapt(test_dataset.map(lambda x, y: tf.reshape(x, input_shape)))\n",
    "baseline_model = tf.keras.models.Sequential([\n",
    "  tf.keras.layers.Input(shape=input_shape),\n",
    "  tf.keras.layers.experimental.preprocessing.Resizing(32, 32, interpolation=\"nearest\"), \n",
    "  norm_layer,\n",
    "  tf.keras.layers.Conv2D(8, kernel_size=(8,8), strides=(2, 2), activation=\"relu\"),\n",
    "  tf.keras.layers.MaxPool2D(pool_size=(2,2)),\n",
    "  tf.keras.layers.Flatten(),\n",
    "  tf.keras.layers.Dropout(0.25),\n",
    "  tf.keras.layers.Dense(50, activation='softmax')\n",
    "])\n",
    "METRICS = [\"accuracy\",]"
   ]
  },
  {
   "cell_type": "code",
   "execution_count": 95,
   "id": "8e17a579",
   "metadata": {
    "slideshow": {
     "slide_type": "slide"
    }
   },
   "outputs": [
    {
     "name": "stdout",
     "output_type": "stream",
     "text": [
      "36/36 - 0s - loss: 4.0361 - accuracy: 0.0209 - 420ms/epoch - 12ms/step\n"
     ]
    },
    {
     "data": {
      "text/plain": [
       "[4.036131858825684, 0.02088772878050804]"
      ]
     },
     "execution_count": 95,
     "metadata": {},
     "output_type": "execute_result"
    }
   ],
   "source": [
    "baseline_model.compile(\n",
    "    optimizer=tf.keras.optimizers.Adam(learning_rate=0.003),\n",
    "    loss=tf.keras.losses.SparseCategoricalCrossentropy(from_logits=False),\n",
    "    metrics=METRICS,\n",
    ")\n",
    "baseline_model.evaluate(test_ds, verbose=2)"
   ]
  },
  {
   "cell_type": "markdown",
   "id": "6ed189bc",
   "metadata": {
    "slideshow": {
     "slide_type": "slide"
    }
   },
   "source": [
    "### Dowload model artifact/ our registered model  🛰️📡 "
   ]
  },
  {
   "cell_type": "code",
   "execution_count": 97,
   "id": "c0444ac4",
   "metadata": {
    "scrolled": true,
    "slideshow": {
     "slide_type": "fragment"
    }
   },
   "outputs": [
    {
     "name": "stdout",
     "output_type": "stream",
     "text": [
      "fb60627ca17c932d33d95875ef1c3b14 ['latest', 'epoch_50']\n"
     ]
    }
   ],
   "source": [
    "api = wandb.Api()\n",
    "id_ = 'ex78039g'\n",
    "artifact = api.artifact(f'tiny-ml/wake_word_detection/run_{id_}_model:latest', type='model')\n",
    "print(artifact.digest,artifact.aliases)\n",
    "file = artifact.download()  "
   ]
  },
  {
   "cell_type": "markdown",
   "id": "7d4217e6",
   "metadata": {
    "slideshow": {
     "slide_type": "slide"
    }
   },
   "source": [
    "### Load our pre trained tiny model from wandb artifact 🏺🏺🏺"
   ]
  },
  {
   "cell_type": "code",
   "execution_count": 98,
   "id": "28eada02",
   "metadata": {
    "scrolled": false,
    "slideshow": {
     "slide_type": "fragment"
    }
   },
   "outputs": [
    {
     "name": "stdout",
     "output_type": "stream",
     "text": [
      "36/36 - 0s - loss: 2.4874 - accuracy: 0.3211 - 83ms/epoch - 2ms/step\n"
     ]
    },
    {
     "data": {
      "text/plain": [
       "[2.487403392791748, 0.3211488127708435]"
      ]
     },
     "execution_count": 98,
     "metadata": {},
     "output_type": "execute_result"
    }
   ],
   "source": [
    "baseline_model.load_weights(f'{file}/cp.ckpt')\n",
    "baseline_model.evaluate(test_ds, verbose=2)"
   ]
  },
  {
   "cell_type": "markdown",
   "id": "8b5f0964",
   "metadata": {
    "slideshow": {
     "slide_type": "slide"
    }
   },
   "source": [
    "### Create our wake work training dataset, this time its a lot smaller."
   ]
  },
  {
   "cell_type": "code",
   "execution_count": 32,
   "id": "4a280760",
   "metadata": {
    "scrolled": true,
    "slideshow": {
     "slide_type": "fragment"
    }
   },
   "outputs": [
    {
     "name": "stderr",
     "output_type": "stream",
     "text": [
      "  0%|                                                                                                                   | 0/2 [00:00<?, ?it/s]\n",
      "100%|███████████████████████████████████████████████████████████████████████████████████████████████████████| 90/90 [00:00<00:00, 2659.41it/s]\u001b[A\n",
      "\n",
      "  0%|                                                                                                                 | 0/349 [00:00<?, ?it/s]\u001b[A\n",
      "100%|█████████████████████████████████████████████████████████████████████████████████████████████████████| 349/349 [00:00<00:00, 2360.83it/s]\u001b[A\n",
      "100%|███████████████████████████████████████████████████████████████████████████████████████████████████████████| 2/2 [00:00<00:00, 10.52it/s]\n",
      "100%|██████████████████████████████████████████████████████████████████████████████████████████████████| 410/410 [00:00<00:00, 2641573.95it/s]\n",
      "100%|██████████████████████████████████████████████████████████████████████████████████████████████████████| 500/500 [00:01<00:00, 449.15it/s]\n",
      "100%|██████████████████████████████████████████████████████████████████████████████████████████████████| 152/152 [00:00<00:00, 2076658.66it/s]\n",
      "100%|██████████████████████████████████████████████████████████████████████████████████████████████████████| 500/500 [00:01<00:00, 385.06it/s]\n"
     ]
    }
   ],
   "source": [
    "sample_rate = 16000\n",
    "get_arm_spectrogram = Arm_spect().get_arm_spectrogram\n",
    "path = Path('./data/') \n",
    "paths = {pth.name:list(map(str,filter(lambda x:x.name != '.gitkeep',pth.iterdir()))) \n",
    "         for pth in path.iterdir() if pth.name in ['background','yes']}\n",
    "paths = {k:np.stack(list(filter(lambda x:len(x)==16384,map(read_wav,tqdm(v))))) \n",
    "         for (k,v) in tqdm(paths.items())}\n",
    "for k,v in paths.items():\n",
    "    filler_x = [augmenter(x,sample_rate) \n",
    "                for x in v[np.random.choice(v.shape[0], 500-len(v), replace=True)]]\n",
    "    filler_x = np.stack(list(map(lambda x:x[:16384], tqdm(filler_x))))\n",
    "    paths[k]=np.array(list(map(get_arm_spectrogram,tqdm(np.vstack([v,filler_x]))))).astype(np.float32)"
   ]
  },
  {
   "cell_type": "code",
   "execution_count": 99,
   "id": "ee8cdee4",
   "metadata": {
    "scrolled": true,
    "slideshow": {
     "slide_type": "subslide"
    }
   },
   "outputs": [],
   "source": [
    "y = np.concatenate([np.zeros((1,500)).astype(np.uint16)[0], np.ones((1,500)).astype(np.uint16)[0]])\n",
    "x = np.vstack(list(paths.values()))"
   ]
  },
  {
   "cell_type": "code",
   "execution_count": null,
   "id": "8936d7df",
   "metadata": {},
   "outputs": [],
   "source": []
  },
  {
   "cell_type": "code",
   "execution_count": 102,
   "id": "80441b99",
   "metadata": {
    "scrolled": false,
    "slideshow": {
     "slide_type": "subslide"
    }
   },
   "outputs": [],
   "source": [
    "train_wake_data = tf.data.Dataset.from_tensor_slices((tf.cast(x,tf.float32), y))\n",
    "train_wake_loader = train_wake_data.cache().shuffle(2000, seed=42).batch(32).prefetch(tf.data.AUTOTUNE)"
   ]
  },
  {
   "cell_type": "code",
   "execution_count": 103,
   "id": "3ea53ccf",
   "metadata": {
    "scrolled": true,
    "slideshow": {
     "slide_type": "subslide"
    }
   },
   "outputs": [],
   "source": [
    "x,y = next(iter(train_wake_data.take(1)))\n",
    "input_shape = tf.expand_dims(x, axis=-1).shape\n",
    "norm_layer = tf.keras.layers.experimental.preprocessing.Normalization()\n",
    "norm_layer.adapt(train_wake_data.map(lambda x, y: tf.reshape(x, input_shape)))\n"
   ]
  },
  {
   "cell_type": "code",
   "execution_count": 104,
   "id": "539a8df6",
   "metadata": {
    "slideshow": {
     "slide_type": "subslide"
    }
   },
   "outputs": [
    {
     "name": "stdout",
     "output_type": "stream",
     "text": [
      "(249, 257, 1)\n"
     ]
    }
   ],
   "source": [
    "input_shape = tf.expand_dims(x, axis=-1).shape\n",
    "print(input_shape)"
   ]
  },
  {
   "cell_type": "code",
   "execution_count": 105,
   "id": "be5316e1",
   "metadata": {
    "slideshow": {
     "slide_type": "slide"
    }
   },
   "outputs": [],
   "source": [
    "base_model = tf.keras.models.Sequential([\n",
    "    tf.keras.layers.Input(shape=input_shape),\n",
    "    tf.keras.layers.experimental.preprocessing.Resizing(32, 32, interpolation=\"nearest\"), \n",
    "    norm_layer,\n",
    "    tf.keras.layers.Conv2D(8, kernel_size=(8,8), strides=(2, 2), activation=\"relu\"),\n",
    "    tf.keras.layers.MaxPool2D(pool_size=(2,2)),\n",
    "    tf.keras.layers.Flatten(),\n",
    "    tf.keras.layers.Dropout(0.25),\n",
    "    tf.keras.layers.Dense(50, activation='softmax')\n",
    "    ])\n"
   ]
  },
  {
   "cell_type": "code",
   "execution_count": 107,
   "id": "bae17595",
   "metadata": {
    "slideshow": {
     "slide_type": "slide"
    }
   },
   "outputs": [],
   "source": [
    "model_body = tf.keras.Model(inputs=base_model.input, outputs=base_model.layers[-2].output)\n",
    "classifier_head = tf.keras.layers.Dense(1, activation=\"sigmoid\")(model_body.output)\n",
    "wake_word_model = tf.keras.Model(model_body.input, classifier_head)\n",
    "\n",
    "wake_word_model.compile(\n",
    "    optimizer=tf.keras.optimizers.Adam(learning_rate=0.003),\n",
    "    loss=tf.keras.losses.BinaryCrossentropy(),\n",
    "    metrics=METRICS,\n",
    ")\n"
   ]
  },
  {
   "cell_type": "code",
   "execution_count": 108,
   "id": "ef3ffd31",
   "metadata": {
    "slideshow": {
     "slide_type": "slide"
    }
   },
   "outputs": [],
   "source": [
    "def scheduler(epoch, lr):\n",
    "    ''' a function to increase lr at start of trining\n",
    "    '''\n",
    "    if epoch < 10:\n",
    "        return lr\n",
    "    else:\n",
    "        # add somthing like np.linespace([0,-0.1])\n",
    "        return lr * tf.math.exp(-0.1)"
   ]
  },
  {
   "cell_type": "code",
   "execution_count": 109,
   "id": "fe4bb04a",
   "metadata": {
    "slideshow": {
     "slide_type": "slide"
    }
   },
   "outputs": [],
   "source": [
    "cp_callback = tf.keras.callbacks.ModelCheckpoint(\n",
    "    filepath=checkpoint_path,\n",
    "    save_weights_only=True,\n",
    "    verbose=1\n",
    ")"
   ]
  },
  {
   "cell_type": "code",
   "execution_count": 110,
   "id": "f3bdaf87",
   "metadata": {
    "slideshow": {
     "slide_type": "slide"
    }
   },
   "outputs": [],
   "source": [
    "run = wandb.init(entity='tiny-ml',project = 'wake_word_detection', group='training')\n",
    "callbacks = [\n",
    "    tf.keras.callbacks.EarlyStopping(verbose=0, patience=25), \n",
    "    tf.keras.callbacks.LearningRateScheduler(scheduler),\n",
    "    cp_callback,WandbMetricsLogger(),WandbModelCheckpoint(checkpoint_path)\n",
    "]"
   ]
  },
  {
   "cell_type": "code",
   "execution_count": 111,
   "id": "82d565f0",
   "metadata": {
    "slideshow": {
     "slide_type": "slide"
    }
   },
   "outputs": [],
   "source": [
    "checkpoint_path = \"training_2/\"\n",
    "checkpoint_dir = os.path.dirname(checkpoint_path)\n",
    "# Create a callback that saves the model's weights\n",
    "cp_callback = tf.keras.callbacks.ModelCheckpoint(\n",
    "    filepath=checkpoint_path,\n",
    "    save_weights_only=True,\n",
    "    verbose=1\n",
    ")"
   ]
  },
  {
   "cell_type": "code",
   "execution_count": 112,
   "id": "f0f883ae",
   "metadata": {
    "slideshow": {
     "slide_type": "slide"
    }
   },
   "outputs": [
    {
     "name": "stdout",
     "output_type": "stream",
     "text": [
      "Model: \"model_7\"\n",
      "_________________________________________________________________\n",
      " Layer (type)                Output Shape              Param #   \n",
      "=================================================================\n",
      " input_6 (InputLayer)        [(None, 249, 257, 1)]     0         \n",
      "                                                                 \n",
      " resizing_5 (Resizing)       (None, 32, 32, 1)         0         \n",
      "                                                                 \n",
      " normalization_5 (Normalizat  (None, 32, 32, 1)        3         \n",
      " ion)                                                            \n",
      "                                                                 \n",
      " conv2d_5 (Conv2D)           (None, 13, 13, 8)         520       \n",
      "                                                                 \n",
      " max_pooling2d_5 (MaxPooling  (None, 6, 6, 8)          0         \n",
      " 2D)                                                             \n",
      "                                                                 \n",
      " flatten_5 (Flatten)         (None, 288)               0         \n",
      "                                                                 \n",
      " dropout_5 (Dropout)         (None, 288)               0         \n",
      "                                                                 \n",
      " dense_9 (Dense)             (None, 1)                 289       \n",
      "                                                                 \n",
      "=================================================================\n",
      "Total params: 812\n",
      "Trainable params: 809\n",
      "Non-trainable params: 3\n",
      "_________________________________________________________________\n"
     ]
    }
   ],
   "source": [
    "wake_word_model.summary()"
   ]
  },
  {
   "cell_type": "markdown",
   "id": "0d2e8be4",
   "metadata": {
    "slideshow": {
     "slide_type": "slide"
    }
   },
   "source": [
    "### Freeeeez Layers ❄️❄️❄️"
   ]
  },
  {
   "cell_type": "code",
   "execution_count": 113,
   "id": "8c48223b",
   "metadata": {
    "slideshow": {
     "slide_type": "fragment"
    }
   },
   "outputs": [],
   "source": [
    "for layer in wake_word_model.layers:\n",
    "    layer.trainable = False\n",
    "wake_word_model.layers[-1].trainable = True"
   ]
  },
  {
   "cell_type": "markdown",
   "id": "2365564c",
   "metadata": {
    "slideshow": {
     "slide_type": "slide"
    }
   },
   "source": [
    "## Compile model 🦿🤖🦾"
   ]
  },
  {
   "cell_type": "code",
   "execution_count": 114,
   "id": "d0615265",
   "metadata": {
    "slideshow": {
     "slide_type": "fragment"
    }
   },
   "outputs": [],
   "source": [
    "wake_word_model.compile(\n",
    "    optimizer=tf.keras.optimizers.Adam(learning_rate=0.003),\n",
    "    loss=tf.keras.losses.BinaryCrossentropy(),\n",
    "    metrics=METRICS,\n",
    ")"
   ]
  },
  {
   "cell_type": "markdown",
   "id": "25049700",
   "metadata": {
    "slideshow": {
     "slide_type": "slide"
    }
   },
   "source": [
    "### Train on Yes vs Background "
   ]
  },
  {
   "cell_type": "code",
   "execution_count": 115,
   "id": "f8697694",
   "metadata": {
    "slideshow": {
     "slide_type": "fragment"
    }
   },
   "outputs": [
    {
     "name": "stdout",
     "output_type": "stream",
     "text": [
      "Epoch 1/10\n",
      "26/32 [=======================>......] - ETA: 0s - loss: 0.6751 - accuracy: 0.6238WARNING:tensorflow:Early stopping conditioned on metric `val_loss` which is not available. Available metrics are: loss,accuracy\n"
     ]
    },
    {
     "name": "stderr",
     "output_type": "stream",
     "text": [
      "WARNING:tensorflow:Early stopping conditioned on metric `val_loss` which is not available. Available metrics are: loss,accuracy\n"
     ]
    },
    {
     "name": "stdout",
     "output_type": "stream",
     "text": [
      "\n",
      "Epoch 1: saving model to training_1/\n"
     ]
    },
    {
     "name": "stderr",
     "output_type": "stream",
     "text": [
      "WARNING:absl:Found untraced functions such as _jit_compiled_convolution_op, _update_step_xla while saving (showing 2 of 2). These functions will not be directly callable after loading.\n"
     ]
    },
    {
     "name": "stdout",
     "output_type": "stream",
     "text": [
      "WARNING:tensorflow:Detecting that an object or model or tf.train.Checkpoint is being deleted with unrestored values. See the following logs for the specific values in question. To silence these warnings, use `status.expect_partial()`. See https://www.tensorflow.org/api_docs/python/tf/train/Checkpoint#restorefor details about the status object returned by the restore function.\n"
     ]
    },
    {
     "name": "stderr",
     "output_type": "stream",
     "text": [
      "WARNING:tensorflow:Detecting that an object or model or tf.train.Checkpoint is being deleted with unrestored values. See the following logs for the specific values in question. To silence these warnings, use `status.expect_partial()`. See https://www.tensorflow.org/api_docs/python/tf/train/Checkpoint#restorefor details about the status object returned by the restore function.\n"
     ]
    },
    {
     "name": "stdout",
     "output_type": "stream",
     "text": [
      "WARNING:tensorflow:Value in checkpoint could not be found in the restored object: (root).optimizer._variables.1\n"
     ]
    },
    {
     "name": "stderr",
     "output_type": "stream",
     "text": [
      "WARNING:tensorflow:Value in checkpoint could not be found in the restored object: (root).optimizer._variables.1\n"
     ]
    },
    {
     "name": "stdout",
     "output_type": "stream",
     "text": [
      "WARNING:tensorflow:Value in checkpoint could not be found in the restored object: (root).optimizer._variables.2\n"
     ]
    },
    {
     "name": "stderr",
     "output_type": "stream",
     "text": [
      "WARNING:tensorflow:Value in checkpoint could not be found in the restored object: (root).optimizer._variables.2\n"
     ]
    },
    {
     "name": "stdout",
     "output_type": "stream",
     "text": [
      "WARNING:tensorflow:Value in checkpoint could not be found in the restored object: (root).optimizer._variables.3\n"
     ]
    },
    {
     "name": "stderr",
     "output_type": "stream",
     "text": [
      "WARNING:tensorflow:Value in checkpoint could not be found in the restored object: (root).optimizer._variables.3\n"
     ]
    },
    {
     "name": "stdout",
     "output_type": "stream",
     "text": [
      "WARNING:tensorflow:Value in checkpoint could not be found in the restored object: (root).optimizer._variables.4\n"
     ]
    },
    {
     "name": "stderr",
     "output_type": "stream",
     "text": [
      "WARNING:tensorflow:Value in checkpoint could not be found in the restored object: (root).optimizer._variables.4\n"
     ]
    },
    {
     "name": "stdout",
     "output_type": "stream",
     "text": [
      "WARNING:tensorflow:Value in checkpoint could not be found in the restored object: (root).optimizer._variables.5\n"
     ]
    },
    {
     "name": "stderr",
     "output_type": "stream",
     "text": [
      "WARNING:tensorflow:Value in checkpoint could not be found in the restored object: (root).optimizer._variables.5\n"
     ]
    },
    {
     "name": "stdout",
     "output_type": "stream",
     "text": [
      "WARNING:tensorflow:Value in checkpoint could not be found in the restored object: (root).optimizer._variables.6\n"
     ]
    },
    {
     "name": "stderr",
     "output_type": "stream",
     "text": [
      "WARNING:tensorflow:Value in checkpoint could not be found in the restored object: (root).optimizer._variables.6\n"
     ]
    },
    {
     "name": "stdout",
     "output_type": "stream",
     "text": [
      "WARNING:tensorflow:Value in checkpoint could not be found in the restored object: (root).optimizer._variables.7\n"
     ]
    },
    {
     "name": "stderr",
     "output_type": "stream",
     "text": [
      "WARNING:tensorflow:Value in checkpoint could not be found in the restored object: (root).optimizer._variables.7\n"
     ]
    },
    {
     "name": "stdout",
     "output_type": "stream",
     "text": [
      "WARNING:tensorflow:Value in checkpoint could not be found in the restored object: (root).optimizer._variables.8\n"
     ]
    },
    {
     "name": "stderr",
     "output_type": "stream",
     "text": [
      "WARNING:tensorflow:Value in checkpoint could not be found in the restored object: (root).optimizer._variables.8\n"
     ]
    },
    {
     "name": "stdout",
     "output_type": "stream",
     "text": [
      "INFO:tensorflow:Assets written to: training_1/assets\n"
     ]
    },
    {
     "name": "stderr",
     "output_type": "stream",
     "text": [
      "INFO:tensorflow:Assets written to: training_1/assets\n"
     ]
    },
    {
     "name": "stdout",
     "output_type": "stream",
     "text": [
      "32/32 [==============================] - 1s 38ms/step - loss: 0.6714 - accuracy: 0.6320 - lr: 0.0030\n",
      "Epoch 2/10\n",
      "23/32 [====================>.........] - ETA: 0s - loss: 0.6347 - accuracy: 0.6807WARNING:tensorflow:Early stopping conditioned on metric `val_loss` which is not available. Available metrics are: loss,accuracy\n"
     ]
    },
    {
     "name": "stderr",
     "output_type": "stream",
     "text": [
      "WARNING:tensorflow:Early stopping conditioned on metric `val_loss` which is not available. Available metrics are: loss,accuracy\n"
     ]
    },
    {
     "name": "stdout",
     "output_type": "stream",
     "text": [
      "\n",
      "Epoch 2: saving model to training_1/\n"
     ]
    },
    {
     "name": "stderr",
     "output_type": "stream",
     "text": [
      "WARNING:absl:Found untraced functions such as _jit_compiled_convolution_op, _update_step_xla while saving (showing 2 of 2). These functions will not be directly callable after loading.\n"
     ]
    },
    {
     "name": "stdout",
     "output_type": "stream",
     "text": [
      "INFO:tensorflow:Assets written to: training_1/assets\n"
     ]
    },
    {
     "name": "stderr",
     "output_type": "stream",
     "text": [
      "INFO:tensorflow:Assets written to: training_1/assets\n"
     ]
    },
    {
     "name": "stdout",
     "output_type": "stream",
     "text": [
      "32/32 [==============================] - 1s 28ms/step - loss: 0.6297 - accuracy: 0.6940 - lr: 0.0030\n",
      "Epoch 3/10\n",
      "21/32 [==================>...........] - ETA: 0s - loss: 0.5930 - accuracy: 0.7307WARNING:tensorflow:Early stopping conditioned on metric `val_loss` which is not available. Available metrics are: loss,accuracy\n"
     ]
    },
    {
     "name": "stderr",
     "output_type": "stream",
     "text": [
      "WARNING:tensorflow:Early stopping conditioned on metric `val_loss` which is not available. Available metrics are: loss,accuracy\n"
     ]
    },
    {
     "name": "stdout",
     "output_type": "stream",
     "text": [
      "\n",
      "Epoch 3: saving model to training_1/\n"
     ]
    },
    {
     "name": "stderr",
     "output_type": "stream",
     "text": [
      "WARNING:absl:Found untraced functions such as _jit_compiled_convolution_op, _update_step_xla while saving (showing 2 of 2). These functions will not be directly callable after loading.\n"
     ]
    },
    {
     "name": "stdout",
     "output_type": "stream",
     "text": [
      "INFO:tensorflow:Assets written to: training_1/assets\n"
     ]
    },
    {
     "name": "stderr",
     "output_type": "stream",
     "text": [
      "INFO:tensorflow:Assets written to: training_1/assets\n"
     ]
    },
    {
     "name": "stdout",
     "output_type": "stream",
     "text": [
      "32/32 [==============================] - 1s 37ms/step - loss: 0.5978 - accuracy: 0.7150 - lr: 0.0030\n",
      "Epoch 4/10\n",
      "25/32 [======================>.......] - ETA: 0s - loss: 0.5836 - accuracy: 0.7125WARNING:tensorflow:Early stopping conditioned on metric `val_loss` which is not available. Available metrics are: loss,accuracy\n"
     ]
    },
    {
     "name": "stderr",
     "output_type": "stream",
     "text": [
      "WARNING:tensorflow:Early stopping conditioned on metric `val_loss` which is not available. Available metrics are: loss,accuracy\n"
     ]
    },
    {
     "name": "stdout",
     "output_type": "stream",
     "text": [
      "\n",
      "Epoch 4: saving model to training_1/\n"
     ]
    },
    {
     "name": "stderr",
     "output_type": "stream",
     "text": [
      "WARNING:absl:Found untraced functions such as _jit_compiled_convolution_op, _update_step_xla while saving (showing 2 of 2). These functions will not be directly callable after loading.\n"
     ]
    },
    {
     "name": "stdout",
     "output_type": "stream",
     "text": [
      "INFO:tensorflow:Assets written to: training_1/assets\n"
     ]
    },
    {
     "name": "stderr",
     "output_type": "stream",
     "text": [
      "INFO:tensorflow:Assets written to: training_1/assets\n"
     ]
    },
    {
     "name": "stdout",
     "output_type": "stream",
     "text": [
      "32/32 [==============================] - 1s 29ms/step - loss: 0.5822 - accuracy: 0.7130 - lr: 0.0030\n",
      "Epoch 5/10\n",
      "24/32 [=====================>........] - ETA: 0s - loss: 0.5717 - accuracy: 0.7201WARNING:tensorflow:Early stopping conditioned on metric `val_loss` which is not available. Available metrics are: loss,accuracy\n"
     ]
    },
    {
     "name": "stderr",
     "output_type": "stream",
     "text": [
      "WARNING:tensorflow:Early stopping conditioned on metric `val_loss` which is not available. Available metrics are: loss,accuracy\n"
     ]
    },
    {
     "name": "stdout",
     "output_type": "stream",
     "text": [
      "\n",
      "Epoch 5: saving model to training_1/\n"
     ]
    },
    {
     "name": "stderr",
     "output_type": "stream",
     "text": [
      "WARNING:absl:Found untraced functions such as _jit_compiled_convolution_op, _update_step_xla while saving (showing 2 of 2). These functions will not be directly callable after loading.\n"
     ]
    },
    {
     "name": "stdout",
     "output_type": "stream",
     "text": [
      "INFO:tensorflow:Assets written to: training_1/assets\n"
     ]
    },
    {
     "name": "stderr",
     "output_type": "stream",
     "text": [
      "INFO:tensorflow:Assets written to: training_1/assets\n"
     ]
    },
    {
     "name": "stdout",
     "output_type": "stream",
     "text": [
      "32/32 [==============================] - 1s 38ms/step - loss: 0.5662 - accuracy: 0.7240 - lr: 0.0030\n",
      "Epoch 6/10\n",
      "22/32 [===================>..........] - ETA: 0s - loss: 0.5485 - accuracy: 0.7472WARNING:tensorflow:Early stopping conditioned on metric `val_loss` which is not available. Available metrics are: loss,accuracy\n"
     ]
    },
    {
     "name": "stderr",
     "output_type": "stream",
     "text": [
      "WARNING:tensorflow:Early stopping conditioned on metric `val_loss` which is not available. Available metrics are: loss,accuracy\n"
     ]
    },
    {
     "name": "stdout",
     "output_type": "stream",
     "text": [
      "\n",
      "Epoch 6: saving model to training_1/\n"
     ]
    },
    {
     "name": "stderr",
     "output_type": "stream",
     "text": [
      "WARNING:absl:Found untraced functions such as _jit_compiled_convolution_op, _update_step_xla while saving (showing 2 of 2). These functions will not be directly callable after loading.\n"
     ]
    },
    {
     "name": "stdout",
     "output_type": "stream",
     "text": [
      "INFO:tensorflow:Assets written to: training_1/assets\n"
     ]
    },
    {
     "name": "stderr",
     "output_type": "stream",
     "text": [
      "INFO:tensorflow:Assets written to: training_1/assets\n"
     ]
    },
    {
     "name": "stdout",
     "output_type": "stream",
     "text": [
      "32/32 [==============================] - 1s 28ms/step - loss: 0.5541 - accuracy: 0.7370 - lr: 0.0030\n",
      "Epoch 7/10\n",
      "23/32 [====================>.........] - ETA: 0s - loss: 0.5546 - accuracy: 0.7364WARNING:tensorflow:Early stopping conditioned on metric `val_loss` which is not available. Available metrics are: loss,accuracy\n"
     ]
    },
    {
     "name": "stderr",
     "output_type": "stream",
     "text": [
      "WARNING:tensorflow:Early stopping conditioned on metric `val_loss` which is not available. Available metrics are: loss,accuracy\n"
     ]
    },
    {
     "name": "stdout",
     "output_type": "stream",
     "text": [
      "\n",
      "Epoch 7: saving model to training_1/\n"
     ]
    },
    {
     "name": "stderr",
     "output_type": "stream",
     "text": [
      "WARNING:absl:Found untraced functions such as _jit_compiled_convolution_op, _update_step_xla while saving (showing 2 of 2). These functions will not be directly callable after loading.\n"
     ]
    },
    {
     "name": "stdout",
     "output_type": "stream",
     "text": [
      "INFO:tensorflow:Assets written to: training_1/assets\n"
     ]
    },
    {
     "name": "stderr",
     "output_type": "stream",
     "text": [
      "INFO:tensorflow:Assets written to: training_1/assets\n"
     ]
    },
    {
     "name": "stdout",
     "output_type": "stream",
     "text": [
      "32/32 [==============================] - 1s 34ms/step - loss: 0.5482 - accuracy: 0.7390 - lr: 0.0030\n",
      "Epoch 8/10\n",
      "22/32 [===================>..........] - ETA: 0s - loss: 0.5285 - accuracy: 0.7472WARNING:tensorflow:Early stopping conditioned on metric `val_loss` which is not available. Available metrics are: loss,accuracy\n"
     ]
    },
    {
     "name": "stderr",
     "output_type": "stream",
     "text": [
      "WARNING:tensorflow:Early stopping conditioned on metric `val_loss` which is not available. Available metrics are: loss,accuracy\n"
     ]
    },
    {
     "name": "stdout",
     "output_type": "stream",
     "text": [
      "\n",
      "Epoch 8: saving model to training_1/\n"
     ]
    },
    {
     "name": "stderr",
     "output_type": "stream",
     "text": [
      "WARNING:absl:Found untraced functions such as _jit_compiled_convolution_op, _update_step_xla while saving (showing 2 of 2). These functions will not be directly callable after loading.\n"
     ]
    },
    {
     "name": "stdout",
     "output_type": "stream",
     "text": [
      "INFO:tensorflow:Assets written to: training_1/assets\n"
     ]
    },
    {
     "name": "stderr",
     "output_type": "stream",
     "text": [
      "INFO:tensorflow:Assets written to: training_1/assets\n"
     ]
    },
    {
     "name": "stdout",
     "output_type": "stream",
     "text": [
      "32/32 [==============================] - 1s 31ms/step - loss: 0.5394 - accuracy: 0.7380 - lr: 0.0030\n",
      "Epoch 9/10\n",
      "25/32 [======================>.......] - ETA: 0s - loss: 0.5320 - accuracy: 0.7563WARNING:tensorflow:Early stopping conditioned on metric `val_loss` which is not available. Available metrics are: loss,accuracy\n"
     ]
    },
    {
     "name": "stderr",
     "output_type": "stream",
     "text": [
      "WARNING:tensorflow:Early stopping conditioned on metric `val_loss` which is not available. Available metrics are: loss,accuracy\n"
     ]
    },
    {
     "name": "stdout",
     "output_type": "stream",
     "text": [
      "\n",
      "Epoch 9: saving model to training_1/\n"
     ]
    },
    {
     "name": "stderr",
     "output_type": "stream",
     "text": [
      "WARNING:absl:Found untraced functions such as _jit_compiled_convolution_op, _update_step_xla while saving (showing 2 of 2). These functions will not be directly callable after loading.\n"
     ]
    },
    {
     "name": "stdout",
     "output_type": "stream",
     "text": [
      "INFO:tensorflow:Assets written to: training_1/assets\n"
     ]
    },
    {
     "name": "stderr",
     "output_type": "stream",
     "text": [
      "INFO:tensorflow:Assets written to: training_1/assets\n"
     ]
    },
    {
     "name": "stdout",
     "output_type": "stream",
     "text": [
      "32/32 [==============================] - 2s 52ms/step - loss: 0.5335 - accuracy: 0.7510 - lr: 0.0030\n",
      "Epoch 10/10\n",
      "23/32 [====================>.........] - ETA: 0s - loss: 0.5253 - accuracy: 0.7459WARNING:tensorflow:Early stopping conditioned on metric `val_loss` which is not available. Available metrics are: loss,accuracy\n"
     ]
    },
    {
     "name": "stderr",
     "output_type": "stream",
     "text": [
      "WARNING:tensorflow:Early stopping conditioned on metric `val_loss` which is not available. Available metrics are: loss,accuracy\n"
     ]
    },
    {
     "name": "stdout",
     "output_type": "stream",
     "text": [
      "\n",
      "Epoch 10: saving model to training_1/\n"
     ]
    },
    {
     "name": "stderr",
     "output_type": "stream",
     "text": [
      "WARNING:absl:Found untraced functions such as _jit_compiled_convolution_op, _update_step_xla while saving (showing 2 of 2). These functions will not be directly callable after loading.\n"
     ]
    },
    {
     "name": "stdout",
     "output_type": "stream",
     "text": [
      "INFO:tensorflow:Assets written to: training_1/assets\n"
     ]
    },
    {
     "name": "stderr",
     "output_type": "stream",
     "text": [
      "INFO:tensorflow:Assets written to: training_1/assets\n"
     ]
    },
    {
     "name": "stdout",
     "output_type": "stream",
     "text": [
      "\b\b\b\b\b\b\b\b\b\b\b\b\b\b\b\b\b\b\b\b\b\b\b\b\b\b\b\b\b\b\b\b\b\b\b\b\b\b\b\b\b\b\b\b\b\b\b\b\b\b\b\b\b\b\b\b\b\b\b\b\b\b\b\b\b\b\b\b\b\b\b\b\b\b\b\b\b\b\b\b\b\b\r",
      "32/32 [==============================] - 1s 30ms/step - loss: 0.5295 - accuracy: 0.7490 - lr: 0.0030\n"
     ]
    }
   ],
   "source": [
    "EPOCHS = 10\n",
    "history = wake_word_model.fit(\n",
    "    train_wake_loader, \n",
    "    epochs=EPOCHS,\n",
    "    callbacks=callbacks\n",
    ")\n",
    "run.finish()"
   ]
  },
  {
   "cell_type": "code",
   "execution_count": 117,
   "id": "94488b20",
   "metadata": {},
   "outputs": [
    {
     "data": {
      "text/html": [
       "<button onClick=\"this.nextSibling.style.display='block';this.style.display='none';\">Display W&B run</button><iframe src=\"https://wandb.ai/tiny-ml/wake_word_detection/runs/ller674o?jupyter=true\" style=\"border:none;width:100%;height:420px;display:none;\"></iframe>"
      ],
      "text/plain": [
       "<wandb.sdk.wandb_run.Run at 0x2d2b248e0>"
      ]
     },
     "execution_count": 117,
     "metadata": {},
     "output_type": "execute_result"
    }
   ],
   "source": [
    "run"
   ]
  },
  {
   "cell_type": "markdown",
   "id": "f8967d21",
   "metadata": {
    "slideshow": {
     "slide_type": "slide"
    }
   },
   "source": [
    "## Unfreeze layers 🥶"
   ]
  },
  {
   "cell_type": "code",
   "execution_count": 118,
   "id": "78f7893a",
   "metadata": {
    "slideshow": {
     "slide_type": "fragment"
    }
   },
   "outputs": [],
   "source": [
    "for layer in wake_word_model.layers:\n",
    "    layer.trainable = True"
   ]
  },
  {
   "cell_type": "code",
   "execution_count": 119,
   "id": "38208ba5",
   "metadata": {
    "slideshow": {
     "slide_type": "slide"
    }
   },
   "outputs": [
    {
     "name": "stdout",
     "output_type": "stream",
     "text": [
      "Model: \"model_7\"\n",
      "_________________________________________________________________\n",
      " Layer (type)                Output Shape              Param #   \n",
      "=================================================================\n",
      " input_6 (InputLayer)        [(None, 249, 257, 1)]     0         \n",
      "                                                                 \n",
      " resizing_5 (Resizing)       (None, 32, 32, 1)         0         \n",
      "                                                                 \n",
      " normalization_5 (Normalizat  (None, 32, 32, 1)        3         \n",
      " ion)                                                            \n",
      "                                                                 \n",
      " quant_conv2d_5 (QuantizeWra  (None, 13, 13, 8)        539       \n",
      " pperV2)                                                         \n",
      "                                                                 \n",
      " max_pooling2d_5 (MaxPooling  (None, 6, 6, 8)          0         \n",
      " 2D)                                                             \n",
      "                                                                 \n",
      " flatten_5 (Flatten)         (None, 288)               0         \n",
      "                                                                 \n",
      " quant_dropout_5 (QuantizeWr  (None, 288)              1         \n",
      " apperV2)                                                        \n",
      "                                                                 \n",
      " quant_dense_9 (QuantizeWrap  (None, 1)                294       \n",
      " perV2)                                                          \n",
      "                                                                 \n",
      "=================================================================\n",
      "Total params: 837\n",
      "Trainable params: 809\n",
      "Non-trainable params: 28\n",
      "_________________________________________________________________\n"
     ]
    }
   ],
   "source": [
    "import tensorflow_model_optimization as tfmot\n",
    "def apply_qat_to_dense_and_cnn(layer):\n",
    "  if isinstance(layer, (tf.keras.layers.Dense, tf.keras.layers.Conv2D)):\n",
    "    return tfmot.quantization.keras.quantize_annotate_layer(layer)\n",
    "  return layer\n",
    "annotated_model = tf.keras.models.clone_model(\n",
    "    wake_word_model,\n",
    "    clone_function=apply_qat_to_dense_and_cnn,\n",
    ")\n",
    "quant_aware_model = tfmot.quantization.keras.quantize_apply(annotated_model)\n",
    "quant_aware_model.summary()"
   ]
  },
  {
   "cell_type": "code",
   "execution_count": 121,
   "id": "51c5120e",
   "metadata": {
    "scrolled": true,
    "slideshow": {
     "slide_type": "slide"
    }
   },
   "outputs": [
    {
     "name": "stdout",
     "output_type": "stream",
     "text": [
      "Epoch 1/50\n",
      "32/32 [==============================] - 1s 3ms/step - loss: 0.3330 - accuracy: 0.8610\n",
      "Epoch 2/50\n",
      "32/32 [==============================] - 0s 3ms/step - loss: 0.3391 - accuracy: 0.8630\n",
      "Epoch 3/50\n",
      "32/32 [==============================] - 0s 3ms/step - loss: 0.3124 - accuracy: 0.8710\n",
      "Epoch 4/50\n",
      "32/32 [==============================] - 0s 3ms/step - loss: 0.3001 - accuracy: 0.8740\n",
      "Epoch 5/50\n",
      "32/32 [==============================] - 0s 3ms/step - loss: 0.3082 - accuracy: 0.8700\n",
      "Epoch 6/50\n",
      "32/32 [==============================] - 0s 4ms/step - loss: 0.3099 - accuracy: 0.8650\n",
      "Epoch 7/50\n",
      "32/32 [==============================] - 0s 3ms/step - loss: 0.2935 - accuracy: 0.8860\n",
      "Epoch 8/50\n",
      "32/32 [==============================] - 0s 3ms/step - loss: 0.2700 - accuracy: 0.8930\n",
      "Epoch 9/50\n",
      "32/32 [==============================] - 0s 3ms/step - loss: 0.2768 - accuracy: 0.8880\n",
      "Epoch 10/50\n",
      "32/32 [==============================] - 0s 3ms/step - loss: 0.2730 - accuracy: 0.8930\n",
      "Epoch 11/50\n",
      "32/32 [==============================] - 0s 3ms/step - loss: 0.2569 - accuracy: 0.9050\n",
      "Epoch 12/50\n",
      "32/32 [==============================] - 0s 3ms/step - loss: 0.2627 - accuracy: 0.9040\n",
      "Epoch 13/50\n",
      "32/32 [==============================] - 0s 3ms/step - loss: 0.2654 - accuracy: 0.8990\n",
      "Epoch 14/50\n",
      "32/32 [==============================] - 0s 3ms/step - loss: 0.2640 - accuracy: 0.9010\n",
      "Epoch 15/50\n",
      "32/32 [==============================] - 0s 4ms/step - loss: 0.2656 - accuracy: 0.8930\n",
      "Epoch 16/50\n",
      "32/32 [==============================] - 0s 3ms/step - loss: 0.2522 - accuracy: 0.9010\n",
      "Epoch 17/50\n",
      "32/32 [==============================] - 0s 3ms/step - loss: 0.2463 - accuracy: 0.9030\n",
      "Epoch 18/50\n",
      "32/32 [==============================] - 0s 4ms/step - loss: 0.2360 - accuracy: 0.9080\n",
      "Epoch 19/50\n",
      "32/32 [==============================] - 0s 3ms/step - loss: 0.2272 - accuracy: 0.9080\n",
      "Epoch 20/50\n",
      "32/32 [==============================] - 0s 4ms/step - loss: 0.2365 - accuracy: 0.9130\n",
      "Epoch 21/50\n",
      "32/32 [==============================] - 0s 3ms/step - loss: 0.2499 - accuracy: 0.9030\n",
      "Epoch 22/50\n",
      "32/32 [==============================] - 0s 3ms/step - loss: 0.2180 - accuracy: 0.9160\n",
      "Epoch 23/50\n",
      "32/32 [==============================] - 0s 4ms/step - loss: 0.2261 - accuracy: 0.9090\n",
      "Epoch 24/50\n",
      "32/32 [==============================] - 0s 3ms/step - loss: 0.2483 - accuracy: 0.9060\n",
      "Epoch 25/50\n",
      "32/32 [==============================] - 0s 4ms/step - loss: 0.2266 - accuracy: 0.9130\n",
      "Epoch 26/50\n",
      "32/32 [==============================] - 0s 4ms/step - loss: 0.2279 - accuracy: 0.9090\n",
      "Epoch 27/50\n",
      "32/32 [==============================] - 0s 3ms/step - loss: 0.2173 - accuracy: 0.9130\n",
      "Epoch 28/50\n",
      "32/32 [==============================] - 0s 3ms/step - loss: 0.2230 - accuracy: 0.9110\n",
      "Epoch 29/50\n",
      "32/32 [==============================] - 0s 3ms/step - loss: 0.2215 - accuracy: 0.9130\n",
      "Epoch 30/50\n",
      "32/32 [==============================] - 0s 3ms/step - loss: 0.2374 - accuracy: 0.8960\n",
      "Epoch 31/50\n",
      "32/32 [==============================] - 0s 3ms/step - loss: 0.2082 - accuracy: 0.9140\n",
      "Epoch 32/50\n",
      "32/32 [==============================] - 0s 3ms/step - loss: 0.2192 - accuracy: 0.9030\n",
      "Epoch 33/50\n",
      "32/32 [==============================] - 0s 3ms/step - loss: 0.2173 - accuracy: 0.9110\n",
      "Epoch 34/50\n",
      "32/32 [==============================] - 0s 3ms/step - loss: 0.2265 - accuracy: 0.9130\n",
      "Epoch 35/50\n",
      "32/32 [==============================] - 0s 4ms/step - loss: 0.2294 - accuracy: 0.9100\n",
      "Epoch 36/50\n",
      "32/32 [==============================] - 0s 4ms/step - loss: 0.2031 - accuracy: 0.9140\n",
      "Epoch 37/50\n",
      "32/32 [==============================] - 0s 4ms/step - loss: 0.2094 - accuracy: 0.9150\n",
      "Epoch 38/50\n",
      "32/32 [==============================] - 0s 4ms/step - loss: 0.1910 - accuracy: 0.9260\n",
      "Epoch 39/50\n",
      "32/32 [==============================] - 0s 3ms/step - loss: 0.2167 - accuracy: 0.9140\n",
      "Epoch 40/50\n",
      "32/32 [==============================] - 0s 4ms/step - loss: 0.2224 - accuracy: 0.9100\n",
      "Epoch 41/50\n",
      "32/32 [==============================] - 0s 4ms/step - loss: 0.2117 - accuracy: 0.9190\n",
      "Epoch 42/50\n",
      "32/32 [==============================] - 0s 4ms/step - loss: 0.1971 - accuracy: 0.9240\n",
      "Epoch 43/50\n",
      "32/32 [==============================] - 0s 4ms/step - loss: 0.1989 - accuracy: 0.9230\n",
      "Epoch 44/50\n",
      "32/32 [==============================] - 0s 4ms/step - loss: 0.2033 - accuracy: 0.9210\n",
      "Epoch 45/50\n",
      "32/32 [==============================] - 0s 3ms/step - loss: 0.1825 - accuracy: 0.9270\n",
      "Epoch 46/50\n",
      "32/32 [==============================] - 0s 3ms/step - loss: 0.1814 - accuracy: 0.9280\n",
      "Epoch 47/50\n",
      "32/32 [==============================] - 0s 4ms/step - loss: 0.2004 - accuracy: 0.9210\n",
      "Epoch 48/50\n",
      "32/32 [==============================] - 0s 4ms/step - loss: 0.1985 - accuracy: 0.9170\n",
      "Epoch 49/50\n",
      "32/32 [==============================] - 0s 4ms/step - loss: 0.1786 - accuracy: 0.9340\n",
      "Epoch 50/50\n",
      "32/32 [==============================] - 0s 5ms/step - loss: 0.1856 - accuracy: 0.9220\n"
     ]
    }
   ],
   "source": [
    "quant_aware_model.compile(\n",
    "    optimizer=tf.keras.optimizers.Adam(),\n",
    "    loss=tf.keras.losses.BinaryCrossentropy(from_logits=False),\n",
    "    metrics=METRICS,\n",
    ")\n",
    "EPOCHS=50\n",
    "quant_aware_history = quant_aware_model.fit(\n",
    "    train_wake_loader,  \n",
    "    epochs=EPOCHS\n",
    ")"
   ]
  },
  {
   "cell_type": "code",
   "execution_count": 122,
   "id": "b4d4d4c8",
   "metadata": {
    "slideshow": {
     "slide_type": "slide"
    }
   },
   "outputs": [
    {
     "name": "stderr",
     "output_type": "stream",
     "text": [
      "WARNING:absl:Found untraced functions such as _update_step_xla, conv2d_5_layer_call_fn, conv2d_5_layer_call_and_return_conditional_losses, _jit_compiled_convolution_op, dropout_5_layer_call_fn while saving (showing 5 of 8). These functions will not be directly callable after loading.\n"
     ]
    },
    {
     "name": "stdout",
     "output_type": "stream",
     "text": [
      "INFO:tensorflow:Assets written to: /var/folders/q8/9dhs6y4d21s87vxtnwqflq5m0000gn/T/tmpktqilq48/assets\n"
     ]
    },
    {
     "name": "stderr",
     "output_type": "stream",
     "text": [
      "INFO:tensorflow:Assets written to: /var/folders/q8/9dhs6y4d21s87vxtnwqflq5m0000gn/T/tmpktqilq48/assets\n",
      "/Users/fridadesigley/.pyenv/versions/3.10.6/envs/tiny-ml/lib/python3.10/site-packages/tensorflow/lite/python/convert.py:765: UserWarning:\n",
      "\n",
      "Statistics for quantized inputs were expected, but not specified; continuing anyway.\n",
      "\n",
      "2023-01-31 18:38:36.910326: W tensorflow/compiler/mlir/lite/python/tf_tfl_flatbuffer_helpers.cc:362] Ignored output_format.\n",
      "2023-01-31 18:38:36.910337: W tensorflow/compiler/mlir/lite/python/tf_tfl_flatbuffer_helpers.cc:365] Ignored drop_control_dependency.\n",
      "2023-01-31 18:38:36.910414: I tensorflow/cc/saved_model/reader.cc:45] Reading SavedModel from: /var/folders/q8/9dhs6y4d21s87vxtnwqflq5m0000gn/T/tmpktqilq48\n",
      "2023-01-31 18:38:36.911689: I tensorflow/cc/saved_model/reader.cc:89] Reading meta graph with tags { serve }\n",
      "2023-01-31 18:38:36.911698: I tensorflow/cc/saved_model/reader.cc:130] Reading SavedModel debug info (if present) from: /var/folders/q8/9dhs6y4d21s87vxtnwqflq5m0000gn/T/tmpktqilq48\n",
      "2023-01-31 18:38:36.915731: I tensorflow/cc/saved_model/loader.cc:229] Restoring SavedModel bundle.\n",
      "2023-01-31 18:38:36.939144: I tensorflow/cc/saved_model/loader.cc:213] Running initialization op on SavedModel bundle at path: /var/folders/q8/9dhs6y4d21s87vxtnwqflq5m0000gn/T/tmpktqilq48\n",
      "2023-01-31 18:38:36.945344: I tensorflow/cc/saved_model/loader.cc:305] SavedModel load for tags { serve }; Status: success: OK. Took 34930 microseconds.\n"
     ]
    }
   ],
   "source": [
    "converter = tf.lite.TFLiteConverter.from_keras_model(quant_aware_model)\n",
    "converter.optimizations = [tf.lite.Optimize.DEFAULT]\n",
    "tflite_model_quant = converter.convert() "
   ]
  },
  {
   "cell_type": "code",
   "execution_count": null,
   "id": "0618d34a",
   "metadata": {},
   "outputs": [],
   "source": []
  },
  {
   "cell_type": "code",
   "execution_count": 124,
   "id": "596831a4",
   "metadata": {
    "slideshow": {
     "slide_type": "slide"
    }
   },
   "outputs": [
    {
     "data": {
      "text/plain": [
       "6016"
      ]
     },
     "execution_count": 124,
     "metadata": {},
     "output_type": "execute_result"
    }
   ],
   "source": [
    "tflite_models_dir = Path(\"tf_lite_model\")\n",
    "tflite_models_dir.mkdir(exist_ok=True, parents=True)\n",
    "tflite_model_file = tflite_models_dir/\"wake_word.tflite\"\n",
    "tflite_model_file.write_bytes(tflite_model_quant) "
   ]
  },
  {
   "cell_type": "code",
   "execution_count": 125,
   "id": "59546720",
   "metadata": {
    "slideshow": {
     "slide_type": "slide"
    }
   },
   "outputs": [],
   "source": [
    "%%bash\n",
    "echo \"alignas(8) const unsigned char tflite_model[] = {\" > tf_lite_model/wake_word.tflite.h\n",
    "cat tf_lite_model/wake_word.tflite | xxd -i                        >> tf_lite_model/wake_word.tflite.h\n",
    "echo \"};\"                                               >> tf_lite_model/wake_word.tflite.h"
   ]
  },
  {
   "cell_type": "code",
   "execution_count": 126,
   "id": "f54793df",
   "metadata": {
    "slideshow": {
     "slide_type": "slide"
    }
   },
   "outputs": [
    {
     "name": "stdout",
     "output_type": "stream",
     "text": [
      "wake_word.tflite   wake_word.tflite.h\r\n"
     ]
    }
   ],
   "source": [
    "!ls tf_lite_model/"
   ]
  },
  {
   "cell_type": "code",
   "execution_count": 127,
   "id": "3171f8a9",
   "metadata": {
    "scrolled": true,
    "slideshow": {
     "slide_type": "slide"
    }
   },
   "outputs": [
    {
     "name": "stdout",
     "output_type": "stream",
     "text": [
      "alignas(8) const unsigned char tflite_model[] = {\r\n",
      "  0x20, 0x00, 0x00, 0x00, 0x54, 0x46, 0x4c, 0x33, 0x00, 0x00, 0x00, 0x00,\r\n",
      "  0x14, 0x00, 0x20, 0x00, 0x1c, 0x00, 0x18, 0x00, 0x14, 0x00, 0x10, 0x00,\r\n",
      "  0x0c, 0x00, 0x00, 0x00, 0x08, 0x00, 0x04, 0x00, 0x14, 0x00, 0x00, 0x00,\r\n",
      "  0x1c, 0x00, 0x00, 0x00, 0x88, 0x00, 0x00, 0x00, 0xe0, 0x00, 0x00, 0x00,\r\n",
      "  0x74, 0x0b, 0x00, 0x00, 0x84, 0x0b, 0x00, 0x00, 0x98, 0x16, 0x00, 0x00,\r\n",
      "  0x03, 0x00, 0x00, 0x00, 0x01, 0x00, 0x00, 0x00, 0x04, 0x00, 0x00, 0x00,\r\n",
      "  0x46, 0xf3, 0xff, 0xff, 0x0c, 0x00, 0x00, 0x00, 0x1c, 0x00, 0x00, 0x00,\r\n",
      "  0x40, 0x00, 0x00, 0x00, 0x0f, 0x00, 0x00, 0x00, 0x73, 0x65, 0x72, 0x76,\r\n",
      "  0x69, 0x6e, 0x67, 0x5f, 0x64, 0x65, 0x66, 0x61, 0x75, 0x6c, 0x74, 0x00,\r\n",
      "  0x01, 0x00, 0x00, 0x00, 0x04, 0x00, 0x00, 0x00, 0x94, 0xff, 0xff, 0xff,\r\n",
      "  0x0e, 0x00, 0x00, 0x00, 0x04, 0x00, 0x00, 0x00, 0x0d, 0x00, 0x00, 0x00,\r\n",
      "  0x71, 0x75, 0x61, 0x6e, 0x74, 0x5f, 0x64, 0x65, 0x6e, 0x73, 0x65, 0x5f,\r\n",
      "  0x39, 0x00, 0x00, 0x00, 0x01, 0x00, 0x00, 0x00, 0x04, 0x00, 0x00, 0x00,\r\n",
      "  0x12, 0xfd, 0xff, 0xff, 0x04, 0x00, 0x00, 0x00, 0x07, 0x00, 0x00, 0x00,\r\n",
      "  0x69, 0x6e, 0x70, 0x75, 0x74, 0x5f, 0x36, 0x00, 0x02, 0x00, 0x00, 0x00,\r\n",
      "  0x34, 0x00, 0x00, 0x00, 0x04, 0x00, 0x00, 0x00, 0xdc, 0xff, 0xff, 0xff,\r\n",
      "  0x11, 0x00, 0x00, 0x00, 0x04, 0x00, 0x00, 0x00, 0x13, 0x00, 0x00, 0x00,\r\n",
      "  0x43, 0x4f, 0x4e, 0x56, 0x45, 0x52, 0x53, 0x49, 0x4f, 0x4e, 0x5f, 0x4d,\r\n",
      "  0x45, 0x54, 0x41, 0x44, 0x41, 0x54, 0x41, 0x00, 0x08, 0x00, 0x0c, 0x00,\r\n",
      "  0x08, 0x00, 0x04, 0x00, 0x08, 0x00, 0x00, 0x00, 0x10, 0x00, 0x00, 0x00,\r\n",
      "  0x04, 0x00, 0x00, 0x00, 0x13, 0x00, 0x00, 0x00, 0x6d, 0x69, 0x6e, 0x5f,\r\n",
      "  0x72, 0x75, 0x6e, 0x74, 0x69, 0x6d, 0x65, 0x5f, 0x76, 0x65, 0x72, 0x73,\r\n",
      "  0x69, 0x6f, 0x6e, 0x00, 0x12, 0x00, 0x00, 0x00, 0x90, 0x0a, 0x00, 0x00,\r\n",
      "  0x88, 0x0a, 0x00, 0x00, 0x78, 0x02, 0x00, 0x00, 0x58, 0x02, 0x00, 0x00,\r\n",
      "  0x40, 0x02, 0x00, 0x00, 0x10, 0x02, 0x00, 0x00, 0xfc, 0x01, 0x00, 0x00,\r\n",
      "  0xf4, 0x01, 0x00, 0x00, 0xec, 0x01, 0x00, 0x00, 0xe4, 0x01, 0x00, 0x00,\r\n",
      "  0xdc, 0x01, 0x00, 0x00, 0xd4, 0x01, 0x00, 0x00, 0xa4, 0x00, 0x00, 0x00,\r\n",
      "  0x9c, 0x00, 0x00, 0x00, 0x94, 0x00, 0x00, 0x00, 0x8c, 0x00, 0x00, 0x00,\r\n",
      "  0x6c, 0x00, 0x00, 0x00, 0x04, 0x00, 0x00, 0x00, 0xce, 0xfd, 0xff, 0xff,\r\n",
      "  0x04, 0x00, 0x00, 0x00, 0x58, 0x00, 0x00, 0x00, 0x0c, 0x00, 0x00, 0x00,\r\n",
      "  0x08, 0x00, 0x0e, 0x00, 0x08, 0x00, 0x04, 0x00, 0x08, 0x00, 0x00, 0x00,\r\n",
      "  0x10, 0x00, 0x00, 0x00, 0x28, 0x00, 0x00, 0x00, 0x00, 0x00, 0x06, 0x00,\r\n",
      "  0x08, 0x00, 0x04, 0x00, 0x06, 0x00, 0x00, 0x00, 0x04, 0x00, 0x00, 0x00,\r\n",
      "  0x01, 0x00, 0x00, 0x00, 0xd0, 0x07, 0x00, 0x00, 0x00, 0x00, 0x0a, 0x00,\r\n",
      "  0x10, 0x00, 0x0c, 0x00, 0x08, 0x00, 0x04, 0x00, 0x0a, 0x00, 0x00, 0x00,\r\n",
      "  0x02, 0x00, 0x00, 0x00, 0x02, 0x00, 0x00, 0x00, 0x04, 0x00, 0x00, 0x00,\r\n",
      "  0x06, 0x00, 0x00, 0x00, 0x32, 0x2e, 0x31, 0x31, 0x2e, 0x30, 0x00, 0x00,\r\n",
      "  0x32, 0xfe, 0xff, 0xff, 0x04, 0x00, 0x00, 0x00, 0x10, 0x00, 0x00, 0x00,\r\n",
      "  0x32, 0x2e, 0x33, 0x2e, 0x30, 0x00, 0x00, 0x00, 0x00, 0x00, 0x00, 0x00,\r\n",
      "  0x00, 0x00, 0x00, 0x00, 0x44, 0xeb, 0xff, 0xff, 0x48, 0xeb, 0xff, 0xff,\r\n",
      "  0x4c, 0xeb, 0xff, 0xff, 0x5a, 0xfe, 0xff, 0xff, 0x04, 0x00, 0x00, 0x00,\r\n",
      "  0x20, 0x01, 0x00, 0x00, 0x29, 0x1a, 0x14, 0x01, 0xe2, 0x25, 0x2d, 0x56,\r\n",
      "  0xff, 0xd8, 0xc1, 0xe4, 0x06, 0xae, 0xe9, 0xbd, 0x21, 0xd9, 0xcd, 0xc7,\r\n",
      "  0xf7, 0xf3, 0x17, 0xfd, 0xde, 0xec, 0xdd, 0xf8, 0xcf, 0x12, 0xfc, 0xe7,\r\n",
      "  0x2e, 0xdc, 0xbd, 0xf8, 0x38, 0x30, 0x02, 0x21, 0x3b, 0xec, 0xe3, 0xd9,\r\n",
      "  0x09, 0x5d, 0x45, 0xf5, 0xfa, 0xd2, 0xf8, 0xf9, 0xdd, 0x2e, 0x02, 0x3a,\r\n",
      "  0xe1, 0xe5, 0xf4, 0x23, 0xcc, 0xf2, 0xdc, 0xe9, 0x0b, 0xc9, 0xd7, 0xab,\r\n",
      "  0xea, 0xcd, 0x0a, 0xe2, 0x35, 0xfe, 0xe5, 0xcc, 0x13, 0x11, 0x1a, 0x27,\r\n",
      "  0x55, 0x14, 0xf4, 0x01, 0x2b, 0x7f, 0xef, 0x16, 0x4b, 0x06, 0xee, 0x1e,\r\n",
      "  0x49, 0x0e, 0x4e, 0xfa, 0xf7, 0xf1, 0x06, 0xe2, 0xda, 0x0e, 0x15, 0x3d,\r\n",
      "  0xe0, 0xf9, 0xea, 0xdb, 0xfc, 0xe2, 0xfe, 0x16, 0xf3, 0xfa, 0xdc, 0xeb,\r\n",
      "  0xf1, 0x3c, 0xe9, 0xef, 0x06, 0x03, 0x15, 0xd6, 0x10, 0x09, 0xf1, 0xe8,\r\n",
      "  0x0f, 0x1a, 0xdb, 0xf5, 0x3a, 0x11, 0x27, 0x33, 0x3c, 0x0e, 0xbd, 0xc9,\r\n",
      "  0x3a, 0x46, 0x55, 0x5d, 0x25, 0x17, 0x1d, 0xd8, 0xde, 0xf5, 0x29, 0x12,\r\n",
      "  0xee, 0xf9, 0xaf, 0xb4, 0xd1, 0xcf, 0x00, 0xdd, 0xfd, 0xf9, 0xa4, 0xf3,\r\n",
      "  0xd3, 0x14, 0x07, 0xf6, 0x0a, 0xfb, 0xa0, 0xd5, 0xd4, 0xf1, 0xdd, 0x43,\r\n",
      "  0x11, 0xf3, 0xd4, 0xe6, 0x52, 0x0f, 0xef, 0x26, 0x32, 0x09, 0xc8, 0xfc,\r\n",
      "  0x36, 0x2a, 0x42, 0x4b, 0x06, 0x0d, 0x16, 0xf6, 0xd1, 0x0b, 0x0c, 0x2e,\r\n",
      "  0xe4, 0xd9, 0xe7, 0xe9, 0xf0, 0xd4, 0x09, 0xfb, 0x15, 0xd0, 0xb5, 0x1c,\r\n",
      "  0xb8, 0xed, 0xed, 0xec, 0xfb, 0x19, 0xba, 0xff, 0x00, 0x17, 0xf8, 0xf5,\r\n",
      "  0x27, 0x26, 0xe2, 0x08, 0x31, 0x12, 0x1e, 0x17, 0x36, 0x39, 0xf1, 0x1a,\r\n",
      "  0x4a, 0x42, 0x40, 0x31, 0x1f, 0xfa, 0x0d, 0xb4, 0xe0, 0x0c, 0x09, 0xfa,\r\n",
      "  0xf1, 0xf2, 0xc8, 0xe5, 0xba, 0xdf, 0x16, 0xf2, 0x07, 0x14, 0xc1, 0xe1,\r\n",
      "  0xe5, 0xe0, 0xfd, 0x03, 0xf3, 0x1d, 0xcf, 0xf0, 0xf9, 0x30, 0x01, 0x2f,\r\n",
      "  0x3d, 0xf7, 0xda, 0x07, 0xee, 0x16, 0x12, 0x5a, 0x3d, 0x3e, 0xcf, 0xf5,\r\n",
      "  0x09, 0x3d, 0x38, 0x26, 0x7c, 0xec, 0xff, 0xff, 0x80, 0xec, 0xff, 0xff,\r\n",
      "  0x84, 0xec, 0xff, 0xff, 0x88, 0xec, 0xff, 0xff, 0x8c, 0xec, 0xff, 0xff,\r\n",
      "  0x9a, 0xff, 0xff, 0xff, 0x04, 0x00, 0x00, 0x00, 0x04, 0x00, 0x00, 0x00,\r\n",
      "  0xad, 0xf9, 0xff, 0xff, 0xaa, 0xff, 0xff, 0xff, 0x04, 0x00, 0x00, 0x00,\r\n",
      "  0x20, 0x00, 0x00, 0x00, 0xbc, 0x46, 0x92, 0xbe, 0x5d, 0x1b, 0xa4, 0xbd,\r\n",
      "  0x52, 0x7d, 0xda, 0x3d, 0xe1, 0x4c, 0xbe, 0x3c, 0x19, 0xcb, 0x41, 0x3c,\r\n",
      "  0xab, 0xe5, 0x74, 0xbe, 0xaa, 0xe2, 0x82, 0xbe, 0xcc, 0x36, 0x7f, 0xbe,\r\n",
      "  0xd6, 0xff, 0xff, 0xff, 0x04, 0x00, 0x00, 0x00, 0x08, 0x00, 0x00, 0x00,\r\n",
      "  0xff, 0xff, 0xff, 0xff, 0x20, 0x01, 0x00, 0x00, 0xea, 0xff, 0xff, 0xff,\r\n",
      "  0x04, 0x00, 0x00, 0x00, 0x08, 0x00, 0x00, 0x00, 0x20, 0x00, 0x00, 0x00,\r\n",
      "  0x20, 0x00, 0x00, 0x00, 0x00, 0x00, 0x06, 0x00, 0x08, 0x00, 0x04, 0x00,\r\n",
      "  0x06, 0x00, 0x00, 0x00, 0x04, 0x00, 0x00, 0x00, 0x00, 0x08, 0x00, 0x00,\r\n",
      "  0xf2, 0xd6, 0x1f, 0xbe, 0x64, 0xf5, 0xd5, 0xbd, 0x92, 0x07, 0x97, 0xbc,\r\n",
      "  0x5b, 0x10, 0x1c, 0xbd, 0xb6, 0xa5, 0x71, 0x3b, 0x48, 0xb7, 0xfb, 0x3c,\r\n",
      "  0xdb, 0x4d, 0xbf, 0xbd, 0x8d, 0x52, 0x1d, 0xbe, 0x29, 0xce, 0x1a, 0xbe,\r\n",
      "  0xc4, 0x49, 0x18, 0xbe, 0x92, 0x82, 0x5d, 0xbd, 0x6d, 0xe4, 0x02, 0xbe,\r\n",
      "  0x48, 0xb7, 0xfb, 0xbc, 0x6d, 0x5f, 0x49, 0xbd, 0x5b, 0x8b, 0x62, 0xbd,\r\n",
      "  0x6d, 0x5f, 0xc9, 0xbb, 0x24, 0x19, 0x21, 0xbc, 0x24, 0x19, 0xa1, 0x3a,\r\n",
      "  0xa4, 0x56, 0x44, 0x3d, 0xd2, 0x68, 0x85, 0x3d, 0x6d, 0xe4, 0x82, 0xbc,\r\n",
      "  0x48, 0xb7, 0x7b, 0xbd, 0x36, 0xed, 0x07, 0xbd, 0x24, 0x19, 0x21, 0x3c,\r\n",
      "  0xff, 0x70, 0xd3, 0x3d, 0xb6, 0x2a, 0xab, 0xbc, 0x00, 0x00, 0x00, 0x00,\r\n",
      "  0x24, 0x19, 0x21, 0x3b, 0x92, 0x07, 0x97, 0x3d, 0x92, 0x07, 0x17, 0xbd,\r\n",
      "  0xb6, 0xa5, 0xf1, 0xbc, 0x24, 0x19, 0xa1, 0xbd, 0x92, 0x82, 0x5d, 0x3d,\r\n",
      "  0xed, 0x21, 0x26, 0x3d, 0x5b, 0x10, 0x1c, 0xbd, 0xdb, 0x4d, 0xbf, 0x3c,\r\n",
      "  0x24, 0x19, 0xa1, 0xbb, 0xa4, 0x56, 0x44, 0x3d, 0xb6, 0x2a, 0xab, 0xbc,\r\n",
      "  0x92, 0x07, 0x17, 0x3d, 0xb6, 0xa5, 0x71, 0x3d, 0xdb, 0x4d, 0x3f, 0xbd,\r\n",
      "  0x6d, 0x5f, 0xc9, 0xbb, 0x5b, 0x10, 0x1c, 0x3d, 0x52, 0xa6, 0xa8, 0x3d,\r\n",
      "  0x2d, 0x83, 0x94, 0x3d, 0x7f, 0x33, 0x30, 0xbd, 0x64, 0xf5, 0xd5, 0xbd,\r\n",
      "  0xdb, 0x4d, 0x3f, 0xbd, 0x24, 0x94, 0x67, 0x3d, 0xb6, 0x2a, 0xab, 0xbc,\r\n",
      "  0xa4, 0x56, 0x44, 0xbd, 0xc9, 0xfe, 0x11, 0x3e, 0x24, 0x94, 0x67, 0xbd,\r\n",
      "  0x6d, 0xe4, 0x82, 0x3d, 0x9b, 0x71, 0x8a, 0x3d, 0x6d, 0x5f, 0x49, 0xbd,\r\n",
      "  0x7f, 0x33, 0xb0, 0x3d, 0xb6, 0xa5, 0x71, 0x3c, 0x24, 0x19, 0x21, 0x3c,\r\n",
      "  0xb6, 0x2a, 0x2b, 0x3d, 0x89, 0x9d, 0xa3, 0x3d, 0x92, 0x07, 0x17, 0x3e,\r\n",
      "  0x6d, 0xe4, 0x02, 0x3e, 0xb5, 0x35, 0xd6, 0xbd, 0x6c, 0xfe, 0xeb, 0xbd,\r\n",
      "  0xa4, 0x90, 0x21, 0x3e, 0xf8, 0x5c, 0xe8, 0x3c, 0xf8, 0x5c, 0xe8, 0xba,\r\n",
      "  0xd5, 0x0a, 0x13, 0xbe, 0xf8, 0x5c, 0xe8, 0x3a, 0x6c, 0xfe, 0xeb, 0x3d,\r\n",
      "  0xd2, 0x02, 0x27, 0xbd, 0x03, 0x7d, 0x98, 0xbd, 0xf8, 0x5c, 0xe8, 0xbc,\r\n",
      "  0x28, 0xd7, 0xd9, 0xbc, 0xcd, 0xf2, 0xce, 0x3d, 0x4c, 0xb4, 0x82, 0xbc,\r\n",
      "  0x8a, 0xcb, 0xbc, 0xbc, 0xe5, 0xaf, 0xc7, 0xbd, 0xa2, 0x88, 0x35, 0xbd,\r\n",
      "  0x3e, 0x8c, 0x66, 0xbe, 0x28, 0xd7, 0x59, 0xbd, 0x41, 0x94, 0x52, 0xbd,\r\n",
      "  0xc8, 0xe2, 0xf6, 0x3c, 0xba, 0x45, 0x2e, 0x3d, 0xf8, 0x5c, 0xe8, 0x3a,\r\n",
      "  0xf8, 0x5c, 0x68, 0x3b, 0x03, 0x7d, 0x18, 0x3d, 0xc8, 0xe2, 0xf6, 0xbc,\r\n",
      "  0xcd, 0xf2, 0xce, 0x3d, 0xf8, 0x5c, 0xe8, 0x3a, 0x5e, 0x61, 0xa3, 0x3d,\r\n",
      "  0xc8, 0xe2, 0xf6, 0x3d, 0x59, 0x51, 0x4b, 0x3c, 0xe8, 0xb7, 0x33, 0x3e,\r\n",
      "  0xa7, 0x98, 0x8d, 0x3d, 0x41, 0x94, 0x52, 0xbd, 0x4c, 0xb4, 0x82, 0x3d,\r\n",
      "  0xa7, 0x98, 0x8d, 0x3d, 0x31, 0xef, 0x1d, 0xbe, 0xf8, 0x5c, 0xe8, 0x3b,\r\n",
      "  0x33, 0xf7, 0x89, 0xbd, 0xc8, 0xe2, 0x76, 0xbd, 0xf8, 0x5c, 0x68, 0xbc,\r\n",
      "  0xba, 0x45, 0x2e, 0xbc, 0xba, 0x45, 0x2e, 0x3d, 0xc8, 0xe2, 0x76, 0x3d,\r\n",
      "  0x28, 0xd7, 0xd9, 0x3c, 0x2b, 0xdf, 0x45, 0xbe, 0x77, 0x1e, 0x9c, 0xbd,\r\n",
      "  0xba, 0x45, 0xae, 0x3d, 0xf8, 0x5c, 0x68, 0xbd, 0xb5, 0x35, 0xd6, 0xbd,\r\n",
      "  0xba, 0x45, 0xae, 0x3d, 0xaf, 0x25, 0x7e, 0xbd, 0xf8, 0x5c, 0x68, 0x3b,\r\n",
      "  0xaf, 0x25, 0xfe, 0x3d, 0x71, 0x0e, 0x44, 0x3d, 0x4c, 0xb4, 0x02, 0xbe,\r\n",
      "  0xbf, 0x55, 0x86, 0x3d, 0x28, 0xd7, 0xd9, 0xbd, 0x59, 0x51, 0xcb, 0xbd,\r\n",
      "  0x59, 0x51, 0xcb, 0x3c, 0x41, 0x94, 0xd2, 0xbd, 0x4c, 0xb4, 0x02, 0x3e,\r\n",
      "  0x54, 0x41, 0xf3, 0x3d, 0xea, 0xbf, 0x9f, 0x3c, 0x9c, 0x78, 0x11, 0x3d,\r\n",
      "  0x26, 0xf6, 0xc1, 0x3b, 0x61, 0xb7, 0xa9, 0xbc, 0x9c, 0x78, 0x91, 0x3b,\r\n",
      "  0x61, 0xb7, 0xa9, 0xbd, 0xc4, 0x70, 0x0e, 0xbe, 0xc4, 0xd6, 0xb5, 0xbd,\r\n",
      "  0x12, 0x2d, 0xd7, 0xbd, 0xff, 0x97, 0x9d, 0xbd, 0x88, 0x15, 0x4e, 0x3d,\r\n",
      "  0xb0, 0x73, 0xf2, 0xbc, 0x26, 0x90, 0x9a, 0xbd, 0x26, 0xf6, 0x41, 0x3c,\r\n",
      "  0x3a, 0xbf, 0x2c, 0xbe, 0x12, 0x93, 0x7e, 0xbd, 0x00, 0x00, 0x00, 0x00,\r\n",
      "  0x9c, 0x78, 0x11, 0x3c, 0xb0, 0xa7, 0xa3, 0xbd, 0x61, 0xb7, 0x29, 0x3c,\r\n",
      "  0x75, 0x4c, 0xe3, 0xbd, 0x4e, 0x88, 0x17, 0xbd, 0x12, 0x93, 0x7e, 0xbd,\r\n",
      "  0xeb, 0x68, 0x8b, 0x3d, 0xeb, 0xce, 0x32, 0xbe, 0xeb, 0x34, 0x5a, 0xbd,\r\n",
      "  0xc4, 0xd6, 0x35, 0x3d, 0x3a, 0x72, 0x40, 0x3e, 0x75, 0x80, 0x94, 0xbd,\r\n",
      "  0x9c, 0x78, 0x11, 0xbe, 0xc4, 0xd6, 0xb5, 0x3c, 0x9c, 0x78, 0x11, 0xbd,\r\n",
      "  0xfe, 0x63, 0xec, 0xbd, 0xff, 0xfd, 0xc4, 0xbd, 0x3a, 0x72, 0x40, 0x3e,\r\n",
      "  0x61, 0xb7, 0x29, 0x3d, 0xc4, 0x23, 0x22, 0x3e, 0xeb, 0x34, 0x5a, 0x3c,\r\n",
      "  0x3a, 0x59, 0x85, 0x3c, 0x9c, 0x44, 0xe0, 0xbd, 0x26, 0xf6, 0xc1, 0xbb,\r\n",
      "  0xeb, 0xce, 0x32, 0x3e, 0x61, 0xb7, 0x29, 0x3c, 0x75, 0x33, 0x28, 0xbe,\r\n",
      "  0xeb, 0x34, 0x5a, 0xbd, 0xb0, 0x73, 0xf2, 0xbd, 0x9c, 0x78, 0x91, 0xbc,\r\n",
      "  0x9c, 0xde, 0xb8, 0x3d, 0x3a, 0x25, 0xd4, 0x3d, 0x9c, 0x44, 0x60, 0x3d,\r\n",
      "  0x26, 0xf6, 0xc1, 0xbd, 0xc4, 0x70, 0x8e, 0xbd, 0x89, 0x62, 0x3a, 0xbe,\r\n",
      "  0xeb, 0x1b, 0x1f, 0xbe, 0x26, 0x90, 0x1a, 0xbe, 0x61, 0x6a, 0x3d, 0xbe,\r\n",
      "  0x3a, 0x25, 0xd4, 0xbd, 0xb0, 0xa7, 0x23, 0x3e, 0xc4, 0xd6, 0xb5, 0xbc,\r\n",
      "  0x3a, 0x59, 0x85, 0x3c, 0xeb, 0x34, 0xda, 0x3c, 0xd7, 0x05, 0xc8, 0x3d,\r\n",
      "  0x9c, 0x78, 0x91, 0x3d, 0x75, 0x4c, 0xe3, 0x3d, 0xfe, 0x63, 0xec, 0x3d,\r\n",
      "  0x9c, 0x17, 0x37, 0x3d, 0xaf, 0x2f, 0x15, 0xbd, 0x86, 0xc7, 0x5f, 0x3d,\r\n",
      "  0xa4, 0x87, 0x29, 0x3d, 0xa8, 0xbf, 0xa2, 0xbc, 0xa8, 0xbf, 0x22, 0x3c,\r\n",
      "  0x8a, 0xff, 0xd8, 0xbc, 0x99, 0xdf, 0xbd, 0xbd, 0xa0, 0x4f, 0xb0, 0x3c,\r\n",
      "  0x7b, 0x1f, 0x74, 0xbc, 0x9c, 0x17, 0x37, 0x3d, 0xa0, 0x4f, 0xb0, 0x3d,\r\n",
      "  0xaf, 0x2f, 0x15, 0xbd, 0xa0, 0x4f, 0xb0, 0x3c, 0x9c, 0x17, 0xb7, 0xbd,\r\n",
      "  0x9c, 0x17, 0x37, 0xbd, 0x8b, 0x4d, 0x57, 0xbe, 0x8a, 0xff, 0xd8, 0x3c,\r\n",
      "  0xab, 0xf7, 0x1b, 0x3d, 0x9e, 0xb3, 0xb3, 0xbd, 0xa4, 0x87, 0x29, 0xbd,\r\n",
      "  0xae, 0xe1, 0x16, 0xbe, 0x8e, 0x37, 0x52, 0x3d, 0xab, 0xf7, 0x1b, 0xbd,\r\n",
      "  0xa2, 0xeb, 0xac, 0xbd, 0x97, 0x43, 0xc1, 0xbd, 0xb1, 0xcb, 0x91, 0x3d,\r\n",
      "  0xa8, 0xbf, 0xa2, 0xbc, 0x7b, 0x1f, 0x74, 0xbd, 0xb1, 0xcb, 0x11, 0xbe,\r\n",
      "  0x86, 0xc7, 0x5f, 0xbd, 0x83, 0x8f, 0x66, 0xbd, 0xb0, 0x7d, 0x13, 0xbe,\r\n",
      "  0x86, 0xc7, 0x5f, 0x3d, 0x79, 0x83, 0xf7, 0xbd, 0xb3, 0xb5, 0x0c, 0x3e,\r\n",
      "  0xa0, 0x4f, 0x30, 0xbd, 0x83, 0x8f, 0xe6, 0x3c, 0x8a, 0xff, 0x58, 0x3c,\r\n",
      "  0x7d, 0xbb, 0xf0, 0x3d, 0x84, 0x2b, 0xe3, 0xbd, 0xb6, 0x9f, 0x07, 0x3c,\r\n",
      "  0xa2, 0xeb, 0x2c, 0x3e, 0xaf, 0x2f, 0x95, 0xbc, 0x7f, 0x57, 0xed, 0xbd,\r\n",
      "  0xaf, 0x2f, 0x95, 0xbc, 0xb6, 0x9f, 0x87, 0x3d, 0x7b, 0x1f, 0x74, 0xbd,\r\n",
      "  0xab, 0xf7, 0x1b, 0xbd, 0xa8, 0xbf, 0xa2, 0x3b, 0x9e, 0xb3, 0xb3, 0x3d,\r\n",
      "  0x8c, 0x9b, 0xd5, 0x3d, 0x8a, 0xff, 0x58, 0xbb, 0x7b, 0x1f, 0xf4, 0x3c,\r\n",
      "  0xba, 0xd7, 0x80, 0x3d, 0xa0, 0x4f, 0xb0, 0x3d, 0xa7, 0x71, 0x24, 0xbe,\r\n",
      "  0xaf, 0x2f, 0x15, 0xbd, 0xa8, 0xbf, 0xa2, 0x3b, 0xad, 0x93, 0x98, 0x3d,\r\n",
      "  0xb6, 0x9f, 0x07, 0x3d, 0x8a, 0xff, 0x58, 0xbd, 0xb3, 0x67, 0x0e, 0x3e,\r\n",
      "  0xb6, 0x9f, 0x87, 0x3c, 0xdf, 0x28, 0x21, 0xbc, 0x17, 0x73, 0xc9, 0x3c,\r\n",
      "  0xfb, 0x4d, 0xb5, 0xbc, 0x8d, 0xe6, 0x1f, 0x3e, 0x3c, 0xa4, 0x9e, 0x3d,\r\n",
      "  0x3c, 0xa4, 0x9e, 0xbd, 0x89, 0x60, 0x3f, 0x3d, 0x51, 0x16, 0x17, 0xbd,\r\n",
      "  0xae, 0x91, 0x94, 0xbd, 0xdf, 0x28, 0xa1, 0x3c, 0x9e, 0xd2, 0xb7, 0x3d,\r\n",
      "  0x4e, 0xbd, 0xf1, 0xbb, 0xb4, 0x44, 0x30, 0xbd, 0x1d, 0x26, 0xe5, 0xbd,\r\n",
      "  0xe5, 0xdb, 0xbc, 0xbd, 0xdf, 0x28, 0xa1, 0x3a, 0x17, 0x73, 0xc9, 0xbc,\r\n",
      "  0x5e, 0x7c, 0x4e, 0xbd, 0x5e, 0x7c, 0x4e, 0xbd, 0xb4, 0x44, 0xb0, 0x3d,\r\n",
      "  0xdf, 0x28, 0x21, 0xbb, 0xe5, 0xdb, 0xbc, 0x3d, 0xc3, 0x03, 0x0d, 0x3c,\r\n",
      "  0xd0, 0x69, 0x44, 0xbd, 0x17, 0x73, 0xc9, 0x3c, 0x01, 0x01, 0xd1, 0x3d,\r\n",
      "  0x42, 0x57, 0xba, 0x3d, 0x7c, 0xfa, 0x07, 0xbd, 0xfb, 0x4d, 0xb5, 0xbd,\r\n",
      "  0x1d, 0x26, 0xe5, 0xbd, 0xfb, 0x4d, 0xb5, 0xbc, 0x35, 0xf1, 0x02, 0xbe,\r\n",
      "  0x92, 0x6c, 0x80, 0xbd, 0x0a, 0x0d, 0x12, 0x3d, 0x00, 0x00, 0x00, 0x00,\r\n",
      "  0xec, 0x8e, 0xd8, 0x3d, 0x4e, 0xbd, 0xf1, 0x3c, 0xc3, 0x03, 0x0d, 0xbc,\r\n",
      "  0x17, 0x73, 0x49, 0xbd, 0x51, 0x16, 0x97, 0xbd, 0xae, 0x91, 0x94, 0xbd,\r\n",
      "  0x0a, 0x0d, 0x92, 0x3d, 0x42, 0x57, 0x3a, 0xbd, 0x35, 0xf1, 0x82, 0xbc,\r\n",
      "  0x00, 0x00, 0x00, 0x00, 0xc1, 0xaa, 0xe7, 0xbd, 0x9e, 0xd2, 0xb7, 0xbd,\r\n",
      "  0x5e, 0x7c, 0x4e, 0xbd, 0x4e, 0xbd, 0xf1, 0xbb, 0x82, 0xad, 0xa3, 0x3d,\r\n",
      "  0x51, 0x16, 0x17, 0x3d, 0x17, 0x73, 0xc9, 0x3d, 0x57, 0xc9, 0xb2, 0xbd,\r\n",
      "  0xce, 0x3c, 0x09, 0x3e, 0x10, 0xc0, 0xad, 0xbd, 0xec, 0x8e, 0xd8, 0xbd,\r\n",
      "  0x17, 0x73, 0x49, 0xbc, 0x0a, 0x0d, 0x12, 0xbd, 0xdf, 0x28, 0x21, 0x3c,\r\n",
      "  0x39, 0x4b, 0xf9, 0x3d, 0x35, 0xf1, 0x82, 0x3c, 0x33, 0x98, 0xdd, 0xbc,\r\n",
      "  0xdf, 0x28, 0xa1, 0xbb, 0xb4, 0x44, 0x30, 0xbd, 0x6f, 0xe7, 0xc6, 0xbc,\r\n",
      "  0x4b, 0xa1, 0x78, 0x3d, 0x4b, 0xa1, 0x78, 0xbc, 0xeb, 0x4c, 0x0a, 0xbe,\r\n",
      "  0x34, 0xb0, 0x40, 0x3e, 0x6f, 0xe7, 0x46, 0xbc, 0xe6, 0x55, 0x53, 0xbd,\r\n",
      "  0x81, 0x0a, 0xae, 0x3d, 0x12, 0xfa, 0x00, 0x3e, 0x6f, 0xe7, 0x46, 0xbb,\r\n",
      "  0x5d, 0xc4, 0xdf, 0xbc, 0x46, 0xd3, 0x27, 0xbd, 0x93, 0x2d, 0x15, 0x3e,\r\n",
      "  0x46, 0xd3, 0x27, 0x3e, 0x4b, 0xa1, 0x78, 0xbc, 0x6f, 0xe7, 0x46, 0xbb,\r\n",
      "  0x58, 0xf6, 0x0e, 0x3d, 0x93, 0x2d, 0x15, 0xbc, 0x81, 0x0a, 0x2e, 0x3c,\r\n",
      "  0x46, 0xd3, 0xa7, 0xbd, 0xe1, 0x87, 0x82, 0xbd, 0x50, 0x98, 0x2f, 0x3e,\r\n",
      "  0xaa, 0x1e, 0x4d, 0xbd, 0x93, 0x2d, 0x95, 0x3c, 0x21, 0x8d, 0x59, 0x3d,\r\n",
      "  0x21, 0x8d, 0xd9, 0x3d, 0x89, 0x68, 0x0d, 0xbe, 0x93, 0x2d, 0x95, 0xbb,\r\n",
      "  0xd4, 0x32, 0x6c, 0xbd, 0xf8, 0x78, 0x3a, 0xbd, 0x4b, 0xa1, 0x78, 0xbc,\r\n",
      "  0x4b, 0xa1, 0x78, 0xbd, 0x1c, 0xbf, 0x88, 0x3c, 0x0a, 0x9c, 0xa1, 0xbc,\r\n",
      "  0x4b, 0xa1, 0xf8, 0x3b, 0x31, 0x49, 0x98, 0x3d, 0x93, 0x2d, 0x15, 0x3c,\r\n",
      "  0x0a, 0x9c, 0xa1, 0x3d, 0x0f, 0x6a, 0xf2, 0x3d, 0x84, 0x71, 0xd6, 0xbd,\r\n",
      "  0x58, 0xf6, 0x0e, 0x3d, 0x81, 0x0a, 0x2e, 0x3c, 0x98, 0xfb, 0xe5, 0xbd,\r\n",
      "  0x0f, 0x6a, 0x72, 0xbd, 0x77, 0x45, 0x26, 0x3e, 0x4b, 0xa1, 0xf8, 0xbb,\r\n",
      "  0x58, 0xf6, 0x8e, 0xbd, 0x93, 0x2d, 0x95, 0x3c, 0x6f, 0xe7, 0xc6, 0xbd,\r\n",
      "  0x98, 0xfb, 0xe5, 0xbd, 0x6f, 0xe7, 0xc6, 0xbb, 0xe1, 0x87, 0x02, 0xbe,\r\n",
      "  0x81, 0x0a, 0xae, 0x3c, 0x4b, 0xa1, 0x78, 0x3d, 0x4b, 0xa1, 0x78, 0x3c,\r\n",
      "  0xd4, 0x32, 0xec, 0x3c, 0xcf, 0x64, 0x9b, 0xbd, 0xd4, 0x32, 0xec, 0x3c,\r\n",
      "  0x6f, 0xe7, 0xc6, 0x3a, 0xe6, 0x55, 0x53, 0xbd, 0xe6, 0x55, 0xd3, 0xbd,\r\n",
      "  0x34, 0xb0, 0x40, 0x3d, 0x5d, 0xc4, 0x5f, 0xbd, 0xa0, 0x59, 0x45, 0xbe,\r\n",
      "  0x66, 0xd5, 0x20, 0xbe, 0x5f, 0x10, 0x26, 0xbe, 0x2b, 0xe9, 0x9c, 0xbc,\r\n",
      "  0xc8, 0x22, 0x66, 0x3c, 0xcb, 0x5f, 0x85, 0xbd, 0x0f, 0xd5, 0xb1, 0x3c,\r\n",
      "  0x92, 0x37, 0xaf, 0xbd, 0xd2, 0x24, 0x00, 0xbe, 0x36, 0x36, 0xf3, 0xbd,\r\n",
      "  0x01, 0x4b, 0x3c, 0xbc, 0x28, 0xac, 0xfd, 0xbd, 0x89, 0xae, 0x06, 0xbe,\r\n",
      "  0x01, 0x4b, 0x3c, 0xbd, 0x39, 0x73, 0x12, 0xbc, 0x40, 0x38, 0x0d, 0xbd,\r\n",
      "  0xd6, 0xac, 0x5b, 0xbd, 0x39, 0x73, 0x12, 0x3d, 0x36, 0x36, 0xf3, 0xbd,\r\n",
      "  0x01, 0x4b, 0xbc, 0xbd, 0x1d, 0x5f, 0xa7, 0xbc, 0x1d, 0x5f, 0xa7, 0x3d,\r\n",
      "  0x40, 0x38, 0x0d, 0x3d, 0x44, 0xc0, 0xe8, 0xbd, 0xf2, 0xc0, 0x46, 0x3d,\r\n",
      "  0xba, 0x98, 0x70, 0x3d, 0xcb, 0x5f, 0x05, 0xbe, 0x24, 0x24, 0x22, 0x3d,\r\n",
      "  0xcf, 0xe7, 0x60, 0xbd, 0x0f, 0xd5, 0x31, 0x3d, 0x01, 0x4b, 0x3c, 0x3d,\r\n",
      "  0x40, 0x38, 0x0d, 0x3e, 0xac, 0x0e, 0x7b, 0x3b, 0x0f, 0xd5, 0x31, 0x3d,\r\n",
      "  0x99, 0xfc, 0xa9, 0x3d, 0x53, 0x4a, 0xde, 0x3d, 0x01, 0x4b, 0xbc, 0x3d,\r\n",
      "  0xd6, 0xac, 0x5b, 0xbd, 0xf2, 0xc0, 0x46, 0xbd, 0x89, 0xae, 0x06, 0xbe,\r\n",
      "  0xac, 0x0e, 0xfb, 0x3b, 0x7d, 0xe8, 0xbe, 0x3d, 0x1d, 0x5f, 0x27, 0xbc,\r\n",
      "  0x4f, 0xc2, 0x02, 0x3d, 0xc1, 0x5d, 0x6b, 0x3d, 0x0f, 0xd5, 0x31, 0x3d,\r\n",
      "  0x39, 0x73, 0x12, 0x3c, 0xeb, 0xfb, 0x4b, 0x3d, 0xd6, 0xac, 0x5b, 0xbd,\r\n",
      "  0xf2, 0xc0, 0xc6, 0x3c, 0x68, 0x99, 0xce, 0x3d, 0xf2, 0xc0, 0xc6, 0xbc,\r\n",
      "  0x2b, 0xe9, 0x9c, 0x3c, 0xac, 0x0e, 0xfb, 0xbb, 0xe4, 0x36, 0x51, 0xbd,\r\n",
      "  0xe4, 0x36, 0xd1, 0x3d, 0xe4, 0x36, 0x51, 0xbd, 0xfa, 0x85, 0x41, 0x3d,\r\n",
      "  0xcb, 0x5f, 0x85, 0x3d, 0x1d, 0x5f, 0x27, 0x3d, 0xc8, 0x22, 0x66, 0xbd,\r\n",
      "  0x16, 0x9a, 0x2c, 0xbd, 0x0f, 0xd5, 0xb1, 0x3c, 0x4f, 0xc2, 0x02, 0x3e,\r\n",
      "  0xc1, 0x5d, 0x6b, 0x3d, 0xa1, 0xc3, 0x00, 0x3e, 0xc8, 0x3d, 0xb7, 0xbd,\r\n",
      "  0x47, 0x19, 0xc6, 0xbc, 0x47, 0x19, 0x46, 0x3d, 0x47, 0x19, 0xc6, 0x3b,\r\n",
      "  0x9f, 0x7a, 0x9e, 0x3b, 0x8c, 0x3d, 0x03, 0x3e, 0x98, 0x9f, 0xf7, 0x3c,\r\n",
      "  0x33, 0xdc, 0xaa, 0x3d, 0x8c, 0x3d, 0x83, 0xbd, 0x9d, 0x31, 0xbc, 0xbc,\r\n",
      "  0xee, 0xb7, 0xed, 0xbb, 0xf3, 0x49, 0x32, 0x3d, 0x9d, 0x31, 0xbc, 0x3c,\r\n",
      "  0x56, 0x6e, 0x09, 0x3e, 0x9f, 0x7a, 0x1e, 0x3b, 0x9d, 0x31, 0xbc, 0x3d,\r\n",
      "  0x45, 0xd0, 0x63, 0xbd, 0xa1, 0xc3, 0x80, 0xbd, 0x8c, 0x3d, 0x83, 0x3d,\r\n",
      "  0xf5, 0x92, 0x94, 0xbc, 0xee, 0xb7, 0xed, 0xbc, 0x47, 0x19, 0x46, 0xbd,\r\n",
      "  0x1c, 0x0d, 0xcb, 0x3d, 0x76, 0xb7, 0x05, 0x3d, 0xc8, 0x3d, 0xb7, 0xbd,\r\n",
      "  0x72, 0x25, 0x41, 0xbd, 0x49, 0x62, 0x28, 0xbd, 0xca, 0x86, 0x19, 0xbd,\r\n",
      "  0x4b, 0xab, 0x0a, 0x3d, 0xa1, 0xc3, 0x00, 0x3e, 0xf3, 0x49, 0xb2, 0x3d,\r\n",
      "  0xb0, 0x6e, 0xd7, 0xbd, 0xe0, 0x0c, 0x97, 0xbd, 0x9f, 0x7a, 0x9e, 0x3b,\r\n",
      "  0xc8, 0x3d, 0xb7, 0x3d, 0x06, 0x87, 0xcd, 0x3d, 0x9f, 0x7a, 0x9e, 0x3a,\r\n",
      "  0x49, 0x62, 0xa8, 0xbd, 0x9d, 0x31, 0xbc, 0x3d, 0x45, 0xd0, 0xe3, 0x3c,\r\n",
      "  0xc6, 0xf4, 0x54, 0x3d, 0x61, 0x31, 0x88, 0xbd, 0x9f, 0x7a, 0x1e, 0x3d,\r\n",
      "  0x4b, 0xab, 0x8a, 0xbd, 0x9d, 0x31, 0x3c, 0xbd, 0xd9, 0x31, 0xf0, 0xbd,\r\n",
      "  0x76, 0xb7, 0x05, 0x3d, 0x4b, 0xab, 0x8a, 0xbd, 0x4b, 0xab, 0x8a, 0x3c,\r\n",
      "  0x47, 0x19, 0xc6, 0xbb, 0xf3, 0x49, 0x32, 0x3c, 0x0b, 0x19, 0x12, 0xbe,\r\n",
      "  0x1a, 0xc4, 0x68, 0xbd, 0x74, 0x6e, 0xa3, 0x3d, 0x76, 0xb7, 0x85, 0xbd,\r\n",
      "  0x9f, 0x7a, 0x9e, 0xbd, 0xdd, 0xc3, 0xb4, 0xbd, 0x20, 0x9f, 0x8f, 0xbd,\r\n",
      "  0xae, 0x25, 0xf5, 0xbd, 0xf1, 0x00, 0x50, 0x3d, 0xaa, 0x3d, 0x1d, 0xbe,\r\n",
      "  0x1c, 0x0d, 0x4b, 0xbd, 0xf3, 0x49, 0x32, 0xbc, 0x08, 0xf5, 0xff, 0xff,\r\n",
      "  0x0c, 0xf5, 0xff, 0xff, 0x0f, 0x00, 0x00, 0x00, 0x4d, 0x4c, 0x49, 0x52,\r\n",
      "  0x20, 0x43, 0x6f, 0x6e, 0x76, 0x65, 0x72, 0x74, 0x65, 0x64, 0x2e, 0x00,\r\n",
      "  0x01, 0x00, 0x00, 0x00, 0x14, 0x00, 0x00, 0x00, 0x00, 0x00, 0x0e, 0x00,\r\n",
      "  0x18, 0x00, 0x14, 0x00, 0x10, 0x00, 0x0c, 0x00, 0x08, 0x00, 0x04, 0x00,\r\n",
      "  0x0e, 0x00, 0x00, 0x00, 0x14, 0x00, 0x00, 0x00, 0x1c, 0x00, 0x00, 0x00,\r\n",
      "  0xf8, 0x01, 0x00, 0x00, 0xfc, 0x01, 0x00, 0x00, 0x00, 0x02, 0x00, 0x00,\r\n",
      "  0x04, 0x00, 0x00, 0x00, 0x6d, 0x61, 0x69, 0x6e, 0x00, 0x00, 0x00, 0x00,\r\n",
      "  0x08, 0x00, 0x00, 0x00, 0xa4, 0x01, 0x00, 0x00, 0x40, 0x01, 0x00, 0x00,\r\n",
      "  0x0c, 0x01, 0x00, 0x00, 0xac, 0x00, 0x00, 0x00, 0x84, 0x00, 0x00, 0x00,\r\n",
      "  0x4c, 0x00, 0x00, 0x00, 0x28, 0x00, 0x00, 0x00, 0x04, 0x00, 0x00, 0x00,\r\n",
      "  0x16, 0xff, 0xff, 0xff, 0x0c, 0x00, 0x00, 0x00, 0x10, 0x00, 0x00, 0x00,\r\n",
      "  0x07, 0x00, 0x00, 0x00, 0x01, 0x00, 0x00, 0x00, 0x0e, 0x00, 0x00, 0x00,\r\n",
      "  0x01, 0x00, 0x00, 0x00, 0x0d, 0x00, 0x00, 0x00, 0x36, 0xff, 0xff, 0xff,\r\n",
      "  0x0c, 0x00, 0x00, 0x00, 0x10, 0x00, 0x00, 0x00, 0x06, 0x00, 0x00, 0x00,\r\n",
      "  0x01, 0x00, 0x00, 0x00, 0x0d, 0x00, 0x00, 0x00, 0x01, 0x00, 0x00, 0x00,\r\n",
      "  0x0c, 0x00, 0x00, 0x00, 0x2a, 0xff, 0xff, 0xff, 0x14, 0x00, 0x00, 0x00,\r\n",
      "  0x00, 0x00, 0x00, 0x08, 0x10, 0x00, 0x00, 0x00, 0x14, 0x00, 0x00, 0x00,\r\n",
      "  0x05, 0x00, 0x00, 0x00, 0xdc, 0xf5, 0xff, 0xff, 0x01, 0x00, 0x00, 0x00,\r\n",
      "  0x0c, 0x00, 0x00, 0x00, 0x03, 0x00, 0x00, 0x00, 0x0a, 0x00, 0x00, 0x00,\r\n",
      "  0x0b, 0x00, 0x00, 0x00, 0x05, 0x00, 0x00, 0x00, 0x8a, 0xff, 0xff, 0xff,\r\n",
      "  0x0c, 0x00, 0x00, 0x00, 0x10, 0x00, 0x00, 0x00, 0x04, 0x00, 0x00, 0x00,\r\n",
      "  0x01, 0x00, 0x00, 0x00, 0x0a, 0x00, 0x00, 0x00, 0x02, 0x00, 0x00, 0x00,\r\n",
      "  0x09, 0x00, 0x00, 0x00, 0x03, 0x00, 0x00, 0x00, 0x82, 0xff, 0xff, 0xff,\r\n",
      "  0x24, 0x00, 0x00, 0x00, 0x00, 0x00, 0x00, 0x05, 0x34, 0x00, 0x00, 0x00,\r\n",
      "  0x38, 0x00, 0x00, 0x00, 0x03, 0x00, 0x00, 0x00, 0x00, 0x00, 0x0e, 0x00,\r\n",
      "  0x18, 0x00, 0x17, 0x00, 0x10, 0x00, 0x0c, 0x00, 0x08, 0x00, 0x04, 0x00,\r\n",
      "  0x0e, 0x00, 0x00, 0x00, 0x02, 0x00, 0x00, 0x00, 0x02, 0x00, 0x00, 0x00,\r\n",
      "  0x02, 0x00, 0x00, 0x00, 0x02, 0x00, 0x00, 0x00, 0x00, 0x00, 0x00, 0x01,\r\n",
      "  0x01, 0x00, 0x00, 0x00, 0x09, 0x00, 0x00, 0x00, 0x01, 0x00, 0x00, 0x00,\r\n",
      "  0x08, 0x00, 0x00, 0x00, 0x00, 0x00, 0x0a, 0x00, 0x10, 0x00, 0x0c, 0x00,\r\n",
      "  0x08, 0x00, 0x04, 0x00, 0x0a, 0x00, 0x00, 0x00, 0x0c, 0x00, 0x00, 0x00,\r\n",
      "  0x10, 0x00, 0x00, 0x00, 0x02, 0x00, 0x00, 0x00, 0x01, 0x00, 0x00, 0x00,\r\n",
      "  0x08, 0x00, 0x00, 0x00, 0x01, 0x00, 0x00, 0x00, 0x07, 0x00, 0x00, 0x00,\r\n",
      "  0x00, 0x00, 0x0e, 0x00, 0x18, 0x00, 0x14, 0x00, 0x10, 0x00, 0x0c, 0x00,\r\n",
      "  0x0b, 0x00, 0x04, 0x00, 0x0e, 0x00, 0x00, 0x00, 0x20, 0x00, 0x00, 0x00,\r\n",
      "  0x00, 0x00, 0x00, 0x01, 0x2c, 0x00, 0x00, 0x00, 0x30, 0x00, 0x00, 0x00,\r\n",
      "  0x01, 0x00, 0x00, 0x00, 0x0c, 0x00, 0x14, 0x00, 0x13, 0x00, 0x0c, 0x00,\r\n",
      "  0x08, 0x00, 0x07, 0x00, 0x0c, 0x00, 0x00, 0x00, 0x00, 0x00, 0x00, 0x01,\r\n",
      "  0x02, 0x00, 0x00, 0x00, 0x02, 0x00, 0x00, 0x00, 0x00, 0x00, 0x00, 0x01,\r\n",
      "  0x01, 0x00, 0x00, 0x00, 0x07, 0x00, 0x00, 0x00, 0x03, 0x00, 0x00, 0x00,\r\n",
      "  0x06, 0x00, 0x00, 0x00, 0x01, 0x00, 0x00, 0x00, 0x04, 0x00, 0x00, 0x00,\r\n",
      "  0x00, 0x00, 0x0e, 0x00, 0x14, 0x00, 0x00, 0x00, 0x10, 0x00, 0x0c, 0x00,\r\n",
      "  0x0b, 0x00, 0x04, 0x00, 0x0e, 0x00, 0x00, 0x00, 0x18, 0x00, 0x00, 0x00,\r\n",
      "  0x00, 0x00, 0x00, 0x4a, 0x18, 0x00, 0x00, 0x00, 0x1c, 0x00, 0x00, 0x00,\r\n",
      "  0x08, 0x00, 0x08, 0x00, 0x00, 0x00, 0x07, 0x00, 0x08, 0x00, 0x00, 0x00,\r\n",
      "  0x00, 0x00, 0x00, 0x01, 0x01, 0x00, 0x00, 0x00, 0x06, 0x00, 0x00, 0x00,\r\n",
      "  0x02, 0x00, 0x00, 0x00, 0x00, 0x00, 0x00, 0x00, 0x02, 0x00, 0x00, 0x00,\r\n",
      "  0x01, 0x00, 0x00, 0x00, 0x0e, 0x00, 0x00, 0x00, 0x01, 0x00, 0x00, 0x00,\r\n",
      "  0x00, 0x00, 0x00, 0x00, 0x0f, 0x00, 0x00, 0x00, 0x7c, 0x08, 0x00, 0x00,\r\n",
      "  0xc4, 0x07, 0x00, 0x00, 0x5c, 0x07, 0x00, 0x00, 0xfc, 0x06, 0x00, 0x00,\r\n",
      "  0xa0, 0x06, 0x00, 0x00, 0x14, 0x06, 0x00, 0x00, 0x94, 0x05, 0x00, 0x00,\r\n",
      "  0xbc, 0x04, 0x00, 0x00, 0x64, 0x03, 0x00, 0x00, 0xb8, 0x02, 0x00, 0x00,\r\n",
      "  0x3c, 0x02, 0x00, 0x00, 0x94, 0x01, 0x00, 0x00, 0xe4, 0x00, 0x00, 0x00,\r\n",
      "  0x60, 0x00, 0x00, 0x00, 0x04, 0x00, 0x00, 0x00, 0xd6, 0xf7, 0xff, 0xff,\r\n",
      "  0x00, 0x00, 0x00, 0x01, 0x14, 0x00, 0x00, 0x00, 0x1c, 0x00, 0x00, 0x00,\r\n",
      "  0x1c, 0x00, 0x00, 0x00, 0x0f, 0x00, 0x00, 0x00, 0x34, 0x00, 0x00, 0x00,\r\n",
      "  0x02, 0x00, 0x00, 0x00, 0xff, 0xff, 0xff, 0xff, 0x01, 0x00, 0x00, 0x00,\r\n",
      "  0xb8, 0xf7, 0xff, 0xff, 0x19, 0x00, 0x00, 0x00, 0x53, 0x74, 0x61, 0x74,\r\n",
      "  0x65, 0x66, 0x75, 0x6c, 0x50, 0x61, 0x72, 0x74, 0x69, 0x74, 0x69, 0x6f,\r\n",
      "  0x6e, 0x65, 0x64, 0x43, 0x61, 0x6c, 0x6c, 0x3a, 0x30, 0x00, 0x00, 0x00,\r\n",
      "  0x02, 0x00, 0x00, 0x00, 0x01, 0x00, 0x00, 0x00, 0x01, 0x00, 0x00, 0x00,\r\n",
      "  0x26, 0xfd, 0xff, 0xff, 0x00, 0x00, 0x00, 0x01, 0x18, 0x00, 0x00, 0x00,\r\n",
      "  0x20, 0x00, 0x00, 0x00, 0x40, 0x00, 0x00, 0x00, 0x0e, 0x00, 0x00, 0x00,\r\n",
      "  0x00, 0x00, 0x00, 0x09, 0x58, 0x00, 0x00, 0x00, 0x02, 0x00, 0x00, 0x00,\r\n",
      "  0xff, 0xff, 0xff, 0xff, 0x01, 0x00, 0x00, 0x00, 0x7c, 0xfa, 0xff, 0xff,\r\n",
      "  0x08, 0x00, 0x00, 0x00, 0x14, 0x00, 0x00, 0x00, 0x01, 0x00, 0x00, 0x00,\r\n",
      "  0x80, 0xff, 0xff, 0xff, 0xff, 0xff, 0xff, 0xff, 0x00, 0x00, 0x00, 0x00,\r\n",
      "  0x01, 0x00, 0x00, 0x00, 0x00, 0x00, 0x80, 0x3b, 0x1d, 0x00, 0x00, 0x00,\r\n",
      "  0x6d, 0x6f, 0x64, 0x65, 0x6c, 0x5f, 0x37, 0x2f, 0x71, 0x75, 0x61, 0x6e,\r\n",
      "  0x74, 0x5f, 0x64, 0x65, 0x6e, 0x73, 0x65, 0x5f, 0x39, 0x2f, 0x53, 0x69,\r\n",
      "  0x67, 0x6d, 0x6f, 0x69, 0x64, 0x00, 0x00, 0x00, 0x02, 0x00, 0x00, 0x00,\r\n",
      "  0x01, 0x00, 0x00, 0x00, 0x01, 0x00, 0x00, 0x00, 0xa6, 0xfd, 0xff, 0xff,\r\n",
      "  0x00, 0x00, 0x00, 0x01, 0x18, 0x00, 0x00, 0x00, 0x20, 0x00, 0x00, 0x00,\r\n",
      "  0x40, 0x00, 0x00, 0x00, 0x0d, 0x00, 0x00, 0x00, 0x00, 0x00, 0x00, 0x09,\r\n",
      "  0x74, 0x00, 0x00, 0x00, 0x02, 0x00, 0x00, 0x00, 0xff, 0xff, 0xff, 0xff,\r\n",
      "  0x01, 0x00, 0x00, 0x00, 0xfc, 0xfa, 0xff, 0xff, 0x08, 0x00, 0x00, 0x00,\r\n",
      "  0x14, 0x00, 0x00, 0x00, 0x01, 0x00, 0x00, 0x00, 0xdb, 0xff, 0xff, 0xff,\r\n",
      "  0xff, 0xff, 0xff, 0xff, 0x00, 0x00, 0x00, 0x00, 0x01, 0x00, 0x00, 0x00,\r\n",
      "  0xd2, 0x57, 0xc2, 0x3d, 0x3a, 0x00, 0x00, 0x00, 0x6d, 0x6f, 0x64, 0x65,\r\n",
      "  0x6c, 0x5f, 0x37, 0x2f, 0x71, 0x75, 0x61, 0x6e, 0x74, 0x5f, 0x64, 0x65,\r\n",
      "  0x6e, 0x73, 0x65, 0x5f, 0x39, 0x2f, 0x4d, 0x61, 0x74, 0x4d, 0x75, 0x6c,\r\n",
      "  0x3b, 0x6d, 0x6f, 0x64, 0x65, 0x6c, 0x5f, 0x37, 0x2f, 0x71, 0x75, 0x61,\r\n",
      "  0x6e, 0x74, 0x5f, 0x64, 0x65, 0x6e, 0x73, 0x65, 0x5f, 0x39, 0x2f, 0x42,\r\n",
      "  0x69, 0x61, 0x73, 0x41, 0x64, 0x64, 0x00, 0x00, 0x02, 0x00, 0x00, 0x00,\r\n",
      "  0x01, 0x00, 0x00, 0x00, 0x01, 0x00, 0x00, 0x00, 0x00, 0x00, 0x0e, 0x00,\r\n",
      "  0x18, 0x00, 0x14, 0x00, 0x13, 0x00, 0x0c, 0x00, 0x08, 0x00, 0x04, 0x00,\r\n",
      "  0x0e, 0x00, 0x00, 0x00, 0x14, 0x00, 0x00, 0x00, 0x30, 0x00, 0x00, 0x00,\r\n",
      "  0x0c, 0x00, 0x00, 0x00, 0x00, 0x00, 0x00, 0x09, 0x84, 0x00, 0x00, 0x00,\r\n",
      "  0x94, 0xfb, 0xff, 0xff, 0x08, 0x00, 0x00, 0x00, 0x10, 0x00, 0x00, 0x00,\r\n",
      "  0x01, 0x00, 0x00, 0x00, 0x00, 0x00, 0x00, 0x00, 0x00, 0x00, 0x00, 0x00,\r\n",
      "  0x01, 0x00, 0x00, 0x00, 0xd3, 0x83, 0xb1, 0x3b, 0x59, 0x00, 0x00, 0x00,\r\n",
      "  0x6d, 0x6f, 0x64, 0x65, 0x6c, 0x5f, 0x37, 0x2f, 0x71, 0x75, 0x61, 0x6e,\r\n",
      "  0x74, 0x5f, 0x64, 0x65, 0x6e, 0x73, 0x65, 0x5f, 0x39, 0x2f, 0x4d, 0x61,\r\n",
      "  0x74, 0x4d, 0x75, 0x6c, 0x3b, 0x6d, 0x6f, 0x64, 0x65, 0x6c, 0x5f, 0x37,\r\n",
      "  0x2f, 0x71, 0x75, 0x61, 0x6e, 0x74, 0x5f, 0x64, 0x65, 0x6e, 0x73, 0x65,\r\n",
      "  0x5f, 0x39, 0x2f, 0x4c, 0x61, 0x73, 0x74, 0x56, 0x61, 0x6c, 0x75, 0x65,\r\n",
      "  0x51, 0x75, 0x61, 0x6e, 0x74, 0x2f, 0x46, 0x61, 0x6b, 0x65, 0x51, 0x75,\r\n",
      "  0x61, 0x6e, 0x74, 0x57, 0x69, 0x74, 0x68, 0x4d, 0x69, 0x6e, 0x4d, 0x61,\r\n",
      "  0x78, 0x56, 0x61, 0x72, 0x73, 0x00, 0x00, 0x00, 0x02, 0x00, 0x00, 0x00,\r\n",
      "  0x01, 0x00, 0x00, 0x00, 0x20, 0x01, 0x00, 0x00, 0xf6, 0xfe, 0xff, 0xff,\r\n",
      "  0x00, 0x00, 0x00, 0x01, 0x18, 0x00, 0x00, 0x00, 0x20, 0x00, 0x00, 0x00,\r\n",
      "  0x3c, 0x00, 0x00, 0x00, 0x0b, 0x00, 0x00, 0x00, 0x00, 0x00, 0x00, 0x09,\r\n",
      "  0x50, 0x00, 0x00, 0x00, 0x02, 0x00, 0x00, 0x00, 0xff, 0xff, 0xff, 0xff,\r\n",
      "  0x20, 0x01, 0x00, 0x00, 0x4c, 0xfc, 0xff, 0xff, 0x08, 0x00, 0x00, 0x00,\r\n",
      "  0x10, 0x00, 0x00, 0x00, 0x01, 0x00, 0x00, 0x00, 0x92, 0xff, 0xff, 0xff,\r\n",
      "  0xff, 0xff, 0xff, 0xff, 0x01, 0x00, 0x00, 0x00, 0xdc, 0x99, 0x46, 0x3d,\r\n",
      "  0x19, 0x00, 0x00, 0x00, 0x6d, 0x6f, 0x64, 0x65, 0x6c, 0x5f, 0x37, 0x2f,\r\n",
      "  0x66, 0x6c, 0x61, 0x74, 0x74, 0x65, 0x6e, 0x5f, 0x35, 0x2f, 0x52, 0x65,\r\n",
      "  0x73, 0x68, 0x61, 0x70, 0x65, 0x00, 0x00, 0x00, 0x02, 0x00, 0x00, 0x00,\r\n",
      "  0x01, 0x00, 0x00, 0x00, 0x20, 0x01, 0x00, 0x00, 0x6e, 0xff, 0xff, 0xff,\r\n",
      "  0x00, 0x00, 0x00, 0x01, 0x18, 0x00, 0x00, 0x00, 0x28, 0x00, 0x00, 0x00,\r\n",
      "  0x48, 0x00, 0x00, 0x00, 0x0a, 0x00, 0x00, 0x00, 0x00, 0x00, 0x00, 0x09,\r\n",
      "  0x60, 0x00, 0x00, 0x00, 0x04, 0x00, 0x00, 0x00, 0xff, 0xff, 0xff, 0xff,\r\n",
      "  0x06, 0x00, 0x00, 0x00, 0x06, 0x00, 0x00, 0x00, 0x08, 0x00, 0x00, 0x00,\r\n",
      "  0xcc, 0xfc, 0xff, 0xff, 0x08, 0x00, 0x00, 0x00, 0x14, 0x00, 0x00, 0x00,\r\n",
      "  0x01, 0x00, 0x00, 0x00, 0x92, 0xff, 0xff, 0xff, 0xff, 0xff, 0xff, 0xff,\r\n",
      "  0x00, 0x00, 0x00, 0x00, 0x01, 0x00, 0x00, 0x00, 0xdc, 0x99, 0x46, 0x3d,\r\n",
      "  0x1f, 0x00, 0x00, 0x00, 0x6d, 0x6f, 0x64, 0x65, 0x6c, 0x5f, 0x37, 0x2f,\r\n",
      "  0x6d, 0x61, 0x78, 0x5f, 0x70, 0x6f, 0x6f, 0x6c, 0x69, 0x6e, 0x67, 0x32,\r\n",
      "  0x64, 0x5f, 0x35, 0x2f, 0x4d, 0x61, 0x78, 0x50, 0x6f, 0x6f, 0x6c, 0x00,\r\n",
      "  0x04, 0x00, 0x00, 0x00, 0x01, 0x00, 0x00, 0x00, 0x06, 0x00, 0x00, 0x00,\r\n",
      "  0x06, 0x00, 0x00, 0x00, 0x08, 0x00, 0x00, 0x00, 0x00, 0x00, 0x16, 0x00,\r\n",
      "  0x20, 0x00, 0x1c, 0x00, 0x1b, 0x00, 0x14, 0x00, 0x10, 0x00, 0x0c, 0x00,\r\n",
      "  0x00, 0x00, 0x00, 0x00, 0x08, 0x00, 0x07, 0x00, 0x16, 0x00, 0x00, 0x00,\r\n",
      "  0x00, 0x00, 0x00, 0x01, 0x18, 0x00, 0x00, 0x00, 0x28, 0x00, 0x00, 0x00,\r\n",
      "  0x48, 0x00, 0x00, 0x00, 0x09, 0x00, 0x00, 0x00, 0x00, 0x00, 0x00, 0x09,\r\n",
      "  0x24, 0x01, 0x00, 0x00, 0x04, 0x00, 0x00, 0x00, 0xff, 0xff, 0xff, 0xff,\r\n",
      "  0x0d, 0x00, 0x00, 0x00, 0x0d, 0x00, 0x00, 0x00, 0x08, 0x00, 0x00, 0x00,\r\n",
      "  0x74, 0xfd, 0xff, 0xff, 0x08, 0x00, 0x00, 0x00, 0x14, 0x00, 0x00, 0x00,\r\n",
      "  0x01, 0x00, 0x00, 0x00, 0x92, 0xff, 0xff, 0xff, 0xff, 0xff, 0xff, 0xff,\r\n",
      "  0x00, 0x00, 0x00, 0x00, 0x01, 0x00, 0x00, 0x00, 0xdc, 0x99, 0x46, 0x3d,\r\n",
      "  0xe2, 0x00, 0x00, 0x00, 0x6d, 0x6f, 0x64, 0x65, 0x6c, 0x5f, 0x37, 0x2f,\r\n",
      "  0x71, 0x75, 0x61, 0x6e, 0x74, 0x5f, 0x63, 0x6f, 0x6e, 0x76, 0x32, 0x64,\r\n",
      "  0x5f, 0x35, 0x2f, 0x4d, 0x6f, 0x76, 0x69, 0x6e, 0x67, 0x41, 0x76, 0x67,\r\n",
      "  0x51, 0x75, 0x61, 0x6e, 0x74, 0x69, 0x7a, 0x65, 0x2f, 0x46, 0x61, 0x6b,\r\n",
      "  0x65, 0x51, 0x75, 0x61, 0x6e, 0x74, 0x57, 0x69, 0x74, 0x68, 0x4d, 0x69,\r\n",
      "  0x6e, 0x4d, 0x61, 0x78, 0x56, 0x61, 0x72, 0x73, 0x3b, 0x6d, 0x6f, 0x64,\r\n",
      "  0x65, 0x6c, 0x5f, 0x37, 0x2f, 0x71, 0x75, 0x61, 0x6e, 0x74, 0x5f, 0x63,\r\n",
      "  0x6f, 0x6e, 0x76, 0x32, 0x64, 0x5f, 0x35, 0x2f, 0x4d, 0x6f, 0x76, 0x69,\r\n",
      "  0x6e, 0x67, 0x41, 0x76, 0x67, 0x51, 0x75, 0x61, 0x6e, 0x74, 0x69, 0x7a,\r\n",
      "  0x65, 0x2f, 0x46, 0x61, 0x6b, 0x65, 0x51, 0x75, 0x61, 0x6e, 0x74, 0x57,\r\n",
      "  0x69, 0x74, 0x68, 0x4d, 0x69, 0x6e, 0x4d, 0x61, 0x78, 0x56, 0x61, 0x72,\r\n",
      "  0x73, 0x2f, 0x52, 0x65, 0x61, 0x64, 0x56, 0x61, 0x72, 0x69, 0x61, 0x62,\r\n",
      "  0x6c, 0x65, 0x4f, 0x70, 0x3b, 0x6d, 0x6f, 0x64, 0x65, 0x6c, 0x5f, 0x37,\r\n",
      "  0x2f, 0x71, 0x75, 0x61, 0x6e, 0x74, 0x5f, 0x63, 0x6f, 0x6e, 0x76, 0x32,\r\n",
      "  0x64, 0x5f, 0x35, 0x2f, 0x4d, 0x6f, 0x76, 0x69, 0x6e, 0x67, 0x41, 0x76,\r\n",
      "  0x67, 0x51, 0x75, 0x61, 0x6e, 0x74, 0x69, 0x7a, 0x65, 0x2f, 0x46, 0x61,\r\n",
      "  0x6b, 0x65, 0x51, 0x75, 0x61, 0x6e, 0x74, 0x57, 0x69, 0x74, 0x68, 0x4d,\r\n",
      "  0x69, 0x6e, 0x4d, 0x61, 0x78, 0x56, 0x61, 0x72, 0x73, 0x2f, 0x52, 0x65,\r\n",
      "  0x61, 0x64, 0x56, 0x61, 0x72, 0x69, 0x61, 0x62, 0x6c, 0x65, 0x4f, 0x70,\r\n",
      "  0x5f, 0x31, 0x00, 0x00, 0x04, 0x00, 0x00, 0x00, 0x01, 0x00, 0x00, 0x00,\r\n",
      "  0x0d, 0x00, 0x00, 0x00, 0x0d, 0x00, 0x00, 0x00, 0x08, 0x00, 0x00, 0x00,\r\n",
      "  0x72, 0xfc, 0xff, 0xff, 0x00, 0x00, 0x00, 0x01, 0x14, 0x00, 0x00, 0x00,\r\n",
      "  0x24, 0x00, 0x00, 0x00, 0x24, 0x00, 0x00, 0x00, 0x08, 0x00, 0x00, 0x00,\r\n",
      "  0xa8, 0x00, 0x00, 0x00, 0x04, 0x00, 0x00, 0x00, 0xff, 0xff, 0xff, 0xff,\r\n",
      "  0x0d, 0x00, 0x00, 0x00, 0x0d, 0x00, 0x00, 0x00, 0x08, 0x00, 0x00, 0x00,\r\n",
      "  0x5c, 0xfc, 0xff, 0xff, 0x86, 0x00, 0x00, 0x00, 0x6d, 0x6f, 0x64, 0x65,\r\n",
      "  0x6c, 0x5f, 0x37, 0x2f, 0x71, 0x75, 0x61, 0x6e, 0x74, 0x5f, 0x63, 0x6f,\r\n",
      "  0x6e, 0x76, 0x32, 0x64, 0x5f, 0x35, 0x2f, 0x52, 0x65, 0x6c, 0x75, 0x3b,\r\n",
      "  0x6d, 0x6f, 0x64, 0x65, 0x6c, 0x5f, 0x37, 0x2f, 0x71, 0x75, 0x61, 0x6e,\r\n",
      "  0x74, 0x5f, 0x63, 0x6f, 0x6e, 0x76, 0x32, 0x64, 0x5f, 0x35, 0x2f, 0x42,\r\n",
      "  0x69, 0x61, 0x73, 0x41, 0x64, 0x64, 0x3b, 0x6d, 0x6f, 0x64, 0x65, 0x6c,\r\n",
      "  0x5f, 0x37, 0x2f, 0x71, 0x75, 0x61, 0x6e, 0x74, 0x5f, 0x63, 0x6f, 0x6e,\r\n",
      "  0x76, 0x32, 0x64, 0x5f, 0x35, 0x2f, 0x43, 0x6f, 0x6e, 0x76, 0x32, 0x44,\r\n",
      "  0x3b, 0x6d, 0x6f, 0x64, 0x65, 0x6c, 0x5f, 0x37, 0x2f, 0x71, 0x75, 0x61,\r\n",
      "  0x6e, 0x74, 0x5f, 0x63, 0x6f, 0x6e, 0x76, 0x32, 0x64, 0x5f, 0x35, 0x2f,\r\n",
      "  0x42, 0x69, 0x61, 0x73, 0x41, 0x64, 0x64, 0x2f, 0x52, 0x65, 0x61, 0x64,\r\n",
      "  0x56, 0x61, 0x72, 0x69, 0x61, 0x62, 0x6c, 0x65, 0x4f, 0x70, 0x00, 0x00,\r\n",
      "  0x04, 0x00, 0x00, 0x00, 0x01, 0x00, 0x00, 0x00, 0x0d, 0x00, 0x00, 0x00,\r\n",
      "  0x0d, 0x00, 0x00, 0x00, 0x08, 0x00, 0x00, 0x00, 0x46, 0xfd, 0xff, 0xff,\r\n",
      "  0x00, 0x00, 0x00, 0x01, 0x14, 0x00, 0x00, 0x00, 0x24, 0x00, 0x00, 0x00,\r\n",
      "  0x24, 0x00, 0x00, 0x00, 0x07, 0x00, 0x00, 0x00, 0x50, 0x00, 0x00, 0x00,\r\n",
      "  0x04, 0x00, 0x00, 0x00, 0xff, 0xff, 0xff, 0xff, 0x20, 0x00, 0x00, 0x00,\r\n",
      "  0x20, 0x00, 0x00, 0x00, 0x01, 0x00, 0x00, 0x00, 0x30, 0xfd, 0xff, 0xff,\r\n",
      "  0x2f, 0x00, 0x00, 0x00, 0x6d, 0x6f, 0x64, 0x65, 0x6c, 0x5f, 0x37, 0x2f,\r\n",
      "  0x72, 0x65, 0x73, 0x69, 0x7a, 0x69, 0x6e, 0x67, 0x5f, 0x35, 0x2f, 0x72,\r\n",
      "  0x65, 0x73, 0x69, 0x7a, 0x65, 0x2f, 0x52, 0x65, 0x73, 0x69, 0x7a, 0x65,\r\n",
      "  0x4e, 0x65, 0x61, 0x72, 0x65, 0x73, 0x74, 0x4e, 0x65, 0x69, 0x67, 0x68,\r\n",
      "  0x62, 0x6f, 0x72, 0x00, 0x04, 0x00, 0x00, 0x00, 0x01, 0x00, 0x00, 0x00,\r\n",
      "  0x20, 0x00, 0x00, 0x00, 0x20, 0x00, 0x00, 0x00, 0x01, 0x00, 0x00, 0x00,\r\n",
      "  0xda, 0xfe, 0xff, 0xff, 0x00, 0x00, 0x00, 0x01, 0x20, 0x00, 0x00, 0x00,\r\n",
      "  0x40, 0x00, 0x00, 0x00, 0x06, 0x00, 0x00, 0x00, 0x00, 0x00, 0x00, 0x02,\r\n",
      "  0x68, 0x00, 0x00, 0x00, 0x0c, 0x00, 0x0c, 0x00, 0x00, 0x00, 0x00, 0x00,\r\n",
      "  0x08, 0x00, 0x04, 0x00, 0x0c, 0x00, 0x00, 0x00, 0x08, 0x00, 0x00, 0x00,\r\n",
      "  0x14, 0x00, 0x00, 0x00, 0x01, 0x00, 0x00, 0x00, 0x00, 0x00, 0x00, 0x00,\r\n",
      "  0x00, 0x00, 0x00, 0x00, 0x00, 0x00, 0x00, 0x00, 0x01, 0x00, 0x00, 0x00,\r\n",
      "  0xa5, 0xb6, 0x89, 0x39, 0x2c, 0x00, 0x00, 0x00, 0x6d, 0x6f, 0x64, 0x65,\r\n",
      "  0x6c, 0x5f, 0x37, 0x2f, 0x71, 0x75, 0x61, 0x6e, 0x74, 0x5f, 0x64, 0x65,\r\n",
      "  0x6e, 0x73, 0x65, 0x5f, 0x39, 0x2f, 0x42, 0x69, 0x61, 0x73, 0x41, 0x64,\r\n",
      "  0x64, 0x2f, 0x52, 0x65, 0x61, 0x64, 0x56, 0x61, 0x72, 0x69, 0x61, 0x62,\r\n",
      "  0x6c, 0x65, 0x4f, 0x70, 0x00, 0x00, 0x00, 0x00, 0x01, 0x00, 0x00, 0x00,\r\n",
      "  0x01, 0x00, 0x00, 0x00, 0xfe, 0xfe, 0xff, 0xff, 0x00, 0x00, 0x00, 0x01,\r\n",
      "  0x10, 0x00, 0x00, 0x00, 0x10, 0x00, 0x00, 0x00, 0x05, 0x00, 0x00, 0x00,\r\n",
      "  0x3c, 0x00, 0x00, 0x00, 0x1c, 0xfe, 0xff, 0xff, 0x2d, 0x00, 0x00, 0x00,\r\n",
      "  0x6d, 0x6f, 0x64, 0x65, 0x6c, 0x5f, 0x37, 0x2f, 0x71, 0x75, 0x61, 0x6e,\r\n",
      "  0x74, 0x5f, 0x63, 0x6f, 0x6e, 0x76, 0x32, 0x64, 0x5f, 0x35, 0x2f, 0x42,\r\n",
      "  0x69, 0x61, 0x73, 0x41, 0x64, 0x64, 0x2f, 0x52, 0x65, 0x61, 0x64, 0x56,\r\n",
      "  0x61, 0x72, 0x69, 0x61, 0x62, 0x6c, 0x65, 0x4f, 0x70, 0x00, 0x00, 0x00,\r\n",
      "  0x01, 0x00, 0x00, 0x00, 0x08, 0x00, 0x00, 0x00, 0xba, 0xff, 0xff, 0xff,\r\n",
      "  0x00, 0x00, 0x00, 0x01, 0x14, 0x00, 0x00, 0x00, 0x14, 0x00, 0x00, 0x00,\r\n",
      "  0x04, 0x00, 0x00, 0x00, 0x00, 0x00, 0x00, 0x02, 0x24, 0x00, 0x00, 0x00,\r\n",
      "  0x78, 0xfe, 0xff, 0xff, 0x17, 0x00, 0x00, 0x00, 0x6d, 0x6f, 0x64, 0x65,\r\n",
      "  0x6c, 0x5f, 0x37, 0x2f, 0x66, 0x6c, 0x61, 0x74, 0x74, 0x65, 0x6e, 0x5f,\r\n",
      "  0x35, 0x2f, 0x43, 0x6f, 0x6e, 0x73, 0x74, 0x00, 0x01, 0x00, 0x00, 0x00,\r\n",
      "  0x02, 0x00, 0x00, 0x00, 0x00, 0x00, 0x16, 0x00, 0x1c, 0x00, 0x18, 0x00,\r\n",
      "  0x17, 0x00, 0x10, 0x00, 0x0c, 0x00, 0x08, 0x00, 0x00, 0x00, 0x00, 0x00,\r\n",
      "  0x00, 0x00, 0x07, 0x00, 0x16, 0x00, 0x00, 0x00, 0x00, 0x00, 0x00, 0x01,\r\n",
      "  0x14, 0x00, 0x00, 0x00, 0x14, 0x00, 0x00, 0x00, 0x03, 0x00, 0x00, 0x00,\r\n",
      "  0x00, 0x00, 0x00, 0x02, 0x2c, 0x00, 0x00, 0x00, 0xd4, 0xfe, 0xff, 0xff,\r\n",
      "  0x1e, 0x00, 0x00, 0x00, 0x6d, 0x6f, 0x64, 0x65, 0x6c, 0x5f, 0x37, 0x2f,\r\n",
      "  0x72, 0x65, 0x73, 0x69, 0x7a, 0x69, 0x6e, 0x67, 0x5f, 0x35, 0x2f, 0x72,\r\n",
      "  0x65, 0x73, 0x69, 0x7a, 0x65, 0x2f, 0x73, 0x69, 0x7a, 0x65, 0x00, 0x00,\r\n",
      "  0x01, 0x00, 0x00, 0x00, 0x02, 0x00, 0x00, 0x00, 0x00, 0x00, 0x16, 0x00,\r\n",
      "  0x18, 0x00, 0x14, 0x00, 0x00, 0x00, 0x10, 0x00, 0x0c, 0x00, 0x08, 0x00,\r\n",
      "  0x00, 0x00, 0x00, 0x00, 0x00, 0x00, 0x07, 0x00, 0x16, 0x00, 0x00, 0x00,\r\n",
      "  0x00, 0x00, 0x00, 0x01, 0x10, 0x00, 0x00, 0x00, 0x10, 0x00, 0x00, 0x00,\r\n",
      "  0x02, 0x00, 0x00, 0x00, 0x74, 0x00, 0x00, 0x00, 0x34, 0xff, 0xff, 0xff,\r\n",
      "  0x65, 0x00, 0x00, 0x00, 0x6d, 0x6f, 0x64, 0x65, 0x6c, 0x5f, 0x37, 0x2f,\r\n",
      "  0x71, 0x75, 0x61, 0x6e, 0x74, 0x5f, 0x63, 0x6f, 0x6e, 0x76, 0x32, 0x64,\r\n",
      "  0x5f, 0x35, 0x2f, 0x43, 0x6f, 0x6e, 0x76, 0x32, 0x44, 0x3b, 0x6d, 0x6f,\r\n",
      "  0x64, 0x65, 0x6c, 0x5f, 0x37, 0x2f, 0x71, 0x75, 0x61, 0x6e, 0x74, 0x5f,\r\n",
      "  0x63, 0x6f, 0x6e, 0x76, 0x32, 0x64, 0x5f, 0x35, 0x2f, 0x4c, 0x61, 0x73,\r\n",
      "  0x74, 0x56, 0x61, 0x6c, 0x75, 0x65, 0x51, 0x75, 0x61, 0x6e, 0x74, 0x2f,\r\n",
      "  0x46, 0x61, 0x6b, 0x65, 0x51, 0x75, 0x61, 0x6e, 0x74, 0x57, 0x69, 0x74,\r\n",
      "  0x68, 0x4d, 0x69, 0x6e, 0x4d, 0x61, 0x78, 0x56, 0x61, 0x72, 0x73, 0x50,\r\n",
      "  0x65, 0x72, 0x43, 0x68, 0x61, 0x6e, 0x6e, 0x65, 0x6c, 0x00, 0x00, 0x00,\r\n",
      "  0x04, 0x00, 0x00, 0x00, 0x08, 0x00, 0x00, 0x00, 0x08, 0x00, 0x00, 0x00,\r\n",
      "  0x08, 0x00, 0x00, 0x00, 0x01, 0x00, 0x00, 0x00, 0x00, 0x00, 0x16, 0x00,\r\n",
      "  0x1c, 0x00, 0x18, 0x00, 0x00, 0x00, 0x14, 0x00, 0x10, 0x00, 0x0c, 0x00,\r\n",
      "  0x00, 0x00, 0x00, 0x00, 0x08, 0x00, 0x07, 0x00, 0x16, 0x00, 0x00, 0x00,\r\n",
      "  0x00, 0x00, 0x00, 0x01, 0x14, 0x00, 0x00, 0x00, 0x28, 0x00, 0x00, 0x00,\r\n",
      "  0x28, 0x00, 0x00, 0x00, 0x01, 0x00, 0x00, 0x00, 0x40, 0x00, 0x00, 0x00,\r\n",
      "  0x04, 0x00, 0x00, 0x00, 0xff, 0xff, 0xff, 0xff, 0xf9, 0x00, 0x00, 0x00,\r\n",
      "  0x01, 0x01, 0x00, 0x00, 0x01, 0x00, 0x00, 0x00, 0x04, 0x00, 0x04, 0x00,\r\n",
      "  0x04, 0x00, 0x00, 0x00, 0x19, 0x00, 0x00, 0x00, 0x73, 0x65, 0x72, 0x76,\r\n",
      "  0x69, 0x6e, 0x67, 0x5f, 0x64, 0x65, 0x66, 0x61, 0x75, 0x6c, 0x74, 0x5f,\r\n",
      "  0x69, 0x6e, 0x70, 0x75, 0x74, 0x5f, 0x36, 0x3a, 0x30, 0x00, 0x00, 0x00,\r\n",
      "  0x04, 0x00, 0x00, 0x00, 0x01, 0x00, 0x00, 0x00, 0xf9, 0x00, 0x00, 0x00,\r\n",
      "  0x01, 0x01, 0x00, 0x00, 0x01, 0x00, 0x00, 0x00, 0x08, 0x00, 0x00, 0x00,\r\n",
      "  0x9c, 0x00, 0x00, 0x00, 0x80, 0x00, 0x00, 0x00, 0x64, 0x00, 0x00, 0x00,\r\n",
      "  0x50, 0x00, 0x00, 0x00, 0x40, 0x00, 0x00, 0x00, 0x2c, 0x00, 0x00, 0x00,\r\n",
      "  0x18, 0x00, 0x00, 0x00, 0x04, 0x00, 0x00, 0x00, 0x90, 0xff, 0xff, 0xff,\r\n",
      "  0x06, 0x00, 0x00, 0x00, 0x02, 0x00, 0x00, 0x00, 0x00, 0x00, 0x00, 0x06,\r\n",
      "  0xa0, 0xff, 0xff, 0xff, 0x0e, 0x00, 0x00, 0x00, 0x02, 0x00, 0x00, 0x00,\r\n",
      "  0x00, 0x00, 0x00, 0x0e, 0xb0, 0xff, 0xff, 0xff, 0x09, 0x00, 0x00, 0x00,\r\n",
      "  0x04, 0x00, 0x00, 0x00, 0x00, 0x00, 0x00, 0x09, 0xd8, 0xff, 0xff, 0xff,\r\n",
      "  0x16, 0x00, 0x00, 0x00, 0x00, 0x00, 0x00, 0x16, 0xcc, 0xff, 0xff, 0xff,\r\n",
      "  0x11, 0x00, 0x00, 0x00, 0x02, 0x00, 0x00, 0x00, 0x00, 0x00, 0x00, 0x11,\r\n",
      "  0xf4, 0xff, 0xff, 0xff, 0x72, 0x00, 0x00, 0x00, 0x00, 0x00, 0x00, 0x72,\r\n",
      "  0x0c, 0x00, 0x0c, 0x00, 0x0b, 0x00, 0x00, 0x00, 0x00, 0x00, 0x04, 0x00,\r\n",
      "  0x0c, 0x00, 0x00, 0x00, 0x03, 0x00, 0x00, 0x00, 0x00, 0x00, 0x00, 0x03,\r\n",
      "  0x0c, 0x00, 0x10, 0x00, 0x0f, 0x00, 0x00, 0x00, 0x08, 0x00, 0x04, 0x00,\r\n",
      "  0x0c, 0x00, 0x00, 0x00, 0x61, 0x00, 0x00, 0x00, 0x03, 0x00, 0x00, 0x00,\r\n",
      "  0x00, 0x00, 0x00, 0x61\r\n",
      "};\r\n"
     ]
    }
   ],
   "source": [
    "!cat tf_lite_model/wake_word.tflite.h"
   ]
  },
  {
   "cell_type": "markdown",
   "id": "59f58a26",
   "metadata": {
    "slideshow": {
     "slide_type": "slide"
    }
   },
   "source": [
    "```bash\n",
    "alignas(8) const unsigned char tflite_model[] = {\n",
    "  0x20, 0x00, 0x00, 0x00, 0x54, 0x46, 0x4c, 0x33, 0x00, 0x00, 0x00, 0x00,\n",
    "  0x14, 0x00, 0x20, 0x00, 0x1c, 0x00, 0x18, 0x00, 0x14, 0x00, 0x10, 0x00,\n",
    "  0x0c, 0x00, 0x00, 0x00, 0x08, 0x00, 0x04, 0x00, 0x14, 0x00, 0x00, 0x00,\n",
    "  0x1c, 0x00, 0x00, 0x00, 0x88, 0x00, 0x00, 0x00, 0xe0, 0x00, 0x00, 0x00,\n",
    "  0x74, 0x0b, 0x00, 0x00, 0x84, 0x0b, 0x00, 0x00, 0x98, 0x16, 0x00, 0x00,\n",
    "  0x03, 0x00, 0x00, 0x00, 0x01, 0x00, 0x00, 0x00, 0x04, 0x00, 0x00, 0x00,\n",
    "  0x46, 0xf3, 0xff, 0xff, 0x0c, 0x00, 0x00, 0x00, 0x1c, 0x00, 0x00, 0x00,\n",
    "  0x40, 0x00, 0x00, 0x00, 0x0f, 0x00, 0x00, 0x00, 0x73, 0x65, 0x72, 0x76,\n",
    "  0x69, 0x6e, 0x67, 0x5f, 0x64, 0x65, 0x66, 0x61, 0x75, 0x6c, 0x74, 0x00,\n",
    "  0x01, 0x00, 0x00, 0x00, 0x04, 0x00, 0x00, 0x00, 0x94, 0xff, 0xff, 0xff,\n",
    "  0x0e, 0x00, 0x00, 0x00, 0x04, 0x00, 0x00, 0x00, 0x0d, 0x00, 0x00, 0x00,\n",
    "  0x71, 0x75, 0x61, 0x6e, 0x74, 0x5f, 0x64, 0x65, 0x6e, 0x73, 0x65, 0x5f,\n",
    "  0x33, 0x00, 0x00, 0x00, 0x01, 0x00, 0x00, 0x00, 0x04, 0x00, 0x00, 0x00,\n",
    "  0x12, 0xfd, 0xff, 0xff, 0x04, 0x00, 0x00, 0x00, 0x07, 0x00, 0x00, 0x00,\n",
    "  0x69, 0x6e, 0x70, 0x75, 0x74, 0x5f, 0x33, 0x00, 0x02, 0x00, 0x00, 0x00,\n",
    "  0x34, 0x00, 0x00, 0x00, 0x04, 0x00, 0x00, 0x00, 0xdc, 0xff, 0xff, 0xff,\n",
    "  0x11, 0x00, 0x00, 0x00, 0x04, 0x00, 0x00, 0x00, 0x13, 0x00, 0x00, 0x00,\n",
    "  0x43, 0x4f, 0x4e, 0x56, 0x45, 0x52, 0x53, 0x49, 0x4f, 0x4e, 0x5f, 0x4d,\n",
    "  0x45, 0x54, 0x41, 0x44, 0x41, 0x54, 0x41, 0x00, 0x08, 0x00, 0x0c, 0x00,\n",
    "  0x08, 0x00, 0x04, 0x00, 0x08, 0x00, 0x00, 0x00, 0x10, 0x00, 0x00, 0x00,\n",
    "  0x04, 0x00, 0x00, 0x00, 0x13, 0x00, 0x00, 0x00, 0x6d, 0x69, 0x6e, 0x5f,\n",
    "  0x72, 0x75, 0x6e, 0x74, 0x69, 0x6d, 0x65, 0x5f, 0x76, 0x65, 0x72, 0x73,\n",
    "  0x69, 0x6f, 0x6e, 0x00, 0x12, 0x00, 0x00, 0x00, 0x90, 0x0a, 0x00, 0x00,\n",
    "  0x88, 0x0a, 0x00, 0x00, 0x78, 0x02, 0x00, 0x00, 0x58, 0x02, 0x00, 0x00,\n",
    "  0x40, 0x02, 0x00, 0x00, 0x10, 0x02, 0x00, 0x00, 0xfc, 0x01, 0x00, 0x00,\n",
    "  0xf4, 0x01, 0x00, 0x00, 0xec, 0x01, 0x00, 0x00, 0xe4, 0x01, 0x00, 0x00,\n",
    "  0xdc, 0x01, 0x00, 0x00, 0xd4, 0x01, 0x00, 0x00, 0xa4, 0x00, 0x00, 0x00,\n",
    "  0x9c, 0x00, 0x00, 0x00, 0x94, 0x00, 0x00, 0x00, 0x8c, 0x00, 0x00, 0x00,\n",
    "  0x6c, 0x00, 0x00, 0x00, 0x04, 0x00, 0x00, 0x00, 0xce, 0xfd, 0xff, 0xff,\n",
    "  0x04, 0x00, 0x00, 0x00, 0x58, 0x00, 0x00, 0x00, 0x0c, 0x00, 0x00, 0x00,\n",
    "  0x08, 0x00, 0x0e, 0x00, 0x08, 0x00, 0x04, 0x00, 0x08, 0x00, 0x00, 0x00,\n",
    "  0x10, 0x00, 0x00, 0x00, 0x28, 0x00, 0x00, 0x00, 0x00, 0x00, 0x06, 0x00,\n",
    "  0x08, 0x00, 0x04, 0x00, 0x06, 0x00, 0x00, 0x00, 0x04, 0x00, 0x00, 0x00,\n",
    "  0x01, 0x00, 0x00, 0x00, 0xd0, 0x07, 0x00, 0x00, 0x00, 0x00, 0x0a, 0x00,\n",
    "  0x10, 0x00, 0x0c, 0x00, 0x08, 0x00, 0x04, 0x00, 0x0a, 0x00, 0x00, 0x00,\n",
    "  0x02, 0x00, 0x00, 0x00, 0x02, 0x00, 0x00, 0x00, 0x04, 0x00, 0x00, 0x00,\n",
    "  0x06, 0x00, 0x00, 0x00, 0x32, 0x2e, 0x31, 0x31, 0x2e, 0x30, 0x00, 0x00,\n",
    "  0x32, 0xfe, 0xff, 0xff, 0x04, 0x00, 0x00, 0x00, 0x10, 0x00, 0x00, 0x00,\n",
    "  0x32, 0x2e, 0x33, 0x2e, 0x30, 0x00, 0x00, 0x00, 0x00, 0x00, 0x00, 0x00,\n",
    "  0x00, 0x00, 0x00, 0x00, 0x44, 0xeb, 0xff, 0xff, 0x48, 0xeb, 0xff, 0xff,\n",
    "  0x4c, 0xeb, 0xff, 0xff, 0x5a, 0xfe, 0xff, 0xff, 0x04, 0x00, 0x00, 0x00,\n",
    "  0x20, 0x01, 0x00, 0x00, 0xf0, 0x3a, 0x3c, 0x1d, 0x17, 0xfa, 0xf6, 0x0d,\n",
    "  0xf3, 0xfc, 0xec, 0xd9, 0xfe, 0x01, 0xc5, 0xcb, 0x04, 0xd8, 0xe0, 0x08,\n",
    "  0xd6, 0x4e, 0xd1, 0xf1, 0xe9, 0xfd, 0x10, 0xe1, 0xef, 0x01, 0xd2, 0xef,\n",
    "  0xfd, 0xdd, 0x1d, 0xd3, 0x61, 0x06, 0x0b, 0x31, 0x21, 0x43, 0x34, 0x09,\n",
    "  0x44, 0x33, 0x27, 0x29, 0xed, 0x24, 0x37, 0xf8, 0x25, 0x16, 0xfb, 0x10,\n",
    "  0xfa, 0xfd, 0xf5, 0xda, 0xe1, 0x14, 0xd0, 0xea, 0x0e, 0xda, 0x11, 0xb5,\n",
    "  0x1b, 0x0a, 0xce, 0x20, 0xf4, 0xeb, 0x13, 0xc4, 0x16, 0xfe, 0xc2, 0x02,\n",
    "  0xee, 0x12, 0x14, 0xbf, 0x26, 0x53, 0x28, 0x13, 0x3b, 0x27, 0x30, 0xed,\n",
    "  0x7f, 0x66, 0x69, 0x49, 0xf8, 0x1f, 0x13, 0x06, 0x19, 0x1e, 0xee, 0xe5,\n",
    "  0xf2, 0x11, 0xe8, 0xf2, 0xde, 0x08, 0xbc, 0xf6, 0xce, 0x13, 0x08, 0xc3,\n",
    "  0x20, 0xf9, 0xcf, 0xda, 0x04, 0xbb, 0xfa, 0xce, 0x00, 0x1a, 0xc9, 0xda,\n",
    "  0x31, 0xc9, 0x0e, 0xe2, 0x11, 0x5e, 0x0a, 0x02, 0x07, 0xfb, 0x2f, 0xe1,\n",
    "  0x44, 0x7f, 0x28, 0x0c, 0xee, 0x15, 0x16, 0x24, 0x00, 0x20, 0x0b, 0xe1,\n",
    "  0xe1, 0x9c, 0xe5, 0x14, 0xfd, 0x21, 0xc6, 0xe6, 0xe0, 0xf9, 0x13, 0xf1,\n",
    "  0xee, 0xd5, 0xd9, 0xc1, 0x0b, 0xeb, 0x0a, 0xdf, 0x1b, 0x00, 0xd4, 0xdb,\n",
    "  0x01, 0x34, 0x2e, 0xe0, 0x40, 0x29, 0x30, 0x02, 0x2e, 0x18, 0x17, 0xf3,\n",
    "  0x5a, 0x4d, 0x22, 0x1d, 0xec, 0x45, 0x24, 0xf8, 0x01, 0x2e, 0xd6, 0xfe,\n",
    "  0xe0, 0xe8, 0xda, 0xda, 0x04, 0x08, 0xac, 0x03, 0xf5, 0xae, 0xef, 0xe7,\n",
    "  0xec, 0x07, 0xbc, 0xf2, 0xd6, 0xf6, 0x11, 0xc5, 0x04, 0x06, 0xe1, 0xc2,\n",
    "  0x2c, 0xfa, 0x35, 0xcf, 0x31, 0x3d, 0x07, 0x0d, 0x28, 0xe3, 0x51, 0xf2,\n",
    "  0x45, 0x21, 0x39, 0x16, 0xf5, 0x11, 0x0b, 0x0d, 0x0d, 0x04, 0xc8, 0x15,\n",
    "  0xf8, 0x26, 0xbd, 0x2a, 0xeb, 0xf2, 0xc7, 0x21, 0xf3, 0x22, 0xe0, 0xf2,\n",
    "  0xfd, 0xf4, 0xc0, 0xfc, 0xd5, 0xf4, 0xfb, 0xfb, 0xf7, 0x27, 0xd5, 0xcb,\n",
    "  0x03, 0xf7, 0x22, 0xef, 0x3d, 0x2e, 0x1f, 0x28, 0x4e, 0x0c, 0x37, 0xfd,\n",
    "  0x38, 0x07, 0x1c, 0x3c, 0x7c, 0xec, 0xff, 0xff, 0x80, 0xec, 0xff, 0xff,\n",
    "  0x84, 0xec, 0xff, 0xff, 0x88, 0xec, 0xff, 0xff, 0x8c, 0xec, 0xff, 0xff,\n",
    "  0x9a, 0xff, 0xff, 0xff, 0x04, 0x00, 0x00, 0x00, 0x04, 0x00, 0x00, 0x00,\n",
    "  0x76, 0xfc, 0xff, 0xff, 0xaa, 0xff, 0xff, 0xff, 0x04, 0x00, 0x00, 0x00,\n",
    "  0x20, 0x00, 0x00, 0x00, 0x37, 0xb9, 0x37, 0x3d, 0xc1, 0xc5, 0x1d, 0x3c,\n",
    "  0x7c, 0x44, 0xac, 0xbe, 0x77, 0x96, 0x48, 0x3e, 0xc7, 0x84, 0xb8, 0xbe,\n",
    "  0x0b, 0x9e, 0xa1, 0xbe, 0x74, 0xdd, 0xac, 0x3a, 0x4d, 0xc3, 0xbf, 0x3c,\n",
    "  0xd6, 0xff, 0xff, 0xff, 0x04, 0x00, 0x00, 0x00, 0x08, 0x00, 0x00, 0x00,\n",
    "  0xff, 0xff, 0xff, 0xff, 0x20, 0x01, 0x00, 0x00, 0xea, 0xff, 0xff, 0xff,\n",
    "  0x04, 0x00, 0x00, 0x00, 0x08, 0x00, 0x00, 0x00, 0x20, 0x00, 0x00, 0x00,\n",
    "  0x20, 0x00, 0x00, 0x00, 0x00, 0x00, 0x06, 0x00, 0x08, 0x00, 0x04, 0x00,\n",
    "  0x06, 0x00, 0x00, 0x00, 0x04, 0x00, 0x00, 0x00, 0x00, 0x08, 0x00, 0x00,\n",
    "  0x96, 0x80, 0x1d, 0xbe, 0x1f, 0x76, 0xee, 0x3d, 0x49, 0x4d, 0xc2, 0x3d,\n",
    "  0xdb, 0x88, 0x01, 0x3d, 0xb2, 0xb1, 0xad, 0x3d, 0xaf, 0x01, 0x03, 0xbe,\n",
    "  0x38, 0xf7, 0xd3, 0xbd, 0xba, 0xdc, 0xa4, 0xbc, 0x27, 0xa1, 0x65, 0xbd,\n",
    "  0x90, 0x05, 0xd1, 0x3d, 0xd3, 0x5d, 0x8a, 0x3d, 0xba, 0xdc, 0x24, 0x3c,\n",
    "  0x99, 0x30, 0x48, 0xbd, 0xcb, 0x32, 0x13, 0xbd, 0x1a, 0x16, 0x19, 0x3d,\n",
    "  0xba, 0xdc, 0x24, 0xbc, 0x38, 0xf7, 0x53, 0x3d, 0x23, 0x41, 0x90, 0x3d,\n",
    "  0x7b, 0x4f, 0x8d, 0x3c, 0x38, 0xf7, 0xd3, 0xbc, 0xf9, 0x69, 0xbc, 0x3d,\n",
    "  0x01, 0x95, 0xb3, 0xbd, 0x27, 0xa1, 0x65, 0xbd, 0xd8, 0xbd, 0xdf, 0xbc,\n",
    "  0xdb, 0x88, 0x01, 0xbd, 0x77, 0x84, 0x6b, 0xbd, 0xf9, 0x69, 0xbc, 0xba,\n",
    "  0x27, 0xa1, 0x65, 0xbd, 0x17, 0x4b, 0xf7, 0xbc, 0x83, 0x7a, 0x04, 0xbe,\n",
    "  0x0a, 0xc0, 0x2a, 0xbd, 0xcb, 0x32, 0x13, 0x3d, 0xdb, 0x88, 0x01, 0xbe,\n",
    "  0xd8, 0xbd, 0xdf, 0x3c, 0x59, 0xa3, 0xb0, 0x3d, 0xd8, 0xbd, 0x5f, 0xbd,\n",
    "  0x0a, 0xc0, 0xaa, 0xbd, 0x59, 0xa3, 0x30, 0x3d, 0x77, 0x84, 0xeb, 0xbb,\n",
    "  0xcf, 0x92, 0xe8, 0xbd, 0x2b, 0x6c, 0x87, 0xbd, 0x01, 0x95, 0xb3, 0x3d,\n",
    "  0xee, 0x8e, 0x1a, 0x3e, 0x38, 0xf7, 0xd3, 0x3d, 0xcb, 0x32, 0x13, 0xbd,\n",
    "  0xc2, 0x07, 0x1c, 0xbe, 0x1f, 0x76, 0xee, 0x3d, 0xd8, 0xbd, 0xdf, 0xbc,\n",
    "  0x99, 0x30, 0x48, 0xbd, 0x1a, 0x16, 0x19, 0x3d, 0x0a, 0xc0, 0x2a, 0x3d,\n",
    "  0x4f, 0xc8, 0x0e, 0x3e, 0x17, 0x4b, 0xf7, 0xbc, 0x49, 0x4d, 0xc2, 0xbd,\n",
    "  0x40, 0x22, 0xcb, 0xbd, 0x0a, 0xc0, 0x2a, 0x3d, 0x1a, 0x16, 0x99, 0xbc,\n",
    "  0xf9, 0x69, 0x3c, 0xbc, 0x7b, 0x4f, 0x0d, 0x3c, 0x25, 0xf1, 0x3a, 0x3e,\n",
    "  0x59, 0xa3, 0xb0, 0xbc, 0xa9, 0x86, 0x36, 0xbd, 0x49, 0x4d, 0xc2, 0x3d,\n",
    "  0x90, 0x05, 0xd1, 0xbd, 0x2a, 0xf1, 0x10, 0xbe, 0xd3, 0x42, 0xa5, 0xbd,\n",
    "  0x20, 0xaa, 0xfe, 0x3d, 0x5c, 0xbc, 0x58, 0x3d, 0xf1, 0x4b, 0x12, 0x3d,\n",
    "  0x0d, 0xb7, 0x97, 0xbc, 0x7d, 0x63, 0xad, 0xbc, 0x46, 0x5c, 0x16, 0x3e,\n",
    "  0x61, 0xf8, 0xa7, 0x3d, 0xd6, 0xe0, 0x8c, 0xbc, 0xb5, 0x39, 0xb8, 0x3d,\n",
    "  0x96, 0x30, 0xcb, 0xbd, 0x7e, 0x32, 0x21, 0xbe, 0x20, 0xaa, 0x7e, 0xbd,\n",
    "  0xd1, 0xa4, 0x3d, 0x3d, 0xcc, 0x68, 0x6e, 0x3c, 0x45, 0x8d, 0xa2, 0x3c,\n",
    "  0x45, 0x8d, 0xa2, 0x3c, 0xf1, 0x4b, 0x92, 0xbd, 0x9e, 0x0a, 0x82, 0x3b,\n",
    "  0x9e, 0x0a, 0x82, 0x3c, 0x06, 0xdd, 0xe0, 0x3d, 0xb0, 0xfd, 0x68, 0xbd,\n",
    "  0xe8, 0xd3, 0xf3, 0xbd, 0x5c, 0xbc, 0x58, 0x3d, 0xd6, 0xe0, 0x8c, 0x3c,\n",
    "  0x62, 0xc7, 0x1b, 0xbe, 0x78, 0x27, 0x5e, 0x3d, 0xed, 0x0f, 0x43, 0x3c,\n",
    "  0x96, 0x30, 0xcb, 0x3d, 0xcc, 0x68, 0x6e, 0x3c, 0x7f, 0x01, 0x95, 0xbd,\n",
    "  0x7d, 0x63, 0xad, 0x3a, 0xb0, 0xfd, 0xe8, 0xbd, 0xb5, 0x39, 0xb8, 0xbd,\n",
    "  0x0d, 0xb7, 0x97, 0xbd, 0x5c, 0xbc, 0xd8, 0x3c, 0xba, 0x75, 0x07, 0x3d,\n",
    "  0x5c, 0xbc, 0x58, 0x3c, 0xb6, 0x08, 0x2c, 0x3e, 0x99, 0xce, 0xb2, 0xbd,\n",
    "  0x40, 0x51, 0x53, 0xbd, 0xb0, 0xfd, 0xe8, 0x3d, 0xf3, 0x1a, 0x06, 0xbe,\n",
    "  0x99, 0xce, 0x32, 0xbd, 0xf1, 0x4b, 0x92, 0xbd, 0xba, 0x75, 0x07, 0xbd,\n",
    "  0x5f, 0x5a, 0xc0, 0x3d, 0x0b, 0x19, 0xb0, 0x3d, 0x0d, 0xb7, 0x97, 0xbd,\n",
    "  0x9e, 0x0a, 0x82, 0x3d, 0xed, 0x0f, 0xc3, 0x3c, 0xb0, 0xfd, 0x68, 0x3d,\n",
    "  0xb0, 0xfd, 0x68, 0xbd, 0xb0, 0xfd, 0xe8, 0xbd, 0x94, 0x92, 0x63, 0xbd,\n",
    "  0x7d, 0x63, 0x2d, 0xbc, 0x04, 0x3f, 0xf9, 0x3c, 0xb5, 0x39, 0x38, 0xbd,\n",
    "  0xcc, 0x68, 0xee, 0xbd, 0xb5, 0x39, 0xb8, 0x3c, 0x9e, 0x0a, 0x02, 0xbe,\n",
    "  0x45, 0x8d, 0xa2, 0xbc, 0xb2, 0x9b, 0xd0, 0x3d, 0x24, 0x1e, 0xa0, 0x3d,\n",
    "  0x42, 0x2a, 0x7b, 0xbc, 0x3c, 0x18, 0x36, 0xbd, 0x10, 0x36, 0x4f, 0x3d,\n",
    "  0xf4, 0xb2, 0x96, 0xbd, 0xf4, 0xb2, 0x96, 0x3b, 0xe1, 0xca, 0xc5, 0x3d,\n",
    "  0x53, 0x89, 0x29, 0x3d, 0x8c, 0x68, 0x1b, 0x3e, 0x58, 0x9b, 0xee, 0xbc,\n",
    "  0x82, 0xf4, 0xb2, 0xbd, 0x58, 0x9b, 0x6e, 0x3d, 0x42, 0x2a, 0x7b, 0x3c,\n",
    "  0x9b, 0xee, 0xc8, 0xba, 0x85, 0x7d, 0x55, 0x3d, 0xe1, 0xca, 0xc5, 0x3d,\n",
    "  0x69, 0xfa, 0x9c, 0x3d, 0x69, 0xfa, 0x9c, 0xbd, 0x50, 0x00, 0x87, 0xbd,\n",
    "  0x26, 0xa7, 0xc2, 0x3d, 0x58, 0x9b, 0xee, 0xbc, 0xcd, 0xe2, 0x74, 0x3d,\n",
    "  0x24, 0x1e, 0xa0, 0xbd, 0xf4, 0xb2, 0x96, 0x3d, 0x9b, 0xee, 0xc8, 0xbc,\n",
    "  0x82, 0xf4, 0xb2, 0x3d, 0x96, 0xdc, 0x83, 0xbd, 0x6e, 0x0c, 0x62, 0x3d,\n",
    "  0x69, 0xfa, 0x1c, 0xbe, 0xfa, 0xc4, 0x5b, 0x3d, 0x7f, 0x6b, 0x10, 0xbd,\n",
    "  0xf4, 0xb2, 0x96, 0xbc, 0x6c, 0x83, 0xbf, 0xbd, 0x55, 0x12, 0xcc, 0xbd,\n",
    "  0x69, 0xfa, 0x1c, 0x3e, 0x00, 0x00, 0x00, 0x00, 0x42, 0x2a, 0xfb, 0x3c,\n",
    "  0xdb, 0xb8, 0x80, 0xbd, 0x9b, 0xee, 0x48, 0x3b, 0x10, 0x36, 0x4f, 0x3d,\n",
    "  0x12, 0xbf, 0xf1, 0xbd, 0xc8, 0xd0, 0x2f, 0x3c, 0xb1, 0x5f, 0xbc, 0x3c,\n",
    "  0x69, 0xfa, 0x1c, 0xbd, 0x3a, 0x8f, 0x93, 0xbd, 0xf4, 0xb2, 0x96, 0xbc,\n",
    "  0x9b, 0xee, 0x48, 0x3c, 0xcd, 0xe2, 0xf4, 0x3d, 0x6e, 0x0c, 0x62, 0xbc,\n",
    "  0x58, 0x9b, 0x6e, 0xbd, 0xf4, 0xb2, 0x16, 0xbd, 0xf4, 0xb2, 0x16, 0xbc,\n",
    "  0x0b, 0x24, 0x8a, 0xbd, 0x69, 0xfa, 0x9c, 0xbd, 0x9b, 0xee, 0xc8, 0xbd,\n",
    "  0x6c, 0x83, 0xbf, 0x3d, 0x6e, 0x0c, 0xe2, 0xbc, 0xbe, 0x5c, 0x47, 0xbe,\n",
    "  0x42, 0x2a, 0xfb, 0x3b, 0x42, 0x2a, 0xfb, 0x3b, 0x87, 0x06, 0xf8, 0xbd,\n",
    "  0xca, 0x59, 0xd2, 0xbd, 0x7f, 0x6b, 0x10, 0xbd, 0x42, 0x2a, 0xfb, 0x3b,\n",
    "  0x16, 0x93, 0x24, 0xbe, 0x8c, 0xa1, 0x82, 0xbe, 0xe4, 0x49, 0x1a, 0x3e,\n",
    "  0x56, 0x0f, 0x12, 0x3e, 0x88, 0x58, 0x1c, 0x3d, 0x59, 0xbf, 0xf2, 0xbd,\n",
    "  0xf7, 0x2c, 0x5e, 0x3d, 0x4d, 0x7d, 0xc5, 0xbd, 0xcb, 0x84, 0x6a, 0xbe,\n",
    "  0x4d, 0x7d, 0xc5, 0xbb, 0xfa, 0x1d, 0x14, 0x3d, 0xa3, 0xcd, 0x2c, 0x3d,\n",
    "  0x53, 0x1e, 0x5c, 0xbe, 0x94, 0x9a, 0xc9, 0x3d, 0x47, 0xdc, 0x2e, 0xbe,\n",
    "  0xc8, 0xd4, 0x09, 0xbe, 0x69, 0xf2, 0xd5, 0xbc, 0x41, 0x3b, 0x98, 0xbd,\n",
    "  0x84, 0x67, 0x66, 0xbc, 0xdb, 0xb7, 0x4d, 0xbd, 0xdb, 0xb7, 0xcd, 0xbd,\n",
    "  0x6c, 0xe3, 0x8b, 0x3d, 0x69, 0xf2, 0xd5, 0x3d, 0x2e, 0x17, 0xff, 0x3d,\n",
    "  0x88, 0x58, 0x9c, 0x3d, 0x4d, 0x7d, 0x45, 0x3c, 0x16, 0x93, 0x24, 0x3c,\n",
    "  0xcf, 0x75, 0xa0, 0xbd, 0xfa, 0x1d, 0x94, 0x3c, 0x25, 0xc6, 0x87, 0x3d,\n",
    "  0xdb, 0xb7, 0xcd, 0x3d, 0x4d, 0x7d, 0xc5, 0xbc, 0xc5, 0xe3, 0x53, 0x3e,\n",
    "  0x41, 0x3b, 0x98, 0x3d, 0x16, 0x93, 0x24, 0x3c, 0xde, 0xa8, 0x83, 0x3d,\n",
    "  0x5c, 0xb0, 0xa8, 0xbd, 0x84, 0x67, 0x66, 0xbd, 0xde, 0xa8, 0x03, 0xbd,\n",
    "  0x31, 0x08, 0x35, 0xbd, 0xde, 0xa8, 0x83, 0x3d, 0xfa, 0x1d, 0x94, 0xbc,\n",
    "  0xde, 0xa8, 0x03, 0xbd, 0xcb, 0x84, 0x6a, 0xbe, 0xde, 0xa8, 0x03, 0xbc,\n",
    "  0xde, 0xa8, 0x03, 0xbd, 0xde, 0xa8, 0x03, 0x3c, 0xfa, 0x1d, 0x14, 0xbe,\n",
    "  0x4d, 0x7d, 0x45, 0x3d, 0x6c, 0xe3, 0x0b, 0x3d, 0xde, 0xa8, 0x03, 0xbb,\n",
    "  0x81, 0xb7, 0x05, 0xbe, 0x4d, 0x7d, 0xc5, 0xbc, 0x4d, 0x7d, 0x45, 0x3d,\n",
    "  0xa3, 0xcd, 0x2c, 0xbd, 0xf7, 0x2c, 0x5e, 0xbd, 0xa3, 0xcd, 0x2c, 0x3d,\n",
    "  0x4d, 0x7d, 0x45, 0x3c, 0x78, 0x25, 0xb9, 0x3d, 0xbf, 0x42, 0x3d, 0xbd,\n",
    "  0x6c, 0xe3, 0x0b, 0xbd, 0x4d, 0x7d, 0x45, 0x3d, 0xde, 0xa8, 0x83, 0x3c,\n",
    "  0xde, 0xa8, 0x83, 0xbd, 0x9b, 0x13, 0x42, 0x3e, 0x1d, 0xb4, 0x92, 0xbb,\n",
    "  0x7e, 0xd4, 0x4f, 0x3d, 0x13, 0xc6, 0xcc, 0xbd, 0x1d, 0xb4, 0x92, 0xbb,\n",
    "  0x0c, 0x19, 0xa8, 0x3d, 0xa8, 0xb7, 0x49, 0x3d, 0xfa, 0x7d, 0xbd, 0xbd,\n",
    "  0xdb, 0x88, 0x89, 0x3d, 0x70, 0x7a, 0x86, 0xbc, 0x70, 0x7a, 0x86, 0xbc,\n",
    "  0x70, 0x7a, 0x06, 0x3d, 0x2b, 0x0e, 0xdc, 0x3c, 0x66, 0x8c, 0xc0, 0x3d,\n",
    "  0x5c, 0x9e, 0x7a, 0x3d, 0x2b, 0x0e, 0xdc, 0x3d, 0x99, 0x5d, 0x00, 0x3d,\n",
    "  0x7e, 0xd4, 0xcf, 0x3c, 0xca, 0xed, 0x1e, 0xbe, 0x2b, 0x0e, 0x5c, 0xbc,\n",
    "  0x70, 0x7a, 0x86, 0xbc, 0x24, 0x61, 0xb7, 0xbc, 0x77, 0x27, 0xab, 0xbc,\n",
    "  0xd1, 0x9a, 0xc3, 0xba, 0xf3, 0xd0, 0x98, 0xbd, 0x3c, 0xa9, 0xc6, 0x3d,\n",
    "  0xd8, 0x47, 0xe8, 0xbc, 0x85, 0x81, 0x74, 0xbd, 0x2b, 0x0e, 0xdc, 0x3d,\n",
    "  0x88, 0xc2, 0x95, 0x3d, 0x5f, 0xdf, 0x9b, 0xbd, 0xa0, 0x0a, 0xa5, 0xbd,\n",
    "  0xcf, 0xe4, 0x01, 0xbe, 0x77, 0x27, 0x2b, 0x3d, 0x7e, 0xd4, 0xcf, 0x3c,\n",
    "  0x70, 0x7a, 0x86, 0xbc, 0x13, 0xc6, 0xcc, 0x3d, 0x35, 0xfc, 0xa1, 0x3d,\n",
    "  0x4d, 0x44, 0xb1, 0x3d, 0x7e, 0xd4, 0xcf, 0xbc, 0x0c, 0x19, 0xa8, 0xbd,\n",
    "  0x5c, 0x9e, 0xfa, 0xbd, 0xd1, 0x9a, 0x43, 0xbb, 0x77, 0x27, 0x2b, 0x3c,\n",
    "  0x7e, 0xd4, 0x4f, 0x3d, 0x2b, 0x0e, 0xdc, 0x3c, 0xa0, 0x0a, 0xa5, 0x3d,\n",
    "  0xd1, 0x9a, 0x43, 0x3d, 0xf3, 0xd0, 0x18, 0xbd, 0xd1, 0x9a, 0xc3, 0x3c,\n",
    "  0x1d, 0xb4, 0x92, 0x3b, 0x1d, 0xb4, 0x92, 0xbb, 0x0c, 0x19, 0xa8, 0xbd,\n",
    "  0xd1, 0x9a, 0x43, 0xbb, 0xd1, 0x9a, 0x43, 0x3d, 0x02, 0x2b, 0xe2, 0xbd,\n",
    "  0x2b, 0x0e, 0x5c, 0xbc, 0xcf, 0xe4, 0x01, 0xbe, 0x6d, 0x39, 0xe5, 0xbd,\n",
    "  0xf3, 0xd0, 0x98, 0xbd, 0x77, 0x27, 0xab, 0x3c, 0x7e, 0xd4, 0xcf, 0xbd,\n",
    "  0xa8, 0xb7, 0x49, 0xbd, 0x4d, 0x44, 0xb1, 0xbd, 0x11, 0xe7, 0x8f, 0xbd,\n",
    "  0xd9, 0xc7, 0x94, 0xbd, 0x05, 0x19, 0x1c, 0xbd, 0x9f, 0xc1, 0x51, 0xbd,\n",
    "  0x9f, 0xc1, 0x51, 0xbd, 0xd9, 0xc7, 0x14, 0xbe, 0xd3, 0xe0, 0x1a, 0xbe,\n",
    "  0x95, 0xda, 0x25, 0xbd, 0x50, 0x06, 0x6f, 0x3d, 0xd7, 0xe0, 0x4c, 0xbd,\n",
    "  0xd7, 0xe0, 0xcc, 0xbc, 0x88, 0x25, 0xea, 0xbc, 0x18, 0xe7, 0xf3, 0x3c,\n",
    "  0x31, 0x6a, 0xa3, 0xbd, 0xee, 0x7c, 0x34, 0xbd, 0xa8, 0xa8, 0x7d, 0xbc,\n",
    "  0xa8, 0xa8, 0x7d, 0xbc, 0x67, 0xa2, 0x56, 0xbc, 0x95, 0xda, 0x25, 0xbd,\n",
    "  0x3d, 0x38, 0x17, 0xbd, 0x86, 0x0c, 0x00, 0x3e, 0xa8, 0xa8, 0x7d, 0x3c,\n",
    "  0x26, 0x9c, 0x2f, 0x3d, 0xe4, 0x95, 0x88, 0x3d, 0x05, 0x19, 0x9c, 0xbb,\n",
    "  0x50, 0x06, 0xef, 0xbd, 0xf7, 0x63, 0xe0, 0x3c, 0x05, 0x19, 0x9c, 0x3a,\n",
    "  0x05, 0x19, 0x9c, 0xba, 0x50, 0x06, 0x6f, 0xbd, 0xa8, 0xa8, 0xfd, 0x3c,\n",
    "  0x69, 0x89, 0x9e, 0x3d, 0x05, 0x19, 0x9c, 0x3a, 0x2f, 0x83, 0x5b, 0xbd,\n",
    "  0x69, 0x89, 0x9e, 0x3d, 0x88, 0x25, 0xea, 0x3b, 0xa7, 0x8f, 0x13, 0x3e,\n",
    "  0x88, 0x25, 0xea, 0x3b, 0x18, 0xe7, 0xf3, 0xbc, 0x05, 0x19, 0x1c, 0xbd,\n",
    "  0xbf, 0x44, 0xe5, 0xbd, 0xf7, 0x63, 0xe0, 0xbc, 0xb6, 0x5d, 0xb9, 0x3d,\n",
    "  0x7e, 0x3e, 0x3e, 0xbd, 0x05, 0x19, 0x9c, 0x3a, 0xe4, 0x95, 0x08, 0x3d,\n",
    "  0xee, 0x7c, 0x34, 0xbd, 0x67, 0xa2, 0xd6, 0x3d, 0x88, 0x25, 0x6a, 0xbb,\n",
    "  0x46, 0x1f, 0xc3, 0x3c, 0xa8, 0xa8, 0x7d, 0xbc, 0x05, 0x19, 0x9c, 0xbd,\n",
    "  0x5d, 0xbb, 0xaa, 0x3d, 0xe4, 0x95, 0x08, 0xbc, 0xcd, 0xf9, 0x20, 0xbd,\n",
    "  0xbf, 0x44, 0xe5, 0x3d, 0x3b, 0x51, 0xcf, 0x3d, 0x88, 0x25, 0x6a, 0xbc,\n",
    "  0x26, 0x9c, 0x2f, 0x3c, 0x80, 0x25, 0x86, 0x3d, 0xb6, 0x5d, 0xb9, 0x3c,\n",
    "  0x7c, 0x57, 0xf6, 0x3d, 0x05, 0x19, 0x1c, 0xbb, 0x31, 0x6a, 0xa3, 0xbd,\n",
    "  0x11, 0x46, 0xc3, 0xbd, 0x9c, 0x76, 0x2f, 0x3d, 0xf2, 0x41, 0x09, 0xbe,\n",
    "  0x07, 0x41, 0xd4, 0xbd, 0x99, 0x1f, 0xb5, 0xbb, 0x2e, 0x55, 0x90, 0x3d,\n",
    "  0x6f, 0xb4, 0x7e, 0x3d, 0xa6, 0x7b, 0x1e, 0xbe, 0x7f, 0x67, 0x62, 0xbc,\n",
    "  0x2e, 0x55, 0x90, 0xbd, 0x2b, 0xfe, 0x95, 0xbd, 0x72, 0x0b, 0xf9, 0xbc,\n",
    "  0x1e, 0xa2, 0xac, 0x3d, 0x00, 0x00, 0x00, 0x00, 0x0e, 0xef, 0xc8, 0xbd,\n",
    "  0x86, 0x15, 0x57, 0xbd, 0xac, 0x29, 0x93, 0x3d, 0x72, 0x0b, 0x79, 0x3c,\n",
    "  0x82, 0xbe, 0xdc, 0x3d, 0x99, 0x1f, 0xb5, 0xbd, 0x74, 0x6d, 0x06, 0x3e,\n",
    "  0x04, 0xea, 0xd9, 0x3d, 0x72, 0x0b, 0xf9, 0x3d, 0xa6, 0x7b, 0x1e, 0x3d,\n",
    "  0x82, 0xbe, 0xdc, 0xbd, 0x74, 0x6d, 0x06, 0xbe, 0x9f, 0xcd, 0x29, 0xbe,\n",
    "  0x99, 0x1f, 0xb5, 0x3c, 0x72, 0x0b, 0xf9, 0x3d, 0xf4, 0x36, 0xf6, 0xbd,\n",
    "  0x2b, 0xfe, 0x15, 0x3e, 0x9c, 0x76, 0x2f, 0xbd, 0x0b, 0x98, 0xce, 0xbd,\n",
    "  0x99, 0x1f, 0x35, 0xbd, 0x7c, 0x10, 0x68, 0xbd, 0xa9, 0xd2, 0x98, 0xbd,\n",
    "  0x82, 0xbe, 0x5c, 0x3d, 0x7f, 0x67, 0x62, 0x3c, 0x7f, 0x67, 0x62, 0x3c,\n",
    "  0x7f, 0x67, 0xe2, 0xbd, 0x6f, 0xb4, 0x7e, 0x3d, 0x8c, 0xc3, 0x4b, 0xbc,\n",
    "  0x99, 0x1f, 0xb5, 0x3b, 0xb3, 0xd7, 0x87, 0x3d, 0x5a, 0xb5, 0x33, 0x3e,\n",
    "  0x2b, 0xfe, 0x95, 0xbd, 0x7f, 0x67, 0xe2, 0x3d, 0x72, 0x0b, 0xf9, 0xbc,\n",
    "  0x00, 0x00, 0x00, 0x00, 0x82, 0xbe, 0xdc, 0xbd, 0xec, 0x93, 0x14, 0xbe,\n",
    "  0x7c, 0x10, 0xe8, 0xbd, 0xa6, 0x7b, 0x1e, 0x3c, 0xa9, 0xd2, 0x18, 0x3d,\n",
    "  0x99, 0x1f, 0xb5, 0xba, 0xb3, 0xd7, 0x87, 0xbb, 0x7c, 0x10, 0x68, 0x3d,\n",
    "  0xb3, 0xd7, 0x07, 0xbd, 0x89, 0x6c, 0x51, 0xbd, 0xac, 0x29, 0x93, 0xbc,\n",
    "  0x00, 0x00, 0x00, 0x00, 0x8c, 0xc3, 0x4b, 0x3d, 0xa6, 0x7b, 0x9e, 0xbd,\n",
    "  0x9f, 0xcd, 0xa9, 0xbd, 0xa7, 0xb6, 0x16, 0x3e, 0xc1, 0x12, 0x34, 0xbd,\n",
    "  0x0c, 0xe7, 0x3b, 0x3c, 0xa3, 0x8f, 0xcb, 0xbc, 0x14, 0x4e, 0x57, 0xbe,\n",
    "  0x66, 0x89, 0x7a, 0xbb, 0xc1, 0x12, 0x34, 0xbe, 0xaa, 0xf6, 0xe6, 0xbd,\n",
    "  0xee, 0x63, 0x53, 0xbd, 0x49, 0xed, 0x8c, 0x3c, 0x76, 0x3e, 0xac, 0xbd,\n",
    "  0x0c, 0xe7, 0x3b, 0x3d, 0x95, 0xc1, 0x94, 0xbd, 0x66, 0x89, 0xfa, 0xbc,\n",
    "  0x66, 0x89, 0x7a, 0x3b, 0x32, 0xd1, 0x3f, 0xbe, 0xe0, 0x95, 0x1c, 0xbc,\n",
    "  0x37, 0xf8, 0x0a, 0x3e, 0x39, 0x38, 0xdb, 0x3c, 0xc1, 0x12, 0x34, 0x3d,\n",
    "  0xaa, 0xf6, 0xe6, 0xbd, 0x39, 0x38, 0xdb, 0x3c, 0xba, 0xab, 0x98, 0xbd,\n",
    "  0x49, 0xed, 0x8c, 0xbc, 0x2b, 0x6a, 0x24, 0x3d, 0xe0, 0x95, 0x9c, 0x3d,\n",
    "  0xee, 0x63, 0xd3, 0x3d, 0x32, 0xd1, 0xbf, 0xbd, 0xee, 0x63, 0x53, 0xbd,\n",
    "  0xee, 0x63, 0xd3, 0x3d, 0x24, 0x03, 0x09, 0xbe, 0xd4, 0x07, 0x36, 0xbe,\n",
    "  0x49, 0xed, 0x0c, 0x3d, 0x32, 0xd1, 0xbf, 0x3d, 0xee, 0x63, 0x53, 0xbd,\n",
    "  0xd0, 0xe0, 0xea, 0xbd, 0xa3, 0x8f, 0xcb, 0xbc, 0xd0, 0xe0, 0xea, 0xbc,\n",
    "  0xe0, 0x95, 0x9c, 0xbc, 0xd0, 0xe0, 0x6a, 0x3d, 0xc1, 0x12, 0x34, 0x3d,\n",
    "  0x66, 0x89, 0xfa, 0x3c, 0xaf, 0x1d, 0x32, 0xbe, 0x0c, 0xe7, 0xbb, 0xbc,\n",
    "  0xfe, 0x18, 0x05, 0x3d, 0xe7, 0xfc, 0xb7, 0x3d, 0x66, 0x89, 0x7a, 0x3d,\n",
    "  0x0c, 0xe7, 0x3b, 0x3d, 0x24, 0x03, 0x09, 0xbe, 0xfe, 0x18, 0x05, 0x3d,\n",
    "  0x51, 0x54, 0xa8, 0xbd, 0x39, 0x38, 0xdb, 0x3c, 0x53, 0x94, 0x78, 0x3e,\n",
    "  0xe0, 0x95, 0x1c, 0x3c, 0xd0, 0xe0, 0xea, 0x3d, 0xee, 0x63, 0x53, 0xbd,\n",
    "  0xfe, 0x18, 0x05, 0x3d, 0x84, 0x0c, 0xe3, 0xbd, 0x49, 0xed, 0x0c, 0xbe,\n",
    "  0x1b, 0xb5, 0x72, 0x3d, 0x45, 0xc6, 0x41, 0x3e, 0xe0, 0x95, 0x9c, 0x3d,\n",
    "  0x95, 0xc1, 0x14, 0xbd, 0xa3, 0x8f, 0xcb, 0x3c, 0x08, 0xf5, 0xff, 0xff,\n",
    "  0x0c, 0xf5, 0xff, 0xff, 0x0f, 0x00, 0x00, 0x00, 0x4d, 0x4c, 0x49, 0x52,\n",
    "  0x20, 0x43, 0x6f, 0x6e, 0x76, 0x65, 0x72, 0x74, 0x65, 0x64, 0x2e, 0x00,\n",
    "  0x01, 0x00, 0x00, 0x00, 0x14, 0x00, 0x00, 0x00, 0x00, 0x00, 0x0e, 0x00,\n",
    "  0x18, 0x00, 0x14, 0x00, 0x10, 0x00, 0x0c, 0x00, 0x08, 0x00, 0x04, 0x00,\n",
    "  0x0e, 0x00, 0x00, 0x00, 0x14, 0x00, 0x00, 0x00, 0x1c, 0x00, 0x00, 0x00,\n",
    "  0xf8, 0x01, 0x00, 0x00, 0xfc, 0x01, 0x00, 0x00, 0x00, 0x02, 0x00, 0x00,\n",
    "  0x04, 0x00, 0x00, 0x00, 0x6d, 0x61, 0x69, 0x6e, 0x00, 0x00, 0x00, 0x00,\n",
    "  0x08, 0x00, 0x00, 0x00, 0xa4, 0x01, 0x00, 0x00, 0x40, 0x01, 0x00, 0x00,\n",
    "  0x0c, 0x01, 0x00, 0x00, 0xac, 0x00, 0x00, 0x00, 0x84, 0x00, 0x00, 0x00,\n",
    "  0x4c, 0x00, 0x00, 0x00, 0x28, 0x00, 0x00, 0x00, 0x04, 0x00, 0x00, 0x00,\n",
    "  0x16, 0xff, 0xff, 0xff, 0x0c, 0x00, 0x00, 0x00, 0x10, 0x00, 0x00, 0x00,\n",
    "  0x07, 0x00, 0x00, 0x00, 0x01, 0x00, 0x00, 0x00, 0x0e, 0x00, 0x00, 0x00,\n",
    "  0x01, 0x00, 0x00, 0x00, 0x0d, 0x00, 0x00, 0x00, 0x36, 0xff, 0xff, 0xff,\n",
    "  0x0c, 0x00, 0x00, 0x00, 0x10, 0x00, 0x00, 0x00, 0x06, 0x00, 0x00, 0x00,\n",
    "  0x01, 0x00, 0x00, 0x00, 0x0d, 0x00, 0x00, 0x00, 0x01, 0x00, 0x00, 0x00,\n",
    "  0x0c, 0x00, 0x00, 0x00, 0x2a, 0xff, 0xff, 0xff, 0x14, 0x00, 0x00, 0x00,\n",
    "  0x00, 0x00, 0x00, 0x08, 0x10, 0x00, 0x00, 0x00, 0x14, 0x00, 0x00, 0x00,\n",
    "  0x05, 0x00, 0x00, 0x00, 0xdc, 0xf5, 0xff, 0xff, 0x01, 0x00, 0x00, 0x00,\n",
    "  0x0c, 0x00, 0x00, 0x00, 0x03, 0x00, 0x00, 0x00, 0x0a, 0x00, 0x00, 0x00,\n",
    "  0x0b, 0x00, 0x00, 0x00, 0x05, 0x00, 0x00, 0x00, 0x8a, 0xff, 0xff, 0xff,\n",
    "  0x0c, 0x00, 0x00, 0x00, 0x10, 0x00, 0x00, 0x00, 0x04, 0x00, 0x00, 0x00,\n",
    "  0x01, 0x00, 0x00, 0x00, 0x0a, 0x00, 0x00, 0x00, 0x02, 0x00, 0x00, 0x00,\n",
    "  0x09, 0x00, 0x00, 0x00, 0x03, 0x00, 0x00, 0x00, 0x82, 0xff, 0xff, 0xff,\n",
    "  0x24, 0x00, 0x00, 0x00, 0x00, 0x00, 0x00, 0x05, 0x34, 0x00, 0x00, 0x00,\n",
    "  0x38, 0x00, 0x00, 0x00, 0x03, 0x00, 0x00, 0x00, 0x00, 0x00, 0x0e, 0x00,\n",
    "  0x18, 0x00, 0x17, 0x00, 0x10, 0x00, 0x0c, 0x00, 0x08, 0x00, 0x04, 0x00,\n",
    "  0x0e, 0x00, 0x00, 0x00, 0x02, 0x00, 0x00, 0x00, 0x02, 0x00, 0x00, 0x00,\n",
    "  0x02, 0x00, 0x00, 0x00, 0x02, 0x00, 0x00, 0x00, 0x00, 0x00, 0x00, 0x01,\n",
    "  0x01, 0x00, 0x00, 0x00, 0x09, 0x00, 0x00, 0x00, 0x01, 0x00, 0x00, 0x00,\n",
    "  0x08, 0x00, 0x00, 0x00, 0x00, 0x00, 0x0a, 0x00, 0x10, 0x00, 0x0c, 0x00,\n",
    "  0x08, 0x00, 0x04, 0x00, 0x0a, 0x00, 0x00, 0x00, 0x0c, 0x00, 0x00, 0x00,\n",
    "  0x10, 0x00, 0x00, 0x00, 0x02, 0x00, 0x00, 0x00, 0x01, 0x00, 0x00, 0x00,\n",
    "  0x08, 0x00, 0x00, 0x00, 0x01, 0x00, 0x00, 0x00, 0x07, 0x00, 0x00, 0x00,\n",
    "  0x00, 0x00, 0x0e, 0x00, 0x18, 0x00, 0x14, 0x00, 0x10, 0x00, 0x0c, 0x00,\n",
    "  0x0b, 0x00, 0x04, 0x00, 0x0e, 0x00, 0x00, 0x00, 0x20, 0x00, 0x00, 0x00,\n",
    "  0x00, 0x00, 0x00, 0x01, 0x2c, 0x00, 0x00, 0x00, 0x30, 0x00, 0x00, 0x00,\n",
    "  0x01, 0x00, 0x00, 0x00, 0x0c, 0x00, 0x14, 0x00, 0x13, 0x00, 0x0c, 0x00,\n",
    "  0x08, 0x00, 0x07, 0x00, 0x0c, 0x00, 0x00, 0x00, 0x00, 0x00, 0x00, 0x01,\n",
    "  0x02, 0x00, 0x00, 0x00, 0x02, 0x00, 0x00, 0x00, 0x00, 0x00, 0x00, 0x01,\n",
    "  0x01, 0x00, 0x00, 0x00, 0x07, 0x00, 0x00, 0x00, 0x03, 0x00, 0x00, 0x00,\n",
    "  0x06, 0x00, 0x00, 0x00, 0x01, 0x00, 0x00, 0x00, 0x04, 0x00, 0x00, 0x00,\n",
    "  0x00, 0x00, 0x0e, 0x00, 0x14, 0x00, 0x00, 0x00, 0x10, 0x00, 0x0c, 0x00,\n",
    "  0x0b, 0x00, 0x04, 0x00, 0x0e, 0x00, 0x00, 0x00, 0x18, 0x00, 0x00, 0x00,\n",
    "  0x00, 0x00, 0x00, 0x4a, 0x18, 0x00, 0x00, 0x00, 0x1c, 0x00, 0x00, 0x00,\n",
    "  0x08, 0x00, 0x08, 0x00, 0x00, 0x00, 0x07, 0x00, 0x08, 0x00, 0x00, 0x00,\n",
    "  0x00, 0x00, 0x00, 0x01, 0x01, 0x00, 0x00, 0x00, 0x06, 0x00, 0x00, 0x00,\n",
    "  0x02, 0x00, 0x00, 0x00, 0x00, 0x00, 0x00, 0x00, 0x02, 0x00, 0x00, 0x00,\n",
    "  0x01, 0x00, 0x00, 0x00, 0x0e, 0x00, 0x00, 0x00, 0x01, 0x00, 0x00, 0x00,\n",
    "  0x00, 0x00, 0x00, 0x00, 0x0f, 0x00, 0x00, 0x00, 0x7c, 0x08, 0x00, 0x00,\n",
    "  0xc4, 0x07, 0x00, 0x00, 0x5c, 0x07, 0x00, 0x00, 0xfc, 0x06, 0x00, 0x00,\n",
    "  0xa0, 0x06, 0x00, 0x00, 0x14, 0x06, 0x00, 0x00, 0x94, 0x05, 0x00, 0x00,\n",
    "  0xbc, 0x04, 0x00, 0x00, 0x64, 0x03, 0x00, 0x00, 0xb8, 0x02, 0x00, 0x00,\n",
    "  0x3c, 0x02, 0x00, 0x00, 0x94, 0x01, 0x00, 0x00, 0xe4, 0x00, 0x00, 0x00,\n",
    "  0x60, 0x00, 0x00, 0x00, 0x04, 0x00, 0x00, 0x00, 0xd6, 0xf7, 0xff, 0xff,\n",
    "  0x00, 0x00, 0x00, 0x01, 0x14, 0x00, 0x00, 0x00, 0x1c, 0x00, 0x00, 0x00,\n",
    "  0x1c, 0x00, 0x00, 0x00, 0x0f, 0x00, 0x00, 0x00, 0x34, 0x00, 0x00, 0x00,\n",
    "  0x02, 0x00, 0x00, 0x00, 0xff, 0xff, 0xff, 0xff, 0x01, 0x00, 0x00, 0x00,\n",
    "  0xb8, 0xf7, 0xff, 0xff, 0x19, 0x00, 0x00, 0x00, 0x53, 0x74, 0x61, 0x74,\n",
    "  0x65, 0x66, 0x75, 0x6c, 0x50, 0x61, 0x72, 0x74, 0x69, 0x74, 0x69, 0x6f,\n",
    "  0x6e, 0x65, 0x64, 0x43, 0x61, 0x6c, 0x6c, 0x3a, 0x30, 0x00, 0x00, 0x00,\n",
    "  0x02, 0x00, 0x00, 0x00, 0x01, 0x00, 0x00, 0x00, 0x01, 0x00, 0x00, 0x00,\n",
    "  0x26, 0xfd, 0xff, 0xff, 0x00, 0x00, 0x00, 0x01, 0x18, 0x00, 0x00, 0x00,\n",
    "  0x20, 0x00, 0x00, 0x00, 0x40, 0x00, 0x00, 0x00, 0x0e, 0x00, 0x00, 0x00,\n",
    "  0x00, 0x00, 0x00, 0x09, 0x58, 0x00, 0x00, 0x00, 0x02, 0x00, 0x00, 0x00,\n",
    "  0xff, 0xff, 0xff, 0xff, 0x01, 0x00, 0x00, 0x00, 0x7c, 0xfa, 0xff, 0xff,\n",
    "  0x08, 0x00, 0x00, 0x00, 0x14, 0x00, 0x00, 0x00, 0x01, 0x00, 0x00, 0x00,\n",
    "  0x80, 0xff, 0xff, 0xff, 0xff, 0xff, 0xff, 0xff, 0x00, 0x00, 0x00, 0x00,\n",
    "  0x01, 0x00, 0x00, 0x00, 0x00, 0x00, 0x80, 0x3b, 0x1d, 0x00, 0x00, 0x00,\n",
    "  0x6d, 0x6f, 0x64, 0x65, 0x6c, 0x5f, 0x31, 0x2f, 0x71, 0x75, 0x61, 0x6e,\n",
    "  0x74, 0x5f, 0x64, 0x65, 0x6e, 0x73, 0x65, 0x5f, 0x33, 0x2f, 0x53, 0x69,\n",
    "  0x67, 0x6d, 0x6f, 0x69, 0x64, 0x00, 0x00, 0x00, 0x02, 0x00, 0x00, 0x00,\n",
    "  0x01, 0x00, 0x00, 0x00, 0x01, 0x00, 0x00, 0x00, 0xa6, 0xfd, 0xff, 0xff,\n",
    "  0x00, 0x00, 0x00, 0x01, 0x18, 0x00, 0x00, 0x00, 0x20, 0x00, 0x00, 0x00,\n",
    "  0x40, 0x00, 0x00, 0x00, 0x0d, 0x00, 0x00, 0x00, 0x00, 0x00, 0x00, 0x09,\n",
    "  0x74, 0x00, 0x00, 0x00, 0x02, 0x00, 0x00, 0x00, 0xff, 0xff, 0xff, 0xff,\n",
    "  0x01, 0x00, 0x00, 0x00, 0xfc, 0xfa, 0xff, 0xff, 0x08, 0x00, 0x00, 0x00,\n",
    "  0x14, 0x00, 0x00, 0x00, 0x01, 0x00, 0x00, 0x00, 0xdc, 0xff, 0xff, 0xff,\n",
    "  0xff, 0xff, 0xff, 0xff, 0x00, 0x00, 0x00, 0x00, 0x01, 0x00, 0x00, 0x00,\n",
    "  0x8b, 0x82, 0x04, 0x3e, 0x3a, 0x00, 0x00, 0x00, 0x6d, 0x6f, 0x64, 0x65,\n",
    "  0x6c, 0x5f, 0x31, 0x2f, 0x71, 0x75, 0x61, 0x6e, 0x74, 0x5f, 0x64, 0x65,\n",
    "  0x6e, 0x73, 0x65, 0x5f, 0x33, 0x2f, 0x4d, 0x61, 0x74, 0x4d, 0x75, 0x6c,\n",
    "  0x3b, 0x6d, 0x6f, 0x64, 0x65, 0x6c, 0x5f, 0x31, 0x2f, 0x71, 0x75, 0x61,\n",
    "  0x6e, 0x74, 0x5f, 0x64, 0x65, 0x6e, 0x73, 0x65, 0x5f, 0x33, 0x2f, 0x42,\n",
    "  0x69, 0x61, 0x73, 0x41, 0x64, 0x64, 0x00, 0x00, 0x02, 0x00, 0x00, 0x00,\n",
    "  0x01, 0x00, 0x00, 0x00, 0x01, 0x00, 0x00, 0x00, 0x00, 0x00, 0x0e, 0x00,\n",
    "  0x18, 0x00, 0x14, 0x00, 0x13, 0x00, 0x0c, 0x00, 0x08, 0x00, 0x04, 0x00,\n",
    "  0x0e, 0x00, 0x00, 0x00, 0x14, 0x00, 0x00, 0x00, 0x30, 0x00, 0x00, 0x00,\n",
    "  0x0c, 0x00, 0x00, 0x00, 0x00, 0x00, 0x00, 0x09, 0x84, 0x00, 0x00, 0x00,\n",
    "  0x94, 0xfb, 0xff, 0xff, 0x08, 0x00, 0x00, 0x00, 0x10, 0x00, 0x00, 0x00,\n",
    "  0x01, 0x00, 0x00, 0x00, 0x00, 0x00, 0x00, 0x00, 0x00, 0x00, 0x00, 0x00,\n",
    "  0x01, 0x00, 0x00, 0x00, 0x02, 0xcd, 0xec, 0x3b, 0x59, 0x00, 0x00, 0x00,\n",
    "  0x6d, 0x6f, 0x64, 0x65, 0x6c, 0x5f, 0x31, 0x2f, 0x71, 0x75, 0x61, 0x6e,\n",
    "  0x74, 0x5f, 0x64, 0x65, 0x6e, 0x73, 0x65, 0x5f, 0x33, 0x2f, 0x4d, 0x61,\n",
    "  0x74, 0x4d, 0x75, 0x6c, 0x3b, 0x6d, 0x6f, 0x64, 0x65, 0x6c, 0x5f, 0x31,\n",
    "  0x2f, 0x71, 0x75, 0x61, 0x6e, 0x74, 0x5f, 0x64, 0x65, 0x6e, 0x73, 0x65,\n",
    "  0x5f, 0x33, 0x2f, 0x4c, 0x61, 0x73, 0x74, 0x56, 0x61, 0x6c, 0x75, 0x65,\n",
    "  0x51, 0x75, 0x61, 0x6e, 0x74, 0x2f, 0x46, 0x61, 0x6b, 0x65, 0x51, 0x75,\n",
    "  0x61, 0x6e, 0x74, 0x57, 0x69, 0x74, 0x68, 0x4d, 0x69, 0x6e, 0x4d, 0x61,\n",
    "  0x78, 0x56, 0x61, 0x72, 0x73, 0x00, 0x00, 0x00, 0x02, 0x00, 0x00, 0x00,\n",
    "  0x01, 0x00, 0x00, 0x00, 0x20, 0x01, 0x00, 0x00, 0xf6, 0xfe, 0xff, 0xff,\n",
    "  0x00, 0x00, 0x00, 0x01, 0x18, 0x00, 0x00, 0x00, 0x20, 0x00, 0x00, 0x00,\n",
    "  0x3c, 0x00, 0x00, 0x00, 0x0b, 0x00, 0x00, 0x00, 0x00, 0x00, 0x00, 0x09,\n",
    "  0x50, 0x00, 0x00, 0x00, 0x02, 0x00, 0x00, 0x00, 0xff, 0xff, 0xff, 0xff,\n",
    "  0x20, 0x01, 0x00, 0x00, 0x4c, 0xfc, 0xff, 0xff, 0x08, 0x00, 0x00, 0x00,\n",
    "  0x10, 0x00, 0x00, 0x00, 0x01, 0x00, 0x00, 0x00, 0x84, 0xff, 0xff, 0xff,\n",
    "  0xff, 0xff, 0xff, 0xff, 0x01, 0x00, 0x00, 0x00, 0x60, 0xfd, 0x76, 0x3d,\n",
    "  0x19, 0x00, 0x00, 0x00, 0x6d, 0x6f, 0x64, 0x65, 0x6c, 0x5f, 0x31, 0x2f,\n",
    "  0x66, 0x6c, 0x61, 0x74, 0x74, 0x65, 0x6e, 0x5f, 0x32, 0x2f, 0x52, 0x65,\n",
    "  0x73, 0x68, 0x61, 0x70, 0x65, 0x00, 0x00, 0x00, 0x02, 0x00, 0x00, 0x00,\n",
    "  0x01, 0x00, 0x00, 0x00, 0x20, 0x01, 0x00, 0x00, 0x6e, 0xff, 0xff, 0xff,\n",
    "  0x00, 0x00, 0x00, 0x01, 0x18, 0x00, 0x00, 0x00, 0x28, 0x00, 0x00, 0x00,\n",
    "  0x48, 0x00, 0x00, 0x00, 0x0a, 0x00, 0x00, 0x00, 0x00, 0x00, 0x00, 0x09,\n",
    "  0x60, 0x00, 0x00, 0x00, 0x04, 0x00, 0x00, 0x00, 0xff, 0xff, 0xff, 0xff,\n",
    "  0x06, 0x00, 0x00, 0x00, 0x06, 0x00, 0x00, 0x00, 0x08, 0x00, 0x00, 0x00,\n",
    "  0xcc, 0xfc, 0xff, 0xff, 0x08, 0x00, 0x00, 0x00, 0x14, 0x00, 0x00, 0x00,\n",
    "  0x01, 0x00, 0x00, 0x00, 0x84, 0xff, 0xff, 0xff, 0xff, 0xff, 0xff, 0xff,\n",
    "  0x00, 0x00, 0x00, 0x00, 0x01, 0x00, 0x00, 0x00, 0x60, 0xfd, 0x76, 0x3d,\n",
    "  0x1f, 0x00, 0x00, 0x00, 0x6d, 0x6f, 0x64, 0x65, 0x6c, 0x5f, 0x31, 0x2f,\n",
    "  0x6d, 0x61, 0x78, 0x5f, 0x70, 0x6f, 0x6f, 0x6c, 0x69, 0x6e, 0x67, 0x32,\n",
    "  0x64, 0x5f, 0x32, 0x2f, 0x4d, 0x61, 0x78, 0x50, 0x6f, 0x6f, 0x6c, 0x00,\n",
    "  0x04, 0x00, 0x00, 0x00, 0x01, 0x00, 0x00, 0x00, 0x06, 0x00, 0x00, 0x00,\n",
    "  0x06, 0x00, 0x00, 0x00, 0x08, 0x00, 0x00, 0x00, 0x00, 0x00, 0x16, 0x00,\n",
    "  0x20, 0x00, 0x1c, 0x00, 0x1b, 0x00, 0x14, 0x00, 0x10, 0x00, 0x0c, 0x00,\n",
    "  0x00, 0x00, 0x00, 0x00, 0x08, 0x00, 0x07, 0x00, 0x16, 0x00, 0x00, 0x00,\n",
    "  0x00, 0x00, 0x00, 0x01, 0x18, 0x00, 0x00, 0x00, 0x28, 0x00, 0x00, 0x00,\n",
    "  0x48, 0x00, 0x00, 0x00, 0x09, 0x00, 0x00, 0x00, 0x00, 0x00, 0x00, 0x09,\n",
    "  0x24, 0x01, 0x00, 0x00, 0x04, 0x00, 0x00, 0x00, 0xff, 0xff, 0xff, 0xff,\n",
    "  0x0d, 0x00, 0x00, 0x00, 0x0d, 0x00, 0x00, 0x00, 0x08, 0x00, 0x00, 0x00,\n",
    "  0x74, 0xfd, 0xff, 0xff, 0x08, 0x00, 0x00, 0x00, 0x14, 0x00, 0x00, 0x00,\n",
    "  0x01, 0x00, 0x00, 0x00, 0x84, 0xff, 0xff, 0xff, 0xff, 0xff, 0xff, 0xff,\n",
    "  0x00, 0x00, 0x00, 0x00, 0x01, 0x00, 0x00, 0x00, 0x60, 0xfd, 0x76, 0x3d,\n",
    "  0xe2, 0x00, 0x00, 0x00, 0x6d, 0x6f, 0x64, 0x65, 0x6c, 0x5f, 0x31, 0x2f,\n",
    "  0x71, 0x75, 0x61, 0x6e, 0x74, 0x5f, 0x63, 0x6f, 0x6e, 0x76, 0x32, 0x64,\n",
    "  0x5f, 0x32, 0x2f, 0x4d, 0x6f, 0x76, 0x69, 0x6e, 0x67, 0x41, 0x76, 0x67,\n",
    "  0x51, 0x75, 0x61, 0x6e, 0x74, 0x69, 0x7a, 0x65, 0x2f, 0x46, 0x61, 0x6b,\n",
    "  0x65, 0x51, 0x75, 0x61, 0x6e, 0x74, 0x57, 0x69, 0x74, 0x68, 0x4d, 0x69,\n",
    "  0x6e, 0x4d, 0x61, 0x78, 0x56, 0x61, 0x72, 0x73, 0x3b, 0x6d, 0x6f, 0x64,\n",
    "  0x65, 0x6c, 0x5f, 0x31, 0x2f, 0x71, 0x75, 0x61, 0x6e, 0x74, 0x5f, 0x63,\n",
    "  0x6f, 0x6e, 0x76, 0x32, 0x64, 0x5f, 0x32, 0x2f, 0x4d, 0x6f, 0x76, 0x69,\n",
    "  0x6e, 0x67, 0x41, 0x76, 0x67, 0x51, 0x75, 0x61, 0x6e, 0x74, 0x69, 0x7a,\n",
    "  0x65, 0x2f, 0x46, 0x61, 0x6b, 0x65, 0x51, 0x75, 0x61, 0x6e, 0x74, 0x57,\n",
    "  0x69, 0x74, 0x68, 0x4d, 0x69, 0x6e, 0x4d, 0x61, 0x78, 0x56, 0x61, 0x72,\n",
    "  0x73, 0x2f, 0x52, 0x65, 0x61, 0x64, 0x56, 0x61, 0x72, 0x69, 0x61, 0x62,\n",
    "  0x6c, 0x65, 0x4f, 0x70, 0x3b, 0x6d, 0x6f, 0x64, 0x65, 0x6c, 0x5f, 0x31,\n",
    "  0x2f, 0x71, 0x75, 0x61, 0x6e, 0x74, 0x5f, 0x63, 0x6f, 0x6e, 0x76, 0x32,\n",
    "  0x64, 0x5f, 0x32, 0x2f, 0x4d, 0x6f, 0x76, 0x69, 0x6e, 0x67, 0x41, 0x76,\n",
    "  0x67, 0x51, 0x75, 0x61, 0x6e, 0x74, 0x69, 0x7a, 0x65, 0x2f, 0x46, 0x61,\n",
    "  0x6b, 0x65, 0x51, 0x75, 0x61, 0x6e, 0x74, 0x57, 0x69, 0x74, 0x68, 0x4d,\n",
    "  0x69, 0x6e, 0x4d, 0x61, 0x78, 0x56, 0x61, 0x72, 0x73, 0x2f, 0x52, 0x65,\n",
    "  0x61, 0x64, 0x56, 0x61, 0x72, 0x69, 0x61, 0x62, 0x6c, 0x65, 0x4f, 0x70,\n",
    "  0x5f, 0x31, 0x00, 0x00, 0x04, 0x00, 0x00, 0x00, 0x01, 0x00, 0x00, 0x00,\n",
    "  0x0d, 0x00, 0x00, 0x00, 0x0d, 0x00, 0x00, 0x00, 0x08, 0x00, 0x00, 0x00,\n",
    "  0x72, 0xfc, 0xff, 0xff, 0x00, 0x00, 0x00, 0x01, 0x14, 0x00, 0x00, 0x00,\n",
    "  0x24, 0x00, 0x00, 0x00, 0x24, 0x00, 0x00, 0x00, 0x08, 0x00, 0x00, 0x00,\n",
    "  0xa8, 0x00, 0x00, 0x00, 0x04, 0x00, 0x00, 0x00, 0xff, 0xff, 0xff, 0xff,\n",
    "  0x0d, 0x00, 0x00, 0x00, 0x0d, 0x00, 0x00, 0x00, 0x08, 0x00, 0x00, 0x00,\n",
    "  0x5c, 0xfc, 0xff, 0xff, 0x86, 0x00, 0x00, 0x00, 0x6d, 0x6f, 0x64, 0x65,\n",
    "  0x6c, 0x5f, 0x31, 0x2f, 0x71, 0x75, 0x61, 0x6e, 0x74, 0x5f, 0x63, 0x6f,\n",
    "  0x6e, 0x76, 0x32, 0x64, 0x5f, 0x32, 0x2f, 0x52, 0x65, 0x6c, 0x75, 0x3b,\n",
    "  0x6d, 0x6f, 0x64, 0x65, 0x6c, 0x5f, 0x31, 0x2f, 0x71, 0x75, 0x61, 0x6e,\n",
    "  0x74, 0x5f, 0x63, 0x6f, 0x6e, 0x76, 0x32, 0x64, 0x5f, 0x32, 0x2f, 0x42,\n",
    "  0x69, 0x61, 0x73, 0x41, 0x64, 0x64, 0x3b, 0x6d, 0x6f, 0x64, 0x65, 0x6c,\n",
    "  0x5f, 0x31, 0x2f, 0x71, 0x75, 0x61, 0x6e, 0x74, 0x5f, 0x63, 0x6f, 0x6e,\n",
    "  0x76, 0x32, 0x64, 0x5f, 0x32, 0x2f, 0x43, 0x6f, 0x6e, 0x76, 0x32, 0x44,\n",
    "  0x3b, 0x6d, 0x6f, 0x64, 0x65, 0x6c, 0x5f, 0x31, 0x2f, 0x71, 0x75, 0x61,\n",
    "  0x6e, 0x74, 0x5f, 0x63, 0x6f, 0x6e, 0x76, 0x32, 0x64, 0x5f, 0x32, 0x2f,\n",
    "  0x42, 0x69, 0x61, 0x73, 0x41, 0x64, 0x64, 0x2f, 0x52, 0x65, 0x61, 0x64,\n",
    "  0x56, 0x61, 0x72, 0x69, 0x61, 0x62, 0x6c, 0x65, 0x4f, 0x70, 0x00, 0x00,\n",
    "  0x04, 0x00, 0x00, 0x00, 0x01, 0x00, 0x00, 0x00, 0x0d, 0x00, 0x00, 0x00,\n",
    "  0x0d, 0x00, 0x00, 0x00, 0x08, 0x00, 0x00, 0x00, 0x46, 0xfd, 0xff, 0xff,\n",
    "  0x00, 0x00, 0x00, 0x01, 0x14, 0x00, 0x00, 0x00, 0x24, 0x00, 0x00, 0x00,\n",
    "  0x24, 0x00, 0x00, 0x00, 0x07, 0x00, 0x00, 0x00, 0x50, 0x00, 0x00, 0x00,\n",
    "  0x04, 0x00, 0x00, 0x00, 0xff, 0xff, 0xff, 0xff, 0x20, 0x00, 0x00, 0x00,\n",
    "  0x20, 0x00, 0x00, 0x00, 0x01, 0x00, 0x00, 0x00, 0x30, 0xfd, 0xff, 0xff,\n",
    "  0x2f, 0x00, 0x00, 0x00, 0x6d, 0x6f, 0x64, 0x65, 0x6c, 0x5f, 0x31, 0x2f,\n",
    "  0x72, 0x65, 0x73, 0x69, 0x7a, 0x69, 0x6e, 0x67, 0x5f, 0x32, 0x2f, 0x72,\n",
    "  0x65, 0x73, 0x69, 0x7a, 0x65, 0x2f, 0x52, 0x65, 0x73, 0x69, 0x7a, 0x65,\n",
    "  0x4e, 0x65, 0x61, 0x72, 0x65, 0x73, 0x74, 0x4e, 0x65, 0x69, 0x67, 0x68,\n",
    "  0x62, 0x6f, 0x72, 0x00, 0x04, 0x00, 0x00, 0x00, 0x01, 0x00, 0x00, 0x00,\n",
    "  0x20, 0x00, 0x00, 0x00, 0x20, 0x00, 0x00, 0x00, 0x01, 0x00, 0x00, 0x00,\n",
    "  0xda, 0xfe, 0xff, 0xff, 0x00, 0x00, 0x00, 0x01, 0x20, 0x00, 0x00, 0x00,\n",
    "  0x40, 0x00, 0x00, 0x00, 0x06, 0x00, 0x00, 0x00, 0x00, 0x00, 0x00, 0x02,\n",
    "  0x68, 0x00, 0x00, 0x00, 0x0c, 0x00, 0x0c, 0x00, 0x00, 0x00, 0x00, 0x00,\n",
    "  0x08, 0x00, 0x04, 0x00, 0x0c, 0x00, 0x00, 0x00, 0x08, 0x00, 0x00, 0x00,\n",
    "  0x14, 0x00, 0x00, 0x00, 0x01, 0x00, 0x00, 0x00, 0x00, 0x00, 0x00, 0x00,\n",
    "  0x00, 0x00, 0x00, 0x00, 0x00, 0x00, 0x00, 0x00, 0x01, 0x00, 0x00, 0x00,\n",
    "  0x60, 0x77, 0xe4, 0x39, 0x2c, 0x00, 0x00, 0x00, 0x6d, 0x6f, 0x64, 0x65,\n",
    "  0x6c, 0x5f, 0x31, 0x2f, 0x71, 0x75, 0x61, 0x6e, 0x74, 0x5f, 0x64, 0x65,\n",
    "  0x6e, 0x73, 0x65, 0x5f, 0x33, 0x2f, 0x42, 0x69, 0x61, 0x73, 0x41, 0x64,\n",
    "  0x64, 0x2f, 0x52, 0x65, 0x61, 0x64, 0x56, 0x61, 0x72, 0x69, 0x61, 0x62,\n",
    "  0x6c, 0x65, 0x4f, 0x70, 0x00, 0x00, 0x00, 0x00, 0x01, 0x00, 0x00, 0x00,\n",
    "  0x01, 0x00, 0x00, 0x00, 0xfe, 0xfe, 0xff, 0xff, 0x00, 0x00, 0x00, 0x01,\n",
    "  0x10, 0x00, 0x00, 0x00, 0x10, 0x00, 0x00, 0x00, 0x05, 0x00, 0x00, 0x00,\n",
    "  0x3c, 0x00, 0x00, 0x00, 0x1c, 0xfe, 0xff, 0xff, 0x2d, 0x00, 0x00, 0x00,\n",
    "  0x6d, 0x6f, 0x64, 0x65, 0x6c, 0x5f, 0x31, 0x2f, 0x71, 0x75, 0x61, 0x6e,\n",
    "  0x74, 0x5f, 0x63, 0x6f, 0x6e, 0x76, 0x32, 0x64, 0x5f, 0x32, 0x2f, 0x42,\n",
    "  0x69, 0x61, 0x73, 0x41, 0x64, 0x64, 0x2f, 0x52, 0x65, 0x61, 0x64, 0x56,\n",
    "  0x61, 0x72, 0x69, 0x61, 0x62, 0x6c, 0x65, 0x4f, 0x70, 0x00, 0x00, 0x00,\n",
    "  0x01, 0x00, 0x00, 0x00, 0x08, 0x00, 0x00, 0x00, 0xba, 0xff, 0xff, 0xff,\n",
    "  0x00, 0x00, 0x00, 0x01, 0x14, 0x00, 0x00, 0x00, 0x14, 0x00, 0x00, 0x00,\n",
    "  0x04, 0x00, 0x00, 0x00, 0x00, 0x00, 0x00, 0x02, 0x24, 0x00, 0x00, 0x00,\n",
    "  0x78, 0xfe, 0xff, 0xff, 0x17, 0x00, 0x00, 0x00, 0x6d, 0x6f, 0x64, 0x65,\n",
    "  0x6c, 0x5f, 0x31, 0x2f, 0x66, 0x6c, 0x61, 0x74, 0x74, 0x65, 0x6e, 0x5f,\n",
    "  0x32, 0x2f, 0x43, 0x6f, 0x6e, 0x73, 0x74, 0x00, 0x01, 0x00, 0x00, 0x00,\n",
    "  0x02, 0x00, 0x00, 0x00, 0x00, 0x00, 0x16, 0x00, 0x1c, 0x00, 0x18, 0x00,\n",
    "  0x17, 0x00, 0x10, 0x00, 0x0c, 0x00, 0x08, 0x00, 0x00, 0x00, 0x00, 0x00,\n",
    "  0x00, 0x00, 0x07, 0x00, 0x16, 0x00, 0x00, 0x00, 0x00, 0x00, 0x00, 0x01,\n",
    "  0x14, 0x00, 0x00, 0x00, 0x14, 0x00, 0x00, 0x00, 0x03, 0x00, 0x00, 0x00,\n",
    "  0x00, 0x00, 0x00, 0x02, 0x2c, 0x00, 0x00, 0x00, 0xd4, 0xfe, 0xff, 0xff,\n",
    "  0x1e, 0x00, 0x00, 0x00, 0x6d, 0x6f, 0x64, 0x65, 0x6c, 0x5f, 0x31, 0x2f,\n",
    "  0x72, 0x65, 0x73, 0x69, 0x7a, 0x69, 0x6e, 0x67, 0x5f, 0x32, 0x2f, 0x72,\n",
    "  0x65, 0x73, 0x69, 0x7a, 0x65, 0x2f, 0x73, 0x69, 0x7a, 0x65, 0x00, 0x00,\n",
    "  0x01, 0x00, 0x00, 0x00, 0x02, 0x00, 0x00, 0x00, 0x00, 0x00, 0x16, 0x00,\n",
    "  0x18, 0x00, 0x14, 0x00, 0x00, 0x00, 0x10, 0x00, 0x0c, 0x00, 0x08, 0x00,\n",
    "  0x00, 0x00, 0x00, 0x00, 0x00, 0x00, 0x07, 0x00, 0x16, 0x00, 0x00, 0x00,\n",
    "  0x00, 0x00, 0x00, 0x01, 0x10, 0x00, 0x00, 0x00, 0x10, 0x00, 0x00, 0x00,\n",
    "  0x02, 0x00, 0x00, 0x00, 0x74, 0x00, 0x00, 0x00, 0x34, 0xff, 0xff, 0xff,\n",
    "  0x65, 0x00, 0x00, 0x00, 0x6d, 0x6f, 0x64, 0x65, 0x6c, 0x5f, 0x31, 0x2f,\n",
    "  0x71, 0x75, 0x61, 0x6e, 0x74, 0x5f, 0x63, 0x6f, 0x6e, 0x76, 0x32, 0x64,\n",
    "  0x5f, 0x32, 0x2f, 0x43, 0x6f, 0x6e, 0x76, 0x32, 0x44, 0x3b, 0x6d, 0x6f,\n",
    "  0x64, 0x65, 0x6c, 0x5f, 0x31, 0x2f, 0x71, 0x75, 0x61, 0x6e, 0x74, 0x5f,\n",
    "  0x63, 0x6f, 0x6e, 0x76, 0x32, 0x64, 0x5f, 0x32, 0x2f, 0x4c, 0x61, 0x73,\n",
    "  0x74, 0x56, 0x61, 0x6c, 0x75, 0x65, 0x51, 0x75, 0x61, 0x6e, 0x74, 0x2f,\n",
    "  0x46, 0x61, 0x6b, 0x65, 0x51, 0x75, 0x61, 0x6e, 0x74, 0x57, 0x69, 0x74,\n",
    "  0x68, 0x4d, 0x69, 0x6e, 0x4d, 0x61, 0x78, 0x56, 0x61, 0x72, 0x73, 0x50,\n",
    "  0x65, 0x72, 0x43, 0x68, 0x61, 0x6e, 0x6e, 0x65, 0x6c, 0x00, 0x00, 0x00,\n",
    "  0x04, 0x00, 0x00, 0x00, 0x08, 0x00, 0x00, 0x00, 0x08, 0x00, 0x00, 0x00,\n",
    "  0x08, 0x00, 0x00, 0x00, 0x01, 0x00, 0x00, 0x00, 0x00, 0x00, 0x16, 0x00,\n",
    "  0x1c, 0x00, 0x18, 0x00, 0x00, 0x00, 0x14, 0x00, 0x10, 0x00, 0x0c, 0x00,\n",
    "  0x00, 0x00, 0x00, 0x00, 0x08, 0x00, 0x07, 0x00, 0x16, 0x00, 0x00, 0x00,\n",
    "  0x00, 0x00, 0x00, 0x01, 0x14, 0x00, 0x00, 0x00, 0x28, 0x00, 0x00, 0x00,\n",
    "  0x28, 0x00, 0x00, 0x00, 0x01, 0x00, 0x00, 0x00, 0x40, 0x00, 0x00, 0x00,\n",
    "  0x04, 0x00, 0x00, 0x00, 0xff, 0xff, 0xff, 0xff, 0xf9, 0x00, 0x00, 0x00,\n",
    "  0x01, 0x01, 0x00, 0x00, 0x01, 0x00, 0x00, 0x00, 0x04, 0x00, 0x04, 0x00,\n",
    "  0x04, 0x00, 0x00, 0x00, 0x19, 0x00, 0x00, 0x00, 0x73, 0x65, 0x72, 0x76,\n",
    "  0x69, 0x6e, 0x67, 0x5f, 0x64, 0x65, 0x66, 0x61, 0x75, 0x6c, 0x74, 0x5f,\n",
    "  0x69, 0x6e, 0x70, 0x75, 0x74, 0x5f, 0x33, 0x3a, 0x30, 0x00, 0x00, 0x00,\n",
    "  0x04, 0x00, 0x00, 0x00, 0x01, 0x00, 0x00, 0x00, 0xf9, 0x00, 0x00, 0x00,\n",
    "  0x01, 0x01, 0x00, 0x00, 0x01, 0x00, 0x00, 0x00, 0x08, 0x00, 0x00, 0x00,\n",
    "  0x9c, 0x00, 0x00, 0x00, 0x80, 0x00, 0x00, 0x00, 0x64, 0x00, 0x00, 0x00,\n",
    "  0x50, 0x00, 0x00, 0x00, 0x40, 0x00, 0x00, 0x00, 0x2c, 0x00, 0x00, 0x00,\n",
    "  0x18, 0x00, 0x00, 0x00, 0x04, 0x00, 0x00, 0x00, 0x90, 0xff, 0xff, 0xff,\n",
    "  0x06, 0x00, 0x00, 0x00, 0x02, 0x00, 0x00, 0x00, 0x00, 0x00, 0x00, 0x06,\n",
    "  0xa0, 0xff, 0xff, 0xff, 0x0e, 0x00, 0x00, 0x00, 0x02, 0x00, 0x00, 0x00,\n",
    "  0x00, 0x00, 0x00, 0x0e, 0xb0, 0xff, 0xff, 0xff, 0x09, 0x00, 0x00, 0x00,\n",
    "  0x04, 0x00, 0x00, 0x00, 0x00, 0x00, 0x00, 0x09, 0xd8, 0xff, 0xff, 0xff,\n",
    "  0x16, 0x00, 0x00, 0x00, 0x00, 0x00, 0x00, 0x16, 0xcc, 0xff, 0xff, 0xff,\n",
    "  0x11, 0x00, 0x00, 0x00, 0x02, 0x00, 0x00, 0x00, 0x00, 0x00, 0x00, 0x11,\n",
    "  0xf4, 0xff, 0xff, 0xff, 0x72, 0x00, 0x00, 0x00, 0x00, 0x00, 0x00, 0x72,\n",
    "  0x0c, 0x00, 0x0c, 0x00, 0x0b, 0x00, 0x00, 0x00, 0x00, 0x00, 0x04, 0x00,\n",
    "  0x0c, 0x00, 0x00, 0x00, 0x03, 0x00, 0x00, 0x00, 0x00, 0x00, 0x00, 0x03,\n",
    "  0x0c, 0x00, 0x10, 0x00, 0x0f, 0x00, 0x00, 0x00, 0x08, 0x00, 0x04, 0x00,\n",
    "  0x0c, 0x00, 0x00, 0x00, 0x61, 0x00, 0x00, 0x00, 0x03, 0x00, 0x00, 0x00,\n",
    "  0x00, 0x00, 0x00, 0x61\n",
    "};\n",
    "Slide Type\n",
    "1\n",
    "​\n",
    "\n",
    "```"
   ]
  },
  {
   "cell_type": "code",
   "execution_count": null,
   "id": "dbde2857",
   "metadata": {},
   "outputs": [],
   "source": []
  }
 ],
 "metadata": {
  "celltoolbar": "Slideshow",
  "kernelspec": {
   "display_name": "Python 3 (ipykernel)",
   "language": "python",
   "name": "python3"
  },
  "language_info": {
   "codemirror_mode": {
    "name": "ipython",
    "version": 3
   },
   "file_extension": ".py",
   "mimetype": "text/x-python",
   "name": "python",
   "nbconvert_exporter": "python",
   "pygments_lexer": "ipython3",
   "version": "3.10.6"
  },
  "rise": {
   "backimage": "wandb_bg.png",
   "centre": false,
   "controls": false,
   "embedded": false,
   "enable_chalkboard": false,
   "height": "99%",
   "margin": 0.09,
   "progress": true,
   "scroll": false,
   "slideNumber": false,
   "start_slideshow_at": "selected",
   "theme": "black",
   "transition": "convex",
   "width": "100%"
  },
  "widgets": {
   "application/vnd.jupyter.widget-state+json": {
    "state": {},
    "version_major": 2,
    "version_minor": 0
   }
  }
 },
 "nbformat": 4,
 "nbformat_minor": 5
}
